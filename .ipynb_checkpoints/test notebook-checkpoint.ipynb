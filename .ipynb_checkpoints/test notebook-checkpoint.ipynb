{
 "cells": [
  {
   "cell_type": "code",
   "execution_count": 83,
   "metadata": {},
   "outputs": [],
   "source": [
    "import pyLPM\n",
    "import pandas as pd\n",
    "import RBFN\n",
    "import numpy as np"
   ]
  },
  {
   "cell_type": "code",
   "execution_count": 2,
   "metadata": {},
   "outputs": [],
   "source": [
    "walter = pd.read_csv('data/walker.csv')"
   ]
  },
  {
   "cell_type": "code",
   "execution_count": 3,
   "metadata": {},
   "outputs": [
    {
     "data": {
      "text/html": [
       "<div>\n",
       "<style scoped>\n",
       "    .dataframe tbody tr th:only-of-type {\n",
       "        vertical-align: middle;\n",
       "    }\n",
       "\n",
       "    .dataframe tbody tr th {\n",
       "        vertical-align: top;\n",
       "    }\n",
       "\n",
       "    .dataframe thead th {\n",
       "        text-align: right;\n",
       "    }\n",
       "</style>\n",
       "<table border=\"1\" class=\"dataframe\">\n",
       "  <thead>\n",
       "    <tr style=\"text-align: right;\">\n",
       "      <th></th>\n",
       "      <th>Id</th>\n",
       "      <th>X</th>\n",
       "      <th>Y</th>\n",
       "      <th>V</th>\n",
       "      <th>U</th>\n",
       "      <th>T</th>\n",
       "    </tr>\n",
       "  </thead>\n",
       "  <tbody>\n",
       "    <tr>\n",
       "      <th>0</th>\n",
       "      <td>1.0</td>\n",
       "      <td>11.0</td>\n",
       "      <td>8.0</td>\n",
       "      <td>0.0</td>\n",
       "      <td>-999.0</td>\n",
       "      <td>2.0</td>\n",
       "    </tr>\n",
       "    <tr>\n",
       "      <th>1</th>\n",
       "      <td>2.0</td>\n",
       "      <td>8.0</td>\n",
       "      <td>30.0</td>\n",
       "      <td>0.0</td>\n",
       "      <td>-999.0</td>\n",
       "      <td>2.0</td>\n",
       "    </tr>\n",
       "    <tr>\n",
       "      <th>2</th>\n",
       "      <td>3.0</td>\n",
       "      <td>9.0</td>\n",
       "      <td>48.0</td>\n",
       "      <td>224.4</td>\n",
       "      <td>-999.0</td>\n",
       "      <td>2.0</td>\n",
       "    </tr>\n",
       "    <tr>\n",
       "      <th>3</th>\n",
       "      <td>4.0</td>\n",
       "      <td>8.0</td>\n",
       "      <td>69.0</td>\n",
       "      <td>434.4</td>\n",
       "      <td>-999.0</td>\n",
       "      <td>2.0</td>\n",
       "    </tr>\n",
       "    <tr>\n",
       "      <th>4</th>\n",
       "      <td>5.0</td>\n",
       "      <td>9.0</td>\n",
       "      <td>90.0</td>\n",
       "      <td>412.1</td>\n",
       "      <td>-999.0</td>\n",
       "      <td>2.0</td>\n",
       "    </tr>\n",
       "  </tbody>\n",
       "</table>\n",
       "</div>"
      ],
      "text/plain": [
       "    Id     X     Y      V      U    T\n",
       "0  1.0  11.0   8.0    0.0 -999.0  2.0\n",
       "1  2.0   8.0  30.0    0.0 -999.0  2.0\n",
       "2  3.0   9.0  48.0  224.4 -999.0  2.0\n",
       "3  4.0   8.0  69.0  434.4 -999.0  2.0\n",
       "4  5.0   9.0  90.0  412.1 -999.0  2.0"
      ]
     },
     "execution_count": 3,
     "metadata": {},
     "output_type": "execute_result"
    }
   ],
   "source": [
    "walter.head()"
   ]
  },
  {
   "cell_type": "code",
   "execution_count": 4,
   "metadata": {},
   "outputs": [],
   "source": [
    "coordinates = walter[['X','Y']]"
   ]
  },
  {
   "cell_type": "code",
   "execution_count": 81,
   "metadata": {},
   "outputs": [
    {
     "data": {
      "application/vnd.plotly.v1+json": {
       "config": {
        "linkText": "Export to plot.ly",
        "plotlyServerURL": "https://plot.ly",
        "showLink": false
       },
       "data": [
        {
         "mode": "lines",
         "type": "scatter",
         "x": [
          1,
          2,
          3,
          4,
          5,
          6,
          7,
          8,
          9,
          10,
          11,
          12,
          13,
          14,
          15,
          16,
          17,
          18,
          19,
          20,
          21,
          22,
          23,
          24,
          25,
          26,
          27,
          28,
          29,
          30,
          31,
          32,
          33,
          34,
          35,
          36,
          37,
          38,
          39
         ],
         "y": [
          5208345.234042553,
          3140154.6037435,
          1960708.8016421983,
          1215706.973641688,
          946204.5953883578,
          795482.129085562,
          675653.2738095409,
          574577.9312149973,
          478137.5838992008,
          430247.1037653524,
          389167.3189803423,
          352309.9024583208,
          321347.67821050645,
          297029.2607134469,
          279579.1994460904,
          262261.77879665204,
          246904.05202037864,
          235588.4101965152,
          219573.5682862588,
          208356.05912471522,
          204162.67508846437,
          192899.05909996113,
          187688.1095364528,
          180312.14406579963,
          172577.88495211187,
          166401.19053916127,
          161422.486376365,
          157061.5085316148,
          149863.48877221346,
          144341.55300126428,
          139890.17508007775,
          137786.48295323527,
          131137.080807573,
          126342.38200030621,
          126390.61408686344,
          124840.03582381048,
          118882.09655830066,
          116745.33622721878,
          112207.91843894409
         ]
        }
       ],
       "layout": {
        "template": {
         "data": {
          "bar": [
           {
            "error_x": {
             "color": "#2a3f5f"
            },
            "error_y": {
             "color": "#2a3f5f"
            },
            "marker": {
             "line": {
              "color": "#E5ECF6",
              "width": 0.5
             }
            },
            "type": "bar"
           }
          ],
          "barpolar": [
           {
            "marker": {
             "line": {
              "color": "#E5ECF6",
              "width": 0.5
             }
            },
            "type": "barpolar"
           }
          ],
          "carpet": [
           {
            "aaxis": {
             "endlinecolor": "#2a3f5f",
             "gridcolor": "white",
             "linecolor": "white",
             "minorgridcolor": "white",
             "startlinecolor": "#2a3f5f"
            },
            "baxis": {
             "endlinecolor": "#2a3f5f",
             "gridcolor": "white",
             "linecolor": "white",
             "minorgridcolor": "white",
             "startlinecolor": "#2a3f5f"
            },
            "type": "carpet"
           }
          ],
          "choropleth": [
           {
            "colorbar": {
             "outlinewidth": 0,
             "ticks": ""
            },
            "type": "choropleth"
           }
          ],
          "contour": [
           {
            "colorbar": {
             "outlinewidth": 0,
             "ticks": ""
            },
            "colorscale": [
             [
              0,
              "#0d0887"
             ],
             [
              0.1111111111111111,
              "#46039f"
             ],
             [
              0.2222222222222222,
              "#7201a8"
             ],
             [
              0.3333333333333333,
              "#9c179e"
             ],
             [
              0.4444444444444444,
              "#bd3786"
             ],
             [
              0.5555555555555556,
              "#d8576b"
             ],
             [
              0.6666666666666666,
              "#ed7953"
             ],
             [
              0.7777777777777778,
              "#fb9f3a"
             ],
             [
              0.8888888888888888,
              "#fdca26"
             ],
             [
              1,
              "#f0f921"
             ]
            ],
            "type": "contour"
           }
          ],
          "contourcarpet": [
           {
            "colorbar": {
             "outlinewidth": 0,
             "ticks": ""
            },
            "type": "contourcarpet"
           }
          ],
          "heatmap": [
           {
            "colorbar": {
             "outlinewidth": 0,
             "ticks": ""
            },
            "colorscale": [
             [
              0,
              "#0d0887"
             ],
             [
              0.1111111111111111,
              "#46039f"
             ],
             [
              0.2222222222222222,
              "#7201a8"
             ],
             [
              0.3333333333333333,
              "#9c179e"
             ],
             [
              0.4444444444444444,
              "#bd3786"
             ],
             [
              0.5555555555555556,
              "#d8576b"
             ],
             [
              0.6666666666666666,
              "#ed7953"
             ],
             [
              0.7777777777777778,
              "#fb9f3a"
             ],
             [
              0.8888888888888888,
              "#fdca26"
             ],
             [
              1,
              "#f0f921"
             ]
            ],
            "type": "heatmap"
           }
          ],
          "heatmapgl": [
           {
            "colorbar": {
             "outlinewidth": 0,
             "ticks": ""
            },
            "colorscale": [
             [
              0,
              "#0d0887"
             ],
             [
              0.1111111111111111,
              "#46039f"
             ],
             [
              0.2222222222222222,
              "#7201a8"
             ],
             [
              0.3333333333333333,
              "#9c179e"
             ],
             [
              0.4444444444444444,
              "#bd3786"
             ],
             [
              0.5555555555555556,
              "#d8576b"
             ],
             [
              0.6666666666666666,
              "#ed7953"
             ],
             [
              0.7777777777777778,
              "#fb9f3a"
             ],
             [
              0.8888888888888888,
              "#fdca26"
             ],
             [
              1,
              "#f0f921"
             ]
            ],
            "type": "heatmapgl"
           }
          ],
          "histogram": [
           {
            "marker": {
             "colorbar": {
              "outlinewidth": 0,
              "ticks": ""
             }
            },
            "type": "histogram"
           }
          ],
          "histogram2d": [
           {
            "colorbar": {
             "outlinewidth": 0,
             "ticks": ""
            },
            "colorscale": [
             [
              0,
              "#0d0887"
             ],
             [
              0.1111111111111111,
              "#46039f"
             ],
             [
              0.2222222222222222,
              "#7201a8"
             ],
             [
              0.3333333333333333,
              "#9c179e"
             ],
             [
              0.4444444444444444,
              "#bd3786"
             ],
             [
              0.5555555555555556,
              "#d8576b"
             ],
             [
              0.6666666666666666,
              "#ed7953"
             ],
             [
              0.7777777777777778,
              "#fb9f3a"
             ],
             [
              0.8888888888888888,
              "#fdca26"
             ],
             [
              1,
              "#f0f921"
             ]
            ],
            "type": "histogram2d"
           }
          ],
          "histogram2dcontour": [
           {
            "colorbar": {
             "outlinewidth": 0,
             "ticks": ""
            },
            "colorscale": [
             [
              0,
              "#0d0887"
             ],
             [
              0.1111111111111111,
              "#46039f"
             ],
             [
              0.2222222222222222,
              "#7201a8"
             ],
             [
              0.3333333333333333,
              "#9c179e"
             ],
             [
              0.4444444444444444,
              "#bd3786"
             ],
             [
              0.5555555555555556,
              "#d8576b"
             ],
             [
              0.6666666666666666,
              "#ed7953"
             ],
             [
              0.7777777777777778,
              "#fb9f3a"
             ],
             [
              0.8888888888888888,
              "#fdca26"
             ],
             [
              1,
              "#f0f921"
             ]
            ],
            "type": "histogram2dcontour"
           }
          ],
          "mesh3d": [
           {
            "colorbar": {
             "outlinewidth": 0,
             "ticks": ""
            },
            "type": "mesh3d"
           }
          ],
          "parcoords": [
           {
            "line": {
             "colorbar": {
              "outlinewidth": 0,
              "ticks": ""
             }
            },
            "type": "parcoords"
           }
          ],
          "scatter": [
           {
            "marker": {
             "colorbar": {
              "outlinewidth": 0,
              "ticks": ""
             }
            },
            "type": "scatter"
           }
          ],
          "scatter3d": [
           {
            "line": {
             "colorbar": {
              "outlinewidth": 0,
              "ticks": ""
             }
            },
            "marker": {
             "colorbar": {
              "outlinewidth": 0,
              "ticks": ""
             }
            },
            "type": "scatter3d"
           }
          ],
          "scattercarpet": [
           {
            "marker": {
             "colorbar": {
              "outlinewidth": 0,
              "ticks": ""
             }
            },
            "type": "scattercarpet"
           }
          ],
          "scattergeo": [
           {
            "marker": {
             "colorbar": {
              "outlinewidth": 0,
              "ticks": ""
             }
            },
            "type": "scattergeo"
           }
          ],
          "scattergl": [
           {
            "marker": {
             "colorbar": {
              "outlinewidth": 0,
              "ticks": ""
             }
            },
            "type": "scattergl"
           }
          ],
          "scattermapbox": [
           {
            "marker": {
             "colorbar": {
              "outlinewidth": 0,
              "ticks": ""
             }
            },
            "type": "scattermapbox"
           }
          ],
          "scatterpolar": [
           {
            "marker": {
             "colorbar": {
              "outlinewidth": 0,
              "ticks": ""
             }
            },
            "type": "scatterpolar"
           }
          ],
          "scatterpolargl": [
           {
            "marker": {
             "colorbar": {
              "outlinewidth": 0,
              "ticks": ""
             }
            },
            "type": "scatterpolargl"
           }
          ],
          "scatterternary": [
           {
            "marker": {
             "colorbar": {
              "outlinewidth": 0,
              "ticks": ""
             }
            },
            "type": "scatterternary"
           }
          ],
          "surface": [
           {
            "colorbar": {
             "outlinewidth": 0,
             "ticks": ""
            },
            "colorscale": [
             [
              0,
              "#0d0887"
             ],
             [
              0.1111111111111111,
              "#46039f"
             ],
             [
              0.2222222222222222,
              "#7201a8"
             ],
             [
              0.3333333333333333,
              "#9c179e"
             ],
             [
              0.4444444444444444,
              "#bd3786"
             ],
             [
              0.5555555555555556,
              "#d8576b"
             ],
             [
              0.6666666666666666,
              "#ed7953"
             ],
             [
              0.7777777777777778,
              "#fb9f3a"
             ],
             [
              0.8888888888888888,
              "#fdca26"
             ],
             [
              1,
              "#f0f921"
             ]
            ],
            "type": "surface"
           }
          ],
          "table": [
           {
            "cells": {
             "fill": {
              "color": "#EBF0F8"
             },
             "line": {
              "color": "white"
             }
            },
            "header": {
             "fill": {
              "color": "#C8D4E3"
             },
             "line": {
              "color": "white"
             }
            },
            "type": "table"
           }
          ]
         },
         "layout": {
          "annotationdefaults": {
           "arrowcolor": "#2a3f5f",
           "arrowhead": 0,
           "arrowwidth": 1
          },
          "colorscale": {
           "diverging": [
            [
             0,
             "#8e0152"
            ],
            [
             0.1,
             "#c51b7d"
            ],
            [
             0.2,
             "#de77ae"
            ],
            [
             0.3,
             "#f1b6da"
            ],
            [
             0.4,
             "#fde0ef"
            ],
            [
             0.5,
             "#f7f7f7"
            ],
            [
             0.6,
             "#e6f5d0"
            ],
            [
             0.7,
             "#b8e186"
            ],
            [
             0.8,
             "#7fbc41"
            ],
            [
             0.9,
             "#4d9221"
            ],
            [
             1,
             "#276419"
            ]
           ],
           "sequential": [
            [
             0,
             "#0d0887"
            ],
            [
             0.1111111111111111,
             "#46039f"
            ],
            [
             0.2222222222222222,
             "#7201a8"
            ],
            [
             0.3333333333333333,
             "#9c179e"
            ],
            [
             0.4444444444444444,
             "#bd3786"
            ],
            [
             0.5555555555555556,
             "#d8576b"
            ],
            [
             0.6666666666666666,
             "#ed7953"
            ],
            [
             0.7777777777777778,
             "#fb9f3a"
            ],
            [
             0.8888888888888888,
             "#fdca26"
            ],
            [
             1,
             "#f0f921"
            ]
           ],
           "sequentialminus": [
            [
             0,
             "#0d0887"
            ],
            [
             0.1111111111111111,
             "#46039f"
            ],
            [
             0.2222222222222222,
             "#7201a8"
            ],
            [
             0.3333333333333333,
             "#9c179e"
            ],
            [
             0.4444444444444444,
             "#bd3786"
            ],
            [
             0.5555555555555556,
             "#d8576b"
            ],
            [
             0.6666666666666666,
             "#ed7953"
            ],
            [
             0.7777777777777778,
             "#fb9f3a"
            ],
            [
             0.8888888888888888,
             "#fdca26"
            ],
            [
             1,
             "#f0f921"
            ]
           ]
          },
          "colorway": [
           "#636efa",
           "#EF553B",
           "#00cc96",
           "#ab63fa",
           "#FFA15A",
           "#19d3f3",
           "#FF6692",
           "#B6E880",
           "#FF97FF",
           "#FECB52"
          ],
          "font": {
           "color": "#2a3f5f"
          },
          "geo": {
           "bgcolor": "white",
           "lakecolor": "white",
           "landcolor": "#E5ECF6",
           "showlakes": true,
           "showland": true,
           "subunitcolor": "white"
          },
          "hoverlabel": {
           "align": "left"
          },
          "hovermode": "closest",
          "mapbox": {
           "style": "light"
          },
          "paper_bgcolor": "white",
          "plot_bgcolor": "#E5ECF6",
          "polar": {
           "angularaxis": {
            "gridcolor": "white",
            "linecolor": "white",
            "ticks": ""
           },
           "bgcolor": "#E5ECF6",
           "radialaxis": {
            "gridcolor": "white",
            "linecolor": "white",
            "ticks": ""
           }
          },
          "scene": {
           "xaxis": {
            "backgroundcolor": "#E5ECF6",
            "gridcolor": "white",
            "gridwidth": 2,
            "linecolor": "white",
            "showbackground": true,
            "ticks": "",
            "zerolinecolor": "white"
           },
           "yaxis": {
            "backgroundcolor": "#E5ECF6",
            "gridcolor": "white",
            "gridwidth": 2,
            "linecolor": "white",
            "showbackground": true,
            "ticks": "",
            "zerolinecolor": "white"
           },
           "zaxis": {
            "backgroundcolor": "#E5ECF6",
            "gridcolor": "white",
            "gridwidth": 2,
            "linecolor": "white",
            "showbackground": true,
            "ticks": "",
            "zerolinecolor": "white"
           }
          },
          "shapedefaults": {
           "line": {
            "color": "#2a3f5f"
           }
          },
          "ternary": {
           "aaxis": {
            "gridcolor": "white",
            "linecolor": "white",
            "ticks": ""
           },
           "baxis": {
            "gridcolor": "white",
            "linecolor": "white",
            "ticks": ""
           },
           "bgcolor": "#E5ECF6",
           "caxis": {
            "gridcolor": "white",
            "linecolor": "white",
            "ticks": ""
           }
          },
          "title": {
           "x": 0.05
          },
          "xaxis": {
           "automargin": true,
           "gridcolor": "white",
           "linecolor": "white",
           "ticks": "",
           "zerolinecolor": "white",
           "zerolinewidth": 2
          },
          "yaxis": {
           "automargin": true,
           "gridcolor": "white",
           "linecolor": "white",
           "ticks": "",
           "zerolinecolor": "white",
           "zerolinewidth": 2
          }
         }
        },
        "title": {
         "text": "inertia"
        }
       }
      },
      "text/html": [
       "<div>\n",
       "        \n",
       "        \n",
       "            <div id=\"11252886-13a5-4560-aad9-7c6087465398\" class=\"plotly-graph-div\" style=\"height:525px; width:100%;\"></div>\n",
       "            <script type=\"text/javascript\">\n",
       "                require([\"plotly\"], function(Plotly) {\n",
       "                    window.PLOTLYENV=window.PLOTLYENV || {};\n",
       "                    \n",
       "                if (document.getElementById(\"11252886-13a5-4560-aad9-7c6087465398\")) {\n",
       "                    Plotly.newPlot(\n",
       "                        '11252886-13a5-4560-aad9-7c6087465398',\n",
       "                        [{\"mode\": \"lines\", \"type\": \"scatter\", \"x\": [1, 2, 3, 4, 5, 6, 7, 8, 9, 10, 11, 12, 13, 14, 15, 16, 17, 18, 19, 20, 21, 22, 23, 24, 25, 26, 27, 28, 29, 30, 31, 32, 33, 34, 35, 36, 37, 38, 39], \"y\": [5208345.234042553, 3140154.6037435, 1960708.8016421983, 1215706.973641688, 946204.5953883578, 795482.129085562, 675653.2738095409, 574577.9312149973, 478137.5838992008, 430247.1037653524, 389167.3189803423, 352309.9024583208, 321347.67821050645, 297029.2607134469, 279579.1994460904, 262261.77879665204, 246904.05202037864, 235588.4101965152, 219573.5682862588, 208356.05912471522, 204162.67508846437, 192899.05909996113, 187688.1095364528, 180312.14406579963, 172577.88495211187, 166401.19053916127, 161422.486376365, 157061.5085316148, 149863.48877221346, 144341.55300126428, 139890.17508007775, 137786.48295323527, 131137.080807573, 126342.38200030621, 126390.61408686344, 124840.03582381048, 118882.09655830066, 116745.33622721878, 112207.91843894409]}],\n",
       "                        {\"template\": {\"data\": {\"bar\": [{\"error_x\": {\"color\": \"#2a3f5f\"}, \"error_y\": {\"color\": \"#2a3f5f\"}, \"marker\": {\"line\": {\"color\": \"#E5ECF6\", \"width\": 0.5}}, \"type\": \"bar\"}], \"barpolar\": [{\"marker\": {\"line\": {\"color\": \"#E5ECF6\", \"width\": 0.5}}, \"type\": \"barpolar\"}], \"carpet\": [{\"aaxis\": {\"endlinecolor\": \"#2a3f5f\", \"gridcolor\": \"white\", \"linecolor\": \"white\", \"minorgridcolor\": \"white\", \"startlinecolor\": \"#2a3f5f\"}, \"baxis\": {\"endlinecolor\": \"#2a3f5f\", \"gridcolor\": \"white\", \"linecolor\": \"white\", \"minorgridcolor\": \"white\", \"startlinecolor\": \"#2a3f5f\"}, \"type\": \"carpet\"}], \"choropleth\": [{\"colorbar\": {\"outlinewidth\": 0, \"ticks\": \"\"}, \"type\": \"choropleth\"}], \"contour\": [{\"colorbar\": {\"outlinewidth\": 0, \"ticks\": \"\"}, \"colorscale\": [[0.0, \"#0d0887\"], [0.1111111111111111, \"#46039f\"], [0.2222222222222222, \"#7201a8\"], [0.3333333333333333, \"#9c179e\"], [0.4444444444444444, \"#bd3786\"], [0.5555555555555556, \"#d8576b\"], [0.6666666666666666, \"#ed7953\"], [0.7777777777777778, \"#fb9f3a\"], [0.8888888888888888, \"#fdca26\"], [1.0, \"#f0f921\"]], \"type\": \"contour\"}], \"contourcarpet\": [{\"colorbar\": {\"outlinewidth\": 0, \"ticks\": \"\"}, \"type\": \"contourcarpet\"}], \"heatmap\": [{\"colorbar\": {\"outlinewidth\": 0, \"ticks\": \"\"}, \"colorscale\": [[0.0, \"#0d0887\"], [0.1111111111111111, \"#46039f\"], [0.2222222222222222, \"#7201a8\"], [0.3333333333333333, \"#9c179e\"], [0.4444444444444444, \"#bd3786\"], [0.5555555555555556, \"#d8576b\"], [0.6666666666666666, \"#ed7953\"], [0.7777777777777778, \"#fb9f3a\"], [0.8888888888888888, \"#fdca26\"], [1.0, \"#f0f921\"]], \"type\": \"heatmap\"}], \"heatmapgl\": [{\"colorbar\": {\"outlinewidth\": 0, \"ticks\": \"\"}, \"colorscale\": [[0.0, \"#0d0887\"], [0.1111111111111111, \"#46039f\"], [0.2222222222222222, \"#7201a8\"], [0.3333333333333333, \"#9c179e\"], [0.4444444444444444, \"#bd3786\"], [0.5555555555555556, \"#d8576b\"], [0.6666666666666666, \"#ed7953\"], [0.7777777777777778, \"#fb9f3a\"], [0.8888888888888888, \"#fdca26\"], [1.0, \"#f0f921\"]], \"type\": \"heatmapgl\"}], \"histogram\": [{\"marker\": {\"colorbar\": {\"outlinewidth\": 0, \"ticks\": \"\"}}, \"type\": \"histogram\"}], \"histogram2d\": [{\"colorbar\": {\"outlinewidth\": 0, \"ticks\": \"\"}, \"colorscale\": [[0.0, \"#0d0887\"], [0.1111111111111111, \"#46039f\"], [0.2222222222222222, \"#7201a8\"], [0.3333333333333333, \"#9c179e\"], [0.4444444444444444, \"#bd3786\"], [0.5555555555555556, \"#d8576b\"], [0.6666666666666666, \"#ed7953\"], [0.7777777777777778, \"#fb9f3a\"], [0.8888888888888888, \"#fdca26\"], [1.0, \"#f0f921\"]], \"type\": \"histogram2d\"}], \"histogram2dcontour\": [{\"colorbar\": {\"outlinewidth\": 0, \"ticks\": \"\"}, \"colorscale\": [[0.0, \"#0d0887\"], [0.1111111111111111, \"#46039f\"], [0.2222222222222222, \"#7201a8\"], [0.3333333333333333, \"#9c179e\"], [0.4444444444444444, \"#bd3786\"], [0.5555555555555556, \"#d8576b\"], [0.6666666666666666, \"#ed7953\"], [0.7777777777777778, \"#fb9f3a\"], [0.8888888888888888, \"#fdca26\"], [1.0, \"#f0f921\"]], \"type\": \"histogram2dcontour\"}], \"mesh3d\": [{\"colorbar\": {\"outlinewidth\": 0, \"ticks\": \"\"}, \"type\": \"mesh3d\"}], \"parcoords\": [{\"line\": {\"colorbar\": {\"outlinewidth\": 0, \"ticks\": \"\"}}, \"type\": \"parcoords\"}], \"scatter\": [{\"marker\": {\"colorbar\": {\"outlinewidth\": 0, \"ticks\": \"\"}}, \"type\": \"scatter\"}], \"scatter3d\": [{\"line\": {\"colorbar\": {\"outlinewidth\": 0, \"ticks\": \"\"}}, \"marker\": {\"colorbar\": {\"outlinewidth\": 0, \"ticks\": \"\"}}, \"type\": \"scatter3d\"}], \"scattercarpet\": [{\"marker\": {\"colorbar\": {\"outlinewidth\": 0, \"ticks\": \"\"}}, \"type\": \"scattercarpet\"}], \"scattergeo\": [{\"marker\": {\"colorbar\": {\"outlinewidth\": 0, \"ticks\": \"\"}}, \"type\": \"scattergeo\"}], \"scattergl\": [{\"marker\": {\"colorbar\": {\"outlinewidth\": 0, \"ticks\": \"\"}}, \"type\": \"scattergl\"}], \"scattermapbox\": [{\"marker\": {\"colorbar\": {\"outlinewidth\": 0, \"ticks\": \"\"}}, \"type\": \"scattermapbox\"}], \"scatterpolar\": [{\"marker\": {\"colorbar\": {\"outlinewidth\": 0, \"ticks\": \"\"}}, \"type\": \"scatterpolar\"}], \"scatterpolargl\": [{\"marker\": {\"colorbar\": {\"outlinewidth\": 0, \"ticks\": \"\"}}, \"type\": \"scatterpolargl\"}], \"scatterternary\": [{\"marker\": {\"colorbar\": {\"outlinewidth\": 0, \"ticks\": \"\"}}, \"type\": \"scatterternary\"}], \"surface\": [{\"colorbar\": {\"outlinewidth\": 0, \"ticks\": \"\"}, \"colorscale\": [[0.0, \"#0d0887\"], [0.1111111111111111, \"#46039f\"], [0.2222222222222222, \"#7201a8\"], [0.3333333333333333, \"#9c179e\"], [0.4444444444444444, \"#bd3786\"], [0.5555555555555556, \"#d8576b\"], [0.6666666666666666, \"#ed7953\"], [0.7777777777777778, \"#fb9f3a\"], [0.8888888888888888, \"#fdca26\"], [1.0, \"#f0f921\"]], \"type\": \"surface\"}], \"table\": [{\"cells\": {\"fill\": {\"color\": \"#EBF0F8\"}, \"line\": {\"color\": \"white\"}}, \"header\": {\"fill\": {\"color\": \"#C8D4E3\"}, \"line\": {\"color\": \"white\"}}, \"type\": \"table\"}]}, \"layout\": {\"annotationdefaults\": {\"arrowcolor\": \"#2a3f5f\", \"arrowhead\": 0, \"arrowwidth\": 1}, \"colorscale\": {\"diverging\": [[0, \"#8e0152\"], [0.1, \"#c51b7d\"], [0.2, \"#de77ae\"], [0.3, \"#f1b6da\"], [0.4, \"#fde0ef\"], [0.5, \"#f7f7f7\"], [0.6, \"#e6f5d0\"], [0.7, \"#b8e186\"], [0.8, \"#7fbc41\"], [0.9, \"#4d9221\"], [1, \"#276419\"]], \"sequential\": [[0.0, \"#0d0887\"], [0.1111111111111111, \"#46039f\"], [0.2222222222222222, \"#7201a8\"], [0.3333333333333333, \"#9c179e\"], [0.4444444444444444, \"#bd3786\"], [0.5555555555555556, \"#d8576b\"], [0.6666666666666666, \"#ed7953\"], [0.7777777777777778, \"#fb9f3a\"], [0.8888888888888888, \"#fdca26\"], [1.0, \"#f0f921\"]], \"sequentialminus\": [[0.0, \"#0d0887\"], [0.1111111111111111, \"#46039f\"], [0.2222222222222222, \"#7201a8\"], [0.3333333333333333, \"#9c179e\"], [0.4444444444444444, \"#bd3786\"], [0.5555555555555556, \"#d8576b\"], [0.6666666666666666, \"#ed7953\"], [0.7777777777777778, \"#fb9f3a\"], [0.8888888888888888, \"#fdca26\"], [1.0, \"#f0f921\"]]}, \"colorway\": [\"#636efa\", \"#EF553B\", \"#00cc96\", \"#ab63fa\", \"#FFA15A\", \"#19d3f3\", \"#FF6692\", \"#B6E880\", \"#FF97FF\", \"#FECB52\"], \"font\": {\"color\": \"#2a3f5f\"}, \"geo\": {\"bgcolor\": \"white\", \"lakecolor\": \"white\", \"landcolor\": \"#E5ECF6\", \"showlakes\": true, \"showland\": true, \"subunitcolor\": \"white\"}, \"hoverlabel\": {\"align\": \"left\"}, \"hovermode\": \"closest\", \"mapbox\": {\"style\": \"light\"}, \"paper_bgcolor\": \"white\", \"plot_bgcolor\": \"#E5ECF6\", \"polar\": {\"angularaxis\": {\"gridcolor\": \"white\", \"linecolor\": \"white\", \"ticks\": \"\"}, \"bgcolor\": \"#E5ECF6\", \"radialaxis\": {\"gridcolor\": \"white\", \"linecolor\": \"white\", \"ticks\": \"\"}}, \"scene\": {\"xaxis\": {\"backgroundcolor\": \"#E5ECF6\", \"gridcolor\": \"white\", \"gridwidth\": 2, \"linecolor\": \"white\", \"showbackground\": true, \"ticks\": \"\", \"zerolinecolor\": \"white\"}, \"yaxis\": {\"backgroundcolor\": \"#E5ECF6\", \"gridcolor\": \"white\", \"gridwidth\": 2, \"linecolor\": \"white\", \"showbackground\": true, \"ticks\": \"\", \"zerolinecolor\": \"white\"}, \"zaxis\": {\"backgroundcolor\": \"#E5ECF6\", \"gridcolor\": \"white\", \"gridwidth\": 2, \"linecolor\": \"white\", \"showbackground\": true, \"ticks\": \"\", \"zerolinecolor\": \"white\"}}, \"shapedefaults\": {\"line\": {\"color\": \"#2a3f5f\"}}, \"ternary\": {\"aaxis\": {\"gridcolor\": \"white\", \"linecolor\": \"white\", \"ticks\": \"\"}, \"baxis\": {\"gridcolor\": \"white\", \"linecolor\": \"white\", \"ticks\": \"\"}, \"bgcolor\": \"#E5ECF6\", \"caxis\": {\"gridcolor\": \"white\", \"linecolor\": \"white\", \"ticks\": \"\"}}, \"title\": {\"x\": 0.05}, \"xaxis\": {\"automargin\": true, \"gridcolor\": \"white\", \"linecolor\": \"white\", \"ticks\": \"\", \"zerolinecolor\": \"white\", \"zerolinewidth\": 2}, \"yaxis\": {\"automargin\": true, \"gridcolor\": \"white\", \"linecolor\": \"white\", \"ticks\": \"\", \"zerolinecolor\": \"white\", \"zerolinewidth\": 2}}}, \"title\": {\"text\": \"inertia\"}},\n",
       "                        {\"responsive\": true}\n",
       "                    ).then(function(){\n",
       "                            \n",
       "var gd = document.getElementById('11252886-13a5-4560-aad9-7c6087465398');\n",
       "var x = new MutationObserver(function (mutations, observer) {{\n",
       "        var display = window.getComputedStyle(gd).display;\n",
       "        if (!display || display === 'none') {{\n",
       "            console.log([gd, 'removed!']);\n",
       "            Plotly.purge(gd);\n",
       "            observer.disconnect();\n",
       "        }}\n",
       "}});\n",
       "\n",
       "// Listen for the removal of the full notebook cells\n",
       "var notebookContainer = gd.closest('#notebook-container');\n",
       "if (notebookContainer) {{\n",
       "    x.observe(notebookContainer, {childList: true});\n",
       "}}\n",
       "\n",
       "// Listen for the clearing of the current output cell\n",
       "var outputEl = gd.closest('.output');\n",
       "if (outputEl) {{\n",
       "    x.observe(outputEl, {childList: true});\n",
       "}}\n",
       "\n",
       "                        })\n",
       "                };\n",
       "                });\n",
       "            </script>\n",
       "        </div>"
      ]
     },
     "metadata": {},
     "output_type": "display_data"
    }
   ],
   "source": [
    "RBFN.cluster_centers_evaluation(coordinates=coordinates, \n",
    "                                max_num_clusters=40)"
   ]
  },
  {
   "cell_type": "code",
   "execution_count": 70,
   "metadata": {},
   "outputs": [],
   "source": [
    "centers = RBFN.cluster_centers(n_clus=30, \n",
    "                               coordinates=coordinates)"
   ]
  },
  {
   "cell_type": "code",
   "execution_count": 130,
   "metadata": {},
   "outputs": [
    {
     "data": {
      "text/plain": [
       "array([[ 92.0625    ,  68.0625    ],\n",
       "       [199.35294118, 150.17647059],\n",
       "       [ 37.88888889, 181.5       ],\n",
       "       [140.22222222, 226.66666667],\n",
       "       [223.27777778,  16.38888889],\n",
       "       [229.55555556, 269.66666667],\n",
       "       [ 28.09090909, 269.27272727],\n",
       "       [153.6       ,  99.5       ],\n",
       "       [ 76.84      , 134.64      ],\n",
       "       [ 21.71428571,  81.64285714],\n",
       "       [205.31578947,  93.94736842],\n",
       "       [ 49.0625    ,  17.3125    ],\n",
       "       [149.55555556,  28.88888889],\n",
       "       [ 21.5       , 113.33333333],\n",
       "       [117.125     , 135.875     ],\n",
       "       [ 36.        , 215.4375    ],\n",
       "       [170.55555556, 206.27777778],\n",
       "       [228.90909091, 221.72727273],\n",
       "       [106.5       , 271.375     ],\n",
       "       [ 45.84210526, 152.73684211],\n",
       "       [236.11111111, 155.22222222],\n",
       "       [ 86.26923077,  37.34615385],\n",
       "       [171.25      , 272.5       ],\n",
       "       [ 31.57142857,  58.07142857],\n",
       "       [ 91.28      , 103.6       ],\n",
       "       [ 78.7       , 172.55      ],\n",
       "       [ 55.        , 268.625     ],\n",
       "       [ 66.26315789, 204.42105263],\n",
       "       [ 50.23529412,  91.11764706],\n",
       "       [229.09090909,  70.63636364]])"
      ]
     },
     "execution_count": 130,
     "metadata": {},
     "output_type": "execute_result"
    }
   ],
   "source": [
    "centers"
   ]
  },
  {
   "cell_type": "code",
   "execution_count": 120,
   "metadata": {},
   "outputs": [],
   "source": [
    "rbf_n = RBFN.RBFN(cluster_centers=centers, \n",
    "          sigma=0.001)"
   ]
  },
  {
   "cell_type": "code",
   "execution_count": 121,
   "metadata": {},
   "outputs": [
    {
     "data": {
      "text/plain": [
       "0.001"
      ]
     },
     "execution_count": 121,
     "metadata": {},
     "output_type": "execute_result"
    }
   ],
   "source": [
    "rbf_n.sigma"
   ]
  },
  {
   "cell_type": "code",
   "execution_count": 122,
   "metadata": {},
   "outputs": [],
   "source": [
    "rbf_n.fit(X=coordinates.values, \n",
    "          Y=walter.V.values)"
   ]
  },
  {
   "cell_type": "code",
   "execution_count": 123,
   "metadata": {},
   "outputs": [
    {
     "data": {
      "text/plain": [
       "array([ 207.18818918,  382.89808545,  577.51327163,  351.07374838,\n",
       "        605.33287805,  -43.83365365,  412.36170791,  360.56313846,\n",
       "        417.36451484,  915.74071628,  473.77966856,  252.97509305,\n",
       "        354.77849265, -137.32287543,   30.89736448,   67.69131713,\n",
       "        250.95797163,  592.40408675,  -14.56240886,  258.10575705,\n",
       "         93.06536845,  414.31712196,   95.45526363, -164.07600083,\n",
       "        492.2316143 ,  194.68003195,  288.47794891,  397.28737067,\n",
       "        -54.56032953,   90.91789146])"
      ]
     },
     "execution_count": 123,
     "metadata": {},
     "output_type": "execute_result"
    }
   ],
   "source": [
    "rbf_n.weights"
   ]
  },
  {
   "cell_type": "code",
   "execution_count": 124,
   "metadata": {},
   "outputs": [],
   "source": [
    "grid = pyLPM.utils.autogrid(x=walter.X, y=walter.Y, z=None, sx=10, sy=10, sz=1)"
   ]
  },
  {
   "cell_type": "code",
   "execution_count": 125,
   "metadata": {},
   "outputs": [],
   "source": [
    "predict_coords = pyLPM.utils.add_coord(grid)"
   ]
  },
  {
   "cell_type": "code",
   "execution_count": 126,
   "metadata": {},
   "outputs": [],
   "source": [
    "X = predict_coords[:,:2]"
   ]
  },
  {
   "cell_type": "code",
   "execution_count": 127,
   "metadata": {},
   "outputs": [],
   "source": [
    "predict = rbf_n.predict(X)"
   ]
  },
  {
   "cell_type": "code",
   "execution_count": 128,
   "metadata": {},
   "outputs": [
    {
     "data": {
      "application/vnd.plotly.v1+json": {
       "config": {
        "linkText": "Export to plot.ly",
        "plotlyServerURL": "https://plot.ly",
        "showLink": false
       },
       "data": [
        {
         "colorscale": [
          [
           0,
           "rgb(0,0,131)"
          ],
          [
           0.2,
           "rgb(0,60,170)"
          ],
          [
           0.4,
           "rgb(5,255,255)"
          ],
          [
           0.6,
           "rgb(255,255,0)"
          ],
          [
           0.8,
           "rgb(250,0,0)"
          ],
          [
           1,
           "rgb(128,0,0)"
          ]
         ],
         "type": "heatmap",
         "x": [
          8,
          18,
          28,
          38,
          48,
          58,
          68,
          78,
          88,
          98,
          108,
          118,
          128,
          138,
          148,
          158,
          168,
          178,
          188,
          198,
          208,
          218,
          228,
          238,
          248
         ],
         "xgap": 0,
         "y": [
          8,
          18,
          28,
          38,
          48,
          58,
          68,
          78,
          88,
          98,
          108,
          118,
          128,
          138,
          148,
          158,
          168,
          178,
          188,
          198,
          208,
          218,
          228,
          238,
          248,
          258,
          268,
          278,
          288
         ],
         "ygap": 0,
         "z": [
          [
           39.020023785991214,
           82.90535220034131,
           145.4618038655966,
           212.80743057031282,
           264.7653117006339,
           289.1148331952767,
           287.83932445784694,
           268.56355057705616,
           235.76903197009798,
           195.14809234498813,
           161.54995826505996,
           153.62487701718737,
           176.91266382980317,
           213.9474007774035,
           234.95520702451844,
           222.7213200686612,
           190.1869985543954,
           175.09706829000334,
           215.42397700548085,
           320.7187446731676,
           455.729772886934,
           552.6580923637292,
           554.2149238035219,
           456.10965999994664,
           307.51244619517826
          ],
          [
           41.73514645084707,
           87.33789457188799,
           154.73473584762573,
           232.77988681581135,
           303.51377601157895,
           354.7148459932945,
           383.76182914514106,
           388.3345479702767,
           362.475559411088,
           309.7377481705238,
           254.90467464025937,
           231.62153610142923,
           253.48771892280638,
           298.319986003728,
           324.0310055861432,
           304.47991802652865,
           253.97385143803643,
           219.48131083420085,
           248.11246566876267,
           352.4719400503191,
           493.5734342022675,
           596.3914365151853,
           597.693167421364,
           492.0068068976072,
           331.9070972470426
          ],
          [
           47.00670714279816,
           84.88112347695875,
           141.50339484411904,
           213.7989915574068,
           293.47596629245373,
           372.5428041197839,
           441.9941507261177,
           483.8920039854328,
           476.3111525982676,
           417.35197261824464,
           340.3907312032528,
           294.2472787379335,
           302.7958206630256,
           343.768446211778,
           368.12761564189583,
           343.20902413850155,
           281.4338929930272,
           231.23504851877564,
           241.19502224515992,
           324.85427963780984,
           446.1630838158163,
           536.0274189375276,
           536.4858392867642,
           441.78831890309823,
           298.42005008790875
          ],
          [
           80.62140717610532,
           108.74979502501475,
           141.54295217464113,
           187.29424855175108,
           254.66602153555863,
           345.89678941964405,
           447.6734228370336,
           526.1128185242853,
           542.1242059980993,
           485.33571088407757,
           392.26285301494784,
           321.70686891011474,
           307.2222149586317,
           332.12247038999885,
           348.93164382652526,
           323.4352201196716,
           263.5997788390866,
           211.03152396425423,
           207.46569496760287,
           264.226820649942,
           352.2650657750228,
           417.5217166426148,
           415.4953921092301,
           341.71433358705826,
           231.2206317453094
          ],
          [
           175.78537242459407,
           204.78148871775917,
           208.85678691927006,
           207.5413425972735,
           232.83988602568425,
           305.3368382407412,
           413.9364345591225,
           513.574567360329,
           550.3741183634447,
           503.197662056571,
           404.59050254524277,
           315.7049376711599,
           276.99270831000405,
           280.979541107647,
           288.41724011794145,
           268.0310897540764,
           222.90006083627475,
           183.73480310594894,
           180.76102347292993,
           219.84124575367292,
           277.7500288594085,
           316.4241556276673,
           307.2640667367452,
           249.57299587474498,
           168.3342620151206
          ],
          [
           341.0644243772768,
           389.2510734371744,
           368.4750537043189,
           306.64152867781917,
           263.46240074761045,
           286.02603491642884,
           373.43833937591387,
           475.3641490844739,
           525.8896292238503,
           491.7180294961467,
           396.70096563849387,
           299.3357032873739,
           244.35438103424775,
           233.3504403667024,
           236.12429425449096,
           225.36632982091177,
           200.90592319989355,
           184.66730065478868,
           196.1174442161742,
           232.98654112063033,
           272.12843505341505,
           286.01638721018634,
           260.60583456305994,
           202.71342891835522,
           133.43222089977922
          ],
          [
           528.8956565336722,
           608.1183243273271,
           572.0242274072127,
           452.96073358624056,
           337.06894077755464,
           300.15904453918057,
           355.5620324872881,
           450.9990871745756,
           509.9819153260846,
           487.31674121151366,
           398.48771232483944,
           299.94613666765474,
           240.22616442063278,
           226.89419369267642,
           233.9124869495314,
           234.98380696296127,
           228.94569382705677,
           235.106933124295,
           266.78794938695927,
           312.0931589733593,
           341.07652174775956,
           329.7706978730025,
           276.81210918911427,
           200.68012584246281,
           125.22225083586787
          ],
          [
           647.0402771971052,
           750.4956568330167,
           710.7433156586931,
           560.8123609321868,
           402.6421661366217,
           331.29380711054216,
           370.4239879563658,
           465.9394653683677,
           532.4342391440831,
           515.9547593814702,
           428.59030169198047,
           329.62754681988486,
           272.83133971833297,
           268.02265175061405,
           286.6264429855002,
           298.7443460682151,
           303.46062412392064,
           323.30656744730544,
           370.7648607050208,
           424.99997563998835,
           445.5877476216622,
           407.699621297402,
           321.0319731459825,
           217.63732868187896,
           127.4575335775705
          ],
          [
           623.197918321221,
           727.8585583749244,
           695.8099012176534,
           557.6904228803292,
           413.016818925865,
           356.38564802192315,
           411.115414018674,
           520.2034147713193,
           593.6041433193792,
           575.1888473808963,
           480.4732545439142,
           376.2161340980295,
           322.201703856883,
           327.9153743666486,
           358.45735276729926,
           377.6910527281895,
           384.61630814154574,
           406.73042807614826,
           458.7246540692667,
           514.2343436898516,
           524.6147571450435,
           463.7974581486994,
           349.7929213722565,
           225.2173078409109,
           124.6123508908116
          ],
          [
           467.1876327240297,
           550.3752978840405,
           535.5855436711074,
           448.81855953409325,
           369.52471385185385,
           371.45520222115744,
           466.07053579334996,
           593.4344789041813,
           666.3350226572219,
           635.5151482467546,
           525.417230797394,
           410.37010731227815,
           353.42418154503844,
           362.3667656417414,
           397.51787169016006,
           418.41433363411255,
           423.00779061369457,
           440.5175887500406,
           486.917709891242,
           534.8854121792803,
           534.5934115191243,
           461.5995387121066,
           338.09617219678825,
           209.93579336400143,
           111.32813088694766
          ],
          [
           264.60698105608003,
           320.0638720679541,
           329.5905416499535,
           312.9284608004164,
           320.44290731061835,
           394.16208942159074,
           527.6503569187081,
           660.2302631220248,
           716.1843411219741,
           661.9215824764547,
           533.0527973050399,
           406.2461934416659,
           341.2199790413897,
           343.12074941830355,
           373.02722836084865,
           392.10534295071426,
           397.1613915562002,
           413.2980042862081,
           453.18351893969066,
           490.9291325160351,
           482.57483973134435,
           409.3024894441228,
           294.2208739889705,
           179.28428119587954,
           93.5019326009533
          ],
          [
           109.17637320322498,
           149.58077347805505,
           188.30785232904466,
           237.10769388061635,
           318.1249526381771,
           443.3368873624815,
           590.6939478460431,
           703.3006883124217,
           723.6594903575749,
           638.7503025601278,
           493.7815229298526,
           360.2200618699525,
           287.21321427293657,
           276.46044812874817,
           295.5740674179848,
           313.94742972460574,
           328.577425379087,
           355.7941174824689,
           399.16626226406134,
           432.42944437936524,
           420.0125474656239,
           351.6097500236782,
           251.13014578284384,
           154.1644602752308,
           82.73189936092955
          ],
          [
           44.04946479189222,
           91.25544462310702,
           162.62375517529358,
           259.1984683679169,
           380.78858869415853,
           519.3283116822704,
           646.4438469527954,
           715.3876295003545,
           689.5967901421815,
           575.1884826266197,
           421.9864327612578,
           290.22872611957416,
           214.5707901766192,
           193.1108317523137,
           202.87970790995806,
           225.0798330232604,
           258.7432641619292,
           310.296716252657,
           370.5944245185549,
           408.86319794098597,
           395.59993918353996,
           329.5028958733175,
           237.5361676171379,
           151.1823686013994,
           86.95690904270307
          ],
          [
           57.85109669466422,
           131.52849364175069,
           237.73239732341997,
           363.1589709624891,
           491.1115447463338,
           605.6179402111645,
           684.1996259128576,
           696.9005652358243,
           626.7566459220375,
           492.1620995606868,
           340.8233504763342,
           219.09447766227274,
           147.81149965202206,
           122.25251684796233,
           128.1966150080924,
           157.81643154861672,
           212.97618871407315,
           292.2801703046341,
           374.80235182871263,
           423.3626500068436,
           411.1006041077533,
           343.8179733034613,
           252.66945148819,
           167.93020143028332,
           103.100370309971
          ],
          [
           116.42988928617206,
           228.37154045913152,
           369.93400304241044,
           510.35685182413545,
           620.6483139133499,
           686.8591373308407,
           702.456027553887,
           658.426698349253,
           553.4615658828193,
           410.05394827847476,
           268.3082011952527,
           161.25012216182682,
           99.3867601765111,
           76.27608988792453,
           83.40774685224002,
           119.71896982923641,
           188.74635802440793,
           284.6295643137636,
           380.124328920293,
           435.1235102110573,
           424.71689221225733,
           358.4394148696322,
           268.9471646513067,
           185.0697796449634,
           118.54384748782604
          ],
          [
           188.46968508259087,
           341.40743774184887,
           516.1618107795684,
           664.1205545592694,
           747.3978415935701,
           759.413498978942,
           713.1926560477564,
           620.022705611979,
           489.7930259545034,
           344.1503955218722,
           214.0428937167497,
           121.85589770710406,
           71.44106654507621,
           55.1426674257862,
           66.37308000919029,
           105.42004438568095,
           174.72539793250007,
           266.74760281686264,
           355.51030084059596,
           405.74745717587086,
           397.1647479117071,
           339.4396820449645,
           260.8645361387186,
           185.29692960409872,
           122.41086354699613
          ],
          [
           249.76643064225001,
           436.43935052271905,
           637.4216405383108,
           790.334692194169,
           851.7579989913216,
           821.957027367552,
           728.8576707618096,
           598.5098771491655,
           448.99630471385535,
           301.5400195115941,
           180.7159271411196,
           101.7039680174096,
           63.904480866954344,
           57.9557642206774,
           75.86994603771369,
           114.69304219058213,
           172.77881355825744,
           242.4171901332447,
           305.45408317299245,
           339.42560176824975,
           332.32484226593414,
           290.97180952461343,
           233.02205061687056,
           173.06048112203507,
           118.18103411224708
          ],
          [
           280.5193466777232,
           483.06688332365206,
           696.4015511717342,
           853.0689760713153,
           907.6060102399434,
           861.3760058503373,
           745.9445673735861,
           593.630064075699,
           429.7090017018859,
           279.46306347262646,
           166.29167460252572,
           101.15149832634629,
           79.37910380587218,
           88.45540343585938,
           116.61274721530683,
           155.23326330745084,
           197.2228614426559,
           235.73144439874537,
           264.2342363907695,
           277.64830745431595,
           274.03832627563827,
           254.62848732720815,
           221.45764455032082,
           176.76937807994875,
           125.79778409943344
          ],
          [
           270.34437754329707,
           464.3565870304215,
           670.5065936827567,
           826.9298117537003,
           889.7668575519269,
           854.3485150294296,
           743.4664258073601,
           587.2161708838172,
           417.5740512176801,
           268.4715026917199,
           166.79332084286884,
           121.18217721505569,
           121.96886516013136,
           151.20183700277306,
           191.75640014488707,
           229.7287593829755,
           254.55710578332045,
           262.48339620051445,
           259.9955618631263,
           259.4091888857312,
           267.1384486956616,
           275.3207434154851,
           266.49139274942866,
           228.9782878506883,
           168.52254638168714
          ],
          [
           226.1682581597179,
           390.23609983127216,
           570.0175729598992,
           717.2323571536535,
           793.1600627158527,
           783.9324168361123,
           696.9492964047079,
           554.7207137816221,
           393.8187688310239,
           257.31851684104396,
           177.06731745658772,
           160.05259128543975,
           190.25432945614472,
           241.77529304182377,
           291.30239515634173,
           322.69728422968046,
           327.5961901583731,
           309.5471371373759,
           287.79854739847445,
           288.00747105097065,
           319.9282758331528,
           362.60973379772463,
           376.67248875037853,
           336.4843541689151,
           251.34545690918824
          ],
          [
           170.05186314979656,
           294.7907251597458,
           436.7171629434078,
           563.0455880327429,
           642.8125275097345,
           656.1712079994629,
           597.699596678036,
           481.85492902466166,
           345.72244439687626,
           236.62361721954568,
           188.74869363406222,
           206.98535386974606,
           268.46863817819417,
           338.21049392901944,
           387.20287529619577,
           401.4871975069702,
           381.7475034871366,
           343.0655299055743,
           315.2866778621804,
           330.56119435984743,
           395.8961309459914,
           475.5378942459353,
           510.0080349196701,
           462.26949035233315,
           346.98316280477593
          ],
          [
           127.51701237889574,
           218.25238900226714,
           322.7507036713238,
           419.85875830366786,
           487.14732247899514,
           505.72927852493956,
           466.1156972821474,
           378.2733949083641,
           275.71932189280585,
           202.6040392756373,
           190.40704994044313,
           241.00599265991391,
           326.22412041209947,
           404.1284198990834,
           442.5191175251512,
           432.94246072788985,
           388.4000652992694,
           335.82069916872723,
           310.87819664440553,
           344.8273710956296,
           438.19829290992146,
           544.3948873743614,
           592.516500060651,
           540.1206189032092,
           406.1184434065073
          ],
          [
           117.73322687272876,
           191.26687526009437,
           270.31585753481323,
           338.62702539632295,
           380.94051641184575,
           385.23629959888393,
           346.83812214395675,
           276.30547588521335,
           202.02350296004786,
           159.58111259364307,
           173.28976469510843,
           241.46082070906488,
           334.2231952252971,
           408.33766959519187,
           432.53119630278184,
           404.02823315454253,
           344.6482400956328,
           287.49647004109096,
           267.4773823581891,
           309.83705619240703,
           409.5166650072343,
           518.6485426691385,
           568.6622801283529,
           519.677814132855,
           391.01130473672396
          ],
          [
           148.63681500610264,
           226.8606313065514,
           299.31132769962727,
           347.92789091217384,
           361.8020937864041,
           338.19011916995777,
           282.46992379840066,
           210.2839190431307,
           146.57622450457458,
           117.40019329566672,
           138.06654169295146,
           203.43729428263828,
           286.0447402789263,
           347.9274643381569,
           362.6947236967251,
           330.423197903648,
           273.32737922101967,
           221.634440734766,
           203.66245063165167,
           237.46943824531346,
           316.91376983809187,
           403.35507251120276,
           443.0187804573432,
           405.01961159914066,
           304.71064814897284
          ],
          [
           211.41570217160205,
           312.2738301548755,
           395.2998513048446,
           436.07103211473,
           425.1750530200437,
           368.58340619470545,
           282.96395134460244,
           191.60752183232225,
           119.18970043076699,
           84.60023346311812,
           94.96362738244555,
           142.29990326667988,
           204.07920185341536,
           251.70982114083802,
           265.60737757875273,
           245.11205287513232,
           204.9791112245913,
           165.42505580094098,
           145.60817931967327,
           158.4088425999302,
           201.31736548033123,
           250.82350535792506,
           273.3122000452968,
           249.08415874332846,
           187.09532333742075
          ],
          [
           277.32550734499847,
           404.8488000550617,
           504.52844974315303,
           544.9210911407629,
           516.5599400342427,
           431.85882792511524,
           316.6241832986749,
           201.23013259878857,
           111.8345966336146,
           63.133520781695665,
           56.395992235423826,
           81.80604934462131,
           122.13263425294832,
           158.39493833146554,
           177.33365308280125,
           175.5210931333045,
           157.27169697335637,
           130.98259224131692,
           107.5972850765314,
           97.63430980122203,
           104.23897853897057,
           118.4572416800359,
           124.42760653644673,
           111.7965842077751,
           83.42617308888657
          ],
          [
           308.94558072069475,
           449.16856976818343,
           556.6831665888117,
           596.7730285723843,
           560.0875878920087,
           462.1614667235552,
           332.96973330850443,
           205.8524676238398,
           107.13575052984802,
           48.922483290934004,
           29.305341705828486,
           38.103751615628894,
           62.596596198806395,
           91.18182070823032,
           115.21759041618645,
           128.78129840503206,
           127.87055856316601,
           111.96184345813951,
           86.51293209049325,
           61.23760446005787,
           43.74343725233283,
           34.81021675858232,
           29.92364998950543,
           24.542301044517885,
           17.521119926530716
          ],
          [
           284.92038608068214,
           413.50868028775403,
           511.2625643891302,
           546.3439663202064,
           510.6817401844647,
           419.27102670937137,
           300.08199362278503,
           183.46169094386156,
           92.51625156620089,
           36.854062092838205,
           13.61849166269762,
           13.91465796360474,
           28.74689868179033,
           51.32746753571368,
           76.0585346915263,
           96.24725675625928,
           104.10030007587824,
           94.83291502399733,
           70.99532127864667,
           41.355431003028976,
           15.039118218182859,
           -2.9909545988211654,
           -12.083800386553218,
           -13.998699025643306,
           -11.499066291194657
          ],
          [
           215.87690408005253,
           312.96813838788967,
           386.37893706846035,
           412.0892942242397,
           384.28178883951904,
           314.6413638007427,
           224.46011201406571,
           136.48754982775074,
           67.73918797500451,
           24.975205808011058,
           5.748636269106696,
           3.5872777975585386,
           12.667063693619179,
           29.183965594654516,
           49.62422845911634,
           68.28725581122826,
           77.58599109830794,
           72.26953939799174,
           53.55975945211027,
           28.386832019182933,
           4.6636176501415605,
           -12.406174296954713,
           -20.90738303967182,
           -21.540109962980885,
           -16.988637858546628
          ]
         ]
        },
        {
         "marker": {
          "color": [
           0,
           0,
           0,
           0,
           0,
           0,
           0,
           0,
           0,
           0,
           0,
           0,
           0,
           0,
           0,
           0,
           0,
           0,
           0,
           0,
           0,
           0,
           0,
           0,
           0,
           0,
           0,
           0,
           0,
           0
          ],
          "colorscale": [
           [
            0,
            "rgb(0,0,131)"
           ],
           [
            0.2,
            "rgb(0,60,170)"
           ],
           [
            0.4,
            "rgb(5,255,255)"
           ],
           [
            0.6,
            "rgb(255,255,0)"
           ],
           [
            0.8,
            "rgb(250,0,0)"
           ],
           [
            1,
            "rgb(128,0,0)"
           ]
          ],
          "line": {
           "color": "black",
           "width": 1
          },
          "size": 6
         },
         "mode": "markers",
         "text": [
          39.020023785991214,
          82.90535220034131,
          145.4618038655966,
          212.80743057031282,
          264.7653117006339,
          289.1148331952767,
          287.83932445784694,
          268.56355057705616,
          235.76903197009798,
          195.14809234498813,
          161.54995826505996,
          153.62487701718737,
          176.91266382980317,
          213.9474007774035,
          234.95520702451844,
          222.7213200686612,
          190.1869985543954,
          175.09706829000334,
          215.42397700548085,
          320.7187446731676,
          455.729772886934,
          552.6580923637292,
          554.2149238035219,
          456.10965999994664,
          307.51244619517826,
          41.73514645084707,
          87.33789457188799,
          154.73473584762573,
          232.77988681581135,
          303.51377601157895,
          354.7148459932945,
          383.76182914514106,
          388.3345479702767,
          362.475559411088,
          309.7377481705238,
          254.90467464025937,
          231.62153610142923,
          253.48771892280638,
          298.319986003728,
          324.0310055861432,
          304.47991802652865,
          253.97385143803643,
          219.48131083420085,
          248.11246566876267,
          352.4719400503191,
          493.5734342022675,
          596.3914365151853,
          597.693167421364,
          492.0068068976072,
          331.9070972470426,
          47.00670714279816,
          84.88112347695875,
          141.50339484411904,
          213.7989915574068,
          293.47596629245373,
          372.5428041197839,
          441.9941507261177,
          483.8920039854328,
          476.3111525982676,
          417.35197261824464,
          340.3907312032528,
          294.2472787379335,
          302.7958206630256,
          343.768446211778,
          368.12761564189583,
          343.20902413850155,
          281.4338929930272,
          231.23504851877564,
          241.19502224515992,
          324.85427963780984,
          446.1630838158163,
          536.0274189375276,
          536.4858392867642,
          441.78831890309823,
          298.42005008790875,
          80.62140717610532,
          108.74979502501475,
          141.54295217464113,
          187.29424855175108,
          254.66602153555863,
          345.89678941964405,
          447.6734228370336,
          526.1128185242853,
          542.1242059980993,
          485.33571088407757,
          392.26285301494784,
          321.70686891011474,
          307.2222149586317,
          332.12247038999885,
          348.93164382652526,
          323.4352201196716,
          263.5997788390866,
          211.03152396425423,
          207.46569496760287,
          264.226820649942,
          352.2650657750228,
          417.5217166426148,
          415.4953921092301,
          341.71433358705826,
          231.2206317453094,
          175.78537242459407,
          204.78148871775917,
          208.85678691927006,
          207.5413425972735,
          232.83988602568425,
          305.3368382407412,
          413.9364345591225,
          513.574567360329,
          550.3741183634447,
          503.197662056571,
          404.59050254524277,
          315.7049376711599,
          276.99270831000405,
          280.979541107647,
          288.41724011794145,
          268.0310897540764,
          222.90006083627475,
          183.73480310594894,
          180.76102347292993,
          219.84124575367292,
          277.7500288594085,
          316.4241556276673,
          307.2640667367452,
          249.57299587474498,
          168.3342620151206,
          341.0644243772768,
          389.2510734371744,
          368.4750537043189,
          306.64152867781917,
          263.46240074761045,
          286.02603491642884,
          373.43833937591387,
          475.3641490844739,
          525.8896292238503,
          491.7180294961467,
          396.70096563849387,
          299.3357032873739,
          244.35438103424775,
          233.3504403667024,
          236.12429425449096,
          225.36632982091177,
          200.90592319989355,
          184.66730065478868,
          196.1174442161742,
          232.98654112063033,
          272.12843505341505,
          286.01638721018634,
          260.60583456305994,
          202.71342891835522,
          133.43222089977922,
          528.8956565336722,
          608.1183243273271,
          572.0242274072127,
          452.96073358624056,
          337.06894077755464,
          300.15904453918057,
          355.5620324872881,
          450.9990871745756,
          509.9819153260846,
          487.31674121151366,
          398.48771232483944,
          299.94613666765474,
          240.22616442063278,
          226.89419369267642,
          233.9124869495314,
          234.98380696296127,
          228.94569382705677,
          235.106933124295,
          266.78794938695927,
          312.0931589733593,
          341.07652174775956,
          329.7706978730025,
          276.81210918911427,
          200.68012584246281,
          125.22225083586787,
          647.0402771971052,
          750.4956568330167,
          710.7433156586931,
          560.8123609321868,
          402.6421661366217,
          331.29380711054216,
          370.4239879563658,
          465.9394653683677,
          532.4342391440831,
          515.9547593814702,
          428.59030169198047,
          329.62754681988486,
          272.83133971833297,
          268.02265175061405,
          286.6264429855002,
          298.7443460682151,
          303.46062412392064,
          323.30656744730544,
          370.7648607050208,
          424.99997563998835,
          445.5877476216622,
          407.699621297402,
          321.0319731459825,
          217.63732868187896,
          127.4575335775705,
          623.197918321221,
          727.8585583749244,
          695.8099012176534,
          557.6904228803292,
          413.016818925865,
          356.38564802192315,
          411.115414018674,
          520.2034147713193,
          593.6041433193792,
          575.1888473808963,
          480.4732545439142,
          376.2161340980295,
          322.201703856883,
          327.9153743666486,
          358.45735276729926,
          377.6910527281895,
          384.61630814154574,
          406.73042807614826,
          458.7246540692667,
          514.2343436898516,
          524.6147571450435,
          463.7974581486994,
          349.7929213722565,
          225.2173078409109,
          124.6123508908116,
          467.1876327240297,
          550.3752978840405,
          535.5855436711074,
          448.81855953409325,
          369.52471385185385,
          371.45520222115744,
          466.07053579334996,
          593.4344789041813,
          666.3350226572219,
          635.5151482467546,
          525.417230797394,
          410.37010731227815,
          353.42418154503844,
          362.3667656417414,
          397.51787169016006,
          418.41433363411255,
          423.00779061369457,
          440.5175887500406,
          486.917709891242,
          534.8854121792803,
          534.5934115191243,
          461.5995387121066,
          338.09617219678825,
          209.93579336400143,
          111.32813088694766,
          264.60698105608003,
          320.0638720679541,
          329.5905416499535,
          312.9284608004164,
          320.44290731061835,
          394.16208942159074,
          527.6503569187081,
          660.2302631220248,
          716.1843411219741,
          661.9215824764547,
          533.0527973050399,
          406.2461934416659,
          341.2199790413897,
          343.12074941830355,
          373.02722836084865,
          392.10534295071426,
          397.1613915562002,
          413.2980042862081,
          453.18351893969066,
          490.9291325160351,
          482.57483973134435,
          409.3024894441228,
          294.2208739889705,
          179.28428119587954,
          93.5019326009533,
          109.17637320322498,
          149.58077347805505,
          188.30785232904466,
          237.10769388061635,
          318.1249526381771,
          443.3368873624815,
          590.6939478460431,
          703.3006883124217,
          723.6594903575749,
          638.7503025601278,
          493.7815229298526,
          360.2200618699525,
          287.21321427293657,
          276.46044812874817,
          295.5740674179848,
          313.94742972460574,
          328.577425379087,
          355.7941174824689,
          399.16626226406134,
          432.42944437936524,
          420.0125474656239,
          351.6097500236782,
          251.13014578284384,
          154.1644602752308,
          82.73189936092955,
          44.04946479189222,
          91.25544462310702,
          162.62375517529358,
          259.1984683679169,
          380.78858869415853,
          519.3283116822704,
          646.4438469527954,
          715.3876295003545,
          689.5967901421815,
          575.1884826266197,
          421.9864327612578,
          290.22872611957416,
          214.5707901766192,
          193.1108317523137,
          202.87970790995806,
          225.0798330232604,
          258.7432641619292,
          310.296716252657,
          370.5944245185549,
          408.86319794098597,
          395.59993918353996,
          329.5028958733175,
          237.5361676171379,
          151.1823686013994,
          86.95690904270307,
          57.85109669466422,
          131.52849364175069,
          237.73239732341997,
          363.1589709624891,
          491.1115447463338,
          605.6179402111645,
          684.1996259128576,
          696.9005652358243,
          626.7566459220375,
          492.1620995606868,
          340.8233504763342,
          219.09447766227274,
          147.81149965202206,
          122.25251684796233,
          128.1966150080924,
          157.81643154861672,
          212.97618871407315,
          292.2801703046341,
          374.80235182871263,
          423.3626500068436,
          411.1006041077533,
          343.8179733034613,
          252.66945148819,
          167.93020143028332,
          103.100370309971,
          116.42988928617206,
          228.37154045913152,
          369.93400304241044,
          510.35685182413545,
          620.6483139133499,
          686.8591373308407,
          702.456027553887,
          658.426698349253,
          553.4615658828193,
          410.05394827847476,
          268.3082011952527,
          161.25012216182682,
          99.3867601765111,
          76.27608988792453,
          83.40774685224002,
          119.71896982923641,
          188.74635802440793,
          284.6295643137636,
          380.124328920293,
          435.1235102110573,
          424.71689221225733,
          358.4394148696322,
          268.9471646513067,
          185.0697796449634,
          118.54384748782604,
          188.46968508259087,
          341.40743774184887,
          516.1618107795684,
          664.1205545592694,
          747.3978415935701,
          759.413498978942,
          713.1926560477564,
          620.022705611979,
          489.7930259545034,
          344.1503955218722,
          214.0428937167497,
          121.85589770710406,
          71.44106654507621,
          55.1426674257862,
          66.37308000919029,
          105.42004438568095,
          174.72539793250007,
          266.74760281686264,
          355.51030084059596,
          405.74745717587086,
          397.1647479117071,
          339.4396820449645,
          260.8645361387186,
          185.29692960409872,
          122.41086354699613,
          249.76643064225001,
          436.43935052271905,
          637.4216405383108,
          790.334692194169,
          851.7579989913216,
          821.957027367552,
          728.8576707618096,
          598.5098771491655,
          448.99630471385535,
          301.5400195115941,
          180.7159271411196,
          101.7039680174096,
          63.904480866954344,
          57.9557642206774,
          75.86994603771369,
          114.69304219058213,
          172.77881355825744,
          242.4171901332447,
          305.45408317299245,
          339.42560176824975,
          332.32484226593414,
          290.97180952461343,
          233.02205061687056,
          173.06048112203507,
          118.18103411224708,
          280.5193466777232,
          483.06688332365206,
          696.4015511717342,
          853.0689760713153,
          907.6060102399434,
          861.3760058503373,
          745.9445673735861,
          593.630064075699,
          429.7090017018859,
          279.46306347262646,
          166.29167460252572,
          101.15149832634629,
          79.37910380587218,
          88.45540343585938,
          116.61274721530683,
          155.23326330745084,
          197.2228614426559,
          235.73144439874537,
          264.2342363907695,
          277.64830745431595,
          274.03832627563827,
          254.62848732720815,
          221.45764455032082,
          176.76937807994875,
          125.79778409943344,
          270.34437754329707,
          464.3565870304215,
          670.5065936827567,
          826.9298117537003,
          889.7668575519269,
          854.3485150294296,
          743.4664258073601,
          587.2161708838172,
          417.5740512176801,
          268.4715026917199,
          166.79332084286884,
          121.18217721505569,
          121.96886516013136,
          151.20183700277306,
          191.75640014488707,
          229.7287593829755,
          254.55710578332045,
          262.48339620051445,
          259.9955618631263,
          259.4091888857312,
          267.1384486956616,
          275.3207434154851,
          266.49139274942866,
          228.9782878506883,
          168.52254638168714,
          226.1682581597179,
          390.23609983127216,
          570.0175729598992,
          717.2323571536535,
          793.1600627158527,
          783.9324168361123,
          696.9492964047079,
          554.7207137816221,
          393.8187688310239,
          257.31851684104396,
          177.06731745658772,
          160.05259128543975,
          190.25432945614472,
          241.77529304182377,
          291.30239515634173,
          322.69728422968046,
          327.5961901583731,
          309.5471371373759,
          287.79854739847445,
          288.00747105097065,
          319.9282758331528,
          362.60973379772463,
          376.67248875037853,
          336.4843541689151,
          251.34545690918824,
          170.05186314979656,
          294.7907251597458,
          436.7171629434078,
          563.0455880327429,
          642.8125275097345,
          656.1712079994629,
          597.699596678036,
          481.85492902466166,
          345.72244439687626,
          236.62361721954568,
          188.74869363406222,
          206.98535386974606,
          268.46863817819417,
          338.21049392901944,
          387.20287529619577,
          401.4871975069702,
          381.7475034871366,
          343.0655299055743,
          315.2866778621804,
          330.56119435984743,
          395.8961309459914,
          475.5378942459353,
          510.0080349196701,
          462.26949035233315,
          346.98316280477593,
          127.51701237889574,
          218.25238900226714,
          322.7507036713238,
          419.85875830366786,
          487.14732247899514,
          505.72927852493956,
          466.1156972821474,
          378.2733949083641,
          275.71932189280585,
          202.6040392756373,
          190.40704994044313,
          241.00599265991391,
          326.22412041209947,
          404.1284198990834,
          442.5191175251512,
          432.94246072788985,
          388.4000652992694,
          335.82069916872723,
          310.87819664440553,
          344.8273710956296,
          438.19829290992146,
          544.3948873743614,
          592.516500060651,
          540.1206189032092,
          406.1184434065073,
          117.73322687272876,
          191.26687526009437,
          270.31585753481323,
          338.62702539632295,
          380.94051641184575,
          385.23629959888393,
          346.83812214395675,
          276.30547588521335,
          202.02350296004786,
          159.58111259364307,
          173.28976469510843,
          241.46082070906488,
          334.2231952252971,
          408.33766959519187,
          432.53119630278184,
          404.02823315454253,
          344.6482400956328,
          287.49647004109096,
          267.4773823581891,
          309.83705619240703,
          409.5166650072343,
          518.6485426691385,
          568.6622801283529,
          519.677814132855,
          391.01130473672396,
          148.63681500610264,
          226.8606313065514,
          299.31132769962727,
          347.92789091217384,
          361.8020937864041,
          338.19011916995777,
          282.46992379840066,
          210.2839190431307,
          146.57622450457458,
          117.40019329566672,
          138.06654169295146,
          203.43729428263828,
          286.0447402789263,
          347.9274643381569,
          362.6947236967251,
          330.423197903648,
          273.32737922101967,
          221.634440734766,
          203.66245063165167,
          237.46943824531346,
          316.91376983809187,
          403.35507251120276,
          443.0187804573432,
          405.01961159914066,
          304.71064814897284,
          211.41570217160205,
          312.2738301548755,
          395.2998513048446,
          436.07103211473,
          425.1750530200437,
          368.58340619470545,
          282.96395134460244,
          191.60752183232225,
          119.18970043076699,
          84.60023346311812,
          94.96362738244555,
          142.29990326667988,
          204.07920185341536,
          251.70982114083802,
          265.60737757875273,
          245.11205287513232,
          204.9791112245913,
          165.42505580094098,
          145.60817931967327,
          158.4088425999302,
          201.31736548033123,
          250.82350535792506,
          273.3122000452968,
          249.08415874332846,
          187.09532333742075,
          277.32550734499847,
          404.8488000550617,
          504.52844974315303,
          544.9210911407629,
          516.5599400342427,
          431.85882792511524,
          316.6241832986749,
          201.23013259878857,
          111.8345966336146,
          63.133520781695665,
          56.395992235423826,
          81.80604934462131,
          122.13263425294832,
          158.39493833146554,
          177.33365308280125,
          175.5210931333045,
          157.27169697335637,
          130.98259224131692,
          107.5972850765314,
          97.63430980122203,
          104.23897853897057,
          118.4572416800359,
          124.42760653644673,
          111.7965842077751,
          83.42617308888657,
          308.94558072069475,
          449.16856976818343,
          556.6831665888117,
          596.7730285723843,
          560.0875878920087,
          462.1614667235552,
          332.96973330850443,
          205.8524676238398,
          107.13575052984802,
          48.922483290934004,
          29.305341705828486,
          38.103751615628894,
          62.596596198806395,
          91.18182070823032,
          115.21759041618645,
          128.78129840503206,
          127.87055856316601,
          111.96184345813951,
          86.51293209049325,
          61.23760446005787,
          43.74343725233283,
          34.81021675858232,
          29.92364998950543,
          24.542301044517885,
          17.521119926530716,
          284.92038608068214,
          413.50868028775403,
          511.2625643891302,
          546.3439663202064,
          510.6817401844647,
          419.27102670937137,
          300.08199362278503,
          183.46169094386156,
          92.51625156620089,
          36.854062092838205,
          13.61849166269762,
          13.91465796360474,
          28.74689868179033,
          51.32746753571368,
          76.0585346915263,
          96.24725675625928,
          104.10030007587824,
          94.83291502399733,
          70.99532127864667,
          41.355431003028976,
          15.039118218182859,
          -2.9909545988211654,
          -12.083800386553218,
          -13.998699025643306,
          -11.499066291194657,
          215.87690408005253,
          312.96813838788967,
          386.37893706846035,
          412.0892942242397,
          384.28178883951904,
          314.6413638007427,
          224.46011201406571,
          136.48754982775074,
          67.73918797500451,
          24.975205808011058,
          5.748636269106696,
          3.5872777975585386,
          12.667063693619179,
          29.183965594654516,
          49.62422845911634,
          68.28725581122826,
          77.58599109830794,
          72.26953939799174,
          53.55975945211027,
          28.386832019182933,
          4.6636176501415605,
          -12.406174296954713,
          -20.90738303967182,
          -21.540109962980885,
          -16.988637858546628
         ],
         "type": "scatter",
         "x": [
          92.0625,
          199.35294117647058,
          37.88888888888887,
          140.22222222222223,
          223.27777777777777,
          229.55555555555554,
          28.09090909090908,
          153.6,
          76.83999999999997,
          21.714285714285708,
          205.3157894736842,
          49.06249999999998,
          149.55555555555554,
          21.499999999999986,
          117.125,
          35.999999999999986,
          170.55555555555554,
          228.90909090909093,
          106.5,
          45.842105263157876,
          236.11111111111111,
          86.26923076923075,
          171.25,
          31.571428571428555,
          91.27999999999999,
          78.69999999999999,
          54.99999999999998,
          66.26315789473682,
          50.235294117647044,
          229.09090909090907
         ],
         "y": [
          68.06249999999999,
          150.1764705882353,
          181.5,
          226.66666666666666,
          16.388888888888886,
          269.66666666666663,
          269.27272727272725,
          99.5,
          134.64,
          81.64285714285712,
          93.94736842105262,
          17.312499999999986,
          28.88888888888887,
          113.33333333333333,
          135.875,
          215.4375,
          206.27777777777777,
          221.7272727272727,
          271.375,
          152.73684210526315,
          155.22222222222223,
          37.34615384615384,
          272.5,
          58.071428571428555,
          103.59999999999998,
          172.54999999999998,
          268.625,
          204.42105263157893,
          91.11764705882351,
          70.63636363636361
         ]
        }
       ],
       "layout": {
        "height": 700,
        "template": {
         "data": {
          "bar": [
           {
            "error_x": {
             "color": "#2a3f5f"
            },
            "error_y": {
             "color": "#2a3f5f"
            },
            "marker": {
             "line": {
              "color": "#E5ECF6",
              "width": 0.5
             }
            },
            "type": "bar"
           }
          ],
          "barpolar": [
           {
            "marker": {
             "line": {
              "color": "#E5ECF6",
              "width": 0.5
             }
            },
            "type": "barpolar"
           }
          ],
          "carpet": [
           {
            "aaxis": {
             "endlinecolor": "#2a3f5f",
             "gridcolor": "white",
             "linecolor": "white",
             "minorgridcolor": "white",
             "startlinecolor": "#2a3f5f"
            },
            "baxis": {
             "endlinecolor": "#2a3f5f",
             "gridcolor": "white",
             "linecolor": "white",
             "minorgridcolor": "white",
             "startlinecolor": "#2a3f5f"
            },
            "type": "carpet"
           }
          ],
          "choropleth": [
           {
            "colorbar": {
             "outlinewidth": 0,
             "ticks": ""
            },
            "type": "choropleth"
           }
          ],
          "contour": [
           {
            "colorbar": {
             "outlinewidth": 0,
             "ticks": ""
            },
            "colorscale": [
             [
              0,
              "#0d0887"
             ],
             [
              0.1111111111111111,
              "#46039f"
             ],
             [
              0.2222222222222222,
              "#7201a8"
             ],
             [
              0.3333333333333333,
              "#9c179e"
             ],
             [
              0.4444444444444444,
              "#bd3786"
             ],
             [
              0.5555555555555556,
              "#d8576b"
             ],
             [
              0.6666666666666666,
              "#ed7953"
             ],
             [
              0.7777777777777778,
              "#fb9f3a"
             ],
             [
              0.8888888888888888,
              "#fdca26"
             ],
             [
              1,
              "#f0f921"
             ]
            ],
            "type": "contour"
           }
          ],
          "contourcarpet": [
           {
            "colorbar": {
             "outlinewidth": 0,
             "ticks": ""
            },
            "type": "contourcarpet"
           }
          ],
          "heatmap": [
           {
            "colorbar": {
             "outlinewidth": 0,
             "ticks": ""
            },
            "colorscale": [
             [
              0,
              "#0d0887"
             ],
             [
              0.1111111111111111,
              "#46039f"
             ],
             [
              0.2222222222222222,
              "#7201a8"
             ],
             [
              0.3333333333333333,
              "#9c179e"
             ],
             [
              0.4444444444444444,
              "#bd3786"
             ],
             [
              0.5555555555555556,
              "#d8576b"
             ],
             [
              0.6666666666666666,
              "#ed7953"
             ],
             [
              0.7777777777777778,
              "#fb9f3a"
             ],
             [
              0.8888888888888888,
              "#fdca26"
             ],
             [
              1,
              "#f0f921"
             ]
            ],
            "type": "heatmap"
           }
          ],
          "heatmapgl": [
           {
            "colorbar": {
             "outlinewidth": 0,
             "ticks": ""
            },
            "colorscale": [
             [
              0,
              "#0d0887"
             ],
             [
              0.1111111111111111,
              "#46039f"
             ],
             [
              0.2222222222222222,
              "#7201a8"
             ],
             [
              0.3333333333333333,
              "#9c179e"
             ],
             [
              0.4444444444444444,
              "#bd3786"
             ],
             [
              0.5555555555555556,
              "#d8576b"
             ],
             [
              0.6666666666666666,
              "#ed7953"
             ],
             [
              0.7777777777777778,
              "#fb9f3a"
             ],
             [
              0.8888888888888888,
              "#fdca26"
             ],
             [
              1,
              "#f0f921"
             ]
            ],
            "type": "heatmapgl"
           }
          ],
          "histogram": [
           {
            "marker": {
             "colorbar": {
              "outlinewidth": 0,
              "ticks": ""
             }
            },
            "type": "histogram"
           }
          ],
          "histogram2d": [
           {
            "colorbar": {
             "outlinewidth": 0,
             "ticks": ""
            },
            "colorscale": [
             [
              0,
              "#0d0887"
             ],
             [
              0.1111111111111111,
              "#46039f"
             ],
             [
              0.2222222222222222,
              "#7201a8"
             ],
             [
              0.3333333333333333,
              "#9c179e"
             ],
             [
              0.4444444444444444,
              "#bd3786"
             ],
             [
              0.5555555555555556,
              "#d8576b"
             ],
             [
              0.6666666666666666,
              "#ed7953"
             ],
             [
              0.7777777777777778,
              "#fb9f3a"
             ],
             [
              0.8888888888888888,
              "#fdca26"
             ],
             [
              1,
              "#f0f921"
             ]
            ],
            "type": "histogram2d"
           }
          ],
          "histogram2dcontour": [
           {
            "colorbar": {
             "outlinewidth": 0,
             "ticks": ""
            },
            "colorscale": [
             [
              0,
              "#0d0887"
             ],
             [
              0.1111111111111111,
              "#46039f"
             ],
             [
              0.2222222222222222,
              "#7201a8"
             ],
             [
              0.3333333333333333,
              "#9c179e"
             ],
             [
              0.4444444444444444,
              "#bd3786"
             ],
             [
              0.5555555555555556,
              "#d8576b"
             ],
             [
              0.6666666666666666,
              "#ed7953"
             ],
             [
              0.7777777777777778,
              "#fb9f3a"
             ],
             [
              0.8888888888888888,
              "#fdca26"
             ],
             [
              1,
              "#f0f921"
             ]
            ],
            "type": "histogram2dcontour"
           }
          ],
          "mesh3d": [
           {
            "colorbar": {
             "outlinewidth": 0,
             "ticks": ""
            },
            "type": "mesh3d"
           }
          ],
          "parcoords": [
           {
            "line": {
             "colorbar": {
              "outlinewidth": 0,
              "ticks": ""
             }
            },
            "type": "parcoords"
           }
          ],
          "scatter": [
           {
            "marker": {
             "colorbar": {
              "outlinewidth": 0,
              "ticks": ""
             }
            },
            "type": "scatter"
           }
          ],
          "scatter3d": [
           {
            "line": {
             "colorbar": {
              "outlinewidth": 0,
              "ticks": ""
             }
            },
            "marker": {
             "colorbar": {
              "outlinewidth": 0,
              "ticks": ""
             }
            },
            "type": "scatter3d"
           }
          ],
          "scattercarpet": [
           {
            "marker": {
             "colorbar": {
              "outlinewidth": 0,
              "ticks": ""
             }
            },
            "type": "scattercarpet"
           }
          ],
          "scattergeo": [
           {
            "marker": {
             "colorbar": {
              "outlinewidth": 0,
              "ticks": ""
             }
            },
            "type": "scattergeo"
           }
          ],
          "scattergl": [
           {
            "marker": {
             "colorbar": {
              "outlinewidth": 0,
              "ticks": ""
             }
            },
            "type": "scattergl"
           }
          ],
          "scattermapbox": [
           {
            "marker": {
             "colorbar": {
              "outlinewidth": 0,
              "ticks": ""
             }
            },
            "type": "scattermapbox"
           }
          ],
          "scatterpolar": [
           {
            "marker": {
             "colorbar": {
              "outlinewidth": 0,
              "ticks": ""
             }
            },
            "type": "scatterpolar"
           }
          ],
          "scatterpolargl": [
           {
            "marker": {
             "colorbar": {
              "outlinewidth": 0,
              "ticks": ""
             }
            },
            "type": "scatterpolargl"
           }
          ],
          "scatterternary": [
           {
            "marker": {
             "colorbar": {
              "outlinewidth": 0,
              "ticks": ""
             }
            },
            "type": "scatterternary"
           }
          ],
          "surface": [
           {
            "colorbar": {
             "outlinewidth": 0,
             "ticks": ""
            },
            "colorscale": [
             [
              0,
              "#0d0887"
             ],
             [
              0.1111111111111111,
              "#46039f"
             ],
             [
              0.2222222222222222,
              "#7201a8"
             ],
             [
              0.3333333333333333,
              "#9c179e"
             ],
             [
              0.4444444444444444,
              "#bd3786"
             ],
             [
              0.5555555555555556,
              "#d8576b"
             ],
             [
              0.6666666666666666,
              "#ed7953"
             ],
             [
              0.7777777777777778,
              "#fb9f3a"
             ],
             [
              0.8888888888888888,
              "#fdca26"
             ],
             [
              1,
              "#f0f921"
             ]
            ],
            "type": "surface"
           }
          ],
          "table": [
           {
            "cells": {
             "fill": {
              "color": "#EBF0F8"
             },
             "line": {
              "color": "white"
             }
            },
            "header": {
             "fill": {
              "color": "#C8D4E3"
             },
             "line": {
              "color": "white"
             }
            },
            "type": "table"
           }
          ]
         },
         "layout": {
          "annotationdefaults": {
           "arrowcolor": "#2a3f5f",
           "arrowhead": 0,
           "arrowwidth": 1
          },
          "colorscale": {
           "diverging": [
            [
             0,
             "#8e0152"
            ],
            [
             0.1,
             "#c51b7d"
            ],
            [
             0.2,
             "#de77ae"
            ],
            [
             0.3,
             "#f1b6da"
            ],
            [
             0.4,
             "#fde0ef"
            ],
            [
             0.5,
             "#f7f7f7"
            ],
            [
             0.6,
             "#e6f5d0"
            ],
            [
             0.7,
             "#b8e186"
            ],
            [
             0.8,
             "#7fbc41"
            ],
            [
             0.9,
             "#4d9221"
            ],
            [
             1,
             "#276419"
            ]
           ],
           "sequential": [
            [
             0,
             "#0d0887"
            ],
            [
             0.1111111111111111,
             "#46039f"
            ],
            [
             0.2222222222222222,
             "#7201a8"
            ],
            [
             0.3333333333333333,
             "#9c179e"
            ],
            [
             0.4444444444444444,
             "#bd3786"
            ],
            [
             0.5555555555555556,
             "#d8576b"
            ],
            [
             0.6666666666666666,
             "#ed7953"
            ],
            [
             0.7777777777777778,
             "#fb9f3a"
            ],
            [
             0.8888888888888888,
             "#fdca26"
            ],
            [
             1,
             "#f0f921"
            ]
           ],
           "sequentialminus": [
            [
             0,
             "#0d0887"
            ],
            [
             0.1111111111111111,
             "#46039f"
            ],
            [
             0.2222222222222222,
             "#7201a8"
            ],
            [
             0.3333333333333333,
             "#9c179e"
            ],
            [
             0.4444444444444444,
             "#bd3786"
            ],
            [
             0.5555555555555556,
             "#d8576b"
            ],
            [
             0.6666666666666666,
             "#ed7953"
            ],
            [
             0.7777777777777778,
             "#fb9f3a"
            ],
            [
             0.8888888888888888,
             "#fdca26"
            ],
            [
             1,
             "#f0f921"
            ]
           ]
          },
          "colorway": [
           "#636efa",
           "#EF553B",
           "#00cc96",
           "#ab63fa",
           "#FFA15A",
           "#19d3f3",
           "#FF6692",
           "#B6E880",
           "#FF97FF",
           "#FECB52"
          ],
          "font": {
           "color": "#2a3f5f"
          },
          "geo": {
           "bgcolor": "white",
           "lakecolor": "white",
           "landcolor": "#E5ECF6",
           "showlakes": true,
           "showland": true,
           "subunitcolor": "white"
          },
          "hoverlabel": {
           "align": "left"
          },
          "hovermode": "closest",
          "mapbox": {
           "style": "light"
          },
          "paper_bgcolor": "white",
          "plot_bgcolor": "#E5ECF6",
          "polar": {
           "angularaxis": {
            "gridcolor": "white",
            "linecolor": "white",
            "ticks": ""
           },
           "bgcolor": "#E5ECF6",
           "radialaxis": {
            "gridcolor": "white",
            "linecolor": "white",
            "ticks": ""
           }
          },
          "scene": {
           "xaxis": {
            "backgroundcolor": "#E5ECF6",
            "gridcolor": "white",
            "gridwidth": 2,
            "linecolor": "white",
            "showbackground": true,
            "ticks": "",
            "zerolinecolor": "white"
           },
           "yaxis": {
            "backgroundcolor": "#E5ECF6",
            "gridcolor": "white",
            "gridwidth": 2,
            "linecolor": "white",
            "showbackground": true,
            "ticks": "",
            "zerolinecolor": "white"
           },
           "zaxis": {
            "backgroundcolor": "#E5ECF6",
            "gridcolor": "white",
            "gridwidth": 2,
            "linecolor": "white",
            "showbackground": true,
            "ticks": "",
            "zerolinecolor": "white"
           }
          },
          "shapedefaults": {
           "line": {
            "color": "#2a3f5f"
           }
          },
          "ternary": {
           "aaxis": {
            "gridcolor": "white",
            "linecolor": "white",
            "ticks": ""
           },
           "baxis": {
            "gridcolor": "white",
            "linecolor": "white",
            "ticks": ""
           },
           "bgcolor": "#E5ECF6",
           "caxis": {
            "gridcolor": "white",
            "linecolor": "white",
            "ticks": ""
           }
          },
          "title": {
           "x": 0.05
          },
          "xaxis": {
           "automargin": true,
           "gridcolor": "white",
           "linecolor": "white",
           "ticks": "",
           "zerolinecolor": "white",
           "zerolinewidth": 2
          },
          "yaxis": {
           "automargin": true,
           "gridcolor": "white",
           "linecolor": "white",
           "ticks": "",
           "zerolinecolor": "white",
           "zerolinewidth": 2
          }
         }
        },
        "title": {
         "text": "Walker lake RBFN interpolation"
        },
        "width": 700,
        "xaxis": {
         "scaleanchor": "y",
         "title": {
          "text": "Easting (m)"
         },
         "zeroline": false
        },
        "yaxis": {
         "title": {
          "text": "Northing (m)"
         },
         "zeroline": false
        }
       }
      },
      "text/html": [
       "<div>\n",
       "        \n",
       "        \n",
       "            <div id=\"81395368-bab0-4e49-a5a2-8b43d2269338\" class=\"plotly-graph-div\" style=\"height:700px; width:700px;\"></div>\n",
       "            <script type=\"text/javascript\">\n",
       "                require([\"plotly\"], function(Plotly) {\n",
       "                    window.PLOTLYENV=window.PLOTLYENV || {};\n",
       "                    \n",
       "                if (document.getElementById(\"81395368-bab0-4e49-a5a2-8b43d2269338\")) {\n",
       "                    Plotly.newPlot(\n",
       "                        '81395368-bab0-4e49-a5a2-8b43d2269338',\n",
       "                        [{\"colorscale\": [[0.0, \"rgb(0,0,131)\"], [0.2, \"rgb(0,60,170)\"], [0.4, \"rgb(5,255,255)\"], [0.6, \"rgb(255,255,0)\"], [0.8, \"rgb(250,0,0)\"], [1.0, \"rgb(128,0,0)\"]], \"type\": \"heatmap\", \"x\": [8.0, 18.0, 28.0, 38.0, 48.0, 58.0, 68.0, 78.0, 88.0, 98.0, 108.0, 118.0, 128.0, 138.0, 148.0, 158.0, 168.0, 178.0, 188.0, 198.0, 208.0, 218.0, 228.0, 238.0, 248.0], \"xgap\": 0, \"y\": [8.0, 18.0, 28.0, 38.0, 48.0, 58.0, 68.0, 78.0, 88.0, 98.0, 108.0, 118.0, 128.0, 138.0, 148.0, 158.0, 168.0, 178.0, 188.0, 198.0, 208.0, 218.0, 228.0, 238.0, 248.0, 258.0, 268.0, 278.0, 288.0], \"ygap\": 0, \"z\": [[39.020023785991214, 82.90535220034131, 145.4618038655966, 212.80743057031282, 264.7653117006339, 289.1148331952767, 287.83932445784694, 268.56355057705616, 235.76903197009798, 195.14809234498813, 161.54995826505996, 153.62487701718737, 176.91266382980317, 213.9474007774035, 234.95520702451844, 222.7213200686612, 190.1869985543954, 175.09706829000334, 215.42397700548085, 320.7187446731676, 455.729772886934, 552.6580923637292, 554.2149238035219, 456.10965999994664, 307.51244619517826], [41.73514645084707, 87.33789457188799, 154.73473584762573, 232.77988681581135, 303.51377601157895, 354.7148459932945, 383.76182914514106, 388.3345479702767, 362.475559411088, 309.7377481705238, 254.90467464025937, 231.62153610142923, 253.48771892280638, 298.319986003728, 324.0310055861432, 304.47991802652865, 253.97385143803643, 219.48131083420085, 248.11246566876267, 352.4719400503191, 493.5734342022675, 596.3914365151853, 597.693167421364, 492.0068068976072, 331.9070972470426], [47.00670714279816, 84.88112347695875, 141.50339484411904, 213.7989915574068, 293.47596629245373, 372.5428041197839, 441.9941507261177, 483.8920039854328, 476.3111525982676, 417.35197261824464, 340.3907312032528, 294.2472787379335, 302.7958206630256, 343.768446211778, 368.12761564189583, 343.20902413850155, 281.4338929930272, 231.23504851877564, 241.19502224515992, 324.85427963780984, 446.1630838158163, 536.0274189375276, 536.4858392867642, 441.78831890309823, 298.42005008790875], [80.62140717610532, 108.74979502501475, 141.54295217464113, 187.29424855175108, 254.66602153555863, 345.89678941964405, 447.6734228370336, 526.1128185242853, 542.1242059980993, 485.33571088407757, 392.26285301494784, 321.70686891011474, 307.2222149586317, 332.12247038999885, 348.93164382652526, 323.4352201196716, 263.5997788390866, 211.03152396425423, 207.46569496760287, 264.226820649942, 352.2650657750228, 417.5217166426148, 415.4953921092301, 341.71433358705826, 231.2206317453094], [175.78537242459407, 204.78148871775917, 208.85678691927006, 207.5413425972735, 232.83988602568425, 305.3368382407412, 413.9364345591225, 513.574567360329, 550.3741183634447, 503.197662056571, 404.59050254524277, 315.7049376711599, 276.99270831000405, 280.979541107647, 288.41724011794145, 268.0310897540764, 222.90006083627475, 183.73480310594894, 180.76102347292993, 219.84124575367292, 277.7500288594085, 316.4241556276673, 307.2640667367452, 249.57299587474498, 168.3342620151206], [341.0644243772768, 389.2510734371744, 368.4750537043189, 306.64152867781917, 263.46240074761045, 286.02603491642884, 373.43833937591387, 475.3641490844739, 525.8896292238503, 491.7180294961467, 396.70096563849387, 299.3357032873739, 244.35438103424775, 233.3504403667024, 236.12429425449096, 225.36632982091177, 200.90592319989355, 184.66730065478868, 196.1174442161742, 232.98654112063033, 272.12843505341505, 286.01638721018634, 260.60583456305994, 202.71342891835522, 133.43222089977922], [528.8956565336722, 608.1183243273271, 572.0242274072127, 452.96073358624056, 337.06894077755464, 300.15904453918057, 355.5620324872881, 450.9990871745756, 509.9819153260846, 487.31674121151366, 398.48771232483944, 299.94613666765474, 240.22616442063278, 226.89419369267642, 233.9124869495314, 234.98380696296127, 228.94569382705677, 235.106933124295, 266.78794938695927, 312.0931589733593, 341.07652174775956, 329.7706978730025, 276.81210918911427, 200.68012584246281, 125.22225083586787], [647.0402771971052, 750.4956568330167, 710.7433156586931, 560.8123609321868, 402.6421661366217, 331.29380711054216, 370.4239879563658, 465.9394653683677, 532.4342391440831, 515.9547593814702, 428.59030169198047, 329.62754681988486, 272.83133971833297, 268.02265175061405, 286.6264429855002, 298.7443460682151, 303.46062412392064, 323.30656744730544, 370.7648607050208, 424.99997563998835, 445.5877476216622, 407.699621297402, 321.0319731459825, 217.63732868187896, 127.4575335775705], [623.197918321221, 727.8585583749244, 695.8099012176534, 557.6904228803292, 413.016818925865, 356.38564802192315, 411.115414018674, 520.2034147713193, 593.6041433193792, 575.1888473808963, 480.4732545439142, 376.2161340980295, 322.201703856883, 327.9153743666486, 358.45735276729926, 377.6910527281895, 384.61630814154574, 406.73042807614826, 458.7246540692667, 514.2343436898516, 524.6147571450435, 463.7974581486994, 349.7929213722565, 225.2173078409109, 124.6123508908116], [467.1876327240297, 550.3752978840405, 535.5855436711074, 448.81855953409325, 369.52471385185385, 371.45520222115744, 466.07053579334996, 593.4344789041813, 666.3350226572219, 635.5151482467546, 525.417230797394, 410.37010731227815, 353.42418154503844, 362.3667656417414, 397.51787169016006, 418.41433363411255, 423.00779061369457, 440.5175887500406, 486.917709891242, 534.8854121792803, 534.5934115191243, 461.5995387121066, 338.09617219678825, 209.93579336400143, 111.32813088694766], [264.60698105608003, 320.0638720679541, 329.5905416499535, 312.9284608004164, 320.44290731061835, 394.16208942159074, 527.6503569187081, 660.2302631220248, 716.1843411219741, 661.9215824764547, 533.0527973050399, 406.2461934416659, 341.2199790413897, 343.12074941830355, 373.02722836084865, 392.10534295071426, 397.1613915562002, 413.2980042862081, 453.18351893969066, 490.9291325160351, 482.57483973134435, 409.3024894441228, 294.2208739889705, 179.28428119587954, 93.5019326009533], [109.17637320322498, 149.58077347805505, 188.30785232904466, 237.10769388061635, 318.1249526381771, 443.3368873624815, 590.6939478460431, 703.3006883124217, 723.6594903575749, 638.7503025601278, 493.7815229298526, 360.2200618699525, 287.21321427293657, 276.46044812874817, 295.5740674179848, 313.94742972460574, 328.577425379087, 355.7941174824689, 399.16626226406134, 432.42944437936524, 420.0125474656239, 351.6097500236782, 251.13014578284384, 154.1644602752308, 82.73189936092955], [44.04946479189222, 91.25544462310702, 162.62375517529358, 259.1984683679169, 380.78858869415853, 519.3283116822704, 646.4438469527954, 715.3876295003545, 689.5967901421815, 575.1884826266197, 421.9864327612578, 290.22872611957416, 214.5707901766192, 193.1108317523137, 202.87970790995806, 225.0798330232604, 258.7432641619292, 310.296716252657, 370.5944245185549, 408.86319794098597, 395.59993918353996, 329.5028958733175, 237.5361676171379, 151.1823686013994, 86.95690904270307], [57.85109669466422, 131.52849364175069, 237.73239732341997, 363.1589709624891, 491.1115447463338, 605.6179402111645, 684.1996259128576, 696.9005652358243, 626.7566459220375, 492.1620995606868, 340.8233504763342, 219.09447766227274, 147.81149965202206, 122.25251684796233, 128.1966150080924, 157.81643154861672, 212.97618871407315, 292.2801703046341, 374.80235182871263, 423.3626500068436, 411.1006041077533, 343.8179733034613, 252.66945148819, 167.93020143028332, 103.100370309971], [116.42988928617206, 228.37154045913152, 369.93400304241044, 510.35685182413545, 620.6483139133499, 686.8591373308407, 702.456027553887, 658.426698349253, 553.4615658828193, 410.05394827847476, 268.3082011952527, 161.25012216182682, 99.3867601765111, 76.27608988792453, 83.40774685224002, 119.71896982923641, 188.74635802440793, 284.6295643137636, 380.124328920293, 435.1235102110573, 424.71689221225733, 358.4394148696322, 268.9471646513067, 185.0697796449634, 118.54384748782604], [188.46968508259087, 341.40743774184887, 516.1618107795684, 664.1205545592694, 747.3978415935701, 759.413498978942, 713.1926560477564, 620.022705611979, 489.7930259545034, 344.1503955218722, 214.0428937167497, 121.85589770710406, 71.44106654507621, 55.1426674257862, 66.37308000919029, 105.42004438568095, 174.72539793250007, 266.74760281686264, 355.51030084059596, 405.74745717587086, 397.1647479117071, 339.4396820449645, 260.8645361387186, 185.29692960409872, 122.41086354699613], [249.76643064225001, 436.43935052271905, 637.4216405383108, 790.334692194169, 851.7579989913216, 821.957027367552, 728.8576707618096, 598.5098771491655, 448.99630471385535, 301.5400195115941, 180.7159271411196, 101.7039680174096, 63.904480866954344, 57.9557642206774, 75.86994603771369, 114.69304219058213, 172.77881355825744, 242.4171901332447, 305.45408317299245, 339.42560176824975, 332.32484226593414, 290.97180952461343, 233.02205061687056, 173.06048112203507, 118.18103411224708], [280.5193466777232, 483.06688332365206, 696.4015511717342, 853.0689760713153, 907.6060102399434, 861.3760058503373, 745.9445673735861, 593.630064075699, 429.7090017018859, 279.46306347262646, 166.29167460252572, 101.15149832634629, 79.37910380587218, 88.45540343585938, 116.61274721530683, 155.23326330745084, 197.2228614426559, 235.73144439874537, 264.2342363907695, 277.64830745431595, 274.03832627563827, 254.62848732720815, 221.45764455032082, 176.76937807994875, 125.79778409943344], [270.34437754329707, 464.3565870304215, 670.5065936827567, 826.9298117537003, 889.7668575519269, 854.3485150294296, 743.4664258073601, 587.2161708838172, 417.5740512176801, 268.4715026917199, 166.79332084286884, 121.18217721505569, 121.96886516013136, 151.20183700277306, 191.75640014488707, 229.7287593829755, 254.55710578332045, 262.48339620051445, 259.9955618631263, 259.4091888857312, 267.1384486956616, 275.3207434154851, 266.49139274942866, 228.9782878506883, 168.52254638168714], [226.1682581597179, 390.23609983127216, 570.0175729598992, 717.2323571536535, 793.1600627158527, 783.9324168361123, 696.9492964047079, 554.7207137816221, 393.8187688310239, 257.31851684104396, 177.06731745658772, 160.05259128543975, 190.25432945614472, 241.77529304182377, 291.30239515634173, 322.69728422968046, 327.5961901583731, 309.5471371373759, 287.79854739847445, 288.00747105097065, 319.9282758331528, 362.60973379772463, 376.67248875037853, 336.4843541689151, 251.34545690918824], [170.05186314979656, 294.7907251597458, 436.7171629434078, 563.0455880327429, 642.8125275097345, 656.1712079994629, 597.699596678036, 481.85492902466166, 345.72244439687626, 236.62361721954568, 188.74869363406222, 206.98535386974606, 268.46863817819417, 338.21049392901944, 387.20287529619577, 401.4871975069702, 381.7475034871366, 343.0655299055743, 315.2866778621804, 330.56119435984743, 395.8961309459914, 475.5378942459353, 510.0080349196701, 462.26949035233315, 346.98316280477593], [127.51701237889574, 218.25238900226714, 322.7507036713238, 419.85875830366786, 487.14732247899514, 505.72927852493956, 466.1156972821474, 378.2733949083641, 275.71932189280585, 202.6040392756373, 190.40704994044313, 241.00599265991391, 326.22412041209947, 404.1284198990834, 442.5191175251512, 432.94246072788985, 388.4000652992694, 335.82069916872723, 310.87819664440553, 344.8273710956296, 438.19829290992146, 544.3948873743614, 592.516500060651, 540.1206189032092, 406.1184434065073], [117.73322687272876, 191.26687526009437, 270.31585753481323, 338.62702539632295, 380.94051641184575, 385.23629959888393, 346.83812214395675, 276.30547588521335, 202.02350296004786, 159.58111259364307, 173.28976469510843, 241.46082070906488, 334.2231952252971, 408.33766959519187, 432.53119630278184, 404.02823315454253, 344.6482400956328, 287.49647004109096, 267.4773823581891, 309.83705619240703, 409.5166650072343, 518.6485426691385, 568.6622801283529, 519.677814132855, 391.01130473672396], [148.63681500610264, 226.8606313065514, 299.31132769962727, 347.92789091217384, 361.8020937864041, 338.19011916995777, 282.46992379840066, 210.2839190431307, 146.57622450457458, 117.40019329566672, 138.06654169295146, 203.43729428263828, 286.0447402789263, 347.9274643381569, 362.6947236967251, 330.423197903648, 273.32737922101967, 221.634440734766, 203.66245063165167, 237.46943824531346, 316.91376983809187, 403.35507251120276, 443.0187804573432, 405.01961159914066, 304.71064814897284], [211.41570217160205, 312.2738301548755, 395.2998513048446, 436.07103211473, 425.1750530200437, 368.58340619470545, 282.96395134460244, 191.60752183232225, 119.18970043076699, 84.60023346311812, 94.96362738244555, 142.29990326667988, 204.07920185341536, 251.70982114083802, 265.60737757875273, 245.11205287513232, 204.9791112245913, 165.42505580094098, 145.60817931967327, 158.4088425999302, 201.31736548033123, 250.82350535792506, 273.3122000452968, 249.08415874332846, 187.09532333742075], [277.32550734499847, 404.8488000550617, 504.52844974315303, 544.9210911407629, 516.5599400342427, 431.85882792511524, 316.6241832986749, 201.23013259878857, 111.8345966336146, 63.133520781695665, 56.395992235423826, 81.80604934462131, 122.13263425294832, 158.39493833146554, 177.33365308280125, 175.5210931333045, 157.27169697335637, 130.98259224131692, 107.5972850765314, 97.63430980122203, 104.23897853897057, 118.4572416800359, 124.42760653644673, 111.7965842077751, 83.42617308888657], [308.94558072069475, 449.16856976818343, 556.6831665888117, 596.7730285723843, 560.0875878920087, 462.1614667235552, 332.96973330850443, 205.8524676238398, 107.13575052984802, 48.922483290934004, 29.305341705828486, 38.103751615628894, 62.596596198806395, 91.18182070823032, 115.21759041618645, 128.78129840503206, 127.87055856316601, 111.96184345813951, 86.51293209049325, 61.23760446005787, 43.74343725233283, 34.81021675858232, 29.92364998950543, 24.542301044517885, 17.521119926530716], [284.92038608068214, 413.50868028775403, 511.2625643891302, 546.3439663202064, 510.6817401844647, 419.27102670937137, 300.08199362278503, 183.46169094386156, 92.51625156620089, 36.854062092838205, 13.61849166269762, 13.91465796360474, 28.74689868179033, 51.32746753571368, 76.0585346915263, 96.24725675625928, 104.10030007587824, 94.83291502399733, 70.99532127864667, 41.355431003028976, 15.039118218182859, -2.9909545988211654, -12.083800386553218, -13.998699025643306, -11.499066291194657], [215.87690408005253, 312.96813838788967, 386.37893706846035, 412.0892942242397, 384.28178883951904, 314.6413638007427, 224.46011201406571, 136.48754982775074, 67.73918797500451, 24.975205808011058, 5.748636269106696, 3.5872777975585386, 12.667063693619179, 29.183965594654516, 49.62422845911634, 68.28725581122826, 77.58599109830794, 72.26953939799174, 53.55975945211027, 28.386832019182933, 4.6636176501415605, -12.406174296954713, -20.90738303967182, -21.540109962980885, -16.988637858546628]]}, {\"marker\": {\"color\": [0.0, 0.0, 0.0, 0.0, 0.0, 0.0, 0.0, 0.0, 0.0, 0.0, 0.0, 0.0, 0.0, 0.0, 0.0, 0.0, 0.0, 0.0, 0.0, 0.0, 0.0, 0.0, 0.0, 0.0, 0.0, 0.0, 0.0, 0.0, 0.0, 0.0], \"colorscale\": [[0.0, \"rgb(0,0,131)\"], [0.2, \"rgb(0,60,170)\"], [0.4, \"rgb(5,255,255)\"], [0.6, \"rgb(255,255,0)\"], [0.8, \"rgb(250,0,0)\"], [1.0, \"rgb(128,0,0)\"]], \"line\": {\"color\": \"black\", \"width\": 1}, \"size\": 6}, \"mode\": \"markers\", \"text\": [39.020023785991214, 82.90535220034131, 145.4618038655966, 212.80743057031282, 264.7653117006339, 289.1148331952767, 287.83932445784694, 268.56355057705616, 235.76903197009798, 195.14809234498813, 161.54995826505996, 153.62487701718737, 176.91266382980317, 213.9474007774035, 234.95520702451844, 222.7213200686612, 190.1869985543954, 175.09706829000334, 215.42397700548085, 320.7187446731676, 455.729772886934, 552.6580923637292, 554.2149238035219, 456.10965999994664, 307.51244619517826, 41.73514645084707, 87.33789457188799, 154.73473584762573, 232.77988681581135, 303.51377601157895, 354.7148459932945, 383.76182914514106, 388.3345479702767, 362.475559411088, 309.7377481705238, 254.90467464025937, 231.62153610142923, 253.48771892280638, 298.319986003728, 324.0310055861432, 304.47991802652865, 253.97385143803643, 219.48131083420085, 248.11246566876267, 352.4719400503191, 493.5734342022675, 596.3914365151853, 597.693167421364, 492.0068068976072, 331.9070972470426, 47.00670714279816, 84.88112347695875, 141.50339484411904, 213.7989915574068, 293.47596629245373, 372.5428041197839, 441.9941507261177, 483.8920039854328, 476.3111525982676, 417.35197261824464, 340.3907312032528, 294.2472787379335, 302.7958206630256, 343.768446211778, 368.12761564189583, 343.20902413850155, 281.4338929930272, 231.23504851877564, 241.19502224515992, 324.85427963780984, 446.1630838158163, 536.0274189375276, 536.4858392867642, 441.78831890309823, 298.42005008790875, 80.62140717610532, 108.74979502501475, 141.54295217464113, 187.29424855175108, 254.66602153555863, 345.89678941964405, 447.6734228370336, 526.1128185242853, 542.1242059980993, 485.33571088407757, 392.26285301494784, 321.70686891011474, 307.2222149586317, 332.12247038999885, 348.93164382652526, 323.4352201196716, 263.5997788390866, 211.03152396425423, 207.46569496760287, 264.226820649942, 352.2650657750228, 417.5217166426148, 415.4953921092301, 341.71433358705826, 231.2206317453094, 175.78537242459407, 204.78148871775917, 208.85678691927006, 207.5413425972735, 232.83988602568425, 305.3368382407412, 413.9364345591225, 513.574567360329, 550.3741183634447, 503.197662056571, 404.59050254524277, 315.7049376711599, 276.99270831000405, 280.979541107647, 288.41724011794145, 268.0310897540764, 222.90006083627475, 183.73480310594894, 180.76102347292993, 219.84124575367292, 277.7500288594085, 316.4241556276673, 307.2640667367452, 249.57299587474498, 168.3342620151206, 341.0644243772768, 389.2510734371744, 368.4750537043189, 306.64152867781917, 263.46240074761045, 286.02603491642884, 373.43833937591387, 475.3641490844739, 525.8896292238503, 491.7180294961467, 396.70096563849387, 299.3357032873739, 244.35438103424775, 233.3504403667024, 236.12429425449096, 225.36632982091177, 200.90592319989355, 184.66730065478868, 196.1174442161742, 232.98654112063033, 272.12843505341505, 286.01638721018634, 260.60583456305994, 202.71342891835522, 133.43222089977922, 528.8956565336722, 608.1183243273271, 572.0242274072127, 452.96073358624056, 337.06894077755464, 300.15904453918057, 355.5620324872881, 450.9990871745756, 509.9819153260846, 487.31674121151366, 398.48771232483944, 299.94613666765474, 240.22616442063278, 226.89419369267642, 233.9124869495314, 234.98380696296127, 228.94569382705677, 235.106933124295, 266.78794938695927, 312.0931589733593, 341.07652174775956, 329.7706978730025, 276.81210918911427, 200.68012584246281, 125.22225083586787, 647.0402771971052, 750.4956568330167, 710.7433156586931, 560.8123609321868, 402.6421661366217, 331.29380711054216, 370.4239879563658, 465.9394653683677, 532.4342391440831, 515.9547593814702, 428.59030169198047, 329.62754681988486, 272.83133971833297, 268.02265175061405, 286.6264429855002, 298.7443460682151, 303.46062412392064, 323.30656744730544, 370.7648607050208, 424.99997563998835, 445.5877476216622, 407.699621297402, 321.0319731459825, 217.63732868187896, 127.4575335775705, 623.197918321221, 727.8585583749244, 695.8099012176534, 557.6904228803292, 413.016818925865, 356.38564802192315, 411.115414018674, 520.2034147713193, 593.6041433193792, 575.1888473808963, 480.4732545439142, 376.2161340980295, 322.201703856883, 327.9153743666486, 358.45735276729926, 377.6910527281895, 384.61630814154574, 406.73042807614826, 458.7246540692667, 514.2343436898516, 524.6147571450435, 463.7974581486994, 349.7929213722565, 225.2173078409109, 124.6123508908116, 467.1876327240297, 550.3752978840405, 535.5855436711074, 448.81855953409325, 369.52471385185385, 371.45520222115744, 466.07053579334996, 593.4344789041813, 666.3350226572219, 635.5151482467546, 525.417230797394, 410.37010731227815, 353.42418154503844, 362.3667656417414, 397.51787169016006, 418.41433363411255, 423.00779061369457, 440.5175887500406, 486.917709891242, 534.8854121792803, 534.5934115191243, 461.5995387121066, 338.09617219678825, 209.93579336400143, 111.32813088694766, 264.60698105608003, 320.0638720679541, 329.5905416499535, 312.9284608004164, 320.44290731061835, 394.16208942159074, 527.6503569187081, 660.2302631220248, 716.1843411219741, 661.9215824764547, 533.0527973050399, 406.2461934416659, 341.2199790413897, 343.12074941830355, 373.02722836084865, 392.10534295071426, 397.1613915562002, 413.2980042862081, 453.18351893969066, 490.9291325160351, 482.57483973134435, 409.3024894441228, 294.2208739889705, 179.28428119587954, 93.5019326009533, 109.17637320322498, 149.58077347805505, 188.30785232904466, 237.10769388061635, 318.1249526381771, 443.3368873624815, 590.6939478460431, 703.3006883124217, 723.6594903575749, 638.7503025601278, 493.7815229298526, 360.2200618699525, 287.21321427293657, 276.46044812874817, 295.5740674179848, 313.94742972460574, 328.577425379087, 355.7941174824689, 399.16626226406134, 432.42944437936524, 420.0125474656239, 351.6097500236782, 251.13014578284384, 154.1644602752308, 82.73189936092955, 44.04946479189222, 91.25544462310702, 162.62375517529358, 259.1984683679169, 380.78858869415853, 519.3283116822704, 646.4438469527954, 715.3876295003545, 689.5967901421815, 575.1884826266197, 421.9864327612578, 290.22872611957416, 214.5707901766192, 193.1108317523137, 202.87970790995806, 225.0798330232604, 258.7432641619292, 310.296716252657, 370.5944245185549, 408.86319794098597, 395.59993918353996, 329.5028958733175, 237.5361676171379, 151.1823686013994, 86.95690904270307, 57.85109669466422, 131.52849364175069, 237.73239732341997, 363.1589709624891, 491.1115447463338, 605.6179402111645, 684.1996259128576, 696.9005652358243, 626.7566459220375, 492.1620995606868, 340.8233504763342, 219.09447766227274, 147.81149965202206, 122.25251684796233, 128.1966150080924, 157.81643154861672, 212.97618871407315, 292.2801703046341, 374.80235182871263, 423.3626500068436, 411.1006041077533, 343.8179733034613, 252.66945148819, 167.93020143028332, 103.100370309971, 116.42988928617206, 228.37154045913152, 369.93400304241044, 510.35685182413545, 620.6483139133499, 686.8591373308407, 702.456027553887, 658.426698349253, 553.4615658828193, 410.05394827847476, 268.3082011952527, 161.25012216182682, 99.3867601765111, 76.27608988792453, 83.40774685224002, 119.71896982923641, 188.74635802440793, 284.6295643137636, 380.124328920293, 435.1235102110573, 424.71689221225733, 358.4394148696322, 268.9471646513067, 185.0697796449634, 118.54384748782604, 188.46968508259087, 341.40743774184887, 516.1618107795684, 664.1205545592694, 747.3978415935701, 759.413498978942, 713.1926560477564, 620.022705611979, 489.7930259545034, 344.1503955218722, 214.0428937167497, 121.85589770710406, 71.44106654507621, 55.1426674257862, 66.37308000919029, 105.42004438568095, 174.72539793250007, 266.74760281686264, 355.51030084059596, 405.74745717587086, 397.1647479117071, 339.4396820449645, 260.8645361387186, 185.29692960409872, 122.41086354699613, 249.76643064225001, 436.43935052271905, 637.4216405383108, 790.334692194169, 851.7579989913216, 821.957027367552, 728.8576707618096, 598.5098771491655, 448.99630471385535, 301.5400195115941, 180.7159271411196, 101.7039680174096, 63.904480866954344, 57.9557642206774, 75.86994603771369, 114.69304219058213, 172.77881355825744, 242.4171901332447, 305.45408317299245, 339.42560176824975, 332.32484226593414, 290.97180952461343, 233.02205061687056, 173.06048112203507, 118.18103411224708, 280.5193466777232, 483.06688332365206, 696.4015511717342, 853.0689760713153, 907.6060102399434, 861.3760058503373, 745.9445673735861, 593.630064075699, 429.7090017018859, 279.46306347262646, 166.29167460252572, 101.15149832634629, 79.37910380587218, 88.45540343585938, 116.61274721530683, 155.23326330745084, 197.2228614426559, 235.73144439874537, 264.2342363907695, 277.64830745431595, 274.03832627563827, 254.62848732720815, 221.45764455032082, 176.76937807994875, 125.79778409943344, 270.34437754329707, 464.3565870304215, 670.5065936827567, 826.9298117537003, 889.7668575519269, 854.3485150294296, 743.4664258073601, 587.2161708838172, 417.5740512176801, 268.4715026917199, 166.79332084286884, 121.18217721505569, 121.96886516013136, 151.20183700277306, 191.75640014488707, 229.7287593829755, 254.55710578332045, 262.48339620051445, 259.9955618631263, 259.4091888857312, 267.1384486956616, 275.3207434154851, 266.49139274942866, 228.9782878506883, 168.52254638168714, 226.1682581597179, 390.23609983127216, 570.0175729598992, 717.2323571536535, 793.1600627158527, 783.9324168361123, 696.9492964047079, 554.7207137816221, 393.8187688310239, 257.31851684104396, 177.06731745658772, 160.05259128543975, 190.25432945614472, 241.77529304182377, 291.30239515634173, 322.69728422968046, 327.5961901583731, 309.5471371373759, 287.79854739847445, 288.00747105097065, 319.9282758331528, 362.60973379772463, 376.67248875037853, 336.4843541689151, 251.34545690918824, 170.05186314979656, 294.7907251597458, 436.7171629434078, 563.0455880327429, 642.8125275097345, 656.1712079994629, 597.699596678036, 481.85492902466166, 345.72244439687626, 236.62361721954568, 188.74869363406222, 206.98535386974606, 268.46863817819417, 338.21049392901944, 387.20287529619577, 401.4871975069702, 381.7475034871366, 343.0655299055743, 315.2866778621804, 330.56119435984743, 395.8961309459914, 475.5378942459353, 510.0080349196701, 462.26949035233315, 346.98316280477593, 127.51701237889574, 218.25238900226714, 322.7507036713238, 419.85875830366786, 487.14732247899514, 505.72927852493956, 466.1156972821474, 378.2733949083641, 275.71932189280585, 202.6040392756373, 190.40704994044313, 241.00599265991391, 326.22412041209947, 404.1284198990834, 442.5191175251512, 432.94246072788985, 388.4000652992694, 335.82069916872723, 310.87819664440553, 344.8273710956296, 438.19829290992146, 544.3948873743614, 592.516500060651, 540.1206189032092, 406.1184434065073, 117.73322687272876, 191.26687526009437, 270.31585753481323, 338.62702539632295, 380.94051641184575, 385.23629959888393, 346.83812214395675, 276.30547588521335, 202.02350296004786, 159.58111259364307, 173.28976469510843, 241.46082070906488, 334.2231952252971, 408.33766959519187, 432.53119630278184, 404.02823315454253, 344.6482400956328, 287.49647004109096, 267.4773823581891, 309.83705619240703, 409.5166650072343, 518.6485426691385, 568.6622801283529, 519.677814132855, 391.01130473672396, 148.63681500610264, 226.8606313065514, 299.31132769962727, 347.92789091217384, 361.8020937864041, 338.19011916995777, 282.46992379840066, 210.2839190431307, 146.57622450457458, 117.40019329566672, 138.06654169295146, 203.43729428263828, 286.0447402789263, 347.9274643381569, 362.6947236967251, 330.423197903648, 273.32737922101967, 221.634440734766, 203.66245063165167, 237.46943824531346, 316.91376983809187, 403.35507251120276, 443.0187804573432, 405.01961159914066, 304.71064814897284, 211.41570217160205, 312.2738301548755, 395.2998513048446, 436.07103211473, 425.1750530200437, 368.58340619470545, 282.96395134460244, 191.60752183232225, 119.18970043076699, 84.60023346311812, 94.96362738244555, 142.29990326667988, 204.07920185341536, 251.70982114083802, 265.60737757875273, 245.11205287513232, 204.9791112245913, 165.42505580094098, 145.60817931967327, 158.4088425999302, 201.31736548033123, 250.82350535792506, 273.3122000452968, 249.08415874332846, 187.09532333742075, 277.32550734499847, 404.8488000550617, 504.52844974315303, 544.9210911407629, 516.5599400342427, 431.85882792511524, 316.6241832986749, 201.23013259878857, 111.8345966336146, 63.133520781695665, 56.395992235423826, 81.80604934462131, 122.13263425294832, 158.39493833146554, 177.33365308280125, 175.5210931333045, 157.27169697335637, 130.98259224131692, 107.5972850765314, 97.63430980122203, 104.23897853897057, 118.4572416800359, 124.42760653644673, 111.7965842077751, 83.42617308888657, 308.94558072069475, 449.16856976818343, 556.6831665888117, 596.7730285723843, 560.0875878920087, 462.1614667235552, 332.96973330850443, 205.8524676238398, 107.13575052984802, 48.922483290934004, 29.305341705828486, 38.103751615628894, 62.596596198806395, 91.18182070823032, 115.21759041618645, 128.78129840503206, 127.87055856316601, 111.96184345813951, 86.51293209049325, 61.23760446005787, 43.74343725233283, 34.81021675858232, 29.92364998950543, 24.542301044517885, 17.521119926530716, 284.92038608068214, 413.50868028775403, 511.2625643891302, 546.3439663202064, 510.6817401844647, 419.27102670937137, 300.08199362278503, 183.46169094386156, 92.51625156620089, 36.854062092838205, 13.61849166269762, 13.91465796360474, 28.74689868179033, 51.32746753571368, 76.0585346915263, 96.24725675625928, 104.10030007587824, 94.83291502399733, 70.99532127864667, 41.355431003028976, 15.039118218182859, -2.9909545988211654, -12.083800386553218, -13.998699025643306, -11.499066291194657, 215.87690408005253, 312.96813838788967, 386.37893706846035, 412.0892942242397, 384.28178883951904, 314.6413638007427, 224.46011201406571, 136.48754982775074, 67.73918797500451, 24.975205808011058, 5.748636269106696, 3.5872777975585386, 12.667063693619179, 29.183965594654516, 49.62422845911634, 68.28725581122826, 77.58599109830794, 72.26953939799174, 53.55975945211027, 28.386832019182933, 4.6636176501415605, -12.406174296954713, -20.90738303967182, -21.540109962980885, -16.988637858546628], \"type\": \"scatter\", \"x\": [92.0625, 199.35294117647058, 37.88888888888887, 140.22222222222223, 223.27777777777777, 229.55555555555554, 28.09090909090908, 153.6, 76.83999999999997, 21.714285714285708, 205.3157894736842, 49.06249999999998, 149.55555555555554, 21.499999999999986, 117.125, 35.999999999999986, 170.55555555555554, 228.90909090909093, 106.5, 45.842105263157876, 236.11111111111111, 86.26923076923075, 171.25, 31.571428571428555, 91.27999999999999, 78.69999999999999, 54.99999999999998, 66.26315789473682, 50.235294117647044, 229.09090909090907], \"y\": [68.06249999999999, 150.1764705882353, 181.5, 226.66666666666666, 16.388888888888886, 269.66666666666663, 269.27272727272725, 99.5, 134.64, 81.64285714285712, 93.94736842105262, 17.312499999999986, 28.88888888888887, 113.33333333333333, 135.875, 215.4375, 206.27777777777777, 221.7272727272727, 271.375, 152.73684210526315, 155.22222222222223, 37.34615384615384, 272.5, 58.071428571428555, 103.59999999999998, 172.54999999999998, 268.625, 204.42105263157893, 91.11764705882351, 70.63636363636361]}],\n",
       "                        {\"height\": 700, \"template\": {\"data\": {\"bar\": [{\"error_x\": {\"color\": \"#2a3f5f\"}, \"error_y\": {\"color\": \"#2a3f5f\"}, \"marker\": {\"line\": {\"color\": \"#E5ECF6\", \"width\": 0.5}}, \"type\": \"bar\"}], \"barpolar\": [{\"marker\": {\"line\": {\"color\": \"#E5ECF6\", \"width\": 0.5}}, \"type\": \"barpolar\"}], \"carpet\": [{\"aaxis\": {\"endlinecolor\": \"#2a3f5f\", \"gridcolor\": \"white\", \"linecolor\": \"white\", \"minorgridcolor\": \"white\", \"startlinecolor\": \"#2a3f5f\"}, \"baxis\": {\"endlinecolor\": \"#2a3f5f\", \"gridcolor\": \"white\", \"linecolor\": \"white\", \"minorgridcolor\": \"white\", \"startlinecolor\": \"#2a3f5f\"}, \"type\": \"carpet\"}], \"choropleth\": [{\"colorbar\": {\"outlinewidth\": 0, \"ticks\": \"\"}, \"type\": \"choropleth\"}], \"contour\": [{\"colorbar\": {\"outlinewidth\": 0, \"ticks\": \"\"}, \"colorscale\": [[0.0, \"#0d0887\"], [0.1111111111111111, \"#46039f\"], [0.2222222222222222, \"#7201a8\"], [0.3333333333333333, \"#9c179e\"], [0.4444444444444444, \"#bd3786\"], [0.5555555555555556, \"#d8576b\"], [0.6666666666666666, \"#ed7953\"], [0.7777777777777778, \"#fb9f3a\"], [0.8888888888888888, \"#fdca26\"], [1.0, \"#f0f921\"]], \"type\": \"contour\"}], \"contourcarpet\": [{\"colorbar\": {\"outlinewidth\": 0, \"ticks\": \"\"}, \"type\": \"contourcarpet\"}], \"heatmap\": [{\"colorbar\": {\"outlinewidth\": 0, \"ticks\": \"\"}, \"colorscale\": [[0.0, \"#0d0887\"], [0.1111111111111111, \"#46039f\"], [0.2222222222222222, \"#7201a8\"], [0.3333333333333333, \"#9c179e\"], [0.4444444444444444, \"#bd3786\"], [0.5555555555555556, \"#d8576b\"], [0.6666666666666666, \"#ed7953\"], [0.7777777777777778, \"#fb9f3a\"], [0.8888888888888888, \"#fdca26\"], [1.0, \"#f0f921\"]], \"type\": \"heatmap\"}], \"heatmapgl\": [{\"colorbar\": {\"outlinewidth\": 0, \"ticks\": \"\"}, \"colorscale\": [[0.0, \"#0d0887\"], [0.1111111111111111, \"#46039f\"], [0.2222222222222222, \"#7201a8\"], [0.3333333333333333, \"#9c179e\"], [0.4444444444444444, \"#bd3786\"], [0.5555555555555556, \"#d8576b\"], [0.6666666666666666, \"#ed7953\"], [0.7777777777777778, \"#fb9f3a\"], [0.8888888888888888, \"#fdca26\"], [1.0, \"#f0f921\"]], \"type\": \"heatmapgl\"}], \"histogram\": [{\"marker\": {\"colorbar\": {\"outlinewidth\": 0, \"ticks\": \"\"}}, \"type\": \"histogram\"}], \"histogram2d\": [{\"colorbar\": {\"outlinewidth\": 0, \"ticks\": \"\"}, \"colorscale\": [[0.0, \"#0d0887\"], [0.1111111111111111, \"#46039f\"], [0.2222222222222222, \"#7201a8\"], [0.3333333333333333, \"#9c179e\"], [0.4444444444444444, \"#bd3786\"], [0.5555555555555556, \"#d8576b\"], [0.6666666666666666, \"#ed7953\"], [0.7777777777777778, \"#fb9f3a\"], [0.8888888888888888, \"#fdca26\"], [1.0, \"#f0f921\"]], \"type\": \"histogram2d\"}], \"histogram2dcontour\": [{\"colorbar\": {\"outlinewidth\": 0, \"ticks\": \"\"}, \"colorscale\": [[0.0, \"#0d0887\"], [0.1111111111111111, \"#46039f\"], [0.2222222222222222, \"#7201a8\"], [0.3333333333333333, \"#9c179e\"], [0.4444444444444444, \"#bd3786\"], [0.5555555555555556, \"#d8576b\"], [0.6666666666666666, \"#ed7953\"], [0.7777777777777778, \"#fb9f3a\"], [0.8888888888888888, \"#fdca26\"], [1.0, \"#f0f921\"]], \"type\": \"histogram2dcontour\"}], \"mesh3d\": [{\"colorbar\": {\"outlinewidth\": 0, \"ticks\": \"\"}, \"type\": \"mesh3d\"}], \"parcoords\": [{\"line\": {\"colorbar\": {\"outlinewidth\": 0, \"ticks\": \"\"}}, \"type\": \"parcoords\"}], \"scatter\": [{\"marker\": {\"colorbar\": {\"outlinewidth\": 0, \"ticks\": \"\"}}, \"type\": \"scatter\"}], \"scatter3d\": [{\"line\": {\"colorbar\": {\"outlinewidth\": 0, \"ticks\": \"\"}}, \"marker\": {\"colorbar\": {\"outlinewidth\": 0, \"ticks\": \"\"}}, \"type\": \"scatter3d\"}], \"scattercarpet\": [{\"marker\": {\"colorbar\": {\"outlinewidth\": 0, \"ticks\": \"\"}}, \"type\": \"scattercarpet\"}], \"scattergeo\": [{\"marker\": {\"colorbar\": {\"outlinewidth\": 0, \"ticks\": \"\"}}, \"type\": \"scattergeo\"}], \"scattergl\": [{\"marker\": {\"colorbar\": {\"outlinewidth\": 0, \"ticks\": \"\"}}, \"type\": \"scattergl\"}], \"scattermapbox\": [{\"marker\": {\"colorbar\": {\"outlinewidth\": 0, \"ticks\": \"\"}}, \"type\": \"scattermapbox\"}], \"scatterpolar\": [{\"marker\": {\"colorbar\": {\"outlinewidth\": 0, \"ticks\": \"\"}}, \"type\": \"scatterpolar\"}], \"scatterpolargl\": [{\"marker\": {\"colorbar\": {\"outlinewidth\": 0, \"ticks\": \"\"}}, \"type\": \"scatterpolargl\"}], \"scatterternary\": [{\"marker\": {\"colorbar\": {\"outlinewidth\": 0, \"ticks\": \"\"}}, \"type\": \"scatterternary\"}], \"surface\": [{\"colorbar\": {\"outlinewidth\": 0, \"ticks\": \"\"}, \"colorscale\": [[0.0, \"#0d0887\"], [0.1111111111111111, \"#46039f\"], [0.2222222222222222, \"#7201a8\"], [0.3333333333333333, \"#9c179e\"], [0.4444444444444444, \"#bd3786\"], [0.5555555555555556, \"#d8576b\"], [0.6666666666666666, \"#ed7953\"], [0.7777777777777778, \"#fb9f3a\"], [0.8888888888888888, \"#fdca26\"], [1.0, \"#f0f921\"]], \"type\": \"surface\"}], \"table\": [{\"cells\": {\"fill\": {\"color\": \"#EBF0F8\"}, \"line\": {\"color\": \"white\"}}, \"header\": {\"fill\": {\"color\": \"#C8D4E3\"}, \"line\": {\"color\": \"white\"}}, \"type\": \"table\"}]}, \"layout\": {\"annotationdefaults\": {\"arrowcolor\": \"#2a3f5f\", \"arrowhead\": 0, \"arrowwidth\": 1}, \"colorscale\": {\"diverging\": [[0, \"#8e0152\"], [0.1, \"#c51b7d\"], [0.2, \"#de77ae\"], [0.3, \"#f1b6da\"], [0.4, \"#fde0ef\"], [0.5, \"#f7f7f7\"], [0.6, \"#e6f5d0\"], [0.7, \"#b8e186\"], [0.8, \"#7fbc41\"], [0.9, \"#4d9221\"], [1, \"#276419\"]], \"sequential\": [[0.0, \"#0d0887\"], [0.1111111111111111, \"#46039f\"], [0.2222222222222222, \"#7201a8\"], [0.3333333333333333, \"#9c179e\"], [0.4444444444444444, \"#bd3786\"], [0.5555555555555556, \"#d8576b\"], [0.6666666666666666, \"#ed7953\"], [0.7777777777777778, \"#fb9f3a\"], [0.8888888888888888, \"#fdca26\"], [1.0, \"#f0f921\"]], \"sequentialminus\": [[0.0, \"#0d0887\"], [0.1111111111111111, \"#46039f\"], [0.2222222222222222, \"#7201a8\"], [0.3333333333333333, \"#9c179e\"], [0.4444444444444444, \"#bd3786\"], [0.5555555555555556, \"#d8576b\"], [0.6666666666666666, \"#ed7953\"], [0.7777777777777778, \"#fb9f3a\"], [0.8888888888888888, \"#fdca26\"], [1.0, \"#f0f921\"]]}, \"colorway\": [\"#636efa\", \"#EF553B\", \"#00cc96\", \"#ab63fa\", \"#FFA15A\", \"#19d3f3\", \"#FF6692\", \"#B6E880\", \"#FF97FF\", \"#FECB52\"], \"font\": {\"color\": \"#2a3f5f\"}, \"geo\": {\"bgcolor\": \"white\", \"lakecolor\": \"white\", \"landcolor\": \"#E5ECF6\", \"showlakes\": true, \"showland\": true, \"subunitcolor\": \"white\"}, \"hoverlabel\": {\"align\": \"left\"}, \"hovermode\": \"closest\", \"mapbox\": {\"style\": \"light\"}, \"paper_bgcolor\": \"white\", \"plot_bgcolor\": \"#E5ECF6\", \"polar\": {\"angularaxis\": {\"gridcolor\": \"white\", \"linecolor\": \"white\", \"ticks\": \"\"}, \"bgcolor\": \"#E5ECF6\", \"radialaxis\": {\"gridcolor\": \"white\", \"linecolor\": \"white\", \"ticks\": \"\"}}, \"scene\": {\"xaxis\": {\"backgroundcolor\": \"#E5ECF6\", \"gridcolor\": \"white\", \"gridwidth\": 2, \"linecolor\": \"white\", \"showbackground\": true, \"ticks\": \"\", \"zerolinecolor\": \"white\"}, \"yaxis\": {\"backgroundcolor\": \"#E5ECF6\", \"gridcolor\": \"white\", \"gridwidth\": 2, \"linecolor\": \"white\", \"showbackground\": true, \"ticks\": \"\", \"zerolinecolor\": \"white\"}, \"zaxis\": {\"backgroundcolor\": \"#E5ECF6\", \"gridcolor\": \"white\", \"gridwidth\": 2, \"linecolor\": \"white\", \"showbackground\": true, \"ticks\": \"\", \"zerolinecolor\": \"white\"}}, \"shapedefaults\": {\"line\": {\"color\": \"#2a3f5f\"}}, \"ternary\": {\"aaxis\": {\"gridcolor\": \"white\", \"linecolor\": \"white\", \"ticks\": \"\"}, \"baxis\": {\"gridcolor\": \"white\", \"linecolor\": \"white\", \"ticks\": \"\"}, \"bgcolor\": \"#E5ECF6\", \"caxis\": {\"gridcolor\": \"white\", \"linecolor\": \"white\", \"ticks\": \"\"}}, \"title\": {\"x\": 0.05}, \"xaxis\": {\"automargin\": true, \"gridcolor\": \"white\", \"linecolor\": \"white\", \"ticks\": \"\", \"zerolinecolor\": \"white\", \"zerolinewidth\": 2}, \"yaxis\": {\"automargin\": true, \"gridcolor\": \"white\", \"linecolor\": \"white\", \"ticks\": \"\", \"zerolinecolor\": \"white\", \"zerolinewidth\": 2}}}, \"title\": {\"text\": \"Walker lake RBFN interpolation\"}, \"width\": 700, \"xaxis\": {\"scaleanchor\": \"y\", \"title\": {\"text\": \"Easting (m)\"}, \"zeroline\": false}, \"yaxis\": {\"title\": {\"text\": \"Northing (m)\"}, \"zeroline\": false}},\n",
       "                        {\"responsive\": true}\n",
       "                    ).then(function(){\n",
       "                            \n",
       "var gd = document.getElementById('81395368-bab0-4e49-a5a2-8b43d2269338');\n",
       "var x = new MutationObserver(function (mutations, observer) {{\n",
       "        var display = window.getComputedStyle(gd).display;\n",
       "        if (!display || display === 'none') {{\n",
       "            console.log([gd, 'removed!']);\n",
       "            Plotly.purge(gd);\n",
       "            observer.disconnect();\n",
       "        }}\n",
       "}});\n",
       "\n",
       "// Listen for the removal of the full notebook cells\n",
       "var notebookContainer = gd.closest('#notebook-container');\n",
       "if (notebookContainer) {{\n",
       "    x.observe(notebookContainer, {childList: true});\n",
       "}}\n",
       "\n",
       "// Listen for the clearing of the current output cell\n",
       "var outputEl = gd.closest('.output');\n",
       "if (outputEl) {{\n",
       "    x.observe(outputEl, {childList: true});\n",
       "}}\n",
       "\n",
       "                        })\n",
       "                };\n",
       "                });\n",
       "            </script>\n",
       "        </div>"
      ]
     },
     "metadata": {},
     "output_type": "display_data"
    }
   ],
   "source": [
    "pyLPM.plots.pixelplot(\n",
    "    grid_dic=grid,\n",
    "    variable=predict,\n",
    "    categorical=False,\n",
    "    points=[[x[0] for x in centers[:,0:1]], [y[0] for y in centers[:,1:2]], np.zeros(len(centers))],\n",
    "    gap=0,\n",
    "    title='Walker lake RBFN interpolation',\n",
    "    x_axis='Easting (m)',\n",
    "    y_axis='Northing (m)',\n",
    "    colorscale='Jet',\n",
    "    colorbartitle='',\n",
    "    figsize=(700, 700),)"
   ]
  },
  {
   "cell_type": "code",
   "execution_count": null,
   "metadata": {},
   "outputs": [],
   "source": []
  }
 ],
 "metadata": {
  "kernelspec": {
   "display_name": "Python 3",
   "language": "python",
   "name": "python3"
  },
  "language_info": {
   "codemirror_mode": {
    "name": "ipython",
    "version": 3
   },
   "file_extension": ".py",
   "mimetype": "text/x-python",
   "name": "python",
   "nbconvert_exporter": "python",
   "pygments_lexer": "ipython3",
   "version": "3.7.3"
  }
 },
 "nbformat": 4,
 "nbformat_minor": 2
}
