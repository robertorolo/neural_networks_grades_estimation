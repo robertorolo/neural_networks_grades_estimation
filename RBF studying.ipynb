{
 "cells": [
  {
   "cell_type": "code",
   "execution_count": 91,
   "metadata": {},
   "outputs": [],
   "source": [
    "import numpy as np\n",
    "import plotly.offline as pyo\n",
    "import plotly.graph_objs as go\n",
    "from scipy.spatial.distance import cdist"
   ]
  },
  {
   "cell_type": "code",
   "execution_count": 221,
   "metadata": {},
   "outputs": [],
   "source": [
    "c1 = [[0,0],10]\n",
    "c2 = [[8.,0],9]\n",
    "c3 = [[3.,0],15]"
   ]
  },
  {
   "cell_type": "code",
   "execution_count": 288,
   "metadata": {},
   "outputs": [],
   "source": [
    "gamma = 0.1"
   ]
  },
  {
   "cell_type": "code",
   "execution_count": 302,
   "metadata": {},
   "outputs": [
    {
     "data": {
      "application/vnd.plotly.v1+json": {
       "config": {
        "linkText": "Export to plot.ly",
        "plotlyServerURL": "https://plot.ly",
        "showLink": false
       },
       "data": [
        {
         "mode": "markers",
         "name": "observed points",
         "type": "scatter",
         "x": [
          0,
          8,
          3
         ],
         "y": [
          10,
          9,
          15
         ]
        }
       ],
       "layout": {
        "template": {
         "data": {
          "bar": [
           {
            "error_x": {
             "color": "#2a3f5f"
            },
            "error_y": {
             "color": "#2a3f5f"
            },
            "marker": {
             "line": {
              "color": "#E5ECF6",
              "width": 0.5
             }
            },
            "type": "bar"
           }
          ],
          "barpolar": [
           {
            "marker": {
             "line": {
              "color": "#E5ECF6",
              "width": 0.5
             }
            },
            "type": "barpolar"
           }
          ],
          "carpet": [
           {
            "aaxis": {
             "endlinecolor": "#2a3f5f",
             "gridcolor": "white",
             "linecolor": "white",
             "minorgridcolor": "white",
             "startlinecolor": "#2a3f5f"
            },
            "baxis": {
             "endlinecolor": "#2a3f5f",
             "gridcolor": "white",
             "linecolor": "white",
             "minorgridcolor": "white",
             "startlinecolor": "#2a3f5f"
            },
            "type": "carpet"
           }
          ],
          "choropleth": [
           {
            "colorbar": {
             "outlinewidth": 0,
             "ticks": ""
            },
            "type": "choropleth"
           }
          ],
          "contour": [
           {
            "colorbar": {
             "outlinewidth": 0,
             "ticks": ""
            },
            "colorscale": [
             [
              0,
              "#0d0887"
             ],
             [
              0.1111111111111111,
              "#46039f"
             ],
             [
              0.2222222222222222,
              "#7201a8"
             ],
             [
              0.3333333333333333,
              "#9c179e"
             ],
             [
              0.4444444444444444,
              "#bd3786"
             ],
             [
              0.5555555555555556,
              "#d8576b"
             ],
             [
              0.6666666666666666,
              "#ed7953"
             ],
             [
              0.7777777777777778,
              "#fb9f3a"
             ],
             [
              0.8888888888888888,
              "#fdca26"
             ],
             [
              1,
              "#f0f921"
             ]
            ],
            "type": "contour"
           }
          ],
          "contourcarpet": [
           {
            "colorbar": {
             "outlinewidth": 0,
             "ticks": ""
            },
            "type": "contourcarpet"
           }
          ],
          "heatmap": [
           {
            "colorbar": {
             "outlinewidth": 0,
             "ticks": ""
            },
            "colorscale": [
             [
              0,
              "#0d0887"
             ],
             [
              0.1111111111111111,
              "#46039f"
             ],
             [
              0.2222222222222222,
              "#7201a8"
             ],
             [
              0.3333333333333333,
              "#9c179e"
             ],
             [
              0.4444444444444444,
              "#bd3786"
             ],
             [
              0.5555555555555556,
              "#d8576b"
             ],
             [
              0.6666666666666666,
              "#ed7953"
             ],
             [
              0.7777777777777778,
              "#fb9f3a"
             ],
             [
              0.8888888888888888,
              "#fdca26"
             ],
             [
              1,
              "#f0f921"
             ]
            ],
            "type": "heatmap"
           }
          ],
          "heatmapgl": [
           {
            "colorbar": {
             "outlinewidth": 0,
             "ticks": ""
            },
            "colorscale": [
             [
              0,
              "#0d0887"
             ],
             [
              0.1111111111111111,
              "#46039f"
             ],
             [
              0.2222222222222222,
              "#7201a8"
             ],
             [
              0.3333333333333333,
              "#9c179e"
             ],
             [
              0.4444444444444444,
              "#bd3786"
             ],
             [
              0.5555555555555556,
              "#d8576b"
             ],
             [
              0.6666666666666666,
              "#ed7953"
             ],
             [
              0.7777777777777778,
              "#fb9f3a"
             ],
             [
              0.8888888888888888,
              "#fdca26"
             ],
             [
              1,
              "#f0f921"
             ]
            ],
            "type": "heatmapgl"
           }
          ],
          "histogram": [
           {
            "marker": {
             "colorbar": {
              "outlinewidth": 0,
              "ticks": ""
             }
            },
            "type": "histogram"
           }
          ],
          "histogram2d": [
           {
            "colorbar": {
             "outlinewidth": 0,
             "ticks": ""
            },
            "colorscale": [
             [
              0,
              "#0d0887"
             ],
             [
              0.1111111111111111,
              "#46039f"
             ],
             [
              0.2222222222222222,
              "#7201a8"
             ],
             [
              0.3333333333333333,
              "#9c179e"
             ],
             [
              0.4444444444444444,
              "#bd3786"
             ],
             [
              0.5555555555555556,
              "#d8576b"
             ],
             [
              0.6666666666666666,
              "#ed7953"
             ],
             [
              0.7777777777777778,
              "#fb9f3a"
             ],
             [
              0.8888888888888888,
              "#fdca26"
             ],
             [
              1,
              "#f0f921"
             ]
            ],
            "type": "histogram2d"
           }
          ],
          "histogram2dcontour": [
           {
            "colorbar": {
             "outlinewidth": 0,
             "ticks": ""
            },
            "colorscale": [
             [
              0,
              "#0d0887"
             ],
             [
              0.1111111111111111,
              "#46039f"
             ],
             [
              0.2222222222222222,
              "#7201a8"
             ],
             [
              0.3333333333333333,
              "#9c179e"
             ],
             [
              0.4444444444444444,
              "#bd3786"
             ],
             [
              0.5555555555555556,
              "#d8576b"
             ],
             [
              0.6666666666666666,
              "#ed7953"
             ],
             [
              0.7777777777777778,
              "#fb9f3a"
             ],
             [
              0.8888888888888888,
              "#fdca26"
             ],
             [
              1,
              "#f0f921"
             ]
            ],
            "type": "histogram2dcontour"
           }
          ],
          "mesh3d": [
           {
            "colorbar": {
             "outlinewidth": 0,
             "ticks": ""
            },
            "type": "mesh3d"
           }
          ],
          "parcoords": [
           {
            "line": {
             "colorbar": {
              "outlinewidth": 0,
              "ticks": ""
             }
            },
            "type": "parcoords"
           }
          ],
          "scatter": [
           {
            "marker": {
             "colorbar": {
              "outlinewidth": 0,
              "ticks": ""
             }
            },
            "type": "scatter"
           }
          ],
          "scatter3d": [
           {
            "line": {
             "colorbar": {
              "outlinewidth": 0,
              "ticks": ""
             }
            },
            "marker": {
             "colorbar": {
              "outlinewidth": 0,
              "ticks": ""
             }
            },
            "type": "scatter3d"
           }
          ],
          "scattercarpet": [
           {
            "marker": {
             "colorbar": {
              "outlinewidth": 0,
              "ticks": ""
             }
            },
            "type": "scattercarpet"
           }
          ],
          "scattergeo": [
           {
            "marker": {
             "colorbar": {
              "outlinewidth": 0,
              "ticks": ""
             }
            },
            "type": "scattergeo"
           }
          ],
          "scattergl": [
           {
            "marker": {
             "colorbar": {
              "outlinewidth": 0,
              "ticks": ""
             }
            },
            "type": "scattergl"
           }
          ],
          "scattermapbox": [
           {
            "marker": {
             "colorbar": {
              "outlinewidth": 0,
              "ticks": ""
             }
            },
            "type": "scattermapbox"
           }
          ],
          "scatterpolar": [
           {
            "marker": {
             "colorbar": {
              "outlinewidth": 0,
              "ticks": ""
             }
            },
            "type": "scatterpolar"
           }
          ],
          "scatterpolargl": [
           {
            "marker": {
             "colorbar": {
              "outlinewidth": 0,
              "ticks": ""
             }
            },
            "type": "scatterpolargl"
           }
          ],
          "scatterternary": [
           {
            "marker": {
             "colorbar": {
              "outlinewidth": 0,
              "ticks": ""
             }
            },
            "type": "scatterternary"
           }
          ],
          "surface": [
           {
            "colorbar": {
             "outlinewidth": 0,
             "ticks": ""
            },
            "colorscale": [
             [
              0,
              "#0d0887"
             ],
             [
              0.1111111111111111,
              "#46039f"
             ],
             [
              0.2222222222222222,
              "#7201a8"
             ],
             [
              0.3333333333333333,
              "#9c179e"
             ],
             [
              0.4444444444444444,
              "#bd3786"
             ],
             [
              0.5555555555555556,
              "#d8576b"
             ],
             [
              0.6666666666666666,
              "#ed7953"
             ],
             [
              0.7777777777777778,
              "#fb9f3a"
             ],
             [
              0.8888888888888888,
              "#fdca26"
             ],
             [
              1,
              "#f0f921"
             ]
            ],
            "type": "surface"
           }
          ],
          "table": [
           {
            "cells": {
             "fill": {
              "color": "#EBF0F8"
             },
             "line": {
              "color": "white"
             }
            },
            "header": {
             "fill": {
              "color": "#C8D4E3"
             },
             "line": {
              "color": "white"
             }
            },
            "type": "table"
           }
          ]
         },
         "layout": {
          "annotationdefaults": {
           "arrowcolor": "#2a3f5f",
           "arrowhead": 0,
           "arrowwidth": 1
          },
          "colorscale": {
           "diverging": [
            [
             0,
             "#8e0152"
            ],
            [
             0.1,
             "#c51b7d"
            ],
            [
             0.2,
             "#de77ae"
            ],
            [
             0.3,
             "#f1b6da"
            ],
            [
             0.4,
             "#fde0ef"
            ],
            [
             0.5,
             "#f7f7f7"
            ],
            [
             0.6,
             "#e6f5d0"
            ],
            [
             0.7,
             "#b8e186"
            ],
            [
             0.8,
             "#7fbc41"
            ],
            [
             0.9,
             "#4d9221"
            ],
            [
             1,
             "#276419"
            ]
           ],
           "sequential": [
            [
             0,
             "#0d0887"
            ],
            [
             0.1111111111111111,
             "#46039f"
            ],
            [
             0.2222222222222222,
             "#7201a8"
            ],
            [
             0.3333333333333333,
             "#9c179e"
            ],
            [
             0.4444444444444444,
             "#bd3786"
            ],
            [
             0.5555555555555556,
             "#d8576b"
            ],
            [
             0.6666666666666666,
             "#ed7953"
            ],
            [
             0.7777777777777778,
             "#fb9f3a"
            ],
            [
             0.8888888888888888,
             "#fdca26"
            ],
            [
             1,
             "#f0f921"
            ]
           ],
           "sequentialminus": [
            [
             0,
             "#0d0887"
            ],
            [
             0.1111111111111111,
             "#46039f"
            ],
            [
             0.2222222222222222,
             "#7201a8"
            ],
            [
             0.3333333333333333,
             "#9c179e"
            ],
            [
             0.4444444444444444,
             "#bd3786"
            ],
            [
             0.5555555555555556,
             "#d8576b"
            ],
            [
             0.6666666666666666,
             "#ed7953"
            ],
            [
             0.7777777777777778,
             "#fb9f3a"
            ],
            [
             0.8888888888888888,
             "#fdca26"
            ],
            [
             1,
             "#f0f921"
            ]
           ]
          },
          "colorway": [
           "#636efa",
           "#EF553B",
           "#00cc96",
           "#ab63fa",
           "#FFA15A",
           "#19d3f3",
           "#FF6692",
           "#B6E880",
           "#FF97FF",
           "#FECB52"
          ],
          "font": {
           "color": "#2a3f5f"
          },
          "geo": {
           "bgcolor": "white",
           "lakecolor": "white",
           "landcolor": "#E5ECF6",
           "showlakes": true,
           "showland": true,
           "subunitcolor": "white"
          },
          "hoverlabel": {
           "align": "left"
          },
          "hovermode": "closest",
          "mapbox": {
           "style": "light"
          },
          "paper_bgcolor": "white",
          "plot_bgcolor": "#E5ECF6",
          "polar": {
           "angularaxis": {
            "gridcolor": "white",
            "linecolor": "white",
            "ticks": ""
           },
           "bgcolor": "#E5ECF6",
           "radialaxis": {
            "gridcolor": "white",
            "linecolor": "white",
            "ticks": ""
           }
          },
          "scene": {
           "xaxis": {
            "backgroundcolor": "#E5ECF6",
            "gridcolor": "white",
            "gridwidth": 2,
            "linecolor": "white",
            "showbackground": true,
            "ticks": "",
            "zerolinecolor": "white"
           },
           "yaxis": {
            "backgroundcolor": "#E5ECF6",
            "gridcolor": "white",
            "gridwidth": 2,
            "linecolor": "white",
            "showbackground": true,
            "ticks": "",
            "zerolinecolor": "white"
           },
           "zaxis": {
            "backgroundcolor": "#E5ECF6",
            "gridcolor": "white",
            "gridwidth": 2,
            "linecolor": "white",
            "showbackground": true,
            "ticks": "",
            "zerolinecolor": "white"
           }
          },
          "shapedefaults": {
           "line": {
            "color": "#2a3f5f"
           }
          },
          "ternary": {
           "aaxis": {
            "gridcolor": "white",
            "linecolor": "white",
            "ticks": ""
           },
           "baxis": {
            "gridcolor": "white",
            "linecolor": "white",
            "ticks": ""
           },
           "bgcolor": "#E5ECF6",
           "caxis": {
            "gridcolor": "white",
            "linecolor": "white",
            "ticks": ""
           }
          },
          "title": {
           "x": 0.05
          },
          "xaxis": {
           "automargin": true,
           "gridcolor": "white",
           "linecolor": "white",
           "ticks": "",
           "zerolinecolor": "white",
           "zerolinewidth": 2
          },
          "yaxis": {
           "automargin": true,
           "gridcolor": "white",
           "linecolor": "white",
           "ticks": "",
           "zerolinecolor": "white",
           "zerolinewidth": 2
          }
         }
        },
        "title": {
         "text": "rbf"
        }
       }
      },
      "text/html": [
       "<div>\n",
       "        \n",
       "        \n",
       "            <div id=\"5a6996cf-9832-4f27-b744-6c5095f4e83b\" class=\"plotly-graph-div\" style=\"height:525px; width:100%;\"></div>\n",
       "            <script type=\"text/javascript\">\n",
       "                require([\"plotly\"], function(Plotly) {\n",
       "                    window.PLOTLYENV=window.PLOTLYENV || {};\n",
       "                    \n",
       "                if (document.getElementById(\"5a6996cf-9832-4f27-b744-6c5095f4e83b\")) {\n",
       "                    Plotly.newPlot(\n",
       "                        '5a6996cf-9832-4f27-b744-6c5095f4e83b',\n",
       "                        [{\"mode\": \"markers\", \"name\": \"observed points\", \"type\": \"scatter\", \"x\": [0, 8.0, 3.0], \"y\": [10, 9, 15]}],\n",
       "                        {\"template\": {\"data\": {\"bar\": [{\"error_x\": {\"color\": \"#2a3f5f\"}, \"error_y\": {\"color\": \"#2a3f5f\"}, \"marker\": {\"line\": {\"color\": \"#E5ECF6\", \"width\": 0.5}}, \"type\": \"bar\"}], \"barpolar\": [{\"marker\": {\"line\": {\"color\": \"#E5ECF6\", \"width\": 0.5}}, \"type\": \"barpolar\"}], \"carpet\": [{\"aaxis\": {\"endlinecolor\": \"#2a3f5f\", \"gridcolor\": \"white\", \"linecolor\": \"white\", \"minorgridcolor\": \"white\", \"startlinecolor\": \"#2a3f5f\"}, \"baxis\": {\"endlinecolor\": \"#2a3f5f\", \"gridcolor\": \"white\", \"linecolor\": \"white\", \"minorgridcolor\": \"white\", \"startlinecolor\": \"#2a3f5f\"}, \"type\": \"carpet\"}], \"choropleth\": [{\"colorbar\": {\"outlinewidth\": 0, \"ticks\": \"\"}, \"type\": \"choropleth\"}], \"contour\": [{\"colorbar\": {\"outlinewidth\": 0, \"ticks\": \"\"}, \"colorscale\": [[0.0, \"#0d0887\"], [0.1111111111111111, \"#46039f\"], [0.2222222222222222, \"#7201a8\"], [0.3333333333333333, \"#9c179e\"], [0.4444444444444444, \"#bd3786\"], [0.5555555555555556, \"#d8576b\"], [0.6666666666666666, \"#ed7953\"], [0.7777777777777778, \"#fb9f3a\"], [0.8888888888888888, \"#fdca26\"], [1.0, \"#f0f921\"]], \"type\": \"contour\"}], \"contourcarpet\": [{\"colorbar\": {\"outlinewidth\": 0, \"ticks\": \"\"}, \"type\": \"contourcarpet\"}], \"heatmap\": [{\"colorbar\": {\"outlinewidth\": 0, \"ticks\": \"\"}, \"colorscale\": [[0.0, \"#0d0887\"], [0.1111111111111111, \"#46039f\"], [0.2222222222222222, \"#7201a8\"], [0.3333333333333333, \"#9c179e\"], [0.4444444444444444, \"#bd3786\"], [0.5555555555555556, \"#d8576b\"], [0.6666666666666666, \"#ed7953\"], [0.7777777777777778, \"#fb9f3a\"], [0.8888888888888888, \"#fdca26\"], [1.0, \"#f0f921\"]], \"type\": \"heatmap\"}], \"heatmapgl\": [{\"colorbar\": {\"outlinewidth\": 0, \"ticks\": \"\"}, \"colorscale\": [[0.0, \"#0d0887\"], [0.1111111111111111, \"#46039f\"], [0.2222222222222222, \"#7201a8\"], [0.3333333333333333, \"#9c179e\"], [0.4444444444444444, \"#bd3786\"], [0.5555555555555556, \"#d8576b\"], [0.6666666666666666, \"#ed7953\"], [0.7777777777777778, \"#fb9f3a\"], [0.8888888888888888, \"#fdca26\"], [1.0, \"#f0f921\"]], \"type\": \"heatmapgl\"}], \"histogram\": [{\"marker\": {\"colorbar\": {\"outlinewidth\": 0, \"ticks\": \"\"}}, \"type\": \"histogram\"}], \"histogram2d\": [{\"colorbar\": {\"outlinewidth\": 0, \"ticks\": \"\"}, \"colorscale\": [[0.0, \"#0d0887\"], [0.1111111111111111, \"#46039f\"], [0.2222222222222222, \"#7201a8\"], [0.3333333333333333, \"#9c179e\"], [0.4444444444444444, \"#bd3786\"], [0.5555555555555556, \"#d8576b\"], [0.6666666666666666, \"#ed7953\"], [0.7777777777777778, \"#fb9f3a\"], [0.8888888888888888, \"#fdca26\"], [1.0, \"#f0f921\"]], \"type\": \"histogram2d\"}], \"histogram2dcontour\": [{\"colorbar\": {\"outlinewidth\": 0, \"ticks\": \"\"}, \"colorscale\": [[0.0, \"#0d0887\"], [0.1111111111111111, \"#46039f\"], [0.2222222222222222, \"#7201a8\"], [0.3333333333333333, \"#9c179e\"], [0.4444444444444444, \"#bd3786\"], [0.5555555555555556, \"#d8576b\"], [0.6666666666666666, \"#ed7953\"], [0.7777777777777778, \"#fb9f3a\"], [0.8888888888888888, \"#fdca26\"], [1.0, \"#f0f921\"]], \"type\": \"histogram2dcontour\"}], \"mesh3d\": [{\"colorbar\": {\"outlinewidth\": 0, \"ticks\": \"\"}, \"type\": \"mesh3d\"}], \"parcoords\": [{\"line\": {\"colorbar\": {\"outlinewidth\": 0, \"ticks\": \"\"}}, \"type\": \"parcoords\"}], \"scatter\": [{\"marker\": {\"colorbar\": {\"outlinewidth\": 0, \"ticks\": \"\"}}, \"type\": \"scatter\"}], \"scatter3d\": [{\"line\": {\"colorbar\": {\"outlinewidth\": 0, \"ticks\": \"\"}}, \"marker\": {\"colorbar\": {\"outlinewidth\": 0, \"ticks\": \"\"}}, \"type\": \"scatter3d\"}], \"scattercarpet\": [{\"marker\": {\"colorbar\": {\"outlinewidth\": 0, \"ticks\": \"\"}}, \"type\": \"scattercarpet\"}], \"scattergeo\": [{\"marker\": {\"colorbar\": {\"outlinewidth\": 0, \"ticks\": \"\"}}, \"type\": \"scattergeo\"}], \"scattergl\": [{\"marker\": {\"colorbar\": {\"outlinewidth\": 0, \"ticks\": \"\"}}, \"type\": \"scattergl\"}], \"scattermapbox\": [{\"marker\": {\"colorbar\": {\"outlinewidth\": 0, \"ticks\": \"\"}}, \"type\": \"scattermapbox\"}], \"scatterpolar\": [{\"marker\": {\"colorbar\": {\"outlinewidth\": 0, \"ticks\": \"\"}}, \"type\": \"scatterpolar\"}], \"scatterpolargl\": [{\"marker\": {\"colorbar\": {\"outlinewidth\": 0, \"ticks\": \"\"}}, \"type\": \"scatterpolargl\"}], \"scatterternary\": [{\"marker\": {\"colorbar\": {\"outlinewidth\": 0, \"ticks\": \"\"}}, \"type\": \"scatterternary\"}], \"surface\": [{\"colorbar\": {\"outlinewidth\": 0, \"ticks\": \"\"}, \"colorscale\": [[0.0, \"#0d0887\"], [0.1111111111111111, \"#46039f\"], [0.2222222222222222, \"#7201a8\"], [0.3333333333333333, \"#9c179e\"], [0.4444444444444444, \"#bd3786\"], [0.5555555555555556, \"#d8576b\"], [0.6666666666666666, \"#ed7953\"], [0.7777777777777778, \"#fb9f3a\"], [0.8888888888888888, \"#fdca26\"], [1.0, \"#f0f921\"]], \"type\": \"surface\"}], \"table\": [{\"cells\": {\"fill\": {\"color\": \"#EBF0F8\"}, \"line\": {\"color\": \"white\"}}, \"header\": {\"fill\": {\"color\": \"#C8D4E3\"}, \"line\": {\"color\": \"white\"}}, \"type\": \"table\"}]}, \"layout\": {\"annotationdefaults\": {\"arrowcolor\": \"#2a3f5f\", \"arrowhead\": 0, \"arrowwidth\": 1}, \"colorscale\": {\"diverging\": [[0, \"#8e0152\"], [0.1, \"#c51b7d\"], [0.2, \"#de77ae\"], [0.3, \"#f1b6da\"], [0.4, \"#fde0ef\"], [0.5, \"#f7f7f7\"], [0.6, \"#e6f5d0\"], [0.7, \"#b8e186\"], [0.8, \"#7fbc41\"], [0.9, \"#4d9221\"], [1, \"#276419\"]], \"sequential\": [[0.0, \"#0d0887\"], [0.1111111111111111, \"#46039f\"], [0.2222222222222222, \"#7201a8\"], [0.3333333333333333, \"#9c179e\"], [0.4444444444444444, \"#bd3786\"], [0.5555555555555556, \"#d8576b\"], [0.6666666666666666, \"#ed7953\"], [0.7777777777777778, \"#fb9f3a\"], [0.8888888888888888, \"#fdca26\"], [1.0, \"#f0f921\"]], \"sequentialminus\": [[0.0, \"#0d0887\"], [0.1111111111111111, \"#46039f\"], [0.2222222222222222, \"#7201a8\"], [0.3333333333333333, \"#9c179e\"], [0.4444444444444444, \"#bd3786\"], [0.5555555555555556, \"#d8576b\"], [0.6666666666666666, \"#ed7953\"], [0.7777777777777778, \"#fb9f3a\"], [0.8888888888888888, \"#fdca26\"], [1.0, \"#f0f921\"]]}, \"colorway\": [\"#636efa\", \"#EF553B\", \"#00cc96\", \"#ab63fa\", \"#FFA15A\", \"#19d3f3\", \"#FF6692\", \"#B6E880\", \"#FF97FF\", \"#FECB52\"], \"font\": {\"color\": \"#2a3f5f\"}, \"geo\": {\"bgcolor\": \"white\", \"lakecolor\": \"white\", \"landcolor\": \"#E5ECF6\", \"showlakes\": true, \"showland\": true, \"subunitcolor\": \"white\"}, \"hoverlabel\": {\"align\": \"left\"}, \"hovermode\": \"closest\", \"mapbox\": {\"style\": \"light\"}, \"paper_bgcolor\": \"white\", \"plot_bgcolor\": \"#E5ECF6\", \"polar\": {\"angularaxis\": {\"gridcolor\": \"white\", \"linecolor\": \"white\", \"ticks\": \"\"}, \"bgcolor\": \"#E5ECF6\", \"radialaxis\": {\"gridcolor\": \"white\", \"linecolor\": \"white\", \"ticks\": \"\"}}, \"scene\": {\"xaxis\": {\"backgroundcolor\": \"#E5ECF6\", \"gridcolor\": \"white\", \"gridwidth\": 2, \"linecolor\": \"white\", \"showbackground\": true, \"ticks\": \"\", \"zerolinecolor\": \"white\"}, \"yaxis\": {\"backgroundcolor\": \"#E5ECF6\", \"gridcolor\": \"white\", \"gridwidth\": 2, \"linecolor\": \"white\", \"showbackground\": true, \"ticks\": \"\", \"zerolinecolor\": \"white\"}, \"zaxis\": {\"backgroundcolor\": \"#E5ECF6\", \"gridcolor\": \"white\", \"gridwidth\": 2, \"linecolor\": \"white\", \"showbackground\": true, \"ticks\": \"\", \"zerolinecolor\": \"white\"}}, \"shapedefaults\": {\"line\": {\"color\": \"#2a3f5f\"}}, \"ternary\": {\"aaxis\": {\"gridcolor\": \"white\", \"linecolor\": \"white\", \"ticks\": \"\"}, \"baxis\": {\"gridcolor\": \"white\", \"linecolor\": \"white\", \"ticks\": \"\"}, \"bgcolor\": \"#E5ECF6\", \"caxis\": {\"gridcolor\": \"white\", \"linecolor\": \"white\", \"ticks\": \"\"}}, \"title\": {\"x\": 0.05}, \"xaxis\": {\"automargin\": true, \"gridcolor\": \"white\", \"linecolor\": \"white\", \"ticks\": \"\", \"zerolinecolor\": \"white\", \"zerolinewidth\": 2}, \"yaxis\": {\"automargin\": true, \"gridcolor\": \"white\", \"linecolor\": \"white\", \"ticks\": \"\", \"zerolinecolor\": \"white\", \"zerolinewidth\": 2}}}, \"title\": {\"text\": \"rbf\"}},\n",
       "                        {\"responsive\": true}\n",
       "                    ).then(function(){\n",
       "                            \n",
       "var gd = document.getElementById('5a6996cf-9832-4f27-b744-6c5095f4e83b');\n",
       "var x = new MutationObserver(function (mutations, observer) {{\n",
       "        var display = window.getComputedStyle(gd).display;\n",
       "        if (!display || display === 'none') {{\n",
       "            console.log([gd, 'removed!']);\n",
       "            Plotly.purge(gd);\n",
       "            observer.disconnect();\n",
       "        }}\n",
       "}});\n",
       "\n",
       "// Listen for the removal of the full notebook cells\n",
       "var notebookContainer = gd.closest('#notebook-container');\n",
       "if (notebookContainer) {{\n",
       "    x.observe(notebookContainer, {childList: true});\n",
       "}}\n",
       "\n",
       "// Listen for the clearing of the current output cell\n",
       "var outputEl = gd.closest('.output');\n",
       "if (outputEl) {{\n",
       "    x.observe(outputEl, {childList: true});\n",
       "}}\n",
       "\n",
       "                        })\n",
       "                };\n",
       "                });\n",
       "            </script>\n",
       "        </div>"
      ]
     },
     "metadata": {},
     "output_type": "display_data"
    }
   ],
   "source": [
    "traces = []\n",
    "\n",
    "trace = {\n",
    "    'type':'scatter',\n",
    "    'mode':'markers',\n",
    "    'x':[c1[0][0],c2[0][0],c3[0][0]],\n",
    "    'y':[c1[1],c2[1],c3[1]],\n",
    "    'name':'observed points',\n",
    "}\n",
    "\n",
    "traces.append(trace)\n",
    "\n",
    "fig = go.Figure(traces, layout)\n",
    "\n",
    "pyo.iplot(fig)"
   ]
  },
  {
   "cell_type": "code",
   "execution_count": 290,
   "metadata": {},
   "outputs": [],
   "source": [
    "def gauss_rbf(gamma, x, c):\n",
    "    return np.exp(-gamma*(np.linalg.norm(x-c))**2)"
   ]
  },
  {
   "cell_type": "code",
   "execution_count": 291,
   "metadata": {},
   "outputs": [],
   "source": [
    "def gauss_rbf_dist(gamma, dist):\n",
    "    return np.exp(-gamma*(dist)**2)"
   ]
  },
  {
   "cell_type": "code",
   "execution_count": 303,
   "metadata": {},
   "outputs": [
    {
     "data": {
      "application/vnd.plotly.v1+json": {
       "config": {
        "linkText": "Export to plot.ly",
        "plotlyServerURL": "https://plot.ly",
        "showLink": false
       },
       "data": [
        {
         "mode": "markers",
         "name": "observed points",
         "type": "scatter",
         "x": [
          0,
          8,
          3
         ],
         "y": [
          10,
          9,
          15
         ]
        },
        {
         "mode": "lines",
         "type": "scatter",
         "x": [
          -10,
          -9.696969696969697,
          -9.393939393939394,
          -9.09090909090909,
          -8.787878787878787,
          -8.484848484848484,
          -8.181818181818182,
          -7.878787878787879,
          -7.575757575757576,
          -7.2727272727272725,
          -6.96969696969697,
          -6.666666666666666,
          -6.363636363636363,
          -6.0606060606060606,
          -5.757575757575758,
          -5.454545454545454,
          -5.151515151515151,
          -4.848484848484849,
          -4.545454545454545,
          -4.242424242424242,
          -3.9393939393939394,
          -3.636363636363636,
          -3.333333333333333,
          -3.0303030303030303,
          -2.7272727272727266,
          -2.424242424242424,
          -2.121212121212121,
          -1.8181818181818183,
          -1.5151515151515156,
          -1.212121212121211,
          -0.9090909090909083,
          -0.6060606060606055,
          -0.30303030303030276,
          0,
          0.30303030303030276,
          0.6060606060606055,
          0.9090909090909101,
          1.2121212121212128,
          1.5151515151515156,
          1.8181818181818183,
          2.121212121212121,
          2.424242424242424,
          2.7272727272727284,
          3.030303030303031,
          3.333333333333334,
          3.6363636363636367,
          3.9393939393939394,
          4.242424242424242,
          4.545454545454547,
          4.8484848484848495,
          5.151515151515152,
          5.454545454545455,
          5.757575757575758,
          6.060606060606062,
          6.363636363636363,
          6.666666666666668,
          6.969696969696969,
          7.272727272727273,
          7.575757575757578,
          7.878787878787879,
          8.181818181818183,
          8.484848484848484,
          8.787878787878789,
          9.09090909090909,
          9.393939393939394,
          9.696969696969699,
          10,
          10.303030303030305,
          10.606060606060606,
          10.90909090909091,
          11.212121212121211,
          11.515151515151516,
          11.81818181818182,
          12.121212121212121,
          12.424242424242426,
          12.727272727272727,
          13.030303030303031,
          13.333333333333336,
          13.636363636363637,
          13.939393939393941,
          14.242424242424242,
          14.545454545454547,
          14.848484848484848,
          15.151515151515152,
          15.454545454545457,
          15.757575757575758,
          16.060606060606062,
          16.363636363636363,
          16.666666666666668,
          16.96969696969697,
          17.272727272727273,
          17.575757575757578,
          17.87878787878788,
          18.181818181818183,
          18.484848484848484,
          18.78787878787879,
          19.090909090909093,
          19.393939393939394,
          19.6969696969697,
          20
         ],
         "y": [
          0.00045399929762484856,
          0.0008246619300251315,
          0.00147068847027401,
          0.0025750721729649864,
          0.004426720484419618,
          0.007471344659366936,
          0.01238053518270857,
          0.020142067291649052,
          0.03217308029822446,
          0.0504551172430546,
          0.07768582334820683,
          0.11743628457021371,
          0.17429575455526375,
          0.2539775277782819,
          0.36335216357079403,
          0.5103688810314778,
          0.7038248526441121,
          0.9529475251890294,
          1.2667687798863474,
          1.6532924893198364,
          2.1184880113072593,
          2.665178523108103,
          3.2919298780790562,
          3.9920762040091606,
          4.753035374189699,
          5.55606408856444,
          6.376574281502294,
          7.185079474201354,
          7.948765881681732,
          8.633597773527642,
          9.206782722788244,
          9.639354513231066,
          9.90859296112551,
          10,
          9.90859296112551,
          9.639354513231066,
          9.206782722788242,
          8.63359777352764,
          7.948765881681732,
          7.185079474201354,
          6.376574281502294,
          5.55606408856444,
          4.753035374189695,
          3.9920762040091584,
          3.2919298780790553,
          2.6651785231081018,
          2.1184880113072593,
          1.6532924893198364,
          1.2667687798863452,
          0.9529475251890289,
          0.7038248526441114,
          0.5103688810314773,
          0.36335216357079403,
          0.25397752777828136,
          0.17429575455526375,
          0.1174362845702135,
          0.0776858233482069,
          0.05045511724305455,
          0.032173080298224375,
          0.020142067291649052,
          0.012380535182708525,
          0.007471344659366936,
          0.004426720484419602,
          0.0025750721729649864,
          0.00147068847027401,
          0.00082466193002513,
          0.00045399929762484856,
          0.0002453908654410105,
          0.00013022236549468014,
          6.784795220910188e-05,
          3.4706585174475536e-05,
          1.743054643447705e-05,
          8.594766763771087e-06,
          4.1608414365301766e-06,
          1.9776626534222125e-06,
          9.228842519818658e-07,
          4.228304299230355e-07,
          1.9019942979102812e-07,
          8.399939593995155e-08,
          3.642227689951052e-08,
          1.550536510469931e-08,
          6.4806844938468026e-09,
          2.6594004439378736e-09,
          1.0714466999328441e-09,
          4.238199370496005e-10,
          1.6459482260582623e-10,
          6.275884382460005e-11,
          2.3494038421852757e-11,
          8.635040753377314e-12,
          3.1159830383489522e-12,
          1.1039508921539335e-12,
          3.83997503676727e-13,
          1.3113874520602995e-13,
          4.39701171820784e-14,
          1.4474654249432273e-14,
          4.678242724046912e-15,
          1.4845036829711398e-15,
          4.624915309417065e-16,
          1.4146541108213508e-16,
          4.248354255291589e-17
         ]
        },
        {
         "mode": "lines",
         "type": "scatter",
         "x": [
          -10,
          -9.696969696969697,
          -9.393939393939394,
          -9.09090909090909,
          -8.787878787878787,
          -8.484848484848484,
          -8.181818181818182,
          -7.878787878787879,
          -7.575757575757576,
          -7.2727272727272725,
          -6.96969696969697,
          -6.666666666666666,
          -6.363636363636363,
          -6.0606060606060606,
          -5.757575757575758,
          -5.454545454545454,
          -5.151515151515151,
          -4.848484848484849,
          -4.545454545454545,
          -4.242424242424242,
          -3.9393939393939394,
          -3.636363636363636,
          -3.333333333333333,
          -3.0303030303030303,
          -2.7272727272727266,
          -2.424242424242424,
          -2.121212121212121,
          -1.8181818181818183,
          -1.5151515151515156,
          -1.212121212121211,
          -0.9090909090909083,
          -0.6060606060606055,
          -0.30303030303030276,
          0,
          0.30303030303030276,
          0.6060606060606055,
          0.9090909090909101,
          1.2121212121212128,
          1.5151515151515156,
          1.8181818181818183,
          2.121212121212121,
          2.424242424242424,
          2.7272727272727284,
          3.030303030303031,
          3.333333333333334,
          3.6363636363636367,
          3.9393939393939394,
          4.242424242424242,
          4.545454545454547,
          4.8484848484848495,
          5.151515151515152,
          5.454545454545455,
          5.757575757575758,
          6.060606060606062,
          6.363636363636363,
          6.666666666666668,
          6.969696969696969,
          7.272727272727273,
          7.575757575757578,
          7.878787878787879,
          8.181818181818183,
          8.484848484848484,
          8.787878787878789,
          9.09090909090909,
          9.393939393939394,
          9.696969696969699,
          10,
          10.303030303030305,
          10.606060606060606,
          10.90909090909091,
          11.212121212121211,
          11.515151515151516,
          11.81818181818182,
          12.121212121212121,
          12.424242424242426,
          12.727272727272727,
          13.030303030303031,
          13.333333333333336,
          13.636363636363637,
          13.939393939393941,
          14.242424242424242,
          14.545454545454547,
          14.848484848484848,
          15.151515151515152,
          15.454545454545457,
          15.757575757575758,
          16.060606060606062,
          16.363636363636363,
          16.666666666666668,
          16.96969696969697,
          17.272727272727273,
          17.575757575757578,
          17.87878787878788,
          18.181818181818183,
          18.484848484848484,
          18.78787878787879,
          19.090909090909093,
          19.393939393939394,
          19.6969696969697,
          20
         ],
         "y": [
          7.640139630484599e-14,
          2.2536635594755004e-13,
          6.52680812600393e-13,
          1.85582313817685e-12,
          5.180793726637975e-12,
          1.4199726962418077e-11,
          3.82109348138814e-11,
          1.0095301830392895e-10,
          2.6186347689233063e-10,
          6.668904960196396e-10,
          1.6674702837798459e-09,
          4.093413846392272e-09,
          9.865910740663418e-09,
          2.3346011016909255e-08,
          5.423906155343515e-08,
          1.237187785955206e-07,
          2.7706588675625604e-07,
          6.091923869282629e-07,
          1.3150729772452593e-06,
          2.787206952608746e-06,
          5.799793835381989e-06,
          1.1848950135926158e-05,
          2.3766824765528764e-05,
          4.680437311888257e-05,
          9.049522788576732e-05,
          0.00017178644788758008,
          0.0003201666543411705,
          0.000585851130515089,
          0.001052500772656256,
          0.0018564427074412718,
          0.0032148791696596925,
          0.005466026528167503,
          0.009124367983744297,
          0.014954015458565405,
          0.024062283261938548,
          0.03801367183662149,
          0.05896126381427934,
          0.08978788115089749,
          0.13424330589606448,
          0.1970568474826378,
          0.28399742293287783,
          0.4018474753040634,
          0.5582542853343089,
          0.7614245291309476,
          1.0196371202726728,
          1.3405665805851363,
          1.730434303333545,
          2.1930362955651987,
          2.728729585484821,
          3.333489996972499,
          3.998174908542765,
          4.708129488920967,
          5.443258818533374,
          6.178649327242071,
          6.885763245338945,
          7.534155882246875,
          8.09358800530595,
          8.536337190211427,
          8.839465525306267,
          8.986786568717646,
          8.970297056708342,
          8.790897155933788,
          8.458309059672283,
          7.990204171839459,
          7.410647918937693,
          6.748052617122111,
          6.032880414320754,
          5.29535340335087,
          4.563406522749688,
          3.8610670596604013,
          3.207373279607481,
          2.6158669177705027,
          2.094622482111545,
          1.6467203488781879,
          1.2710362014962913,
          0.963207742196256,
          0.7166481526804506,
          0.5234991527490824,
          0.37544813989023285,
          0.2643674045590126,
          0.18276365475820452,
          0.12404970544602982,
          0.08266575128958478,
          0.05408532867559908,
          0.03474219918514914,
          0.021910844411420126,
          0.013567033597187642,
          0.008247734313844282,
          0.004922757028530746,
          0.0028847362755651342,
          0.0016596931715697582,
          0.0009375047460945735,
          0.0005199278957240477,
          0.0002830979601083036,
          0.00015134021172649728,
          7.943207556947121e-05,
          4.093185820340597e-05,
          2.0708611826575835e-05,
          1.0286425630783046e-05,
          5.016513323425136e-06
         ]
        },
        {
         "mode": "lines",
         "type": "scatter",
         "x": [
          -10,
          -9.696969696969697,
          -9.393939393939394,
          -9.09090909090909,
          -8.787878787878787,
          -8.484848484848484,
          -8.181818181818182,
          -7.878787878787879,
          -7.575757575757576,
          -7.2727272727272725,
          -6.96969696969697,
          -6.666666666666666,
          -6.363636363636363,
          -6.0606060606060606,
          -5.757575757575758,
          -5.454545454545454,
          -5.151515151515151,
          -4.848484848484849,
          -4.545454545454545,
          -4.242424242424242,
          -3.9393939393939394,
          -3.636363636363636,
          -3.333333333333333,
          -3.0303030303030303,
          -2.7272727272727266,
          -2.424242424242424,
          -2.121212121212121,
          -1.8181818181818183,
          -1.5151515151515156,
          -1.212121212121211,
          -0.9090909090909083,
          -0.6060606060606055,
          -0.30303030303030276,
          0,
          0.30303030303030276,
          0.6060606060606055,
          0.9090909090909101,
          1.2121212121212128,
          1.5151515151515156,
          1.8181818181818183,
          2.121212121212121,
          2.424242424242424,
          2.7272727272727284,
          3.030303030303031,
          3.333333333333334,
          3.6363636363636367,
          3.9393939393939394,
          4.242424242424242,
          4.545454545454547,
          4.8484848484848495,
          5.151515151515152,
          5.454545454545455,
          5.757575757575758,
          6.060606060606062,
          6.363636363636363,
          6.666666666666668,
          6.969696969696969,
          7.272727272727273,
          7.575757575757578,
          7.878787878787879,
          8.181818181818183,
          8.484848484848484,
          8.787878787878789,
          9.09090909090909,
          9.393939393939394,
          9.696969696969699,
          10,
          10.303030303030305,
          10.606060606060606,
          10.90909090909091,
          11.212121212121211,
          11.515151515151516,
          11.81818181818182,
          12.121212121212121,
          12.424242424242426,
          12.727272727272727,
          13.030303030303031,
          13.333333333333336,
          13.636363636363637,
          13.939393939393941,
          14.242424242424242,
          14.545454545454547,
          14.848484848484848,
          15.151515151515152,
          15.454545454545457,
          15.757575757575758,
          16.060606060606062,
          16.363636363636363,
          16.666666666666668,
          16.96969696969697,
          17.272727272727273,
          17.575757575757578,
          17.87878787878788,
          18.181818181818183,
          18.484848484848484,
          18.78787878787879,
          19.090909090909093,
          19.393939393939394,
          19.6969696969697,
          20
         ],
         "y": [
          6.863008154168694e-07,
          1.4951952652033955e-06,
          3.198197561242299e-06,
          6.716401329179055e-06,
          1.3848156613738029e-05,
          2.8033109313218878e-05,
          5.571530996811685e-05,
          0.0001087180885080032,
          0.0002082826244804187,
          0.0003917673611176991,
          0.0007234815120882914,
          0.0013117485728892108,
          0.0023350583615375903,
          0.004081021242115518,
          0.007002674623270201,
          0.011797310665428771,
          0.01951309060752581,
          0.03168787255350029,
          0.050522412531583724,
          0.07908589888074674,
          0.12154525413795439,
          0.18340067653762612,
          0.2716988731377086,
          0.3951834218983855,
          0.564330566618705,
          0.7912111655570436,
          1.0891187054070748,
          1.471912532663688,
          1.953047319283254,
          2.544295235773291,
          3.2542148321092506,
          4.086475618664962,
          5.03820205252848,
          6.0985448961089865,
          7.247710649121173,
          8.456671182304936,
          9.687729826826677,
          10.896036999396037,
          12.032035273051378,
          13.044685110883627,
          13.885198095278453,
          14.5109062590836,
          14.888843655896643,
          14.998622652771731,
          14.834255839408835,
          14.404696991089498,
          13.733033072084691,
          12.85442874379504,
          11.81307803609957,
          10.658530714678795,
          9.441817150436327,
          8.211789472496767,
          7.012033855183618,
          5.878603626845038,
          4.838695900729684,
          3.9102673853446728,
          3.102476917124289,
          2.416766202016124,
          1.8483520565969842,
          1.387901764163309,
          1.0231910602153775,
          0.7405914990201163,
          0.5262894748456907,
          0.36719319436582437,
          0.2515292745953467,
          0.16916340949932807,
          0.11169874606386507,
          0.07241260014392918,
          0.04608970866811527,
          0.028801675981704744,
          0.017670772434350494,
          0.010644304362827806,
          0.006295105471951686,
          0.0036552132055403955,
          0.0020837537464033435,
          0.0011662832803872197,
          0.0006408932273799494,
          0.00034577316974098213,
          0.00018315588458421502,
          9.525207351360716e-05,
          4.8635342298237516e-05,
          2.4381110995037996e-05,
          1.1999937465774728e-05,
          5.798670756171795e-06,
          2.7510716072340583e-06,
          1.2814430657781086e-06,
          5.860311651511458e-07,
          2.631274069894582e-07,
          1.1599397617949157e-07,
          5.0202895058986963e-08,
          2.1332711757146423e-08,
          8.899945448374432e-09,
          3.6454622094400604e-09,
          1.4660265407125206e-09,
          5.788353439973526e-10,
          2.2438417616321665e-10,
          8.539911859508914e-11,
          3.191086131118061e-11,
          1.1707054524083763e-11,
          4.2167779481835515e-12
         ]
        }
       ],
       "layout": {
        "template": {
         "data": {
          "bar": [
           {
            "error_x": {
             "color": "#2a3f5f"
            },
            "error_y": {
             "color": "#2a3f5f"
            },
            "marker": {
             "line": {
              "color": "#E5ECF6",
              "width": 0.5
             }
            },
            "type": "bar"
           }
          ],
          "barpolar": [
           {
            "marker": {
             "line": {
              "color": "#E5ECF6",
              "width": 0.5
             }
            },
            "type": "barpolar"
           }
          ],
          "carpet": [
           {
            "aaxis": {
             "endlinecolor": "#2a3f5f",
             "gridcolor": "white",
             "linecolor": "white",
             "minorgridcolor": "white",
             "startlinecolor": "#2a3f5f"
            },
            "baxis": {
             "endlinecolor": "#2a3f5f",
             "gridcolor": "white",
             "linecolor": "white",
             "minorgridcolor": "white",
             "startlinecolor": "#2a3f5f"
            },
            "type": "carpet"
           }
          ],
          "choropleth": [
           {
            "colorbar": {
             "outlinewidth": 0,
             "ticks": ""
            },
            "type": "choropleth"
           }
          ],
          "contour": [
           {
            "colorbar": {
             "outlinewidth": 0,
             "ticks": ""
            },
            "colorscale": [
             [
              0,
              "#0d0887"
             ],
             [
              0.1111111111111111,
              "#46039f"
             ],
             [
              0.2222222222222222,
              "#7201a8"
             ],
             [
              0.3333333333333333,
              "#9c179e"
             ],
             [
              0.4444444444444444,
              "#bd3786"
             ],
             [
              0.5555555555555556,
              "#d8576b"
             ],
             [
              0.6666666666666666,
              "#ed7953"
             ],
             [
              0.7777777777777778,
              "#fb9f3a"
             ],
             [
              0.8888888888888888,
              "#fdca26"
             ],
             [
              1,
              "#f0f921"
             ]
            ],
            "type": "contour"
           }
          ],
          "contourcarpet": [
           {
            "colorbar": {
             "outlinewidth": 0,
             "ticks": ""
            },
            "type": "contourcarpet"
           }
          ],
          "heatmap": [
           {
            "colorbar": {
             "outlinewidth": 0,
             "ticks": ""
            },
            "colorscale": [
             [
              0,
              "#0d0887"
             ],
             [
              0.1111111111111111,
              "#46039f"
             ],
             [
              0.2222222222222222,
              "#7201a8"
             ],
             [
              0.3333333333333333,
              "#9c179e"
             ],
             [
              0.4444444444444444,
              "#bd3786"
             ],
             [
              0.5555555555555556,
              "#d8576b"
             ],
             [
              0.6666666666666666,
              "#ed7953"
             ],
             [
              0.7777777777777778,
              "#fb9f3a"
             ],
             [
              0.8888888888888888,
              "#fdca26"
             ],
             [
              1,
              "#f0f921"
             ]
            ],
            "type": "heatmap"
           }
          ],
          "heatmapgl": [
           {
            "colorbar": {
             "outlinewidth": 0,
             "ticks": ""
            },
            "colorscale": [
             [
              0,
              "#0d0887"
             ],
             [
              0.1111111111111111,
              "#46039f"
             ],
             [
              0.2222222222222222,
              "#7201a8"
             ],
             [
              0.3333333333333333,
              "#9c179e"
             ],
             [
              0.4444444444444444,
              "#bd3786"
             ],
             [
              0.5555555555555556,
              "#d8576b"
             ],
             [
              0.6666666666666666,
              "#ed7953"
             ],
             [
              0.7777777777777778,
              "#fb9f3a"
             ],
             [
              0.8888888888888888,
              "#fdca26"
             ],
             [
              1,
              "#f0f921"
             ]
            ],
            "type": "heatmapgl"
           }
          ],
          "histogram": [
           {
            "marker": {
             "colorbar": {
              "outlinewidth": 0,
              "ticks": ""
             }
            },
            "type": "histogram"
           }
          ],
          "histogram2d": [
           {
            "colorbar": {
             "outlinewidth": 0,
             "ticks": ""
            },
            "colorscale": [
             [
              0,
              "#0d0887"
             ],
             [
              0.1111111111111111,
              "#46039f"
             ],
             [
              0.2222222222222222,
              "#7201a8"
             ],
             [
              0.3333333333333333,
              "#9c179e"
             ],
             [
              0.4444444444444444,
              "#bd3786"
             ],
             [
              0.5555555555555556,
              "#d8576b"
             ],
             [
              0.6666666666666666,
              "#ed7953"
             ],
             [
              0.7777777777777778,
              "#fb9f3a"
             ],
             [
              0.8888888888888888,
              "#fdca26"
             ],
             [
              1,
              "#f0f921"
             ]
            ],
            "type": "histogram2d"
           }
          ],
          "histogram2dcontour": [
           {
            "colorbar": {
             "outlinewidth": 0,
             "ticks": ""
            },
            "colorscale": [
             [
              0,
              "#0d0887"
             ],
             [
              0.1111111111111111,
              "#46039f"
             ],
             [
              0.2222222222222222,
              "#7201a8"
             ],
             [
              0.3333333333333333,
              "#9c179e"
             ],
             [
              0.4444444444444444,
              "#bd3786"
             ],
             [
              0.5555555555555556,
              "#d8576b"
             ],
             [
              0.6666666666666666,
              "#ed7953"
             ],
             [
              0.7777777777777778,
              "#fb9f3a"
             ],
             [
              0.8888888888888888,
              "#fdca26"
             ],
             [
              1,
              "#f0f921"
             ]
            ],
            "type": "histogram2dcontour"
           }
          ],
          "mesh3d": [
           {
            "colorbar": {
             "outlinewidth": 0,
             "ticks": ""
            },
            "type": "mesh3d"
           }
          ],
          "parcoords": [
           {
            "line": {
             "colorbar": {
              "outlinewidth": 0,
              "ticks": ""
             }
            },
            "type": "parcoords"
           }
          ],
          "scatter": [
           {
            "marker": {
             "colorbar": {
              "outlinewidth": 0,
              "ticks": ""
             }
            },
            "type": "scatter"
           }
          ],
          "scatter3d": [
           {
            "line": {
             "colorbar": {
              "outlinewidth": 0,
              "ticks": ""
             }
            },
            "marker": {
             "colorbar": {
              "outlinewidth": 0,
              "ticks": ""
             }
            },
            "type": "scatter3d"
           }
          ],
          "scattercarpet": [
           {
            "marker": {
             "colorbar": {
              "outlinewidth": 0,
              "ticks": ""
             }
            },
            "type": "scattercarpet"
           }
          ],
          "scattergeo": [
           {
            "marker": {
             "colorbar": {
              "outlinewidth": 0,
              "ticks": ""
             }
            },
            "type": "scattergeo"
           }
          ],
          "scattergl": [
           {
            "marker": {
             "colorbar": {
              "outlinewidth": 0,
              "ticks": ""
             }
            },
            "type": "scattergl"
           }
          ],
          "scattermapbox": [
           {
            "marker": {
             "colorbar": {
              "outlinewidth": 0,
              "ticks": ""
             }
            },
            "type": "scattermapbox"
           }
          ],
          "scatterpolar": [
           {
            "marker": {
             "colorbar": {
              "outlinewidth": 0,
              "ticks": ""
             }
            },
            "type": "scatterpolar"
           }
          ],
          "scatterpolargl": [
           {
            "marker": {
             "colorbar": {
              "outlinewidth": 0,
              "ticks": ""
             }
            },
            "type": "scatterpolargl"
           }
          ],
          "scatterternary": [
           {
            "marker": {
             "colorbar": {
              "outlinewidth": 0,
              "ticks": ""
             }
            },
            "type": "scatterternary"
           }
          ],
          "surface": [
           {
            "colorbar": {
             "outlinewidth": 0,
             "ticks": ""
            },
            "colorscale": [
             [
              0,
              "#0d0887"
             ],
             [
              0.1111111111111111,
              "#46039f"
             ],
             [
              0.2222222222222222,
              "#7201a8"
             ],
             [
              0.3333333333333333,
              "#9c179e"
             ],
             [
              0.4444444444444444,
              "#bd3786"
             ],
             [
              0.5555555555555556,
              "#d8576b"
             ],
             [
              0.6666666666666666,
              "#ed7953"
             ],
             [
              0.7777777777777778,
              "#fb9f3a"
             ],
             [
              0.8888888888888888,
              "#fdca26"
             ],
             [
              1,
              "#f0f921"
             ]
            ],
            "type": "surface"
           }
          ],
          "table": [
           {
            "cells": {
             "fill": {
              "color": "#EBF0F8"
             },
             "line": {
              "color": "white"
             }
            },
            "header": {
             "fill": {
              "color": "#C8D4E3"
             },
             "line": {
              "color": "white"
             }
            },
            "type": "table"
           }
          ]
         },
         "layout": {
          "annotationdefaults": {
           "arrowcolor": "#2a3f5f",
           "arrowhead": 0,
           "arrowwidth": 1
          },
          "colorscale": {
           "diverging": [
            [
             0,
             "#8e0152"
            ],
            [
             0.1,
             "#c51b7d"
            ],
            [
             0.2,
             "#de77ae"
            ],
            [
             0.3,
             "#f1b6da"
            ],
            [
             0.4,
             "#fde0ef"
            ],
            [
             0.5,
             "#f7f7f7"
            ],
            [
             0.6,
             "#e6f5d0"
            ],
            [
             0.7,
             "#b8e186"
            ],
            [
             0.8,
             "#7fbc41"
            ],
            [
             0.9,
             "#4d9221"
            ],
            [
             1,
             "#276419"
            ]
           ],
           "sequential": [
            [
             0,
             "#0d0887"
            ],
            [
             0.1111111111111111,
             "#46039f"
            ],
            [
             0.2222222222222222,
             "#7201a8"
            ],
            [
             0.3333333333333333,
             "#9c179e"
            ],
            [
             0.4444444444444444,
             "#bd3786"
            ],
            [
             0.5555555555555556,
             "#d8576b"
            ],
            [
             0.6666666666666666,
             "#ed7953"
            ],
            [
             0.7777777777777778,
             "#fb9f3a"
            ],
            [
             0.8888888888888888,
             "#fdca26"
            ],
            [
             1,
             "#f0f921"
            ]
           ],
           "sequentialminus": [
            [
             0,
             "#0d0887"
            ],
            [
             0.1111111111111111,
             "#46039f"
            ],
            [
             0.2222222222222222,
             "#7201a8"
            ],
            [
             0.3333333333333333,
             "#9c179e"
            ],
            [
             0.4444444444444444,
             "#bd3786"
            ],
            [
             0.5555555555555556,
             "#d8576b"
            ],
            [
             0.6666666666666666,
             "#ed7953"
            ],
            [
             0.7777777777777778,
             "#fb9f3a"
            ],
            [
             0.8888888888888888,
             "#fdca26"
            ],
            [
             1,
             "#f0f921"
            ]
           ]
          },
          "colorway": [
           "#636efa",
           "#EF553B",
           "#00cc96",
           "#ab63fa",
           "#FFA15A",
           "#19d3f3",
           "#FF6692",
           "#B6E880",
           "#FF97FF",
           "#FECB52"
          ],
          "font": {
           "color": "#2a3f5f"
          },
          "geo": {
           "bgcolor": "white",
           "lakecolor": "white",
           "landcolor": "#E5ECF6",
           "showlakes": true,
           "showland": true,
           "subunitcolor": "white"
          },
          "hoverlabel": {
           "align": "left"
          },
          "hovermode": "closest",
          "mapbox": {
           "style": "light"
          },
          "paper_bgcolor": "white",
          "plot_bgcolor": "#E5ECF6",
          "polar": {
           "angularaxis": {
            "gridcolor": "white",
            "linecolor": "white",
            "ticks": ""
           },
           "bgcolor": "#E5ECF6",
           "radialaxis": {
            "gridcolor": "white",
            "linecolor": "white",
            "ticks": ""
           }
          },
          "scene": {
           "xaxis": {
            "backgroundcolor": "#E5ECF6",
            "gridcolor": "white",
            "gridwidth": 2,
            "linecolor": "white",
            "showbackground": true,
            "ticks": "",
            "zerolinecolor": "white"
           },
           "yaxis": {
            "backgroundcolor": "#E5ECF6",
            "gridcolor": "white",
            "gridwidth": 2,
            "linecolor": "white",
            "showbackground": true,
            "ticks": "",
            "zerolinecolor": "white"
           },
           "zaxis": {
            "backgroundcolor": "#E5ECF6",
            "gridcolor": "white",
            "gridwidth": 2,
            "linecolor": "white",
            "showbackground": true,
            "ticks": "",
            "zerolinecolor": "white"
           }
          },
          "shapedefaults": {
           "line": {
            "color": "#2a3f5f"
           }
          },
          "ternary": {
           "aaxis": {
            "gridcolor": "white",
            "linecolor": "white",
            "ticks": ""
           },
           "baxis": {
            "gridcolor": "white",
            "linecolor": "white",
            "ticks": ""
           },
           "bgcolor": "#E5ECF6",
           "caxis": {
            "gridcolor": "white",
            "linecolor": "white",
            "ticks": ""
           }
          },
          "title": {
           "x": 0.05
          },
          "xaxis": {
           "automargin": true,
           "gridcolor": "white",
           "linecolor": "white",
           "ticks": "",
           "zerolinecolor": "white",
           "zerolinewidth": 2
          },
          "yaxis": {
           "automargin": true,
           "gridcolor": "white",
           "linecolor": "white",
           "ticks": "",
           "zerolinecolor": "white",
           "zerolinewidth": 2
          }
         }
        },
        "title": {
         "text": "rbf"
        }
       }
      },
      "text/html": [
       "<div>\n",
       "        \n",
       "        \n",
       "            <div id=\"b0dfa55a-8f3e-44f9-9c5d-aba31643c8fd\" class=\"plotly-graph-div\" style=\"height:525px; width:100%;\"></div>\n",
       "            <script type=\"text/javascript\">\n",
       "                require([\"plotly\"], function(Plotly) {\n",
       "                    window.PLOTLYENV=window.PLOTLYENV || {};\n",
       "                    \n",
       "                if (document.getElementById(\"b0dfa55a-8f3e-44f9-9c5d-aba31643c8fd\")) {\n",
       "                    Plotly.newPlot(\n",
       "                        'b0dfa55a-8f3e-44f9-9c5d-aba31643c8fd',\n",
       "                        [{\"mode\": \"markers\", \"name\": \"observed points\", \"type\": \"scatter\", \"x\": [0, 8.0, 3.0], \"y\": [10, 9, 15]}, {\"mode\": \"lines\", \"type\": \"scatter\", \"x\": [-10.0, -9.696969696969697, -9.393939393939394, -9.09090909090909, -8.787878787878787, -8.484848484848484, -8.181818181818182, -7.878787878787879, -7.575757575757576, -7.2727272727272725, -6.96969696969697, -6.666666666666666, -6.363636363636363, -6.0606060606060606, -5.757575757575758, -5.454545454545454, -5.151515151515151, -4.848484848484849, -4.545454545454545, -4.242424242424242, -3.9393939393939394, -3.636363636363636, -3.333333333333333, -3.0303030303030303, -2.7272727272727266, -2.424242424242424, -2.121212121212121, -1.8181818181818183, -1.5151515151515156, -1.212121212121211, -0.9090909090909083, -0.6060606060606055, -0.30303030303030276, 0.0, 0.30303030303030276, 0.6060606060606055, 0.9090909090909101, 1.2121212121212128, 1.5151515151515156, 1.8181818181818183, 2.121212121212121, 2.424242424242424, 2.7272727272727284, 3.030303030303031, 3.333333333333334, 3.6363636363636367, 3.9393939393939394, 4.242424242424242, 4.545454545454547, 4.8484848484848495, 5.151515151515152, 5.454545454545455, 5.757575757575758, 6.060606060606062, 6.363636363636363, 6.666666666666668, 6.969696969696969, 7.272727272727273, 7.575757575757578, 7.878787878787879, 8.181818181818183, 8.484848484848484, 8.787878787878789, 9.09090909090909, 9.393939393939394, 9.696969696969699, 10.0, 10.303030303030305, 10.606060606060606, 10.90909090909091, 11.212121212121211, 11.515151515151516, 11.81818181818182, 12.121212121212121, 12.424242424242426, 12.727272727272727, 13.030303030303031, 13.333333333333336, 13.636363636363637, 13.939393939393941, 14.242424242424242, 14.545454545454547, 14.848484848484848, 15.151515151515152, 15.454545454545457, 15.757575757575758, 16.060606060606062, 16.363636363636363, 16.666666666666668, 16.96969696969697, 17.272727272727273, 17.575757575757578, 17.87878787878788, 18.181818181818183, 18.484848484848484, 18.78787878787879, 19.090909090909093, 19.393939393939394, 19.6969696969697, 20.0], \"y\": [0.00045399929762484856, 0.0008246619300251315, 0.00147068847027401, 0.0025750721729649864, 0.004426720484419618, 0.007471344659366936, 0.01238053518270857, 0.020142067291649052, 0.03217308029822446, 0.0504551172430546, 0.07768582334820683, 0.11743628457021371, 0.17429575455526375, 0.2539775277782819, 0.36335216357079403, 0.5103688810314778, 0.7038248526441121, 0.9529475251890294, 1.2667687798863474, 1.6532924893198364, 2.1184880113072593, 2.665178523108103, 3.2919298780790562, 3.9920762040091606, 4.753035374189699, 5.55606408856444, 6.376574281502294, 7.185079474201354, 7.948765881681732, 8.633597773527642, 9.206782722788244, 9.639354513231066, 9.90859296112551, 10.0, 9.90859296112551, 9.639354513231066, 9.206782722788242, 8.63359777352764, 7.948765881681732, 7.185079474201354, 6.376574281502294, 5.55606408856444, 4.753035374189695, 3.9920762040091584, 3.2919298780790553, 2.6651785231081018, 2.1184880113072593, 1.6532924893198364, 1.2667687798863452, 0.9529475251890289, 0.7038248526441114, 0.5103688810314773, 0.36335216357079403, 0.25397752777828136, 0.17429575455526375, 0.1174362845702135, 0.0776858233482069, 0.05045511724305455, 0.032173080298224375, 0.020142067291649052, 0.012380535182708525, 0.007471344659366936, 0.004426720484419602, 0.0025750721729649864, 0.00147068847027401, 0.00082466193002513, 0.00045399929762484856, 0.0002453908654410105, 0.00013022236549468014, 6.784795220910188e-05, 3.4706585174475536e-05, 1.743054643447705e-05, 8.594766763771087e-06, 4.1608414365301766e-06, 1.9776626534222125e-06, 9.228842519818658e-07, 4.228304299230355e-07, 1.9019942979102812e-07, 8.399939593995155e-08, 3.642227689951052e-08, 1.550536510469931e-08, 6.4806844938468026e-09, 2.6594004439378736e-09, 1.0714466999328441e-09, 4.238199370496005e-10, 1.6459482260582623e-10, 6.275884382460005e-11, 2.3494038421852757e-11, 8.635040753377314e-12, 3.1159830383489522e-12, 1.1039508921539335e-12, 3.83997503676727e-13, 1.3113874520602995e-13, 4.39701171820784e-14, 1.4474654249432273e-14, 4.678242724046912e-15, 1.4845036829711398e-15, 4.624915309417065e-16, 1.4146541108213508e-16, 4.248354255291589e-17]}, {\"mode\": \"lines\", \"type\": \"scatter\", \"x\": [-10.0, -9.696969696969697, -9.393939393939394, -9.09090909090909, -8.787878787878787, -8.484848484848484, -8.181818181818182, -7.878787878787879, -7.575757575757576, -7.2727272727272725, -6.96969696969697, -6.666666666666666, -6.363636363636363, -6.0606060606060606, -5.757575757575758, -5.454545454545454, -5.151515151515151, -4.848484848484849, -4.545454545454545, -4.242424242424242, -3.9393939393939394, -3.636363636363636, -3.333333333333333, -3.0303030303030303, -2.7272727272727266, -2.424242424242424, -2.121212121212121, -1.8181818181818183, -1.5151515151515156, -1.212121212121211, -0.9090909090909083, -0.6060606060606055, -0.30303030303030276, 0.0, 0.30303030303030276, 0.6060606060606055, 0.9090909090909101, 1.2121212121212128, 1.5151515151515156, 1.8181818181818183, 2.121212121212121, 2.424242424242424, 2.7272727272727284, 3.030303030303031, 3.333333333333334, 3.6363636363636367, 3.9393939393939394, 4.242424242424242, 4.545454545454547, 4.8484848484848495, 5.151515151515152, 5.454545454545455, 5.757575757575758, 6.060606060606062, 6.363636363636363, 6.666666666666668, 6.969696969696969, 7.272727272727273, 7.575757575757578, 7.878787878787879, 8.181818181818183, 8.484848484848484, 8.787878787878789, 9.09090909090909, 9.393939393939394, 9.696969696969699, 10.0, 10.303030303030305, 10.606060606060606, 10.90909090909091, 11.212121212121211, 11.515151515151516, 11.81818181818182, 12.121212121212121, 12.424242424242426, 12.727272727272727, 13.030303030303031, 13.333333333333336, 13.636363636363637, 13.939393939393941, 14.242424242424242, 14.545454545454547, 14.848484848484848, 15.151515151515152, 15.454545454545457, 15.757575757575758, 16.060606060606062, 16.363636363636363, 16.666666666666668, 16.96969696969697, 17.272727272727273, 17.575757575757578, 17.87878787878788, 18.181818181818183, 18.484848484848484, 18.78787878787879, 19.090909090909093, 19.393939393939394, 19.6969696969697, 20.0], \"y\": [7.640139630484599e-14, 2.2536635594755004e-13, 6.52680812600393e-13, 1.85582313817685e-12, 5.180793726637975e-12, 1.4199726962418077e-11, 3.82109348138814e-11, 1.0095301830392895e-10, 2.6186347689233063e-10, 6.668904960196396e-10, 1.6674702837798459e-09, 4.093413846392272e-09, 9.865910740663418e-09, 2.3346011016909255e-08, 5.423906155343515e-08, 1.237187785955206e-07, 2.7706588675625604e-07, 6.091923869282629e-07, 1.3150729772452593e-06, 2.787206952608746e-06, 5.799793835381989e-06, 1.1848950135926158e-05, 2.3766824765528764e-05, 4.680437311888257e-05, 9.049522788576732e-05, 0.00017178644788758008, 0.0003201666543411705, 0.000585851130515089, 0.001052500772656256, 0.0018564427074412718, 0.0032148791696596925, 0.005466026528167503, 0.009124367983744297, 0.014954015458565405, 0.024062283261938548, 0.03801367183662149, 0.05896126381427934, 0.08978788115089749, 0.13424330589606448, 0.1970568474826378, 0.28399742293287783, 0.4018474753040634, 0.5582542853343089, 0.7614245291309476, 1.0196371202726728, 1.3405665805851363, 1.730434303333545, 2.1930362955651987, 2.728729585484821, 3.333489996972499, 3.998174908542765, 4.708129488920967, 5.443258818533374, 6.178649327242071, 6.885763245338945, 7.534155882246875, 8.09358800530595, 8.536337190211427, 8.839465525306267, 8.986786568717646, 8.970297056708342, 8.790897155933788, 8.458309059672283, 7.990204171839459, 7.410647918937693, 6.748052617122111, 6.032880414320754, 5.29535340335087, 4.563406522749688, 3.8610670596604013, 3.207373279607481, 2.6158669177705027, 2.094622482111545, 1.6467203488781879, 1.2710362014962913, 0.963207742196256, 0.7166481526804506, 0.5234991527490824, 0.37544813989023285, 0.2643674045590126, 0.18276365475820452, 0.12404970544602982, 0.08266575128958478, 0.05408532867559908, 0.03474219918514914, 0.021910844411420126, 0.013567033597187642, 0.008247734313844282, 0.004922757028530746, 0.0028847362755651342, 0.0016596931715697582, 0.0009375047460945735, 0.0005199278957240477, 0.0002830979601083036, 0.00015134021172649728, 7.943207556947121e-05, 4.093185820340597e-05, 2.0708611826575835e-05, 1.0286425630783046e-05, 5.016513323425136e-06]}, {\"mode\": \"lines\", \"type\": \"scatter\", \"x\": [-10.0, -9.696969696969697, -9.393939393939394, -9.09090909090909, -8.787878787878787, -8.484848484848484, -8.181818181818182, -7.878787878787879, -7.575757575757576, -7.2727272727272725, -6.96969696969697, -6.666666666666666, -6.363636363636363, -6.0606060606060606, -5.757575757575758, -5.454545454545454, -5.151515151515151, -4.848484848484849, -4.545454545454545, -4.242424242424242, -3.9393939393939394, -3.636363636363636, -3.333333333333333, -3.0303030303030303, -2.7272727272727266, -2.424242424242424, -2.121212121212121, -1.8181818181818183, -1.5151515151515156, -1.212121212121211, -0.9090909090909083, -0.6060606060606055, -0.30303030303030276, 0.0, 0.30303030303030276, 0.6060606060606055, 0.9090909090909101, 1.2121212121212128, 1.5151515151515156, 1.8181818181818183, 2.121212121212121, 2.424242424242424, 2.7272727272727284, 3.030303030303031, 3.333333333333334, 3.6363636363636367, 3.9393939393939394, 4.242424242424242, 4.545454545454547, 4.8484848484848495, 5.151515151515152, 5.454545454545455, 5.757575757575758, 6.060606060606062, 6.363636363636363, 6.666666666666668, 6.969696969696969, 7.272727272727273, 7.575757575757578, 7.878787878787879, 8.181818181818183, 8.484848484848484, 8.787878787878789, 9.09090909090909, 9.393939393939394, 9.696969696969699, 10.0, 10.303030303030305, 10.606060606060606, 10.90909090909091, 11.212121212121211, 11.515151515151516, 11.81818181818182, 12.121212121212121, 12.424242424242426, 12.727272727272727, 13.030303030303031, 13.333333333333336, 13.636363636363637, 13.939393939393941, 14.242424242424242, 14.545454545454547, 14.848484848484848, 15.151515151515152, 15.454545454545457, 15.757575757575758, 16.060606060606062, 16.363636363636363, 16.666666666666668, 16.96969696969697, 17.272727272727273, 17.575757575757578, 17.87878787878788, 18.181818181818183, 18.484848484848484, 18.78787878787879, 19.090909090909093, 19.393939393939394, 19.6969696969697, 20.0], \"y\": [6.863008154168694e-07, 1.4951952652033955e-06, 3.198197561242299e-06, 6.716401329179055e-06, 1.3848156613738029e-05, 2.8033109313218878e-05, 5.571530996811685e-05, 0.0001087180885080032, 0.0002082826244804187, 0.0003917673611176991, 0.0007234815120882914, 0.0013117485728892108, 0.0023350583615375903, 0.004081021242115518, 0.007002674623270201, 0.011797310665428771, 0.01951309060752581, 0.03168787255350029, 0.050522412531583724, 0.07908589888074674, 0.12154525413795439, 0.18340067653762612, 0.2716988731377086, 0.3951834218983855, 0.564330566618705, 0.7912111655570436, 1.0891187054070748, 1.471912532663688, 1.953047319283254, 2.544295235773291, 3.2542148321092506, 4.086475618664962, 5.03820205252848, 6.0985448961089865, 7.247710649121173, 8.456671182304936, 9.687729826826677, 10.896036999396037, 12.032035273051378, 13.044685110883627, 13.885198095278453, 14.5109062590836, 14.888843655896643, 14.998622652771731, 14.834255839408835, 14.404696991089498, 13.733033072084691, 12.85442874379504, 11.81307803609957, 10.658530714678795, 9.441817150436327, 8.211789472496767, 7.012033855183618, 5.878603626845038, 4.838695900729684, 3.9102673853446728, 3.102476917124289, 2.416766202016124, 1.8483520565969842, 1.387901764163309, 1.0231910602153775, 0.7405914990201163, 0.5262894748456907, 0.36719319436582437, 0.2515292745953467, 0.16916340949932807, 0.11169874606386507, 0.07241260014392918, 0.04608970866811527, 0.028801675981704744, 0.017670772434350494, 0.010644304362827806, 0.006295105471951686, 0.0036552132055403955, 0.0020837537464033435, 0.0011662832803872197, 0.0006408932273799494, 0.00034577316974098213, 0.00018315588458421502, 9.525207351360716e-05, 4.8635342298237516e-05, 2.4381110995037996e-05, 1.1999937465774728e-05, 5.798670756171795e-06, 2.7510716072340583e-06, 1.2814430657781086e-06, 5.860311651511458e-07, 2.631274069894582e-07, 1.1599397617949157e-07, 5.0202895058986963e-08, 2.1332711757146423e-08, 8.899945448374432e-09, 3.6454622094400604e-09, 1.4660265407125206e-09, 5.788353439973526e-10, 2.2438417616321665e-10, 8.539911859508914e-11, 3.191086131118061e-11, 1.1707054524083763e-11, 4.2167779481835515e-12]}],\n",
       "                        {\"template\": {\"data\": {\"bar\": [{\"error_x\": {\"color\": \"#2a3f5f\"}, \"error_y\": {\"color\": \"#2a3f5f\"}, \"marker\": {\"line\": {\"color\": \"#E5ECF6\", \"width\": 0.5}}, \"type\": \"bar\"}], \"barpolar\": [{\"marker\": {\"line\": {\"color\": \"#E5ECF6\", \"width\": 0.5}}, \"type\": \"barpolar\"}], \"carpet\": [{\"aaxis\": {\"endlinecolor\": \"#2a3f5f\", \"gridcolor\": \"white\", \"linecolor\": \"white\", \"minorgridcolor\": \"white\", \"startlinecolor\": \"#2a3f5f\"}, \"baxis\": {\"endlinecolor\": \"#2a3f5f\", \"gridcolor\": \"white\", \"linecolor\": \"white\", \"minorgridcolor\": \"white\", \"startlinecolor\": \"#2a3f5f\"}, \"type\": \"carpet\"}], \"choropleth\": [{\"colorbar\": {\"outlinewidth\": 0, \"ticks\": \"\"}, \"type\": \"choropleth\"}], \"contour\": [{\"colorbar\": {\"outlinewidth\": 0, \"ticks\": \"\"}, \"colorscale\": [[0.0, \"#0d0887\"], [0.1111111111111111, \"#46039f\"], [0.2222222222222222, \"#7201a8\"], [0.3333333333333333, \"#9c179e\"], [0.4444444444444444, \"#bd3786\"], [0.5555555555555556, \"#d8576b\"], [0.6666666666666666, \"#ed7953\"], [0.7777777777777778, \"#fb9f3a\"], [0.8888888888888888, \"#fdca26\"], [1.0, \"#f0f921\"]], \"type\": \"contour\"}], \"contourcarpet\": [{\"colorbar\": {\"outlinewidth\": 0, \"ticks\": \"\"}, \"type\": \"contourcarpet\"}], \"heatmap\": [{\"colorbar\": {\"outlinewidth\": 0, \"ticks\": \"\"}, \"colorscale\": [[0.0, \"#0d0887\"], [0.1111111111111111, \"#46039f\"], [0.2222222222222222, \"#7201a8\"], [0.3333333333333333, \"#9c179e\"], [0.4444444444444444, \"#bd3786\"], [0.5555555555555556, \"#d8576b\"], [0.6666666666666666, \"#ed7953\"], [0.7777777777777778, \"#fb9f3a\"], [0.8888888888888888, \"#fdca26\"], [1.0, \"#f0f921\"]], \"type\": \"heatmap\"}], \"heatmapgl\": [{\"colorbar\": {\"outlinewidth\": 0, \"ticks\": \"\"}, \"colorscale\": [[0.0, \"#0d0887\"], [0.1111111111111111, \"#46039f\"], [0.2222222222222222, \"#7201a8\"], [0.3333333333333333, \"#9c179e\"], [0.4444444444444444, \"#bd3786\"], [0.5555555555555556, \"#d8576b\"], [0.6666666666666666, \"#ed7953\"], [0.7777777777777778, \"#fb9f3a\"], [0.8888888888888888, \"#fdca26\"], [1.0, \"#f0f921\"]], \"type\": \"heatmapgl\"}], \"histogram\": [{\"marker\": {\"colorbar\": {\"outlinewidth\": 0, \"ticks\": \"\"}}, \"type\": \"histogram\"}], \"histogram2d\": [{\"colorbar\": {\"outlinewidth\": 0, \"ticks\": \"\"}, \"colorscale\": [[0.0, \"#0d0887\"], [0.1111111111111111, \"#46039f\"], [0.2222222222222222, \"#7201a8\"], [0.3333333333333333, \"#9c179e\"], [0.4444444444444444, \"#bd3786\"], [0.5555555555555556, \"#d8576b\"], [0.6666666666666666, \"#ed7953\"], [0.7777777777777778, \"#fb9f3a\"], [0.8888888888888888, \"#fdca26\"], [1.0, \"#f0f921\"]], \"type\": \"histogram2d\"}], \"histogram2dcontour\": [{\"colorbar\": {\"outlinewidth\": 0, \"ticks\": \"\"}, \"colorscale\": [[0.0, \"#0d0887\"], [0.1111111111111111, \"#46039f\"], [0.2222222222222222, \"#7201a8\"], [0.3333333333333333, \"#9c179e\"], [0.4444444444444444, \"#bd3786\"], [0.5555555555555556, \"#d8576b\"], [0.6666666666666666, \"#ed7953\"], [0.7777777777777778, \"#fb9f3a\"], [0.8888888888888888, \"#fdca26\"], [1.0, \"#f0f921\"]], \"type\": \"histogram2dcontour\"}], \"mesh3d\": [{\"colorbar\": {\"outlinewidth\": 0, \"ticks\": \"\"}, \"type\": \"mesh3d\"}], \"parcoords\": [{\"line\": {\"colorbar\": {\"outlinewidth\": 0, \"ticks\": \"\"}}, \"type\": \"parcoords\"}], \"scatter\": [{\"marker\": {\"colorbar\": {\"outlinewidth\": 0, \"ticks\": \"\"}}, \"type\": \"scatter\"}], \"scatter3d\": [{\"line\": {\"colorbar\": {\"outlinewidth\": 0, \"ticks\": \"\"}}, \"marker\": {\"colorbar\": {\"outlinewidth\": 0, \"ticks\": \"\"}}, \"type\": \"scatter3d\"}], \"scattercarpet\": [{\"marker\": {\"colorbar\": {\"outlinewidth\": 0, \"ticks\": \"\"}}, \"type\": \"scattercarpet\"}], \"scattergeo\": [{\"marker\": {\"colorbar\": {\"outlinewidth\": 0, \"ticks\": \"\"}}, \"type\": \"scattergeo\"}], \"scattergl\": [{\"marker\": {\"colorbar\": {\"outlinewidth\": 0, \"ticks\": \"\"}}, \"type\": \"scattergl\"}], \"scattermapbox\": [{\"marker\": {\"colorbar\": {\"outlinewidth\": 0, \"ticks\": \"\"}}, \"type\": \"scattermapbox\"}], \"scatterpolar\": [{\"marker\": {\"colorbar\": {\"outlinewidth\": 0, \"ticks\": \"\"}}, \"type\": \"scatterpolar\"}], \"scatterpolargl\": [{\"marker\": {\"colorbar\": {\"outlinewidth\": 0, \"ticks\": \"\"}}, \"type\": \"scatterpolargl\"}], \"scatterternary\": [{\"marker\": {\"colorbar\": {\"outlinewidth\": 0, \"ticks\": \"\"}}, \"type\": \"scatterternary\"}], \"surface\": [{\"colorbar\": {\"outlinewidth\": 0, \"ticks\": \"\"}, \"colorscale\": [[0.0, \"#0d0887\"], [0.1111111111111111, \"#46039f\"], [0.2222222222222222, \"#7201a8\"], [0.3333333333333333, \"#9c179e\"], [0.4444444444444444, \"#bd3786\"], [0.5555555555555556, \"#d8576b\"], [0.6666666666666666, \"#ed7953\"], [0.7777777777777778, \"#fb9f3a\"], [0.8888888888888888, \"#fdca26\"], [1.0, \"#f0f921\"]], \"type\": \"surface\"}], \"table\": [{\"cells\": {\"fill\": {\"color\": \"#EBF0F8\"}, \"line\": {\"color\": \"white\"}}, \"header\": {\"fill\": {\"color\": \"#C8D4E3\"}, \"line\": {\"color\": \"white\"}}, \"type\": \"table\"}]}, \"layout\": {\"annotationdefaults\": {\"arrowcolor\": \"#2a3f5f\", \"arrowhead\": 0, \"arrowwidth\": 1}, \"colorscale\": {\"diverging\": [[0, \"#8e0152\"], [0.1, \"#c51b7d\"], [0.2, \"#de77ae\"], [0.3, \"#f1b6da\"], [0.4, \"#fde0ef\"], [0.5, \"#f7f7f7\"], [0.6, \"#e6f5d0\"], [0.7, \"#b8e186\"], [0.8, \"#7fbc41\"], [0.9, \"#4d9221\"], [1, \"#276419\"]], \"sequential\": [[0.0, \"#0d0887\"], [0.1111111111111111, \"#46039f\"], [0.2222222222222222, \"#7201a8\"], [0.3333333333333333, \"#9c179e\"], [0.4444444444444444, \"#bd3786\"], [0.5555555555555556, \"#d8576b\"], [0.6666666666666666, \"#ed7953\"], [0.7777777777777778, \"#fb9f3a\"], [0.8888888888888888, \"#fdca26\"], [1.0, \"#f0f921\"]], \"sequentialminus\": [[0.0, \"#0d0887\"], [0.1111111111111111, \"#46039f\"], [0.2222222222222222, \"#7201a8\"], [0.3333333333333333, \"#9c179e\"], [0.4444444444444444, \"#bd3786\"], [0.5555555555555556, \"#d8576b\"], [0.6666666666666666, \"#ed7953\"], [0.7777777777777778, \"#fb9f3a\"], [0.8888888888888888, \"#fdca26\"], [1.0, \"#f0f921\"]]}, \"colorway\": [\"#636efa\", \"#EF553B\", \"#00cc96\", \"#ab63fa\", \"#FFA15A\", \"#19d3f3\", \"#FF6692\", \"#B6E880\", \"#FF97FF\", \"#FECB52\"], \"font\": {\"color\": \"#2a3f5f\"}, \"geo\": {\"bgcolor\": \"white\", \"lakecolor\": \"white\", \"landcolor\": \"#E5ECF6\", \"showlakes\": true, \"showland\": true, \"subunitcolor\": \"white\"}, \"hoverlabel\": {\"align\": \"left\"}, \"hovermode\": \"closest\", \"mapbox\": {\"style\": \"light\"}, \"paper_bgcolor\": \"white\", \"plot_bgcolor\": \"#E5ECF6\", \"polar\": {\"angularaxis\": {\"gridcolor\": \"white\", \"linecolor\": \"white\", \"ticks\": \"\"}, \"bgcolor\": \"#E5ECF6\", \"radialaxis\": {\"gridcolor\": \"white\", \"linecolor\": \"white\", \"ticks\": \"\"}}, \"scene\": {\"xaxis\": {\"backgroundcolor\": \"#E5ECF6\", \"gridcolor\": \"white\", \"gridwidth\": 2, \"linecolor\": \"white\", \"showbackground\": true, \"ticks\": \"\", \"zerolinecolor\": \"white\"}, \"yaxis\": {\"backgroundcolor\": \"#E5ECF6\", \"gridcolor\": \"white\", \"gridwidth\": 2, \"linecolor\": \"white\", \"showbackground\": true, \"ticks\": \"\", \"zerolinecolor\": \"white\"}, \"zaxis\": {\"backgroundcolor\": \"#E5ECF6\", \"gridcolor\": \"white\", \"gridwidth\": 2, \"linecolor\": \"white\", \"showbackground\": true, \"ticks\": \"\", \"zerolinecolor\": \"white\"}}, \"shapedefaults\": {\"line\": {\"color\": \"#2a3f5f\"}}, \"ternary\": {\"aaxis\": {\"gridcolor\": \"white\", \"linecolor\": \"white\", \"ticks\": \"\"}, \"baxis\": {\"gridcolor\": \"white\", \"linecolor\": \"white\", \"ticks\": \"\"}, \"bgcolor\": \"#E5ECF6\", \"caxis\": {\"gridcolor\": \"white\", \"linecolor\": \"white\", \"ticks\": \"\"}}, \"title\": {\"x\": 0.05}, \"xaxis\": {\"automargin\": true, \"gridcolor\": \"white\", \"linecolor\": \"white\", \"ticks\": \"\", \"zerolinecolor\": \"white\", \"zerolinewidth\": 2}, \"yaxis\": {\"automargin\": true, \"gridcolor\": \"white\", \"linecolor\": \"white\", \"ticks\": \"\", \"zerolinecolor\": \"white\", \"zerolinewidth\": 2}}}, \"title\": {\"text\": \"rbf\"}},\n",
       "                        {\"responsive\": true}\n",
       "                    ).then(function(){\n",
       "                            \n",
       "var gd = document.getElementById('b0dfa55a-8f3e-44f9-9c5d-aba31643c8fd');\n",
       "var x = new MutationObserver(function (mutations, observer) {{\n",
       "        var display = window.getComputedStyle(gd).display;\n",
       "        if (!display || display === 'none') {{\n",
       "            console.log([gd, 'removed!']);\n",
       "            Plotly.purge(gd);\n",
       "            observer.disconnect();\n",
       "        }}\n",
       "}});\n",
       "\n",
       "// Listen for the removal of the full notebook cells\n",
       "var notebookContainer = gd.closest('#notebook-container');\n",
       "if (notebookContainer) {{\n",
       "    x.observe(notebookContainer, {childList: true});\n",
       "}}\n",
       "\n",
       "// Listen for the clearing of the current output cell\n",
       "var outputEl = gd.closest('.output');\n",
       "if (outputEl) {{\n",
       "    x.observe(outputEl, {childList: true});\n",
       "}}\n",
       "\n",
       "                        })\n",
       "                };\n",
       "                });\n",
       "            </script>\n",
       "        </div>"
      ]
     },
     "metadata": {},
     "output_type": "display_data"
    }
   ],
   "source": [
    "x = np.linspace(-10.,20.,100)\n",
    "\n",
    "traces = []\n",
    "\n",
    "trace = {\n",
    "    'type':'scatter',\n",
    "    'mode':'markers',\n",
    "    'x':[c1[0][0],c2[0][0],c3[0][0]],\n",
    "    'y':[c1[1],c2[1],c3[1]],\n",
    "    'name':'observed points',\n",
    "}\n",
    "\n",
    "traces.append(trace)\n",
    "\n",
    "trace = {\n",
    "    'type':'scatter',\n",
    "    'mode':'lines',\n",
    "    'x':x,\n",
    "    'y':[c1[1]*gauss_rbf(gamma,xi,c1[0][0]) for xi in x],\n",
    "}\n",
    "\n",
    "traces.append(trace)\n",
    "\n",
    "trace = {\n",
    "    'type':'scatter',\n",
    "    'mode':'lines',\n",
    "    'x':x,\n",
    "    'y':[c2[1]*gauss_rbf(gamma,xi,c2[0][0]) for xi in x],\n",
    "}\n",
    "\n",
    "traces.append(trace)\n",
    "\n",
    "trace = {\n",
    "    'type':'scatter',\n",
    "    'mode':'lines',\n",
    "    'x':x,\n",
    "    'y':[c3[1]*gauss_rbf(gamma,xi,c3[0][0]) for xi in x],\n",
    "}\n",
    "\n",
    "traces.append(trace)\n",
    "\n",
    "layout = {\n",
    "    'title':'rbf',\n",
    "}\n",
    "\n",
    "fig = go.Figure(traces, layout)\n",
    "\n",
    "pyo.iplot(fig)"
   ]
  },
  {
   "cell_type": "code",
   "execution_count": 293,
   "metadata": {},
   "outputs": [],
   "source": [
    "Y = cdist([c1[0],c2[0],c3[0]], [c1[0],c2[0],c3[0]], 'euclidean')"
   ]
  },
  {
   "cell_type": "code",
   "execution_count": 294,
   "metadata": {},
   "outputs": [
    {
     "data": {
      "text/plain": [
       "array([[0., 8., 3.],\n",
       "       [8., 0., 5.],\n",
       "       [3., 5., 0.]])"
      ]
     },
     "execution_count": 294,
     "metadata": {},
     "output_type": "execute_result"
    }
   ],
   "source": [
    "Y"
   ]
  },
  {
   "cell_type": "code",
   "execution_count": 295,
   "metadata": {},
   "outputs": [],
   "source": [
    "Y_g = gauss_rbf_dist(gamma, Y)"
   ]
  },
  {
   "cell_type": "code",
   "execution_count": 296,
   "metadata": {},
   "outputs": [
    {
     "data": {
      "text/plain": [
       "array([[1.        , 0.00166156, 0.40656966],\n",
       "       [0.00166156, 1.        , 0.082085  ],\n",
       "       [0.40656966, 0.082085  , 1.        ]])"
      ]
     },
     "execution_count": 296,
     "metadata": {},
     "output_type": "execute_result"
    }
   ],
   "source": [
    "Y_g"
   ]
  },
  {
   "cell_type": "code",
   "execution_count": 297,
   "metadata": {},
   "outputs": [],
   "source": [
    "Y_inv_g = np.linalg.inv(Y_g)"
   ]
  },
  {
   "cell_type": "code",
   "execution_count": 298,
   "metadata": {},
   "outputs": [
    {
     "data": {
      "text/plain": [
       "array([[ 1.19948855,  0.03829587, -0.49081917],\n",
       "       [ 0.03829587,  1.00800632, -0.09831214],\n",
       "       [-0.49081917, -0.09831214,  1.20762213]])"
      ]
     },
     "execution_count": 298,
     "metadata": {},
     "output_type": "execute_result"
    }
   ],
   "source": [
    "Y_inv_g"
   ]
  },
  {
   "cell_type": "code",
   "execution_count": 299,
   "metadata": {},
   "outputs": [],
   "source": [
    "w = np.dot(Y_inv_g, np.array([c1[1],c2[1],c3[1]]))"
   ]
  },
  {
   "cell_type": "code",
   "execution_count": 300,
   "metadata": {},
   "outputs": [
    {
     "data": {
      "text/plain": [
       "array([ 4.97726083,  7.98033355, 12.32133109])"
      ]
     },
     "execution_count": 300,
     "metadata": {},
     "output_type": "execute_result"
    }
   ],
   "source": [
    "w"
   ]
  },
  {
   "cell_type": "code",
   "execution_count": 306,
   "metadata": {},
   "outputs": [
    {
     "data": {
      "application/vnd.plotly.v1+json": {
       "config": {
        "linkText": "Export to plot.ly",
        "plotlyServerURL": "https://plot.ly",
        "showLink": false
       },
       "data": [
        {
         "mode": "markers",
         "name": "observed points",
         "type": "scatter",
         "x": [
          0,
          8,
          3
         ],
         "y": [
          10,
          9,
          15
         ]
        },
        {
         "mode": "lines",
         "type": "scatter",
         "x": [
          -10,
          -9.696969696969697,
          -9.393939393939394,
          -9.09090909090909,
          -8.787878787878787,
          -8.484848484848484,
          -8.181818181818182,
          -7.878787878787879,
          -7.575757575757576,
          -7.2727272727272725,
          -6.96969696969697,
          -6.666666666666666,
          -6.363636363636363,
          -6.0606060606060606,
          -5.757575757575758,
          -5.454545454545454,
          -5.151515151515151,
          -4.848484848484849,
          -4.545454545454545,
          -4.242424242424242,
          -3.9393939393939394,
          -3.636363636363636,
          -3.333333333333333,
          -3.0303030303030303,
          -2.7272727272727266,
          -2.424242424242424,
          -2.121212121212121,
          -1.8181818181818183,
          -1.5151515151515156,
          -1.212121212121211,
          -0.9090909090909083,
          -0.6060606060606055,
          -0.30303030303030276,
          0,
          0.30303030303030276,
          0.6060606060606055,
          0.9090909090909101,
          1.2121212121212128,
          1.5151515151515156,
          1.8181818181818183,
          2.121212121212121,
          2.424242424242424,
          2.7272727272727284,
          3.030303030303031,
          3.333333333333334,
          3.6363636363636367,
          3.9393939393939394,
          4.242424242424242,
          4.545454545454547,
          4.8484848484848495,
          5.151515151515152,
          5.454545454545455,
          5.757575757575758,
          6.060606060606062,
          6.363636363636363,
          6.666666666666668,
          6.969696969696969,
          7.272727272727273,
          7.575757575757578,
          7.878787878787879,
          8.181818181818183,
          8.484848484848484,
          8.787878787878789,
          9.09090909090909,
          9.393939393939394,
          9.696969696969699,
          10,
          10.303030303030305,
          10.606060606060606,
          10.90909090909091,
          11.212121212121211,
          11.515151515151516,
          11.81818181818182,
          12.121212121212121,
          12.424242424242426,
          12.727272727272727,
          13.030303030303031,
          13.333333333333336,
          13.636363636363637,
          13.939393939393941,
          14.242424242424242,
          14.545454545454547,
          14.848484848484848,
          15.151515151515152,
          15.454545454545457,
          15.757575757575758,
          16.060606060606062,
          16.363636363636363,
          16.666666666666668,
          16.96969696969697,
          17.272727272727273,
          17.575757575757578,
          17.87878787878788,
          18.181818181818183,
          18.484848484848484,
          18.78787878787879,
          19.090909090909093,
          19.393939393939394,
          19.6969696969697,
          20
         ],
         "y": [
          0.00022596729210145355,
          0.00041045575224858693,
          0.0007320000116547712,
          0.001281680586148237,
          0.002203294247342437,
          0.003718683112212373,
          0.00616211528220283,
          0.010025232257033523,
          0.016013381235580344,
          0.02511282787379006,
          0.03866626056142465,
          0.05845110192376315,
          0.08675154320211638,
          0.12641124007663868,
          0.18084984913157912,
          0.2540239040520044,
          0.3503119870399329,
          0.47430683903763116,
          0.6305038629071066,
          0.8228867947984843,
          1.054426739796555,
          1.3265288668603592,
          1.6384793637986426,
          1.9869604521459214,
          2.3657096792593824,
          2.765398015819135,
          3.173787340229535,
          3.5762014628944043,
          3.9563081071465853,
          4.297166802203443,
          4.582455901845958,
          4.797758164728781,
          4.931765162798145,
          4.977260830217764,
          4.931765162798145,
          4.797758164728781,
          4.582455901845957,
          4.297166802203442,
          3.9563081071465853,
          3.5762014628944043,
          3.173787340229535,
          2.765398015819135,
          2.3657096792593806,
          1.9869604521459203,
          1.6384793637986421,
          1.3265288668603583,
          1.054426739796555,
          0.8228867947984843,
          0.6305038629071055,
          0.474306839037631,
          0.35031198703993255,
          0.2540239040520042,
          0.18084984913157912,
          0.1264112400766384,
          0.08675154320211638,
          0.058451101923763044,
          0.038666260561424685,
          0.02511282787379003,
          0.016013381235580302,
          0.010025232257033523,
          0.006162115282202807,
          0.003718683112212373,
          0.0022032942473424293,
          0.001281680586148237,
          0.0007320000116547712,
          0.00041045575224858623,
          0.00022596729210145355,
          0.00012213743426527793,
          6.481506789949727e-05,
          3.376969549408496e-05,
          1.7274372693953367e-05,
          8.675637601761452e-06,
          4.277839595817532e-06,
          2.0709593102788663e-06,
          9.84334286026291e-07,
          4.593435638214161e-07,
          2.104537336680062e-07,
          9.46672171828638e-08,
          4.1808690317387396e-08,
          1.8128317215927902e-08,
          7.717424639384524e-09,
          3.2256057084223326e-09,
          1.3236529661475712e-09,
          5.332869691241831e-10,
          2.1094623717423352e-10,
          8.192313634126202e-11,
          3.1236713511793585e-11,
          1.169359571807189e-11,
          4.2978850109119e-12,
          1.5509060324397178e-12,
          5.494651534001729e-13,
          1.9112557339515751e-13,
          6.527117398378805e-14,
          2.1885074195044387e-14,
          7.204412962664435e-15,
          2.328483426464995e-15,
          7.388762033566264e-16,
          2.301940981263603e-16,
          7.04110249409765e-17,
          2.1145167227751785e-17
         ]
        },
        {
         "mode": "lines",
         "type": "scatter",
         "x": [
          -10,
          -9.696969696969697,
          -9.393939393939394,
          -9.09090909090909,
          -8.787878787878787,
          -8.484848484848484,
          -8.181818181818182,
          -7.878787878787879,
          -7.575757575757576,
          -7.2727272727272725,
          -6.96969696969697,
          -6.666666666666666,
          -6.363636363636363,
          -6.0606060606060606,
          -5.757575757575758,
          -5.454545454545454,
          -5.151515151515151,
          -4.848484848484849,
          -4.545454545454545,
          -4.242424242424242,
          -3.9393939393939394,
          -3.636363636363636,
          -3.333333333333333,
          -3.0303030303030303,
          -2.7272727272727266,
          -2.424242424242424,
          -2.121212121212121,
          -1.8181818181818183,
          -1.5151515151515156,
          -1.212121212121211,
          -0.9090909090909083,
          -0.6060606060606055,
          -0.30303030303030276,
          0,
          0.30303030303030276,
          0.6060606060606055,
          0.9090909090909101,
          1.2121212121212128,
          1.5151515151515156,
          1.8181818181818183,
          2.121212121212121,
          2.424242424242424,
          2.7272727272727284,
          3.030303030303031,
          3.333333333333334,
          3.6363636363636367,
          3.9393939393939394,
          4.242424242424242,
          4.545454545454547,
          4.8484848484848495,
          5.151515151515152,
          5.454545454545455,
          5.757575757575758,
          6.060606060606062,
          6.363636363636363,
          6.666666666666668,
          6.969696969696969,
          7.272727272727273,
          7.575757575757578,
          7.878787878787879,
          8.181818181818183,
          8.484848484848484,
          8.787878787878789,
          9.09090909090909,
          9.393939393939394,
          9.696969696969699,
          10,
          10.303030303030305,
          10.606060606060606,
          10.90909090909091,
          11.212121212121211,
          11.515151515151516,
          11.81818181818182,
          12.121212121212121,
          12.424242424242426,
          12.727272727272727,
          13.030303030303031,
          13.333333333333336,
          13.636363636363637,
          13.939393939393941,
          14.242424242424242,
          14.545454545454547,
          14.848484848484848,
          15.151515151515152,
          15.454545454545457,
          15.757575757575758,
          16.060606060606062,
          16.363636363636363,
          16.666666666666668,
          16.96969696969697,
          17.272727272727273,
          17.575757575757578,
          17.87878787878788,
          18.181818181818183,
          18.484848484848484,
          18.78787878787879,
          19.090909090909093,
          19.393939393939394,
          19.6969696969697,
          20
         ],
         "y": [
          6.774540291566332e-14,
          1.9983318794833577e-13,
          5.787345096221968e-13,
          1.6455652948325374e-12,
          4.593829110578295e-12,
          1.2590950831881655e-11,
          3.388177834370746e-11,
          8.951541766676076e-11,
          2.321953211454882e-10,
          5.913342888814644e-10,
          1.4785521166894703e-09,
          3.6296453171865706e-09,
          8.748139832279742e-09,
          2.070099499887956e-08,
          4.809397807395655e-08,
          1.0970190218441953e-07,
          2.456753546439775e-07,
          5.401731604608405e-07,
          1.1660801113045917e-06,
          2.471426795138836e-06,
          5.142698814534777e-06,
          1.0506508256512151e-05,
          2.1074132118506668e-05,
          4.150161212371226e-05,
          8.02424559180108e-05,
          0.00015232368373425335,
          0.0002838929659342726,
          0.0005194763813868175,
          0.0009332563586684407,
          0.0016461146692089551,
          0.0028506453442913686,
          0.004846746098996682,
          0.00809061110536705,
          0.013259781253282074,
          0.021336116268695127,
          0.03370686452640635,
          0.05228117242226003,
          0.0796152489313265,
          0.11903403977556222,
          0.17473104125918923,
          0.25182157361144364,
          0.3563196543750748,
          0.4950061558884054,
          0.6751579684489806,
          0.9041160355894902,
          1.1886853844221268,
          1.5343825475475055,
          1.9445734585653736,
          2.419574695715802,
          2.9558180070317825,
          3.545196595959922,
          4.174715968978126,
          4.826557885989728,
          5.478631391479645,
          6.105631938663461,
          6.68056410691352,
          7.176614655903266,
          7.569202008656931,
          7.837987033399358,
          7.968617151781459,
          7.953995840012552,
          7.794921279221688,
          7.50001417443151,
          7.084943825370173,
          6.571049135429383,
          5.983523411260452,
          5.349377552989177,
          4.695409602979727,
          4.046389575370037,
          3.423622555239851,
          2.8439898436013182,
          2.3194989475195857,
          1.8573095633051002,
          1.4601530720597398,
          1.1270325380859418,
          0.854079895689457,
          0.6354545885311722,
          0.4641886502635229,
          0.3329112652511413,
          0.23441556314177597,
          0.1620572139877033,
          0.10999533625640828,
          0.07330002983314225,
          0.04795766255808778,
          0.030806037530820268,
          0.01942842741972134,
          0.0120299392663524,
          0.00731329676231693,
          0.004365027008447174,
          0.002557906409377945,
          0.0014716561223009582,
          0.0008312889532294465,
          0.0004610220033463509,
          0.00025102401657184044,
          0.00013419392990993086,
          7.04327175174929e-05,
          3.629443125636506e-05,
          1.8362403305009575e-05,
          9.121011952960909e-06,
          4.448161064638466e-06
         ]
        },
        {
         "mode": "lines",
         "type": "scatter",
         "x": [
          -10,
          -9.696969696969697,
          -9.393939393939394,
          -9.09090909090909,
          -8.787878787878787,
          -8.484848484848484,
          -8.181818181818182,
          -7.878787878787879,
          -7.575757575757576,
          -7.2727272727272725,
          -6.96969696969697,
          -6.666666666666666,
          -6.363636363636363,
          -6.0606060606060606,
          -5.757575757575758,
          -5.454545454545454,
          -5.151515151515151,
          -4.848484848484849,
          -4.545454545454545,
          -4.242424242424242,
          -3.9393939393939394,
          -3.636363636363636,
          -3.333333333333333,
          -3.0303030303030303,
          -2.7272727272727266,
          -2.424242424242424,
          -2.121212121212121,
          -1.8181818181818183,
          -1.5151515151515156,
          -1.212121212121211,
          -0.9090909090909083,
          -0.6060606060606055,
          -0.30303030303030276,
          0,
          0.30303030303030276,
          0.6060606060606055,
          0.9090909090909101,
          1.2121212121212128,
          1.5151515151515156,
          1.8181818181818183,
          2.121212121212121,
          2.424242424242424,
          2.7272727272727284,
          3.030303030303031,
          3.333333333333334,
          3.6363636363636367,
          3.9393939393939394,
          4.242424242424242,
          4.545454545454547,
          4.8484848484848495,
          5.151515151515152,
          5.454545454545455,
          5.757575757575758,
          6.060606060606062,
          6.363636363636363,
          6.666666666666668,
          6.969696969696969,
          7.272727272727273,
          7.575757575757578,
          7.878787878787879,
          8.181818181818183,
          8.484848484848484,
          8.787878787878789,
          9.09090909090909,
          9.393939393939394,
          9.696969696969699,
          10,
          10.303030303030305,
          10.606060606060606,
          10.90909090909091,
          11.212121212121211,
          11.515151515151516,
          11.81818181818182,
          12.121212121212121,
          12.424242424242426,
          12.727272727272727,
          13.030303030303031,
          13.333333333333336,
          13.636363636363637,
          13.939393939393941,
          14.242424242424242,
          14.545454545454547,
          14.848484848484848,
          15.151515151515152,
          15.454545454545457,
          15.757575757575758,
          16.060606060606062,
          16.363636363636363,
          16.666666666666668,
          16.96969696969697,
          17.272727272727273,
          17.575757575757578,
          17.87878787878788,
          18.181818181818183,
          18.484848484848484,
          18.78787878787879,
          19.090909090909093,
          19.393939393939394,
          19.6969696969697,
          20
         ],
         "y": [
          5.637426382406316e-07,
          1.2281863937152247e-06,
          2.6270700694043942e-06,
          5.517000300363065e-06,
          1.1375181507625286e-05,
          2.3027014754051793e-05,
          4.5765785390685274e-05,
          8.930343759354611e-05,
          0.00017108794509147226,
          0.00032180635775423157,
          0.0005942836831619325,
          0.0010774992314991942,
          0.0019180684790232453,
          0.003352240927105434,
          0.005752151502931215,
          0.009690571378140434,
          0.016028483330058855,
          0.02602911794981973,
          0.04150022481546431,
          0.06496290297365148,
          0.09983995457114272,
          0.15064936384147665,
          0.22317945150133883,
          0.32461238548089943,
          0.46355358367484656,
          0.6499183154920802,
          0.8946261443248661,
          1.2090614432961972,
          1.6042761769309002,
          2.0899402659264985,
          2.6730838921424507,
          3.3567212723955286,
          4.138490372267095,
          5.00947938852895,
          5.9534295031523286,
          6.94649637003611,
          7.957715113336125,
          8.950245295389854,
          9.883379351828749,
          10.715192280459387,
          11.405608198165142,
          11.919578694933321,
          12.23002481474416,
          12.320199705887456,
          12.185185177384934,
          11.832336057886135,
          11.280616489433026,
          10.558911501076297,
          9.703523044436613,
          8.755152390737104,
          7.755717013011993,
          6.745345128418714,
          5.759839382607667,
          4.828814775275448,
          3.974611615556055,
          3.21197994016884,
          2.548443019520442,
          1.98518510269844,
          1.5182771772616324,
          1.1400531437122035,
          0.8404717213685355,
          0.6083382040899761,
          0.43230579122592344,
          0.3016205947679932,
          0.20661169806275534,
          0.13895455844243113,
          0.09175181550085312,
          0.05948130809404129,
          0.037859104020622654,
          0.023658332379826227,
          0.014515162517823397,
          0.00874346655131384,
          0.005170938584133072,
          0.003002472807163575,
          0.0017116413212006601,
          0.0009580108294379107,
          0.0005264438431626623,
          0.0002840257137450804,
          0.00015044828632774495,
          7.824215564691516e-05,
          3.995014367320926e-05,
          2.002718272632631e-05,
          9.857013504449003e-06,
          4.763156150976553e-06,
          2.2597909415406785e-06,
          1.0526056190361876e-06,
          4.813789342984622e-07,
          2.1613866001244946e-07,
          9.528001232481157e-08,
          4.123776611088552e-08,
          1.7523160306163697e-08,
          7.310611636410095e-09,
          2.9944631237367266e-09,
          1.2042265595882438e-09,
          4.754681279721094e-10,
          1.843141150471568e-10,
          7.014872099631308e-11,
          2.6212285837324496e-11,
          9.61643299145012e-12,
          3.4637544819759237e-12
         ]
        },
        {
         "mode": "lines",
         "name": "linead combination of RBFs",
         "type": "scatter",
         "x": [
          -10,
          -9.696969696969697,
          -9.393939393939394,
          -9.09090909090909,
          -8.787878787878787,
          -8.484848484848484,
          -8.181818181818182,
          -7.878787878787879,
          -7.575757575757576,
          -7.2727272727272725,
          -6.96969696969697,
          -6.666666666666666,
          -6.363636363636363,
          -6.0606060606060606,
          -5.757575757575758,
          -5.454545454545454,
          -5.151515151515151,
          -4.848484848484849,
          -4.545454545454545,
          -4.242424242424242,
          -3.9393939393939394,
          -3.636363636363636,
          -3.333333333333333,
          -3.0303030303030303,
          -2.7272727272727266,
          -2.424242424242424,
          -2.121212121212121,
          -1.8181818181818183,
          -1.5151515151515156,
          -1.212121212121211,
          -0.9090909090909083,
          -0.6060606060606055,
          -0.30303030303030276,
          0,
          0.30303030303030276,
          0.6060606060606055,
          0.9090909090909101,
          1.2121212121212128,
          1.5151515151515156,
          1.8181818181818183,
          2.121212121212121,
          2.424242424242424,
          2.7272727272727284,
          3.030303030303031,
          3.333333333333334,
          3.6363636363636367,
          3.9393939393939394,
          4.242424242424242,
          4.545454545454547,
          4.8484848484848495,
          5.151515151515152,
          5.454545454545455,
          5.757575757575758,
          6.060606060606062,
          6.363636363636363,
          6.666666666666668,
          6.969696969696969,
          7.272727272727273,
          7.575757575757578,
          7.878787878787879,
          8.181818181818183,
          8.484848484848484,
          8.787878787878789,
          9.09090909090909,
          9.393939393939394,
          9.696969696969699,
          10,
          10.303030303030305,
          10.606060606060606,
          10.90909090909091,
          11.212121212121211,
          11.515151515151516,
          11.81818181818182,
          12.121212121212121,
          12.424242424242426,
          12.727272727272727,
          13.030303030303031,
          13.333333333333336,
          13.636363636363637,
          13.939393939393941,
          14.242424242424242,
          14.545454545454547,
          14.848484848484848,
          15.151515151515152,
          15.454545454545457,
          15.757575757575758,
          16.060606060606062,
          16.363636363636363,
          16.666666666666668,
          16.96969696969697,
          17.272727272727273,
          17.575757575757578,
          17.87878787878788,
          18.181818181818183,
          18.484848484848484,
          18.78787878787879,
          19.090909090909093,
          19.393939393939394,
          19.6969696969697,
          20
         ],
         "y": [
          0.0002265310348074396,
          0.00041168393884213536,
          0.0007346270823029102,
          0.0012871975880941653,
          0.0022146694334438917,
          0.0037417101395573757,
          0.006207881101475294,
          0.010114535784142486,
          0.016184469412867136,
          0.02543463482287858,
          0.039260545723138696,
          0.059528604784907665,
          0.08866962042927946,
          0.1297635017047391,
          0.1866020487284884,
          0.26371458513204704,
          0.3663407160453464,
          0.5003364971606113,
          0.6720052538026823,
          0.8878521691989308,
          1.1542718370665124,
          1.4771887372100925,
          1.8616798894320998,
          2.3116143392389445,
          2.8293435053901472,
          3.4154686549949496,
          4.068697377520335,
          4.7857823825719885,
          5.561517540436154,
          6.388753182799151,
          7.2583904393327,
          8.159326183223307,
          9.078346146170608,
          9.999999999999996,
          10.906530782219168,
          11.777961399291296,
          12.592452187604342,
          13.327027346524623,
          13.958721498750897,
          14.466124784612981,
          14.83121711200612,
          15.04129636512753,
          15.090740649891947,
          14.982318126482356,
          14.727780576773066,
          14.34755030916862,
          13.869425776777087,
          13.326371754440155,
          12.75360160305952,
          12.185277236806517,
          11.651225596011848,
          11.174085001448844,
          10.767247117728974,
          10.43385740683173,
          10.166995097421633,
          9.950995149006124,
          9.763723935985134,
          9.57949993922916,
          9.37227759189657,
          9.118695527750695,
          8.800629676663291,
          8.406978166423876,
          7.934523259904776,
          7.387846100724314,
          6.778392833503793,
          6.122888425455132,
          5.441355335782132,
          4.755013048508034,
          4.084313494458559,
          3.447314657315171,
          2.8585222804918358,
          2.3282510897085014,
          1.862484779728829,
          1.4631576158262136,
          1.1287451637414285,
          0.8550383658624587,
          0.6359812428280686,
          0.46447277064448517,
          0.3330617553461594,
          0.2344938234257401,
          0.16209717184880118,
          0.11001536666474032,
          0.07330988817029967,
          0.04796242624752573,
          0.030808297532708046,
          0.01942948010726351,
          0.012030420676523412,
          0.0073135129126705375,
          0.004365122292757383,
          0.002557947648694962,
          0.0014716736460107297,
          0.0008312962640322085,
          0.00046102499787474587,
          0.00025102522082028506,
          0.00013419440538526325,
          7.043290183393643e-05,
          3.6294501405824936e-05,
          1.8362429517525606e-05,
          9.12102156946431e-06,
          4.448164528414093e-06
         ]
        }
       ],
       "layout": {
        "template": {
         "data": {
          "bar": [
           {
            "error_x": {
             "color": "#2a3f5f"
            },
            "error_y": {
             "color": "#2a3f5f"
            },
            "marker": {
             "line": {
              "color": "#E5ECF6",
              "width": 0.5
             }
            },
            "type": "bar"
           }
          ],
          "barpolar": [
           {
            "marker": {
             "line": {
              "color": "#E5ECF6",
              "width": 0.5
             }
            },
            "type": "barpolar"
           }
          ],
          "carpet": [
           {
            "aaxis": {
             "endlinecolor": "#2a3f5f",
             "gridcolor": "white",
             "linecolor": "white",
             "minorgridcolor": "white",
             "startlinecolor": "#2a3f5f"
            },
            "baxis": {
             "endlinecolor": "#2a3f5f",
             "gridcolor": "white",
             "linecolor": "white",
             "minorgridcolor": "white",
             "startlinecolor": "#2a3f5f"
            },
            "type": "carpet"
           }
          ],
          "choropleth": [
           {
            "colorbar": {
             "outlinewidth": 0,
             "ticks": ""
            },
            "type": "choropleth"
           }
          ],
          "contour": [
           {
            "colorbar": {
             "outlinewidth": 0,
             "ticks": ""
            },
            "colorscale": [
             [
              0,
              "#0d0887"
             ],
             [
              0.1111111111111111,
              "#46039f"
             ],
             [
              0.2222222222222222,
              "#7201a8"
             ],
             [
              0.3333333333333333,
              "#9c179e"
             ],
             [
              0.4444444444444444,
              "#bd3786"
             ],
             [
              0.5555555555555556,
              "#d8576b"
             ],
             [
              0.6666666666666666,
              "#ed7953"
             ],
             [
              0.7777777777777778,
              "#fb9f3a"
             ],
             [
              0.8888888888888888,
              "#fdca26"
             ],
             [
              1,
              "#f0f921"
             ]
            ],
            "type": "contour"
           }
          ],
          "contourcarpet": [
           {
            "colorbar": {
             "outlinewidth": 0,
             "ticks": ""
            },
            "type": "contourcarpet"
           }
          ],
          "heatmap": [
           {
            "colorbar": {
             "outlinewidth": 0,
             "ticks": ""
            },
            "colorscale": [
             [
              0,
              "#0d0887"
             ],
             [
              0.1111111111111111,
              "#46039f"
             ],
             [
              0.2222222222222222,
              "#7201a8"
             ],
             [
              0.3333333333333333,
              "#9c179e"
             ],
             [
              0.4444444444444444,
              "#bd3786"
             ],
             [
              0.5555555555555556,
              "#d8576b"
             ],
             [
              0.6666666666666666,
              "#ed7953"
             ],
             [
              0.7777777777777778,
              "#fb9f3a"
             ],
             [
              0.8888888888888888,
              "#fdca26"
             ],
             [
              1,
              "#f0f921"
             ]
            ],
            "type": "heatmap"
           }
          ],
          "heatmapgl": [
           {
            "colorbar": {
             "outlinewidth": 0,
             "ticks": ""
            },
            "colorscale": [
             [
              0,
              "#0d0887"
             ],
             [
              0.1111111111111111,
              "#46039f"
             ],
             [
              0.2222222222222222,
              "#7201a8"
             ],
             [
              0.3333333333333333,
              "#9c179e"
             ],
             [
              0.4444444444444444,
              "#bd3786"
             ],
             [
              0.5555555555555556,
              "#d8576b"
             ],
             [
              0.6666666666666666,
              "#ed7953"
             ],
             [
              0.7777777777777778,
              "#fb9f3a"
             ],
             [
              0.8888888888888888,
              "#fdca26"
             ],
             [
              1,
              "#f0f921"
             ]
            ],
            "type": "heatmapgl"
           }
          ],
          "histogram": [
           {
            "marker": {
             "colorbar": {
              "outlinewidth": 0,
              "ticks": ""
             }
            },
            "type": "histogram"
           }
          ],
          "histogram2d": [
           {
            "colorbar": {
             "outlinewidth": 0,
             "ticks": ""
            },
            "colorscale": [
             [
              0,
              "#0d0887"
             ],
             [
              0.1111111111111111,
              "#46039f"
             ],
             [
              0.2222222222222222,
              "#7201a8"
             ],
             [
              0.3333333333333333,
              "#9c179e"
             ],
             [
              0.4444444444444444,
              "#bd3786"
             ],
             [
              0.5555555555555556,
              "#d8576b"
             ],
             [
              0.6666666666666666,
              "#ed7953"
             ],
             [
              0.7777777777777778,
              "#fb9f3a"
             ],
             [
              0.8888888888888888,
              "#fdca26"
             ],
             [
              1,
              "#f0f921"
             ]
            ],
            "type": "histogram2d"
           }
          ],
          "histogram2dcontour": [
           {
            "colorbar": {
             "outlinewidth": 0,
             "ticks": ""
            },
            "colorscale": [
             [
              0,
              "#0d0887"
             ],
             [
              0.1111111111111111,
              "#46039f"
             ],
             [
              0.2222222222222222,
              "#7201a8"
             ],
             [
              0.3333333333333333,
              "#9c179e"
             ],
             [
              0.4444444444444444,
              "#bd3786"
             ],
             [
              0.5555555555555556,
              "#d8576b"
             ],
             [
              0.6666666666666666,
              "#ed7953"
             ],
             [
              0.7777777777777778,
              "#fb9f3a"
             ],
             [
              0.8888888888888888,
              "#fdca26"
             ],
             [
              1,
              "#f0f921"
             ]
            ],
            "type": "histogram2dcontour"
           }
          ],
          "mesh3d": [
           {
            "colorbar": {
             "outlinewidth": 0,
             "ticks": ""
            },
            "type": "mesh3d"
           }
          ],
          "parcoords": [
           {
            "line": {
             "colorbar": {
              "outlinewidth": 0,
              "ticks": ""
             }
            },
            "type": "parcoords"
           }
          ],
          "scatter": [
           {
            "marker": {
             "colorbar": {
              "outlinewidth": 0,
              "ticks": ""
             }
            },
            "type": "scatter"
           }
          ],
          "scatter3d": [
           {
            "line": {
             "colorbar": {
              "outlinewidth": 0,
              "ticks": ""
             }
            },
            "marker": {
             "colorbar": {
              "outlinewidth": 0,
              "ticks": ""
             }
            },
            "type": "scatter3d"
           }
          ],
          "scattercarpet": [
           {
            "marker": {
             "colorbar": {
              "outlinewidth": 0,
              "ticks": ""
             }
            },
            "type": "scattercarpet"
           }
          ],
          "scattergeo": [
           {
            "marker": {
             "colorbar": {
              "outlinewidth": 0,
              "ticks": ""
             }
            },
            "type": "scattergeo"
           }
          ],
          "scattergl": [
           {
            "marker": {
             "colorbar": {
              "outlinewidth": 0,
              "ticks": ""
             }
            },
            "type": "scattergl"
           }
          ],
          "scattermapbox": [
           {
            "marker": {
             "colorbar": {
              "outlinewidth": 0,
              "ticks": ""
             }
            },
            "type": "scattermapbox"
           }
          ],
          "scatterpolar": [
           {
            "marker": {
             "colorbar": {
              "outlinewidth": 0,
              "ticks": ""
             }
            },
            "type": "scatterpolar"
           }
          ],
          "scatterpolargl": [
           {
            "marker": {
             "colorbar": {
              "outlinewidth": 0,
              "ticks": ""
             }
            },
            "type": "scatterpolargl"
           }
          ],
          "scatterternary": [
           {
            "marker": {
             "colorbar": {
              "outlinewidth": 0,
              "ticks": ""
             }
            },
            "type": "scatterternary"
           }
          ],
          "surface": [
           {
            "colorbar": {
             "outlinewidth": 0,
             "ticks": ""
            },
            "colorscale": [
             [
              0,
              "#0d0887"
             ],
             [
              0.1111111111111111,
              "#46039f"
             ],
             [
              0.2222222222222222,
              "#7201a8"
             ],
             [
              0.3333333333333333,
              "#9c179e"
             ],
             [
              0.4444444444444444,
              "#bd3786"
             ],
             [
              0.5555555555555556,
              "#d8576b"
             ],
             [
              0.6666666666666666,
              "#ed7953"
             ],
             [
              0.7777777777777778,
              "#fb9f3a"
             ],
             [
              0.8888888888888888,
              "#fdca26"
             ],
             [
              1,
              "#f0f921"
             ]
            ],
            "type": "surface"
           }
          ],
          "table": [
           {
            "cells": {
             "fill": {
              "color": "#EBF0F8"
             },
             "line": {
              "color": "white"
             }
            },
            "header": {
             "fill": {
              "color": "#C8D4E3"
             },
             "line": {
              "color": "white"
             }
            },
            "type": "table"
           }
          ]
         },
         "layout": {
          "annotationdefaults": {
           "arrowcolor": "#2a3f5f",
           "arrowhead": 0,
           "arrowwidth": 1
          },
          "colorscale": {
           "diverging": [
            [
             0,
             "#8e0152"
            ],
            [
             0.1,
             "#c51b7d"
            ],
            [
             0.2,
             "#de77ae"
            ],
            [
             0.3,
             "#f1b6da"
            ],
            [
             0.4,
             "#fde0ef"
            ],
            [
             0.5,
             "#f7f7f7"
            ],
            [
             0.6,
             "#e6f5d0"
            ],
            [
             0.7,
             "#b8e186"
            ],
            [
             0.8,
             "#7fbc41"
            ],
            [
             0.9,
             "#4d9221"
            ],
            [
             1,
             "#276419"
            ]
           ],
           "sequential": [
            [
             0,
             "#0d0887"
            ],
            [
             0.1111111111111111,
             "#46039f"
            ],
            [
             0.2222222222222222,
             "#7201a8"
            ],
            [
             0.3333333333333333,
             "#9c179e"
            ],
            [
             0.4444444444444444,
             "#bd3786"
            ],
            [
             0.5555555555555556,
             "#d8576b"
            ],
            [
             0.6666666666666666,
             "#ed7953"
            ],
            [
             0.7777777777777778,
             "#fb9f3a"
            ],
            [
             0.8888888888888888,
             "#fdca26"
            ],
            [
             1,
             "#f0f921"
            ]
           ],
           "sequentialminus": [
            [
             0,
             "#0d0887"
            ],
            [
             0.1111111111111111,
             "#46039f"
            ],
            [
             0.2222222222222222,
             "#7201a8"
            ],
            [
             0.3333333333333333,
             "#9c179e"
            ],
            [
             0.4444444444444444,
             "#bd3786"
            ],
            [
             0.5555555555555556,
             "#d8576b"
            ],
            [
             0.6666666666666666,
             "#ed7953"
            ],
            [
             0.7777777777777778,
             "#fb9f3a"
            ],
            [
             0.8888888888888888,
             "#fdca26"
            ],
            [
             1,
             "#f0f921"
            ]
           ]
          },
          "colorway": [
           "#636efa",
           "#EF553B",
           "#00cc96",
           "#ab63fa",
           "#FFA15A",
           "#19d3f3",
           "#FF6692",
           "#B6E880",
           "#FF97FF",
           "#FECB52"
          ],
          "font": {
           "color": "#2a3f5f"
          },
          "geo": {
           "bgcolor": "white",
           "lakecolor": "white",
           "landcolor": "#E5ECF6",
           "showlakes": true,
           "showland": true,
           "subunitcolor": "white"
          },
          "hoverlabel": {
           "align": "left"
          },
          "hovermode": "closest",
          "mapbox": {
           "style": "light"
          },
          "paper_bgcolor": "white",
          "plot_bgcolor": "#E5ECF6",
          "polar": {
           "angularaxis": {
            "gridcolor": "white",
            "linecolor": "white",
            "ticks": ""
           },
           "bgcolor": "#E5ECF6",
           "radialaxis": {
            "gridcolor": "white",
            "linecolor": "white",
            "ticks": ""
           }
          },
          "scene": {
           "xaxis": {
            "backgroundcolor": "#E5ECF6",
            "gridcolor": "white",
            "gridwidth": 2,
            "linecolor": "white",
            "showbackground": true,
            "ticks": "",
            "zerolinecolor": "white"
           },
           "yaxis": {
            "backgroundcolor": "#E5ECF6",
            "gridcolor": "white",
            "gridwidth": 2,
            "linecolor": "white",
            "showbackground": true,
            "ticks": "",
            "zerolinecolor": "white"
           },
           "zaxis": {
            "backgroundcolor": "#E5ECF6",
            "gridcolor": "white",
            "gridwidth": 2,
            "linecolor": "white",
            "showbackground": true,
            "ticks": "",
            "zerolinecolor": "white"
           }
          },
          "shapedefaults": {
           "line": {
            "color": "#2a3f5f"
           }
          },
          "ternary": {
           "aaxis": {
            "gridcolor": "white",
            "linecolor": "white",
            "ticks": ""
           },
           "baxis": {
            "gridcolor": "white",
            "linecolor": "white",
            "ticks": ""
           },
           "bgcolor": "#E5ECF6",
           "caxis": {
            "gridcolor": "white",
            "linecolor": "white",
            "ticks": ""
           }
          },
          "title": {
           "x": 0.05
          },
          "xaxis": {
           "automargin": true,
           "gridcolor": "white",
           "linecolor": "white",
           "ticks": "",
           "zerolinecolor": "white",
           "zerolinewidth": 2
          },
          "yaxis": {
           "automargin": true,
           "gridcolor": "white",
           "linecolor": "white",
           "ticks": "",
           "zerolinecolor": "white",
           "zerolinewidth": 2
          }
         }
        },
        "title": {
         "text": "rbf"
        }
       }
      },
      "text/html": [
       "<div>\n",
       "        \n",
       "        \n",
       "            <div id=\"07fdec1b-4b12-49f5-ad57-bc372e4fa380\" class=\"plotly-graph-div\" style=\"height:525px; width:100%;\"></div>\n",
       "            <script type=\"text/javascript\">\n",
       "                require([\"plotly\"], function(Plotly) {\n",
       "                    window.PLOTLYENV=window.PLOTLYENV || {};\n",
       "                    \n",
       "                if (document.getElementById(\"07fdec1b-4b12-49f5-ad57-bc372e4fa380\")) {\n",
       "                    Plotly.newPlot(\n",
       "                        '07fdec1b-4b12-49f5-ad57-bc372e4fa380',\n",
       "                        [{\"mode\": \"markers\", \"name\": \"observed points\", \"type\": \"scatter\", \"x\": [0, 8.0, 3.0], \"y\": [10, 9, 15]}, {\"mode\": \"lines\", \"type\": \"scatter\", \"x\": [-10.0, -9.696969696969697, -9.393939393939394, -9.09090909090909, -8.787878787878787, -8.484848484848484, -8.181818181818182, -7.878787878787879, -7.575757575757576, -7.2727272727272725, -6.96969696969697, -6.666666666666666, -6.363636363636363, -6.0606060606060606, -5.757575757575758, -5.454545454545454, -5.151515151515151, -4.848484848484849, -4.545454545454545, -4.242424242424242, -3.9393939393939394, -3.636363636363636, -3.333333333333333, -3.0303030303030303, -2.7272727272727266, -2.424242424242424, -2.121212121212121, -1.8181818181818183, -1.5151515151515156, -1.212121212121211, -0.9090909090909083, -0.6060606060606055, -0.30303030303030276, 0.0, 0.30303030303030276, 0.6060606060606055, 0.9090909090909101, 1.2121212121212128, 1.5151515151515156, 1.8181818181818183, 2.121212121212121, 2.424242424242424, 2.7272727272727284, 3.030303030303031, 3.333333333333334, 3.6363636363636367, 3.9393939393939394, 4.242424242424242, 4.545454545454547, 4.8484848484848495, 5.151515151515152, 5.454545454545455, 5.757575757575758, 6.060606060606062, 6.363636363636363, 6.666666666666668, 6.969696969696969, 7.272727272727273, 7.575757575757578, 7.878787878787879, 8.181818181818183, 8.484848484848484, 8.787878787878789, 9.09090909090909, 9.393939393939394, 9.696969696969699, 10.0, 10.303030303030305, 10.606060606060606, 10.90909090909091, 11.212121212121211, 11.515151515151516, 11.81818181818182, 12.121212121212121, 12.424242424242426, 12.727272727272727, 13.030303030303031, 13.333333333333336, 13.636363636363637, 13.939393939393941, 14.242424242424242, 14.545454545454547, 14.848484848484848, 15.151515151515152, 15.454545454545457, 15.757575757575758, 16.060606060606062, 16.363636363636363, 16.666666666666668, 16.96969696969697, 17.272727272727273, 17.575757575757578, 17.87878787878788, 18.181818181818183, 18.484848484848484, 18.78787878787879, 19.090909090909093, 19.393939393939394, 19.6969696969697, 20.0], \"y\": [0.00022596729210145355, 0.00041045575224858693, 0.0007320000116547712, 0.001281680586148237, 0.002203294247342437, 0.003718683112212373, 0.00616211528220283, 0.010025232257033523, 0.016013381235580344, 0.02511282787379006, 0.03866626056142465, 0.05845110192376315, 0.08675154320211638, 0.12641124007663868, 0.18084984913157912, 0.2540239040520044, 0.3503119870399329, 0.47430683903763116, 0.6305038629071066, 0.8228867947984843, 1.054426739796555, 1.3265288668603592, 1.6384793637986426, 1.9869604521459214, 2.3657096792593824, 2.765398015819135, 3.173787340229535, 3.5762014628944043, 3.9563081071465853, 4.297166802203443, 4.582455901845958, 4.797758164728781, 4.931765162798145, 4.977260830217764, 4.931765162798145, 4.797758164728781, 4.582455901845957, 4.297166802203442, 3.9563081071465853, 3.5762014628944043, 3.173787340229535, 2.765398015819135, 2.3657096792593806, 1.9869604521459203, 1.6384793637986421, 1.3265288668603583, 1.054426739796555, 0.8228867947984843, 0.6305038629071055, 0.474306839037631, 0.35031198703993255, 0.2540239040520042, 0.18084984913157912, 0.1264112400766384, 0.08675154320211638, 0.058451101923763044, 0.038666260561424685, 0.02511282787379003, 0.016013381235580302, 0.010025232257033523, 0.006162115282202807, 0.003718683112212373, 0.0022032942473424293, 0.001281680586148237, 0.0007320000116547712, 0.00041045575224858623, 0.00022596729210145355, 0.00012213743426527793, 6.481506789949727e-05, 3.376969549408496e-05, 1.7274372693953367e-05, 8.675637601761452e-06, 4.277839595817532e-06, 2.0709593102788663e-06, 9.84334286026291e-07, 4.593435638214161e-07, 2.104537336680062e-07, 9.46672171828638e-08, 4.1808690317387396e-08, 1.8128317215927902e-08, 7.717424639384524e-09, 3.2256057084223326e-09, 1.3236529661475712e-09, 5.332869691241831e-10, 2.1094623717423352e-10, 8.192313634126202e-11, 3.1236713511793585e-11, 1.169359571807189e-11, 4.2978850109119e-12, 1.5509060324397178e-12, 5.494651534001729e-13, 1.9112557339515751e-13, 6.527117398378805e-14, 2.1885074195044387e-14, 7.204412962664435e-15, 2.328483426464995e-15, 7.388762033566264e-16, 2.301940981263603e-16, 7.04110249409765e-17, 2.1145167227751785e-17]}, {\"mode\": \"lines\", \"type\": \"scatter\", \"x\": [-10.0, -9.696969696969697, -9.393939393939394, -9.09090909090909, -8.787878787878787, -8.484848484848484, -8.181818181818182, -7.878787878787879, -7.575757575757576, -7.2727272727272725, -6.96969696969697, -6.666666666666666, -6.363636363636363, -6.0606060606060606, -5.757575757575758, -5.454545454545454, -5.151515151515151, -4.848484848484849, -4.545454545454545, -4.242424242424242, -3.9393939393939394, -3.636363636363636, -3.333333333333333, -3.0303030303030303, -2.7272727272727266, -2.424242424242424, -2.121212121212121, -1.8181818181818183, -1.5151515151515156, -1.212121212121211, -0.9090909090909083, -0.6060606060606055, -0.30303030303030276, 0.0, 0.30303030303030276, 0.6060606060606055, 0.9090909090909101, 1.2121212121212128, 1.5151515151515156, 1.8181818181818183, 2.121212121212121, 2.424242424242424, 2.7272727272727284, 3.030303030303031, 3.333333333333334, 3.6363636363636367, 3.9393939393939394, 4.242424242424242, 4.545454545454547, 4.8484848484848495, 5.151515151515152, 5.454545454545455, 5.757575757575758, 6.060606060606062, 6.363636363636363, 6.666666666666668, 6.969696969696969, 7.272727272727273, 7.575757575757578, 7.878787878787879, 8.181818181818183, 8.484848484848484, 8.787878787878789, 9.09090909090909, 9.393939393939394, 9.696969696969699, 10.0, 10.303030303030305, 10.606060606060606, 10.90909090909091, 11.212121212121211, 11.515151515151516, 11.81818181818182, 12.121212121212121, 12.424242424242426, 12.727272727272727, 13.030303030303031, 13.333333333333336, 13.636363636363637, 13.939393939393941, 14.242424242424242, 14.545454545454547, 14.848484848484848, 15.151515151515152, 15.454545454545457, 15.757575757575758, 16.060606060606062, 16.363636363636363, 16.666666666666668, 16.96969696969697, 17.272727272727273, 17.575757575757578, 17.87878787878788, 18.181818181818183, 18.484848484848484, 18.78787878787879, 19.090909090909093, 19.393939393939394, 19.6969696969697, 20.0], \"y\": [6.774540291566332e-14, 1.9983318794833577e-13, 5.787345096221968e-13, 1.6455652948325374e-12, 4.593829110578295e-12, 1.2590950831881655e-11, 3.388177834370746e-11, 8.951541766676076e-11, 2.321953211454882e-10, 5.913342888814644e-10, 1.4785521166894703e-09, 3.6296453171865706e-09, 8.748139832279742e-09, 2.070099499887956e-08, 4.809397807395655e-08, 1.0970190218441953e-07, 2.456753546439775e-07, 5.401731604608405e-07, 1.1660801113045917e-06, 2.471426795138836e-06, 5.142698814534777e-06, 1.0506508256512151e-05, 2.1074132118506668e-05, 4.150161212371226e-05, 8.02424559180108e-05, 0.00015232368373425335, 0.0002838929659342726, 0.0005194763813868175, 0.0009332563586684407, 0.0016461146692089551, 0.0028506453442913686, 0.004846746098996682, 0.00809061110536705, 0.013259781253282074, 0.021336116268695127, 0.03370686452640635, 0.05228117242226003, 0.0796152489313265, 0.11903403977556222, 0.17473104125918923, 0.25182157361144364, 0.3563196543750748, 0.4950061558884054, 0.6751579684489806, 0.9041160355894902, 1.1886853844221268, 1.5343825475475055, 1.9445734585653736, 2.419574695715802, 2.9558180070317825, 3.545196595959922, 4.174715968978126, 4.826557885989728, 5.478631391479645, 6.105631938663461, 6.68056410691352, 7.176614655903266, 7.569202008656931, 7.837987033399358, 7.968617151781459, 7.953995840012552, 7.794921279221688, 7.50001417443151, 7.084943825370173, 6.571049135429383, 5.983523411260452, 5.349377552989177, 4.695409602979727, 4.046389575370037, 3.423622555239851, 2.8439898436013182, 2.3194989475195857, 1.8573095633051002, 1.4601530720597398, 1.1270325380859418, 0.854079895689457, 0.6354545885311722, 0.4641886502635229, 0.3329112652511413, 0.23441556314177597, 0.1620572139877033, 0.10999533625640828, 0.07330002983314225, 0.04795766255808778, 0.030806037530820268, 0.01942842741972134, 0.0120299392663524, 0.00731329676231693, 0.004365027008447174, 0.002557906409377945, 0.0014716561223009582, 0.0008312889532294465, 0.0004610220033463509, 0.00025102401657184044, 0.00013419392990993086, 7.04327175174929e-05, 3.629443125636506e-05, 1.8362403305009575e-05, 9.121011952960909e-06, 4.448161064638466e-06]}, {\"mode\": \"lines\", \"type\": \"scatter\", \"x\": [-10.0, -9.696969696969697, -9.393939393939394, -9.09090909090909, -8.787878787878787, -8.484848484848484, -8.181818181818182, -7.878787878787879, -7.575757575757576, -7.2727272727272725, -6.96969696969697, -6.666666666666666, -6.363636363636363, -6.0606060606060606, -5.757575757575758, -5.454545454545454, -5.151515151515151, -4.848484848484849, -4.545454545454545, -4.242424242424242, -3.9393939393939394, -3.636363636363636, -3.333333333333333, -3.0303030303030303, -2.7272727272727266, -2.424242424242424, -2.121212121212121, -1.8181818181818183, -1.5151515151515156, -1.212121212121211, -0.9090909090909083, -0.6060606060606055, -0.30303030303030276, 0.0, 0.30303030303030276, 0.6060606060606055, 0.9090909090909101, 1.2121212121212128, 1.5151515151515156, 1.8181818181818183, 2.121212121212121, 2.424242424242424, 2.7272727272727284, 3.030303030303031, 3.333333333333334, 3.6363636363636367, 3.9393939393939394, 4.242424242424242, 4.545454545454547, 4.8484848484848495, 5.151515151515152, 5.454545454545455, 5.757575757575758, 6.060606060606062, 6.363636363636363, 6.666666666666668, 6.969696969696969, 7.272727272727273, 7.575757575757578, 7.878787878787879, 8.181818181818183, 8.484848484848484, 8.787878787878789, 9.09090909090909, 9.393939393939394, 9.696969696969699, 10.0, 10.303030303030305, 10.606060606060606, 10.90909090909091, 11.212121212121211, 11.515151515151516, 11.81818181818182, 12.121212121212121, 12.424242424242426, 12.727272727272727, 13.030303030303031, 13.333333333333336, 13.636363636363637, 13.939393939393941, 14.242424242424242, 14.545454545454547, 14.848484848484848, 15.151515151515152, 15.454545454545457, 15.757575757575758, 16.060606060606062, 16.363636363636363, 16.666666666666668, 16.96969696969697, 17.272727272727273, 17.575757575757578, 17.87878787878788, 18.181818181818183, 18.484848484848484, 18.78787878787879, 19.090909090909093, 19.393939393939394, 19.6969696969697, 20.0], \"y\": [5.637426382406316e-07, 1.2281863937152247e-06, 2.6270700694043942e-06, 5.517000300363065e-06, 1.1375181507625286e-05, 2.3027014754051793e-05, 4.5765785390685274e-05, 8.930343759354611e-05, 0.00017108794509147226, 0.00032180635775423157, 0.0005942836831619325, 0.0010774992314991942, 0.0019180684790232453, 0.003352240927105434, 0.005752151502931215, 0.009690571378140434, 0.016028483330058855, 0.02602911794981973, 0.04150022481546431, 0.06496290297365148, 0.09983995457114272, 0.15064936384147665, 0.22317945150133883, 0.32461238548089943, 0.46355358367484656, 0.6499183154920802, 0.8946261443248661, 1.2090614432961972, 1.6042761769309002, 2.0899402659264985, 2.6730838921424507, 3.3567212723955286, 4.138490372267095, 5.00947938852895, 5.9534295031523286, 6.94649637003611, 7.957715113336125, 8.950245295389854, 9.883379351828749, 10.715192280459387, 11.405608198165142, 11.919578694933321, 12.23002481474416, 12.320199705887456, 12.185185177384934, 11.832336057886135, 11.280616489433026, 10.558911501076297, 9.703523044436613, 8.755152390737104, 7.755717013011993, 6.745345128418714, 5.759839382607667, 4.828814775275448, 3.974611615556055, 3.21197994016884, 2.548443019520442, 1.98518510269844, 1.5182771772616324, 1.1400531437122035, 0.8404717213685355, 0.6083382040899761, 0.43230579122592344, 0.3016205947679932, 0.20661169806275534, 0.13895455844243113, 0.09175181550085312, 0.05948130809404129, 0.037859104020622654, 0.023658332379826227, 0.014515162517823397, 0.00874346655131384, 0.005170938584133072, 0.003002472807163575, 0.0017116413212006601, 0.0009580108294379107, 0.0005264438431626623, 0.0002840257137450804, 0.00015044828632774495, 7.824215564691516e-05, 3.995014367320926e-05, 2.002718272632631e-05, 9.857013504449003e-06, 4.763156150976553e-06, 2.2597909415406785e-06, 1.0526056190361876e-06, 4.813789342984622e-07, 2.1613866001244946e-07, 9.528001232481157e-08, 4.123776611088552e-08, 1.7523160306163697e-08, 7.310611636410095e-09, 2.9944631237367266e-09, 1.2042265595882438e-09, 4.754681279721094e-10, 1.843141150471568e-10, 7.014872099631308e-11, 2.6212285837324496e-11, 9.61643299145012e-12, 3.4637544819759237e-12]}, {\"mode\": \"lines\", \"name\": \"linead combination of RBFs\", \"type\": \"scatter\", \"x\": [-10.0, -9.696969696969697, -9.393939393939394, -9.09090909090909, -8.787878787878787, -8.484848484848484, -8.181818181818182, -7.878787878787879, -7.575757575757576, -7.2727272727272725, -6.96969696969697, -6.666666666666666, -6.363636363636363, -6.0606060606060606, -5.757575757575758, -5.454545454545454, -5.151515151515151, -4.848484848484849, -4.545454545454545, -4.242424242424242, -3.9393939393939394, -3.636363636363636, -3.333333333333333, -3.0303030303030303, -2.7272727272727266, -2.424242424242424, -2.121212121212121, -1.8181818181818183, -1.5151515151515156, -1.212121212121211, -0.9090909090909083, -0.6060606060606055, -0.30303030303030276, 0.0, 0.30303030303030276, 0.6060606060606055, 0.9090909090909101, 1.2121212121212128, 1.5151515151515156, 1.8181818181818183, 2.121212121212121, 2.424242424242424, 2.7272727272727284, 3.030303030303031, 3.333333333333334, 3.6363636363636367, 3.9393939393939394, 4.242424242424242, 4.545454545454547, 4.8484848484848495, 5.151515151515152, 5.454545454545455, 5.757575757575758, 6.060606060606062, 6.363636363636363, 6.666666666666668, 6.969696969696969, 7.272727272727273, 7.575757575757578, 7.878787878787879, 8.181818181818183, 8.484848484848484, 8.787878787878789, 9.09090909090909, 9.393939393939394, 9.696969696969699, 10.0, 10.303030303030305, 10.606060606060606, 10.90909090909091, 11.212121212121211, 11.515151515151516, 11.81818181818182, 12.121212121212121, 12.424242424242426, 12.727272727272727, 13.030303030303031, 13.333333333333336, 13.636363636363637, 13.939393939393941, 14.242424242424242, 14.545454545454547, 14.848484848484848, 15.151515151515152, 15.454545454545457, 15.757575757575758, 16.060606060606062, 16.363636363636363, 16.666666666666668, 16.96969696969697, 17.272727272727273, 17.575757575757578, 17.87878787878788, 18.181818181818183, 18.484848484848484, 18.78787878787879, 19.090909090909093, 19.393939393939394, 19.6969696969697, 20.0], \"y\": [0.0002265310348074396, 0.00041168393884213536, 0.0007346270823029102, 0.0012871975880941653, 0.0022146694334438917, 0.0037417101395573757, 0.006207881101475294, 0.010114535784142486, 0.016184469412867136, 0.02543463482287858, 0.039260545723138696, 0.059528604784907665, 0.08866962042927946, 0.1297635017047391, 0.1866020487284884, 0.26371458513204704, 0.3663407160453464, 0.5003364971606113, 0.6720052538026823, 0.8878521691989308, 1.1542718370665124, 1.4771887372100925, 1.8616798894320998, 2.3116143392389445, 2.8293435053901472, 3.4154686549949496, 4.068697377520335, 4.7857823825719885, 5.561517540436154, 6.388753182799151, 7.2583904393327, 8.159326183223307, 9.078346146170608, 9.999999999999996, 10.906530782219168, 11.777961399291296, 12.592452187604342, 13.327027346524623, 13.958721498750897, 14.466124784612981, 14.83121711200612, 15.04129636512753, 15.090740649891947, 14.982318126482356, 14.727780576773066, 14.34755030916862, 13.869425776777087, 13.326371754440155, 12.75360160305952, 12.185277236806517, 11.651225596011848, 11.174085001448844, 10.767247117728974, 10.43385740683173, 10.166995097421633, 9.950995149006124, 9.763723935985134, 9.57949993922916, 9.37227759189657, 9.118695527750695, 8.800629676663291, 8.406978166423876, 7.934523259904776, 7.387846100724314, 6.778392833503793, 6.122888425455132, 5.441355335782132, 4.755013048508034, 4.084313494458559, 3.447314657315171, 2.8585222804918358, 2.3282510897085014, 1.862484779728829, 1.4631576158262136, 1.1287451637414285, 0.8550383658624587, 0.6359812428280686, 0.46447277064448517, 0.3330617553461594, 0.2344938234257401, 0.16209717184880118, 0.11001536666474032, 0.07330988817029967, 0.04796242624752573, 0.030808297532708046, 0.01942948010726351, 0.012030420676523412, 0.0073135129126705375, 0.004365122292757383, 0.002557947648694962, 0.0014716736460107297, 0.0008312962640322085, 0.00046102499787474587, 0.00025102522082028506, 0.00013419440538526325, 7.043290183393643e-05, 3.6294501405824936e-05, 1.8362429517525606e-05, 9.12102156946431e-06, 4.448164528414093e-06]}],\n",
       "                        {\"template\": {\"data\": {\"bar\": [{\"error_x\": {\"color\": \"#2a3f5f\"}, \"error_y\": {\"color\": \"#2a3f5f\"}, \"marker\": {\"line\": {\"color\": \"#E5ECF6\", \"width\": 0.5}}, \"type\": \"bar\"}], \"barpolar\": [{\"marker\": {\"line\": {\"color\": \"#E5ECF6\", \"width\": 0.5}}, \"type\": \"barpolar\"}], \"carpet\": [{\"aaxis\": {\"endlinecolor\": \"#2a3f5f\", \"gridcolor\": \"white\", \"linecolor\": \"white\", \"minorgridcolor\": \"white\", \"startlinecolor\": \"#2a3f5f\"}, \"baxis\": {\"endlinecolor\": \"#2a3f5f\", \"gridcolor\": \"white\", \"linecolor\": \"white\", \"minorgridcolor\": \"white\", \"startlinecolor\": \"#2a3f5f\"}, \"type\": \"carpet\"}], \"choropleth\": [{\"colorbar\": {\"outlinewidth\": 0, \"ticks\": \"\"}, \"type\": \"choropleth\"}], \"contour\": [{\"colorbar\": {\"outlinewidth\": 0, \"ticks\": \"\"}, \"colorscale\": [[0.0, \"#0d0887\"], [0.1111111111111111, \"#46039f\"], [0.2222222222222222, \"#7201a8\"], [0.3333333333333333, \"#9c179e\"], [0.4444444444444444, \"#bd3786\"], [0.5555555555555556, \"#d8576b\"], [0.6666666666666666, \"#ed7953\"], [0.7777777777777778, \"#fb9f3a\"], [0.8888888888888888, \"#fdca26\"], [1.0, \"#f0f921\"]], \"type\": \"contour\"}], \"contourcarpet\": [{\"colorbar\": {\"outlinewidth\": 0, \"ticks\": \"\"}, \"type\": \"contourcarpet\"}], \"heatmap\": [{\"colorbar\": {\"outlinewidth\": 0, \"ticks\": \"\"}, \"colorscale\": [[0.0, \"#0d0887\"], [0.1111111111111111, \"#46039f\"], [0.2222222222222222, \"#7201a8\"], [0.3333333333333333, \"#9c179e\"], [0.4444444444444444, \"#bd3786\"], [0.5555555555555556, \"#d8576b\"], [0.6666666666666666, \"#ed7953\"], [0.7777777777777778, \"#fb9f3a\"], [0.8888888888888888, \"#fdca26\"], [1.0, \"#f0f921\"]], \"type\": \"heatmap\"}], \"heatmapgl\": [{\"colorbar\": {\"outlinewidth\": 0, \"ticks\": \"\"}, \"colorscale\": [[0.0, \"#0d0887\"], [0.1111111111111111, \"#46039f\"], [0.2222222222222222, \"#7201a8\"], [0.3333333333333333, \"#9c179e\"], [0.4444444444444444, \"#bd3786\"], [0.5555555555555556, \"#d8576b\"], [0.6666666666666666, \"#ed7953\"], [0.7777777777777778, \"#fb9f3a\"], [0.8888888888888888, \"#fdca26\"], [1.0, \"#f0f921\"]], \"type\": \"heatmapgl\"}], \"histogram\": [{\"marker\": {\"colorbar\": {\"outlinewidth\": 0, \"ticks\": \"\"}}, \"type\": \"histogram\"}], \"histogram2d\": [{\"colorbar\": {\"outlinewidth\": 0, \"ticks\": \"\"}, \"colorscale\": [[0.0, \"#0d0887\"], [0.1111111111111111, \"#46039f\"], [0.2222222222222222, \"#7201a8\"], [0.3333333333333333, \"#9c179e\"], [0.4444444444444444, \"#bd3786\"], [0.5555555555555556, \"#d8576b\"], [0.6666666666666666, \"#ed7953\"], [0.7777777777777778, \"#fb9f3a\"], [0.8888888888888888, \"#fdca26\"], [1.0, \"#f0f921\"]], \"type\": \"histogram2d\"}], \"histogram2dcontour\": [{\"colorbar\": {\"outlinewidth\": 0, \"ticks\": \"\"}, \"colorscale\": [[0.0, \"#0d0887\"], [0.1111111111111111, \"#46039f\"], [0.2222222222222222, \"#7201a8\"], [0.3333333333333333, \"#9c179e\"], [0.4444444444444444, \"#bd3786\"], [0.5555555555555556, \"#d8576b\"], [0.6666666666666666, \"#ed7953\"], [0.7777777777777778, \"#fb9f3a\"], [0.8888888888888888, \"#fdca26\"], [1.0, \"#f0f921\"]], \"type\": \"histogram2dcontour\"}], \"mesh3d\": [{\"colorbar\": {\"outlinewidth\": 0, \"ticks\": \"\"}, \"type\": \"mesh3d\"}], \"parcoords\": [{\"line\": {\"colorbar\": {\"outlinewidth\": 0, \"ticks\": \"\"}}, \"type\": \"parcoords\"}], \"scatter\": [{\"marker\": {\"colorbar\": {\"outlinewidth\": 0, \"ticks\": \"\"}}, \"type\": \"scatter\"}], \"scatter3d\": [{\"line\": {\"colorbar\": {\"outlinewidth\": 0, \"ticks\": \"\"}}, \"marker\": {\"colorbar\": {\"outlinewidth\": 0, \"ticks\": \"\"}}, \"type\": \"scatter3d\"}], \"scattercarpet\": [{\"marker\": {\"colorbar\": {\"outlinewidth\": 0, \"ticks\": \"\"}}, \"type\": \"scattercarpet\"}], \"scattergeo\": [{\"marker\": {\"colorbar\": {\"outlinewidth\": 0, \"ticks\": \"\"}}, \"type\": \"scattergeo\"}], \"scattergl\": [{\"marker\": {\"colorbar\": {\"outlinewidth\": 0, \"ticks\": \"\"}}, \"type\": \"scattergl\"}], \"scattermapbox\": [{\"marker\": {\"colorbar\": {\"outlinewidth\": 0, \"ticks\": \"\"}}, \"type\": \"scattermapbox\"}], \"scatterpolar\": [{\"marker\": {\"colorbar\": {\"outlinewidth\": 0, \"ticks\": \"\"}}, \"type\": \"scatterpolar\"}], \"scatterpolargl\": [{\"marker\": {\"colorbar\": {\"outlinewidth\": 0, \"ticks\": \"\"}}, \"type\": \"scatterpolargl\"}], \"scatterternary\": [{\"marker\": {\"colorbar\": {\"outlinewidth\": 0, \"ticks\": \"\"}}, \"type\": \"scatterternary\"}], \"surface\": [{\"colorbar\": {\"outlinewidth\": 0, \"ticks\": \"\"}, \"colorscale\": [[0.0, \"#0d0887\"], [0.1111111111111111, \"#46039f\"], [0.2222222222222222, \"#7201a8\"], [0.3333333333333333, \"#9c179e\"], [0.4444444444444444, \"#bd3786\"], [0.5555555555555556, \"#d8576b\"], [0.6666666666666666, \"#ed7953\"], [0.7777777777777778, \"#fb9f3a\"], [0.8888888888888888, \"#fdca26\"], [1.0, \"#f0f921\"]], \"type\": \"surface\"}], \"table\": [{\"cells\": {\"fill\": {\"color\": \"#EBF0F8\"}, \"line\": {\"color\": \"white\"}}, \"header\": {\"fill\": {\"color\": \"#C8D4E3\"}, \"line\": {\"color\": \"white\"}}, \"type\": \"table\"}]}, \"layout\": {\"annotationdefaults\": {\"arrowcolor\": \"#2a3f5f\", \"arrowhead\": 0, \"arrowwidth\": 1}, \"colorscale\": {\"diverging\": [[0, \"#8e0152\"], [0.1, \"#c51b7d\"], [0.2, \"#de77ae\"], [0.3, \"#f1b6da\"], [0.4, \"#fde0ef\"], [0.5, \"#f7f7f7\"], [0.6, \"#e6f5d0\"], [0.7, \"#b8e186\"], [0.8, \"#7fbc41\"], [0.9, \"#4d9221\"], [1, \"#276419\"]], \"sequential\": [[0.0, \"#0d0887\"], [0.1111111111111111, \"#46039f\"], [0.2222222222222222, \"#7201a8\"], [0.3333333333333333, \"#9c179e\"], [0.4444444444444444, \"#bd3786\"], [0.5555555555555556, \"#d8576b\"], [0.6666666666666666, \"#ed7953\"], [0.7777777777777778, \"#fb9f3a\"], [0.8888888888888888, \"#fdca26\"], [1.0, \"#f0f921\"]], \"sequentialminus\": [[0.0, \"#0d0887\"], [0.1111111111111111, \"#46039f\"], [0.2222222222222222, \"#7201a8\"], [0.3333333333333333, \"#9c179e\"], [0.4444444444444444, \"#bd3786\"], [0.5555555555555556, \"#d8576b\"], [0.6666666666666666, \"#ed7953\"], [0.7777777777777778, \"#fb9f3a\"], [0.8888888888888888, \"#fdca26\"], [1.0, \"#f0f921\"]]}, \"colorway\": [\"#636efa\", \"#EF553B\", \"#00cc96\", \"#ab63fa\", \"#FFA15A\", \"#19d3f3\", \"#FF6692\", \"#B6E880\", \"#FF97FF\", \"#FECB52\"], \"font\": {\"color\": \"#2a3f5f\"}, \"geo\": {\"bgcolor\": \"white\", \"lakecolor\": \"white\", \"landcolor\": \"#E5ECF6\", \"showlakes\": true, \"showland\": true, \"subunitcolor\": \"white\"}, \"hoverlabel\": {\"align\": \"left\"}, \"hovermode\": \"closest\", \"mapbox\": {\"style\": \"light\"}, \"paper_bgcolor\": \"white\", \"plot_bgcolor\": \"#E5ECF6\", \"polar\": {\"angularaxis\": {\"gridcolor\": \"white\", \"linecolor\": \"white\", \"ticks\": \"\"}, \"bgcolor\": \"#E5ECF6\", \"radialaxis\": {\"gridcolor\": \"white\", \"linecolor\": \"white\", \"ticks\": \"\"}}, \"scene\": {\"xaxis\": {\"backgroundcolor\": \"#E5ECF6\", \"gridcolor\": \"white\", \"gridwidth\": 2, \"linecolor\": \"white\", \"showbackground\": true, \"ticks\": \"\", \"zerolinecolor\": \"white\"}, \"yaxis\": {\"backgroundcolor\": \"#E5ECF6\", \"gridcolor\": \"white\", \"gridwidth\": 2, \"linecolor\": \"white\", \"showbackground\": true, \"ticks\": \"\", \"zerolinecolor\": \"white\"}, \"zaxis\": {\"backgroundcolor\": \"#E5ECF6\", \"gridcolor\": \"white\", \"gridwidth\": 2, \"linecolor\": \"white\", \"showbackground\": true, \"ticks\": \"\", \"zerolinecolor\": \"white\"}}, \"shapedefaults\": {\"line\": {\"color\": \"#2a3f5f\"}}, \"ternary\": {\"aaxis\": {\"gridcolor\": \"white\", \"linecolor\": \"white\", \"ticks\": \"\"}, \"baxis\": {\"gridcolor\": \"white\", \"linecolor\": \"white\", \"ticks\": \"\"}, \"bgcolor\": \"#E5ECF6\", \"caxis\": {\"gridcolor\": \"white\", \"linecolor\": \"white\", \"ticks\": \"\"}}, \"title\": {\"x\": 0.05}, \"xaxis\": {\"automargin\": true, \"gridcolor\": \"white\", \"linecolor\": \"white\", \"ticks\": \"\", \"zerolinecolor\": \"white\", \"zerolinewidth\": 2}, \"yaxis\": {\"automargin\": true, \"gridcolor\": \"white\", \"linecolor\": \"white\", \"ticks\": \"\", \"zerolinecolor\": \"white\", \"zerolinewidth\": 2}}}, \"title\": {\"text\": \"rbf\"}},\n",
       "                        {\"responsive\": true}\n",
       "                    ).then(function(){\n",
       "                            \n",
       "var gd = document.getElementById('07fdec1b-4b12-49f5-ad57-bc372e4fa380');\n",
       "var x = new MutationObserver(function (mutations, observer) {{\n",
       "        var display = window.getComputedStyle(gd).display;\n",
       "        if (!display || display === 'none') {{\n",
       "            console.log([gd, 'removed!']);\n",
       "            Plotly.purge(gd);\n",
       "            observer.disconnect();\n",
       "        }}\n",
       "}});\n",
       "\n",
       "// Listen for the removal of the full notebook cells\n",
       "var notebookContainer = gd.closest('#notebook-container');\n",
       "if (notebookContainer) {{\n",
       "    x.observe(notebookContainer, {childList: true});\n",
       "}}\n",
       "\n",
       "// Listen for the clearing of the current output cell\n",
       "var outputEl = gd.closest('.output');\n",
       "if (outputEl) {{\n",
       "    x.observe(outputEl, {childList: true});\n",
       "}}\n",
       "\n",
       "                        })\n",
       "                };\n",
       "                });\n",
       "            </script>\n",
       "        </div>"
      ]
     },
     "metadata": {},
     "output_type": "display_data"
    }
   ],
   "source": [
    "traces = []\n",
    "\n",
    "trace = {\n",
    "    'type':'scatter',\n",
    "    'mode':'markers',\n",
    "    'x':[c1[0][0],c2[0][0],c3[0][0]],\n",
    "    'y':[c1[1],c2[1],c3[1]],\n",
    "    'name':'observed points'\n",
    "}\n",
    "\n",
    "traces.append(trace)\n",
    "\n",
    "trace = {\n",
    "    'type':'scatter',\n",
    "    'mode':'lines',\n",
    "    'x':x,\n",
    "    'y':[w[0]*gauss_rbf(gamma,xi,c1[0][0]) for xi in x],\n",
    "}\n",
    "\n",
    "traces.append(trace)\n",
    "\n",
    "trace = {\n",
    "    'type':'scatter',\n",
    "    'mode':'lines',\n",
    "    'x':x,\n",
    "    'y':[w[1]*gauss_rbf(gamma,xi,c2[0][0]) for xi in x],\n",
    "}\n",
    "\n",
    "traces.append(trace)\n",
    "\n",
    "trace = {\n",
    "    'type':'scatter',\n",
    "    'mode':'lines',\n",
    "    'x':x,\n",
    "    'y':[w[2]*gauss_rbf(gamma,xi,c3[0][0]) for xi in x],\n",
    "}\n",
    "\n",
    "traces.append(trace)\n",
    "\n",
    "trace = {\n",
    "    'type':'scatter',\n",
    "    'mode':'lines',\n",
    "    'x':x,\n",
    "    'y':np.array([w[0]*gauss_rbf(gamma,xi,c1[0][0]) for xi in x]) + np.array([w[1]*gauss_rbf(gamma,xi,c2[0][0]) for xi in x]) + np.array([w[2]*gauss_rbf(gamma,xi,c3[0][0]) for xi in x]),\n",
    "    'name':'linead combination of RBFs',\n",
    "}\n",
    "\n",
    "traces.append(trace)\n",
    "\n",
    "layout = {\n",
    "    'title':'rbf',\n",
    "}\n",
    "\n",
    "fig = go.Figure(traces, layout)\n",
    "\n",
    "pyo.iplot(fig)"
   ]
  },
  {
   "cell_type": "code",
   "execution_count": 560,
   "metadata": {},
   "outputs": [],
   "source": [
    "def sin_f(x):\n",
    "    return np.sin(x)"
   ]
  },
  {
   "cell_type": "code",
   "execution_count": 561,
   "metadata": {},
   "outputs": [],
   "source": [
    "def squared(x):\n",
    "    return -3*(x**2)+100"
   ]
  },
  {
   "cell_type": "code",
   "execution_count": 562,
   "metadata": {},
   "outputs": [],
   "source": [
    "x = np.linspace(-10,10,500)\n",
    "x_ran = np.random.choice(x,100)"
   ]
  },
  {
   "cell_type": "code",
   "execution_count": 563,
   "metadata": {},
   "outputs": [],
   "source": [
    "observed = [sin_f(xi) for xi in x_ran]"
   ]
  },
  {
   "cell_type": "code",
   "execution_count": 564,
   "metadata": {},
   "outputs": [],
   "source": [
    "observed = [squared(xi) for xi in x_ran]"
   ]
  },
  {
   "cell_type": "code",
   "execution_count": 565,
   "metadata": {},
   "outputs": [
    {
     "data": {
      "application/vnd.plotly.v1+json": {
       "config": {
        "linkText": "Export to plot.ly",
        "plotlyServerURL": "https://plot.ly",
        "showLink": false
       },
       "data": [
        {
         "mode": "markers",
         "name": "observed points",
         "type": "scatter",
         "x": [
          6.753507014028056,
          -2.1843687374749505,
          6.272545090180358,
          -5.511022044088176,
          -8.917835671342685,
          -0.7815631262525056,
          -0.06012024048096265,
          -8.196392785571142,
          7.8356713426853695,
          -5.9118236472945895,
          8.356713426853705,
          1.7434869739478955,
          2.3847695390781567,
          0.020040080160320883,
          0.5811623246492985,
          -4.709418837675351,
          -9.278557114228457,
          -9.759519038076153,
          -1.4629258517034067,
          -8.797595190380761,
          4.38877755511022,
          4.028056112224448,
          -3.1462925851703414,
          7.23446893787575,
          4.228456913827655,
          -9.519038076152304,
          -6.352705410821644,
          -9.919839679358718,
          -4.98997995991984,
          -4.348697394789579,
          -4.108216432865731,
          7.795591182364728,
          9.799599198396791,
          2.2244488977955914,
          -5.070140280561122,
          -6.513026052104209,
          3.46693386773547,
          -0.6212424849699403,
          7.515030060120239,
          6.513026052104209,
          -3.5871743486973955,
          -8.47695390781563,
          8.837675350701403,
          6.593186372745489,
          0.7815631262525038,
          6.072144288577153,
          -3.987975951903808,
          -9.158316633266534,
          3.8276553106212425,
          -3.5470941883767537,
          5.070140280561121,
          -9.358717434869739,
          -6.953907815631263,
          -9.839679358717435,
          2.0240480961923843,
          3.6272545090180355,
          -9.599198396793588,
          5.631262525050099,
          1.7434869739478955,
          -3.907815631262525,
          8.917835671342683,
          4.589178356713425,
          3.226452905811623,
          -3.987975951903808,
          2.1843687374749496,
          8.517034068136272,
          -4.188376753507014,
          9.438877755511022,
          7.675350701402806,
          5.631262525050099,
          -1.8637274549098208,
          1.863727454909819,
          8.677354709418836,
          -1.823647294589179,
          -7.114228456913828,
          -5.631262525050101,
          -1.9839679358717444,
          -1.9438877755511026,
          -1.6633266533066138,
          -8.356713426853707,
          -2.0240480961923852,
          -3.6272545090180364,
          9.438877755511022,
          1.1422845691382761,
          -7.9959919839679365,
          -2.1442885771543088,
          -9.198396793587175,
          1.623246492985972,
          5.991983967935871,
          -2.6653306613226455,
          -0.5811623246492985,
          -1.9038076152304608,
          -4.7494989979959925,
          -9.318637274549099,
          1.3426853707414832,
          -4.589178356713427,
          -1.5430861723446903,
          7.114228456913828,
          3.9078156312625243,
          -2.585170340681363
         ],
         "y": [
          -36.829570965578455,
          85.68559965622627,
          -18.034465725037165,
          8.88590808872253,
          -138.5833791832161,
          98.16747723904723,
          99.98915667005353,
          -101.54256408608796,
          -84.19323617174223,
          -4.84897651013452,
          -109.503977895671,
          90.88075951502204,
          82.93862273645487,
          99.9987951855615,
          98.98675105722467,
          33.46412263404565,
          -158.2748663659985,
          -185.74463556371268,
          93.57954385725358,
          -132.19304340143213,
          42.215894715282275,
          51.3242918703138,
          70.30252890550639,
          -57.01262243926726,
          46.36045638370931,
          -171.8362576857121,
          -21.07059811004777,
          -195.20965779253902,
          25.300299998795182,
          43.26649290565098,
          49.367673222195904,
          -82.31372564768807,
          -188.09643334765713,
          85.15548130328793,
          22.881032606294752,
          -27.258525066164424,
          63.94110867024632,
          98.84217332460513,
          -69.4270304135324,
          -27.258525066164424,
          61.39654057614225,
          -115.57624266569206,
          -134.31351681318552,
          -30.410319637270447,
          98.16747723904724,
          -10.61280878390042,
          52.28814342111075,
          -151.62429066549936,
          56.047164469219,
          62.25436845635158,
          22.88103260629478,
          -162.75677607720445,
          -45.070501724892694,
          -190.45786964710982,
          87.70968791289995,
          60.52907418042499,
          -176.43382958301373,
          4.866647121899149,
          90.88075951502204,
          54.18693097618082,
          -138.583379183216,
          36.81832603081919,
          68.7700049397392,
          52.28814342111075,
          85.68559965622629,
          -117.61960795338172,
          47.37250051204614,
          -167.27723985044236,
          -76.73302516857365,
          4.866647121899149,
          89.57955992144609,
          89.5795599214461,
          -125.88945425921975,
          90.0229316348127,
          -51.83673961148753,
          4.866647121899092,
          88.19161368829843,
          88.66390094818895,
          91.70003333319946,
          -109.50397789567108,
          87.70968791289994,
          60.52907418042497,
          -167.27723985044236,
          96.08555788932574,
          -91.80766342303849,
          86.20607949365665,
          -153.83151071682448,
          92.09521246902622,
          -7.711615616001524,
          78.68803739744017,
          98.98675105722467,
          89.12654969257152,
          32.32677780410519,
          -160.5110019638476,
          94.59158798559042,
          36.818326030819144,
          92.85665519415583,
          -51.83673961148753,
          54.18693097618083,
          79.95068292898422
         ]
        }
       ],
       "layout": {
        "template": {
         "data": {
          "bar": [
           {
            "error_x": {
             "color": "#2a3f5f"
            },
            "error_y": {
             "color": "#2a3f5f"
            },
            "marker": {
             "line": {
              "color": "#E5ECF6",
              "width": 0.5
             }
            },
            "type": "bar"
           }
          ],
          "barpolar": [
           {
            "marker": {
             "line": {
              "color": "#E5ECF6",
              "width": 0.5
             }
            },
            "type": "barpolar"
           }
          ],
          "carpet": [
           {
            "aaxis": {
             "endlinecolor": "#2a3f5f",
             "gridcolor": "white",
             "linecolor": "white",
             "minorgridcolor": "white",
             "startlinecolor": "#2a3f5f"
            },
            "baxis": {
             "endlinecolor": "#2a3f5f",
             "gridcolor": "white",
             "linecolor": "white",
             "minorgridcolor": "white",
             "startlinecolor": "#2a3f5f"
            },
            "type": "carpet"
           }
          ],
          "choropleth": [
           {
            "colorbar": {
             "outlinewidth": 0,
             "ticks": ""
            },
            "type": "choropleth"
           }
          ],
          "contour": [
           {
            "colorbar": {
             "outlinewidth": 0,
             "ticks": ""
            },
            "colorscale": [
             [
              0,
              "#0d0887"
             ],
             [
              0.1111111111111111,
              "#46039f"
             ],
             [
              0.2222222222222222,
              "#7201a8"
             ],
             [
              0.3333333333333333,
              "#9c179e"
             ],
             [
              0.4444444444444444,
              "#bd3786"
             ],
             [
              0.5555555555555556,
              "#d8576b"
             ],
             [
              0.6666666666666666,
              "#ed7953"
             ],
             [
              0.7777777777777778,
              "#fb9f3a"
             ],
             [
              0.8888888888888888,
              "#fdca26"
             ],
             [
              1,
              "#f0f921"
             ]
            ],
            "type": "contour"
           }
          ],
          "contourcarpet": [
           {
            "colorbar": {
             "outlinewidth": 0,
             "ticks": ""
            },
            "type": "contourcarpet"
           }
          ],
          "heatmap": [
           {
            "colorbar": {
             "outlinewidth": 0,
             "ticks": ""
            },
            "colorscale": [
             [
              0,
              "#0d0887"
             ],
             [
              0.1111111111111111,
              "#46039f"
             ],
             [
              0.2222222222222222,
              "#7201a8"
             ],
             [
              0.3333333333333333,
              "#9c179e"
             ],
             [
              0.4444444444444444,
              "#bd3786"
             ],
             [
              0.5555555555555556,
              "#d8576b"
             ],
             [
              0.6666666666666666,
              "#ed7953"
             ],
             [
              0.7777777777777778,
              "#fb9f3a"
             ],
             [
              0.8888888888888888,
              "#fdca26"
             ],
             [
              1,
              "#f0f921"
             ]
            ],
            "type": "heatmap"
           }
          ],
          "heatmapgl": [
           {
            "colorbar": {
             "outlinewidth": 0,
             "ticks": ""
            },
            "colorscale": [
             [
              0,
              "#0d0887"
             ],
             [
              0.1111111111111111,
              "#46039f"
             ],
             [
              0.2222222222222222,
              "#7201a8"
             ],
             [
              0.3333333333333333,
              "#9c179e"
             ],
             [
              0.4444444444444444,
              "#bd3786"
             ],
             [
              0.5555555555555556,
              "#d8576b"
             ],
             [
              0.6666666666666666,
              "#ed7953"
             ],
             [
              0.7777777777777778,
              "#fb9f3a"
             ],
             [
              0.8888888888888888,
              "#fdca26"
             ],
             [
              1,
              "#f0f921"
             ]
            ],
            "type": "heatmapgl"
           }
          ],
          "histogram": [
           {
            "marker": {
             "colorbar": {
              "outlinewidth": 0,
              "ticks": ""
             }
            },
            "type": "histogram"
           }
          ],
          "histogram2d": [
           {
            "colorbar": {
             "outlinewidth": 0,
             "ticks": ""
            },
            "colorscale": [
             [
              0,
              "#0d0887"
             ],
             [
              0.1111111111111111,
              "#46039f"
             ],
             [
              0.2222222222222222,
              "#7201a8"
             ],
             [
              0.3333333333333333,
              "#9c179e"
             ],
             [
              0.4444444444444444,
              "#bd3786"
             ],
             [
              0.5555555555555556,
              "#d8576b"
             ],
             [
              0.6666666666666666,
              "#ed7953"
             ],
             [
              0.7777777777777778,
              "#fb9f3a"
             ],
             [
              0.8888888888888888,
              "#fdca26"
             ],
             [
              1,
              "#f0f921"
             ]
            ],
            "type": "histogram2d"
           }
          ],
          "histogram2dcontour": [
           {
            "colorbar": {
             "outlinewidth": 0,
             "ticks": ""
            },
            "colorscale": [
             [
              0,
              "#0d0887"
             ],
             [
              0.1111111111111111,
              "#46039f"
             ],
             [
              0.2222222222222222,
              "#7201a8"
             ],
             [
              0.3333333333333333,
              "#9c179e"
             ],
             [
              0.4444444444444444,
              "#bd3786"
             ],
             [
              0.5555555555555556,
              "#d8576b"
             ],
             [
              0.6666666666666666,
              "#ed7953"
             ],
             [
              0.7777777777777778,
              "#fb9f3a"
             ],
             [
              0.8888888888888888,
              "#fdca26"
             ],
             [
              1,
              "#f0f921"
             ]
            ],
            "type": "histogram2dcontour"
           }
          ],
          "mesh3d": [
           {
            "colorbar": {
             "outlinewidth": 0,
             "ticks": ""
            },
            "type": "mesh3d"
           }
          ],
          "parcoords": [
           {
            "line": {
             "colorbar": {
              "outlinewidth": 0,
              "ticks": ""
             }
            },
            "type": "parcoords"
           }
          ],
          "scatter": [
           {
            "marker": {
             "colorbar": {
              "outlinewidth": 0,
              "ticks": ""
             }
            },
            "type": "scatter"
           }
          ],
          "scatter3d": [
           {
            "line": {
             "colorbar": {
              "outlinewidth": 0,
              "ticks": ""
             }
            },
            "marker": {
             "colorbar": {
              "outlinewidth": 0,
              "ticks": ""
             }
            },
            "type": "scatter3d"
           }
          ],
          "scattercarpet": [
           {
            "marker": {
             "colorbar": {
              "outlinewidth": 0,
              "ticks": ""
             }
            },
            "type": "scattercarpet"
           }
          ],
          "scattergeo": [
           {
            "marker": {
             "colorbar": {
              "outlinewidth": 0,
              "ticks": ""
             }
            },
            "type": "scattergeo"
           }
          ],
          "scattergl": [
           {
            "marker": {
             "colorbar": {
              "outlinewidth": 0,
              "ticks": ""
             }
            },
            "type": "scattergl"
           }
          ],
          "scattermapbox": [
           {
            "marker": {
             "colorbar": {
              "outlinewidth": 0,
              "ticks": ""
             }
            },
            "type": "scattermapbox"
           }
          ],
          "scatterpolar": [
           {
            "marker": {
             "colorbar": {
              "outlinewidth": 0,
              "ticks": ""
             }
            },
            "type": "scatterpolar"
           }
          ],
          "scatterpolargl": [
           {
            "marker": {
             "colorbar": {
              "outlinewidth": 0,
              "ticks": ""
             }
            },
            "type": "scatterpolargl"
           }
          ],
          "scatterternary": [
           {
            "marker": {
             "colorbar": {
              "outlinewidth": 0,
              "ticks": ""
             }
            },
            "type": "scatterternary"
           }
          ],
          "surface": [
           {
            "colorbar": {
             "outlinewidth": 0,
             "ticks": ""
            },
            "colorscale": [
             [
              0,
              "#0d0887"
             ],
             [
              0.1111111111111111,
              "#46039f"
             ],
             [
              0.2222222222222222,
              "#7201a8"
             ],
             [
              0.3333333333333333,
              "#9c179e"
             ],
             [
              0.4444444444444444,
              "#bd3786"
             ],
             [
              0.5555555555555556,
              "#d8576b"
             ],
             [
              0.6666666666666666,
              "#ed7953"
             ],
             [
              0.7777777777777778,
              "#fb9f3a"
             ],
             [
              0.8888888888888888,
              "#fdca26"
             ],
             [
              1,
              "#f0f921"
             ]
            ],
            "type": "surface"
           }
          ],
          "table": [
           {
            "cells": {
             "fill": {
              "color": "#EBF0F8"
             },
             "line": {
              "color": "white"
             }
            },
            "header": {
             "fill": {
              "color": "#C8D4E3"
             },
             "line": {
              "color": "white"
             }
            },
            "type": "table"
           }
          ]
         },
         "layout": {
          "annotationdefaults": {
           "arrowcolor": "#2a3f5f",
           "arrowhead": 0,
           "arrowwidth": 1
          },
          "colorscale": {
           "diverging": [
            [
             0,
             "#8e0152"
            ],
            [
             0.1,
             "#c51b7d"
            ],
            [
             0.2,
             "#de77ae"
            ],
            [
             0.3,
             "#f1b6da"
            ],
            [
             0.4,
             "#fde0ef"
            ],
            [
             0.5,
             "#f7f7f7"
            ],
            [
             0.6,
             "#e6f5d0"
            ],
            [
             0.7,
             "#b8e186"
            ],
            [
             0.8,
             "#7fbc41"
            ],
            [
             0.9,
             "#4d9221"
            ],
            [
             1,
             "#276419"
            ]
           ],
           "sequential": [
            [
             0,
             "#0d0887"
            ],
            [
             0.1111111111111111,
             "#46039f"
            ],
            [
             0.2222222222222222,
             "#7201a8"
            ],
            [
             0.3333333333333333,
             "#9c179e"
            ],
            [
             0.4444444444444444,
             "#bd3786"
            ],
            [
             0.5555555555555556,
             "#d8576b"
            ],
            [
             0.6666666666666666,
             "#ed7953"
            ],
            [
             0.7777777777777778,
             "#fb9f3a"
            ],
            [
             0.8888888888888888,
             "#fdca26"
            ],
            [
             1,
             "#f0f921"
            ]
           ],
           "sequentialminus": [
            [
             0,
             "#0d0887"
            ],
            [
             0.1111111111111111,
             "#46039f"
            ],
            [
             0.2222222222222222,
             "#7201a8"
            ],
            [
             0.3333333333333333,
             "#9c179e"
            ],
            [
             0.4444444444444444,
             "#bd3786"
            ],
            [
             0.5555555555555556,
             "#d8576b"
            ],
            [
             0.6666666666666666,
             "#ed7953"
            ],
            [
             0.7777777777777778,
             "#fb9f3a"
            ],
            [
             0.8888888888888888,
             "#fdca26"
            ],
            [
             1,
             "#f0f921"
            ]
           ]
          },
          "colorway": [
           "#636efa",
           "#EF553B",
           "#00cc96",
           "#ab63fa",
           "#FFA15A",
           "#19d3f3",
           "#FF6692",
           "#B6E880",
           "#FF97FF",
           "#FECB52"
          ],
          "font": {
           "color": "#2a3f5f"
          },
          "geo": {
           "bgcolor": "white",
           "lakecolor": "white",
           "landcolor": "#E5ECF6",
           "showlakes": true,
           "showland": true,
           "subunitcolor": "white"
          },
          "hoverlabel": {
           "align": "left"
          },
          "hovermode": "closest",
          "mapbox": {
           "style": "light"
          },
          "paper_bgcolor": "white",
          "plot_bgcolor": "#E5ECF6",
          "polar": {
           "angularaxis": {
            "gridcolor": "white",
            "linecolor": "white",
            "ticks": ""
           },
           "bgcolor": "#E5ECF6",
           "radialaxis": {
            "gridcolor": "white",
            "linecolor": "white",
            "ticks": ""
           }
          },
          "scene": {
           "xaxis": {
            "backgroundcolor": "#E5ECF6",
            "gridcolor": "white",
            "gridwidth": 2,
            "linecolor": "white",
            "showbackground": true,
            "ticks": "",
            "zerolinecolor": "white"
           },
           "yaxis": {
            "backgroundcolor": "#E5ECF6",
            "gridcolor": "white",
            "gridwidth": 2,
            "linecolor": "white",
            "showbackground": true,
            "ticks": "",
            "zerolinecolor": "white"
           },
           "zaxis": {
            "backgroundcolor": "#E5ECF6",
            "gridcolor": "white",
            "gridwidth": 2,
            "linecolor": "white",
            "showbackground": true,
            "ticks": "",
            "zerolinecolor": "white"
           }
          },
          "shapedefaults": {
           "line": {
            "color": "#2a3f5f"
           }
          },
          "ternary": {
           "aaxis": {
            "gridcolor": "white",
            "linecolor": "white",
            "ticks": ""
           },
           "baxis": {
            "gridcolor": "white",
            "linecolor": "white",
            "ticks": ""
           },
           "bgcolor": "#E5ECF6",
           "caxis": {
            "gridcolor": "white",
            "linecolor": "white",
            "ticks": ""
           }
          },
          "title": {
           "x": 0.05
          },
          "xaxis": {
           "automargin": true,
           "gridcolor": "white",
           "linecolor": "white",
           "ticks": "",
           "zerolinecolor": "white",
           "zerolinewidth": 2
          },
          "yaxis": {
           "automargin": true,
           "gridcolor": "white",
           "linecolor": "white",
           "ticks": "",
           "zerolinecolor": "white",
           "zerolinewidth": 2
          }
         }
        },
        "title": {
         "text": "rbf"
        }
       }
      },
      "text/html": [
       "<div>\n",
       "        \n",
       "        \n",
       "            <div id=\"1aceb67f-46a5-4a7b-844c-5e6e9254a4a5\" class=\"plotly-graph-div\" style=\"height:525px; width:100%;\"></div>\n",
       "            <script type=\"text/javascript\">\n",
       "                require([\"plotly\"], function(Plotly) {\n",
       "                    window.PLOTLYENV=window.PLOTLYENV || {};\n",
       "                    \n",
       "                if (document.getElementById(\"1aceb67f-46a5-4a7b-844c-5e6e9254a4a5\")) {\n",
       "                    Plotly.newPlot(\n",
       "                        '1aceb67f-46a5-4a7b-844c-5e6e9254a4a5',\n",
       "                        [{\"mode\": \"markers\", \"name\": \"observed points\", \"type\": \"scatter\", \"x\": [6.753507014028056, -2.1843687374749505, 6.272545090180358, -5.511022044088176, -8.917835671342685, -0.7815631262525056, -0.06012024048096265, -8.196392785571142, 7.8356713426853695, -5.9118236472945895, 8.356713426853705, 1.7434869739478955, 2.3847695390781567, 0.020040080160320883, 0.5811623246492985, -4.709418837675351, -9.278557114228457, -9.759519038076153, -1.4629258517034067, -8.797595190380761, 4.38877755511022, 4.028056112224448, -3.1462925851703414, 7.23446893787575, 4.228456913827655, -9.519038076152304, -6.352705410821644, -9.919839679358718, -4.98997995991984, -4.348697394789579, -4.108216432865731, 7.795591182364728, 9.799599198396791, 2.2244488977955914, -5.070140280561122, -6.513026052104209, 3.46693386773547, -0.6212424849699403, 7.515030060120239, 6.513026052104209, -3.5871743486973955, -8.47695390781563, 8.837675350701403, 6.593186372745489, 0.7815631262525038, 6.072144288577153, -3.987975951903808, -9.158316633266534, 3.8276553106212425, -3.5470941883767537, 5.070140280561121, -9.358717434869739, -6.953907815631263, -9.839679358717435, 2.0240480961923843, 3.6272545090180355, -9.599198396793588, 5.631262525050099, 1.7434869739478955, -3.907815631262525, 8.917835671342683, 4.589178356713425, 3.226452905811623, -3.987975951903808, 2.1843687374749496, 8.517034068136272, -4.188376753507014, 9.438877755511022, 7.675350701402806, 5.631262525050099, -1.8637274549098208, 1.863727454909819, 8.677354709418836, -1.823647294589179, -7.114228456913828, -5.631262525050101, -1.9839679358717444, -1.9438877755511026, -1.6633266533066138, -8.356713426853707, -2.0240480961923852, -3.6272545090180364, 9.438877755511022, 1.1422845691382761, -7.9959919839679365, -2.1442885771543088, -9.198396793587175, 1.623246492985972, 5.991983967935871, -2.6653306613226455, -0.5811623246492985, -1.9038076152304608, -4.7494989979959925, -9.318637274549099, 1.3426853707414832, -4.589178356713427, -1.5430861723446903, 7.114228456913828, 3.9078156312625243, -2.585170340681363], \"y\": [-36.829570965578455, 85.68559965622627, -18.034465725037165, 8.88590808872253, -138.5833791832161, 98.16747723904723, 99.98915667005353, -101.54256408608796, -84.19323617174223, -4.84897651013452, -109.503977895671, 90.88075951502204, 82.93862273645487, 99.9987951855615, 98.98675105722467, 33.46412263404565, -158.2748663659985, -185.74463556371268, 93.57954385725358, -132.19304340143213, 42.215894715282275, 51.3242918703138, 70.30252890550639, -57.01262243926726, 46.36045638370931, -171.8362576857121, -21.07059811004777, -195.20965779253902, 25.300299998795182, 43.26649290565098, 49.367673222195904, -82.31372564768807, -188.09643334765713, 85.15548130328793, 22.881032606294752, -27.258525066164424, 63.94110867024632, 98.84217332460513, -69.4270304135324, -27.258525066164424, 61.39654057614225, -115.57624266569206, -134.31351681318552, -30.410319637270447, 98.16747723904724, -10.61280878390042, 52.28814342111075, -151.62429066549936, 56.047164469219, 62.25436845635158, 22.88103260629478, -162.75677607720445, -45.070501724892694, -190.45786964710982, 87.70968791289995, 60.52907418042499, -176.43382958301373, 4.866647121899149, 90.88075951502204, 54.18693097618082, -138.583379183216, 36.81832603081919, 68.7700049397392, 52.28814342111075, 85.68559965622629, -117.61960795338172, 47.37250051204614, -167.27723985044236, -76.73302516857365, 4.866647121899149, 89.57955992144609, 89.5795599214461, -125.88945425921975, 90.0229316348127, -51.83673961148753, 4.866647121899092, 88.19161368829843, 88.66390094818895, 91.70003333319946, -109.50397789567108, 87.70968791289994, 60.52907418042497, -167.27723985044236, 96.08555788932574, -91.80766342303849, 86.20607949365665, -153.83151071682448, 92.09521246902622, -7.711615616001524, 78.68803739744017, 98.98675105722467, 89.12654969257152, 32.32677780410519, -160.5110019638476, 94.59158798559042, 36.818326030819144, 92.85665519415583, -51.83673961148753, 54.18693097618083, 79.95068292898422]}],\n",
       "                        {\"template\": {\"data\": {\"bar\": [{\"error_x\": {\"color\": \"#2a3f5f\"}, \"error_y\": {\"color\": \"#2a3f5f\"}, \"marker\": {\"line\": {\"color\": \"#E5ECF6\", \"width\": 0.5}}, \"type\": \"bar\"}], \"barpolar\": [{\"marker\": {\"line\": {\"color\": \"#E5ECF6\", \"width\": 0.5}}, \"type\": \"barpolar\"}], \"carpet\": [{\"aaxis\": {\"endlinecolor\": \"#2a3f5f\", \"gridcolor\": \"white\", \"linecolor\": \"white\", \"minorgridcolor\": \"white\", \"startlinecolor\": \"#2a3f5f\"}, \"baxis\": {\"endlinecolor\": \"#2a3f5f\", \"gridcolor\": \"white\", \"linecolor\": \"white\", \"minorgridcolor\": \"white\", \"startlinecolor\": \"#2a3f5f\"}, \"type\": \"carpet\"}], \"choropleth\": [{\"colorbar\": {\"outlinewidth\": 0, \"ticks\": \"\"}, \"type\": \"choropleth\"}], \"contour\": [{\"colorbar\": {\"outlinewidth\": 0, \"ticks\": \"\"}, \"colorscale\": [[0.0, \"#0d0887\"], [0.1111111111111111, \"#46039f\"], [0.2222222222222222, \"#7201a8\"], [0.3333333333333333, \"#9c179e\"], [0.4444444444444444, \"#bd3786\"], [0.5555555555555556, \"#d8576b\"], [0.6666666666666666, \"#ed7953\"], [0.7777777777777778, \"#fb9f3a\"], [0.8888888888888888, \"#fdca26\"], [1.0, \"#f0f921\"]], \"type\": \"contour\"}], \"contourcarpet\": [{\"colorbar\": {\"outlinewidth\": 0, \"ticks\": \"\"}, \"type\": \"contourcarpet\"}], \"heatmap\": [{\"colorbar\": {\"outlinewidth\": 0, \"ticks\": \"\"}, \"colorscale\": [[0.0, \"#0d0887\"], [0.1111111111111111, \"#46039f\"], [0.2222222222222222, \"#7201a8\"], [0.3333333333333333, \"#9c179e\"], [0.4444444444444444, \"#bd3786\"], [0.5555555555555556, \"#d8576b\"], [0.6666666666666666, \"#ed7953\"], [0.7777777777777778, \"#fb9f3a\"], [0.8888888888888888, \"#fdca26\"], [1.0, \"#f0f921\"]], \"type\": \"heatmap\"}], \"heatmapgl\": [{\"colorbar\": {\"outlinewidth\": 0, \"ticks\": \"\"}, \"colorscale\": [[0.0, \"#0d0887\"], [0.1111111111111111, \"#46039f\"], [0.2222222222222222, \"#7201a8\"], [0.3333333333333333, \"#9c179e\"], [0.4444444444444444, \"#bd3786\"], [0.5555555555555556, \"#d8576b\"], [0.6666666666666666, \"#ed7953\"], [0.7777777777777778, \"#fb9f3a\"], [0.8888888888888888, \"#fdca26\"], [1.0, \"#f0f921\"]], \"type\": \"heatmapgl\"}], \"histogram\": [{\"marker\": {\"colorbar\": {\"outlinewidth\": 0, \"ticks\": \"\"}}, \"type\": \"histogram\"}], \"histogram2d\": [{\"colorbar\": {\"outlinewidth\": 0, \"ticks\": \"\"}, \"colorscale\": [[0.0, \"#0d0887\"], [0.1111111111111111, \"#46039f\"], [0.2222222222222222, \"#7201a8\"], [0.3333333333333333, \"#9c179e\"], [0.4444444444444444, \"#bd3786\"], [0.5555555555555556, \"#d8576b\"], [0.6666666666666666, \"#ed7953\"], [0.7777777777777778, \"#fb9f3a\"], [0.8888888888888888, \"#fdca26\"], [1.0, \"#f0f921\"]], \"type\": \"histogram2d\"}], \"histogram2dcontour\": [{\"colorbar\": {\"outlinewidth\": 0, \"ticks\": \"\"}, \"colorscale\": [[0.0, \"#0d0887\"], [0.1111111111111111, \"#46039f\"], [0.2222222222222222, \"#7201a8\"], [0.3333333333333333, \"#9c179e\"], [0.4444444444444444, \"#bd3786\"], [0.5555555555555556, \"#d8576b\"], [0.6666666666666666, \"#ed7953\"], [0.7777777777777778, \"#fb9f3a\"], [0.8888888888888888, \"#fdca26\"], [1.0, \"#f0f921\"]], \"type\": \"histogram2dcontour\"}], \"mesh3d\": [{\"colorbar\": {\"outlinewidth\": 0, \"ticks\": \"\"}, \"type\": \"mesh3d\"}], \"parcoords\": [{\"line\": {\"colorbar\": {\"outlinewidth\": 0, \"ticks\": \"\"}}, \"type\": \"parcoords\"}], \"scatter\": [{\"marker\": {\"colorbar\": {\"outlinewidth\": 0, \"ticks\": \"\"}}, \"type\": \"scatter\"}], \"scatter3d\": [{\"line\": {\"colorbar\": {\"outlinewidth\": 0, \"ticks\": \"\"}}, \"marker\": {\"colorbar\": {\"outlinewidth\": 0, \"ticks\": \"\"}}, \"type\": \"scatter3d\"}], \"scattercarpet\": [{\"marker\": {\"colorbar\": {\"outlinewidth\": 0, \"ticks\": \"\"}}, \"type\": \"scattercarpet\"}], \"scattergeo\": [{\"marker\": {\"colorbar\": {\"outlinewidth\": 0, \"ticks\": \"\"}}, \"type\": \"scattergeo\"}], \"scattergl\": [{\"marker\": {\"colorbar\": {\"outlinewidth\": 0, \"ticks\": \"\"}}, \"type\": \"scattergl\"}], \"scattermapbox\": [{\"marker\": {\"colorbar\": {\"outlinewidth\": 0, \"ticks\": \"\"}}, \"type\": \"scattermapbox\"}], \"scatterpolar\": [{\"marker\": {\"colorbar\": {\"outlinewidth\": 0, \"ticks\": \"\"}}, \"type\": \"scatterpolar\"}], \"scatterpolargl\": [{\"marker\": {\"colorbar\": {\"outlinewidth\": 0, \"ticks\": \"\"}}, \"type\": \"scatterpolargl\"}], \"scatterternary\": [{\"marker\": {\"colorbar\": {\"outlinewidth\": 0, \"ticks\": \"\"}}, \"type\": \"scatterternary\"}], \"surface\": [{\"colorbar\": {\"outlinewidth\": 0, \"ticks\": \"\"}, \"colorscale\": [[0.0, \"#0d0887\"], [0.1111111111111111, \"#46039f\"], [0.2222222222222222, \"#7201a8\"], [0.3333333333333333, \"#9c179e\"], [0.4444444444444444, \"#bd3786\"], [0.5555555555555556, \"#d8576b\"], [0.6666666666666666, \"#ed7953\"], [0.7777777777777778, \"#fb9f3a\"], [0.8888888888888888, \"#fdca26\"], [1.0, \"#f0f921\"]], \"type\": \"surface\"}], \"table\": [{\"cells\": {\"fill\": {\"color\": \"#EBF0F8\"}, \"line\": {\"color\": \"white\"}}, \"header\": {\"fill\": {\"color\": \"#C8D4E3\"}, \"line\": {\"color\": \"white\"}}, \"type\": \"table\"}]}, \"layout\": {\"annotationdefaults\": {\"arrowcolor\": \"#2a3f5f\", \"arrowhead\": 0, \"arrowwidth\": 1}, \"colorscale\": {\"diverging\": [[0, \"#8e0152\"], [0.1, \"#c51b7d\"], [0.2, \"#de77ae\"], [0.3, \"#f1b6da\"], [0.4, \"#fde0ef\"], [0.5, \"#f7f7f7\"], [0.6, \"#e6f5d0\"], [0.7, \"#b8e186\"], [0.8, \"#7fbc41\"], [0.9, \"#4d9221\"], [1, \"#276419\"]], \"sequential\": [[0.0, \"#0d0887\"], [0.1111111111111111, \"#46039f\"], [0.2222222222222222, \"#7201a8\"], [0.3333333333333333, \"#9c179e\"], [0.4444444444444444, \"#bd3786\"], [0.5555555555555556, \"#d8576b\"], [0.6666666666666666, \"#ed7953\"], [0.7777777777777778, \"#fb9f3a\"], [0.8888888888888888, \"#fdca26\"], [1.0, \"#f0f921\"]], \"sequentialminus\": [[0.0, \"#0d0887\"], [0.1111111111111111, \"#46039f\"], [0.2222222222222222, \"#7201a8\"], [0.3333333333333333, \"#9c179e\"], [0.4444444444444444, \"#bd3786\"], [0.5555555555555556, \"#d8576b\"], [0.6666666666666666, \"#ed7953\"], [0.7777777777777778, \"#fb9f3a\"], [0.8888888888888888, \"#fdca26\"], [1.0, \"#f0f921\"]]}, \"colorway\": [\"#636efa\", \"#EF553B\", \"#00cc96\", \"#ab63fa\", \"#FFA15A\", \"#19d3f3\", \"#FF6692\", \"#B6E880\", \"#FF97FF\", \"#FECB52\"], \"font\": {\"color\": \"#2a3f5f\"}, \"geo\": {\"bgcolor\": \"white\", \"lakecolor\": \"white\", \"landcolor\": \"#E5ECF6\", \"showlakes\": true, \"showland\": true, \"subunitcolor\": \"white\"}, \"hoverlabel\": {\"align\": \"left\"}, \"hovermode\": \"closest\", \"mapbox\": {\"style\": \"light\"}, \"paper_bgcolor\": \"white\", \"plot_bgcolor\": \"#E5ECF6\", \"polar\": {\"angularaxis\": {\"gridcolor\": \"white\", \"linecolor\": \"white\", \"ticks\": \"\"}, \"bgcolor\": \"#E5ECF6\", \"radialaxis\": {\"gridcolor\": \"white\", \"linecolor\": \"white\", \"ticks\": \"\"}}, \"scene\": {\"xaxis\": {\"backgroundcolor\": \"#E5ECF6\", \"gridcolor\": \"white\", \"gridwidth\": 2, \"linecolor\": \"white\", \"showbackground\": true, \"ticks\": \"\", \"zerolinecolor\": \"white\"}, \"yaxis\": {\"backgroundcolor\": \"#E5ECF6\", \"gridcolor\": \"white\", \"gridwidth\": 2, \"linecolor\": \"white\", \"showbackground\": true, \"ticks\": \"\", \"zerolinecolor\": \"white\"}, \"zaxis\": {\"backgroundcolor\": \"#E5ECF6\", \"gridcolor\": \"white\", \"gridwidth\": 2, \"linecolor\": \"white\", \"showbackground\": true, \"ticks\": \"\", \"zerolinecolor\": \"white\"}}, \"shapedefaults\": {\"line\": {\"color\": \"#2a3f5f\"}}, \"ternary\": {\"aaxis\": {\"gridcolor\": \"white\", \"linecolor\": \"white\", \"ticks\": \"\"}, \"baxis\": {\"gridcolor\": \"white\", \"linecolor\": \"white\", \"ticks\": \"\"}, \"bgcolor\": \"#E5ECF6\", \"caxis\": {\"gridcolor\": \"white\", \"linecolor\": \"white\", \"ticks\": \"\"}}, \"title\": {\"x\": 0.05}, \"xaxis\": {\"automargin\": true, \"gridcolor\": \"white\", \"linecolor\": \"white\", \"ticks\": \"\", \"zerolinecolor\": \"white\", \"zerolinewidth\": 2}, \"yaxis\": {\"automargin\": true, \"gridcolor\": \"white\", \"linecolor\": \"white\", \"ticks\": \"\", \"zerolinecolor\": \"white\", \"zerolinewidth\": 2}}}, \"title\": {\"text\": \"rbf\"}},\n",
       "                        {\"responsive\": true}\n",
       "                    ).then(function(){\n",
       "                            \n",
       "var gd = document.getElementById('1aceb67f-46a5-4a7b-844c-5e6e9254a4a5');\n",
       "var x = new MutationObserver(function (mutations, observer) {{\n",
       "        var display = window.getComputedStyle(gd).display;\n",
       "        if (!display || display === 'none') {{\n",
       "            console.log([gd, 'removed!']);\n",
       "            Plotly.purge(gd);\n",
       "            observer.disconnect();\n",
       "        }}\n",
       "}});\n",
       "\n",
       "// Listen for the removal of the full notebook cells\n",
       "var notebookContainer = gd.closest('#notebook-container');\n",
       "if (notebookContainer) {{\n",
       "    x.observe(notebookContainer, {childList: true});\n",
       "}}\n",
       "\n",
       "// Listen for the clearing of the current output cell\n",
       "var outputEl = gd.closest('.output');\n",
       "if (outputEl) {{\n",
       "    x.observe(outputEl, {childList: true});\n",
       "}}\n",
       "\n",
       "                        })\n",
       "                };\n",
       "                });\n",
       "            </script>\n",
       "        </div>"
      ]
     },
     "metadata": {},
     "output_type": "display_data"
    }
   ],
   "source": [
    "traces = []\n",
    "\n",
    "trace = {\n",
    "    'type':'scatter',\n",
    "    'mode':'markers',\n",
    "    'x':x_ran,\n",
    "    'y':observed,\n",
    "    'name':'observed points',\n",
    "}\n",
    "\n",
    "traces.append(trace)\n",
    "\n",
    "fig = go.Figure(traces, layout)\n",
    "\n",
    "pyo.iplot(fig)"
   ]
  },
  {
   "cell_type": "code",
   "execution_count": 566,
   "metadata": {},
   "outputs": [],
   "source": [
    "coords = [list(a) for a in zip(x_ran, np.zeros(len(x_ran)))]"
   ]
  },
  {
   "cell_type": "code",
   "execution_count": 567,
   "metadata": {},
   "outputs": [],
   "source": [
    "from sklearn.cluster import KMeans"
   ]
  },
  {
   "cell_type": "code",
   "execution_count": 601,
   "metadata": {},
   "outputs": [],
   "source": [
    "def plot_inertia(coords, max_clus):\n",
    "    inertia = []\n",
    "    n_clus = np.arange(1,max_clus,1)\n",
    "    for n in n_clus:\n",
    "        kmeans = KMeans(n_clusters=n).fit(coords)\n",
    "        inertia.append(kmeans.inertia_)\n",
    "        \n",
    "    traces = []\n",
    "    \n",
    "    trace = {\n",
    "    'type':'scatter',\n",
    "    'mode':'lines',\n",
    "    'x':n_clus,\n",
    "    'y':inertia,\n",
    "    'name':'observed points',\n",
    "    }\n",
    "    \n",
    "    traces.append(trace)\n",
    "    \n",
    "    layout = {\n",
    "    'title':'inertia',\n",
    "    }\n",
    "\n",
    "    fig = go.Figure(traces, layout)\n",
    "\n",
    "    pyo.iplot(fig)    "
   ]
  },
  {
   "cell_type": "code",
   "execution_count": 602,
   "metadata": {},
   "outputs": [
    {
     "data": {
      "application/vnd.plotly.v1+json": {
       "config": {
        "linkText": "Export to plot.ly",
        "plotlyServerURL": "https://plot.ly",
        "showLink": false
       },
       "data": [
        {
         "mode": "lines",
         "name": "observed points",
         "type": "scatter",
         "x": [
          1,
          2,
          3,
          4,
          5
         ],
         "y": [
          3399.9897349809844,
          860.6954174711452,
          403.1940032369348,
          186.16770026918022,
          114.11752197659419
         ]
        }
       ],
       "layout": {
        "template": {
         "data": {
          "bar": [
           {
            "error_x": {
             "color": "#2a3f5f"
            },
            "error_y": {
             "color": "#2a3f5f"
            },
            "marker": {
             "line": {
              "color": "#E5ECF6",
              "width": 0.5
             }
            },
            "type": "bar"
           }
          ],
          "barpolar": [
           {
            "marker": {
             "line": {
              "color": "#E5ECF6",
              "width": 0.5
             }
            },
            "type": "barpolar"
           }
          ],
          "carpet": [
           {
            "aaxis": {
             "endlinecolor": "#2a3f5f",
             "gridcolor": "white",
             "linecolor": "white",
             "minorgridcolor": "white",
             "startlinecolor": "#2a3f5f"
            },
            "baxis": {
             "endlinecolor": "#2a3f5f",
             "gridcolor": "white",
             "linecolor": "white",
             "minorgridcolor": "white",
             "startlinecolor": "#2a3f5f"
            },
            "type": "carpet"
           }
          ],
          "choropleth": [
           {
            "colorbar": {
             "outlinewidth": 0,
             "ticks": ""
            },
            "type": "choropleth"
           }
          ],
          "contour": [
           {
            "colorbar": {
             "outlinewidth": 0,
             "ticks": ""
            },
            "colorscale": [
             [
              0,
              "#0d0887"
             ],
             [
              0.1111111111111111,
              "#46039f"
             ],
             [
              0.2222222222222222,
              "#7201a8"
             ],
             [
              0.3333333333333333,
              "#9c179e"
             ],
             [
              0.4444444444444444,
              "#bd3786"
             ],
             [
              0.5555555555555556,
              "#d8576b"
             ],
             [
              0.6666666666666666,
              "#ed7953"
             ],
             [
              0.7777777777777778,
              "#fb9f3a"
             ],
             [
              0.8888888888888888,
              "#fdca26"
             ],
             [
              1,
              "#f0f921"
             ]
            ],
            "type": "contour"
           }
          ],
          "contourcarpet": [
           {
            "colorbar": {
             "outlinewidth": 0,
             "ticks": ""
            },
            "type": "contourcarpet"
           }
          ],
          "heatmap": [
           {
            "colorbar": {
             "outlinewidth": 0,
             "ticks": ""
            },
            "colorscale": [
             [
              0,
              "#0d0887"
             ],
             [
              0.1111111111111111,
              "#46039f"
             ],
             [
              0.2222222222222222,
              "#7201a8"
             ],
             [
              0.3333333333333333,
              "#9c179e"
             ],
             [
              0.4444444444444444,
              "#bd3786"
             ],
             [
              0.5555555555555556,
              "#d8576b"
             ],
             [
              0.6666666666666666,
              "#ed7953"
             ],
             [
              0.7777777777777778,
              "#fb9f3a"
             ],
             [
              0.8888888888888888,
              "#fdca26"
             ],
             [
              1,
              "#f0f921"
             ]
            ],
            "type": "heatmap"
           }
          ],
          "heatmapgl": [
           {
            "colorbar": {
             "outlinewidth": 0,
             "ticks": ""
            },
            "colorscale": [
             [
              0,
              "#0d0887"
             ],
             [
              0.1111111111111111,
              "#46039f"
             ],
             [
              0.2222222222222222,
              "#7201a8"
             ],
             [
              0.3333333333333333,
              "#9c179e"
             ],
             [
              0.4444444444444444,
              "#bd3786"
             ],
             [
              0.5555555555555556,
              "#d8576b"
             ],
             [
              0.6666666666666666,
              "#ed7953"
             ],
             [
              0.7777777777777778,
              "#fb9f3a"
             ],
             [
              0.8888888888888888,
              "#fdca26"
             ],
             [
              1,
              "#f0f921"
             ]
            ],
            "type": "heatmapgl"
           }
          ],
          "histogram": [
           {
            "marker": {
             "colorbar": {
              "outlinewidth": 0,
              "ticks": ""
             }
            },
            "type": "histogram"
           }
          ],
          "histogram2d": [
           {
            "colorbar": {
             "outlinewidth": 0,
             "ticks": ""
            },
            "colorscale": [
             [
              0,
              "#0d0887"
             ],
             [
              0.1111111111111111,
              "#46039f"
             ],
             [
              0.2222222222222222,
              "#7201a8"
             ],
             [
              0.3333333333333333,
              "#9c179e"
             ],
             [
              0.4444444444444444,
              "#bd3786"
             ],
             [
              0.5555555555555556,
              "#d8576b"
             ],
             [
              0.6666666666666666,
              "#ed7953"
             ],
             [
              0.7777777777777778,
              "#fb9f3a"
             ],
             [
              0.8888888888888888,
              "#fdca26"
             ],
             [
              1,
              "#f0f921"
             ]
            ],
            "type": "histogram2d"
           }
          ],
          "histogram2dcontour": [
           {
            "colorbar": {
             "outlinewidth": 0,
             "ticks": ""
            },
            "colorscale": [
             [
              0,
              "#0d0887"
             ],
             [
              0.1111111111111111,
              "#46039f"
             ],
             [
              0.2222222222222222,
              "#7201a8"
             ],
             [
              0.3333333333333333,
              "#9c179e"
             ],
             [
              0.4444444444444444,
              "#bd3786"
             ],
             [
              0.5555555555555556,
              "#d8576b"
             ],
             [
              0.6666666666666666,
              "#ed7953"
             ],
             [
              0.7777777777777778,
              "#fb9f3a"
             ],
             [
              0.8888888888888888,
              "#fdca26"
             ],
             [
              1,
              "#f0f921"
             ]
            ],
            "type": "histogram2dcontour"
           }
          ],
          "mesh3d": [
           {
            "colorbar": {
             "outlinewidth": 0,
             "ticks": ""
            },
            "type": "mesh3d"
           }
          ],
          "parcoords": [
           {
            "line": {
             "colorbar": {
              "outlinewidth": 0,
              "ticks": ""
             }
            },
            "type": "parcoords"
           }
          ],
          "scatter": [
           {
            "marker": {
             "colorbar": {
              "outlinewidth": 0,
              "ticks": ""
             }
            },
            "type": "scatter"
           }
          ],
          "scatter3d": [
           {
            "line": {
             "colorbar": {
              "outlinewidth": 0,
              "ticks": ""
             }
            },
            "marker": {
             "colorbar": {
              "outlinewidth": 0,
              "ticks": ""
             }
            },
            "type": "scatter3d"
           }
          ],
          "scattercarpet": [
           {
            "marker": {
             "colorbar": {
              "outlinewidth": 0,
              "ticks": ""
             }
            },
            "type": "scattercarpet"
           }
          ],
          "scattergeo": [
           {
            "marker": {
             "colorbar": {
              "outlinewidth": 0,
              "ticks": ""
             }
            },
            "type": "scattergeo"
           }
          ],
          "scattergl": [
           {
            "marker": {
             "colorbar": {
              "outlinewidth": 0,
              "ticks": ""
             }
            },
            "type": "scattergl"
           }
          ],
          "scattermapbox": [
           {
            "marker": {
             "colorbar": {
              "outlinewidth": 0,
              "ticks": ""
             }
            },
            "type": "scattermapbox"
           }
          ],
          "scatterpolar": [
           {
            "marker": {
             "colorbar": {
              "outlinewidth": 0,
              "ticks": ""
             }
            },
            "type": "scatterpolar"
           }
          ],
          "scatterpolargl": [
           {
            "marker": {
             "colorbar": {
              "outlinewidth": 0,
              "ticks": ""
             }
            },
            "type": "scatterpolargl"
           }
          ],
          "scatterternary": [
           {
            "marker": {
             "colorbar": {
              "outlinewidth": 0,
              "ticks": ""
             }
            },
            "type": "scatterternary"
           }
          ],
          "surface": [
           {
            "colorbar": {
             "outlinewidth": 0,
             "ticks": ""
            },
            "colorscale": [
             [
              0,
              "#0d0887"
             ],
             [
              0.1111111111111111,
              "#46039f"
             ],
             [
              0.2222222222222222,
              "#7201a8"
             ],
             [
              0.3333333333333333,
              "#9c179e"
             ],
             [
              0.4444444444444444,
              "#bd3786"
             ],
             [
              0.5555555555555556,
              "#d8576b"
             ],
             [
              0.6666666666666666,
              "#ed7953"
             ],
             [
              0.7777777777777778,
              "#fb9f3a"
             ],
             [
              0.8888888888888888,
              "#fdca26"
             ],
             [
              1,
              "#f0f921"
             ]
            ],
            "type": "surface"
           }
          ],
          "table": [
           {
            "cells": {
             "fill": {
              "color": "#EBF0F8"
             },
             "line": {
              "color": "white"
             }
            },
            "header": {
             "fill": {
              "color": "#C8D4E3"
             },
             "line": {
              "color": "white"
             }
            },
            "type": "table"
           }
          ]
         },
         "layout": {
          "annotationdefaults": {
           "arrowcolor": "#2a3f5f",
           "arrowhead": 0,
           "arrowwidth": 1
          },
          "colorscale": {
           "diverging": [
            [
             0,
             "#8e0152"
            ],
            [
             0.1,
             "#c51b7d"
            ],
            [
             0.2,
             "#de77ae"
            ],
            [
             0.3,
             "#f1b6da"
            ],
            [
             0.4,
             "#fde0ef"
            ],
            [
             0.5,
             "#f7f7f7"
            ],
            [
             0.6,
             "#e6f5d0"
            ],
            [
             0.7,
             "#b8e186"
            ],
            [
             0.8,
             "#7fbc41"
            ],
            [
             0.9,
             "#4d9221"
            ],
            [
             1,
             "#276419"
            ]
           ],
           "sequential": [
            [
             0,
             "#0d0887"
            ],
            [
             0.1111111111111111,
             "#46039f"
            ],
            [
             0.2222222222222222,
             "#7201a8"
            ],
            [
             0.3333333333333333,
             "#9c179e"
            ],
            [
             0.4444444444444444,
             "#bd3786"
            ],
            [
             0.5555555555555556,
             "#d8576b"
            ],
            [
             0.6666666666666666,
             "#ed7953"
            ],
            [
             0.7777777777777778,
             "#fb9f3a"
            ],
            [
             0.8888888888888888,
             "#fdca26"
            ],
            [
             1,
             "#f0f921"
            ]
           ],
           "sequentialminus": [
            [
             0,
             "#0d0887"
            ],
            [
             0.1111111111111111,
             "#46039f"
            ],
            [
             0.2222222222222222,
             "#7201a8"
            ],
            [
             0.3333333333333333,
             "#9c179e"
            ],
            [
             0.4444444444444444,
             "#bd3786"
            ],
            [
             0.5555555555555556,
             "#d8576b"
            ],
            [
             0.6666666666666666,
             "#ed7953"
            ],
            [
             0.7777777777777778,
             "#fb9f3a"
            ],
            [
             0.8888888888888888,
             "#fdca26"
            ],
            [
             1,
             "#f0f921"
            ]
           ]
          },
          "colorway": [
           "#636efa",
           "#EF553B",
           "#00cc96",
           "#ab63fa",
           "#FFA15A",
           "#19d3f3",
           "#FF6692",
           "#B6E880",
           "#FF97FF",
           "#FECB52"
          ],
          "font": {
           "color": "#2a3f5f"
          },
          "geo": {
           "bgcolor": "white",
           "lakecolor": "white",
           "landcolor": "#E5ECF6",
           "showlakes": true,
           "showland": true,
           "subunitcolor": "white"
          },
          "hoverlabel": {
           "align": "left"
          },
          "hovermode": "closest",
          "mapbox": {
           "style": "light"
          },
          "paper_bgcolor": "white",
          "plot_bgcolor": "#E5ECF6",
          "polar": {
           "angularaxis": {
            "gridcolor": "white",
            "linecolor": "white",
            "ticks": ""
           },
           "bgcolor": "#E5ECF6",
           "radialaxis": {
            "gridcolor": "white",
            "linecolor": "white",
            "ticks": ""
           }
          },
          "scene": {
           "xaxis": {
            "backgroundcolor": "#E5ECF6",
            "gridcolor": "white",
            "gridwidth": 2,
            "linecolor": "white",
            "showbackground": true,
            "ticks": "",
            "zerolinecolor": "white"
           },
           "yaxis": {
            "backgroundcolor": "#E5ECF6",
            "gridcolor": "white",
            "gridwidth": 2,
            "linecolor": "white",
            "showbackground": true,
            "ticks": "",
            "zerolinecolor": "white"
           },
           "zaxis": {
            "backgroundcolor": "#E5ECF6",
            "gridcolor": "white",
            "gridwidth": 2,
            "linecolor": "white",
            "showbackground": true,
            "ticks": "",
            "zerolinecolor": "white"
           }
          },
          "shapedefaults": {
           "line": {
            "color": "#2a3f5f"
           }
          },
          "ternary": {
           "aaxis": {
            "gridcolor": "white",
            "linecolor": "white",
            "ticks": ""
           },
           "baxis": {
            "gridcolor": "white",
            "linecolor": "white",
            "ticks": ""
           },
           "bgcolor": "#E5ECF6",
           "caxis": {
            "gridcolor": "white",
            "linecolor": "white",
            "ticks": ""
           }
          },
          "title": {
           "x": 0.05
          },
          "xaxis": {
           "automargin": true,
           "gridcolor": "white",
           "linecolor": "white",
           "ticks": "",
           "zerolinecolor": "white",
           "zerolinewidth": 2
          },
          "yaxis": {
           "automargin": true,
           "gridcolor": "white",
           "linecolor": "white",
           "ticks": "",
           "zerolinecolor": "white",
           "zerolinewidth": 2
          }
         }
        },
        "title": {
         "text": "inertia"
        }
       }
      },
      "text/html": [
       "<div>\n",
       "        \n",
       "        \n",
       "            <div id=\"9f0a6c41-0069-402d-9a90-b6deb5a70f59\" class=\"plotly-graph-div\" style=\"height:525px; width:100%;\"></div>\n",
       "            <script type=\"text/javascript\">\n",
       "                require([\"plotly\"], function(Plotly) {\n",
       "                    window.PLOTLYENV=window.PLOTLYENV || {};\n",
       "                    \n",
       "                if (document.getElementById(\"9f0a6c41-0069-402d-9a90-b6deb5a70f59\")) {\n",
       "                    Plotly.newPlot(\n",
       "                        '9f0a6c41-0069-402d-9a90-b6deb5a70f59',\n",
       "                        [{\"mode\": \"lines\", \"name\": \"observed points\", \"type\": \"scatter\", \"x\": [1, 2, 3, 4, 5], \"y\": [3399.9897349809844, 860.6954174711452, 403.1940032369348, 186.16770026918022, 114.11752197659419]}],\n",
       "                        {\"template\": {\"data\": {\"bar\": [{\"error_x\": {\"color\": \"#2a3f5f\"}, \"error_y\": {\"color\": \"#2a3f5f\"}, \"marker\": {\"line\": {\"color\": \"#E5ECF6\", \"width\": 0.5}}, \"type\": \"bar\"}], \"barpolar\": [{\"marker\": {\"line\": {\"color\": \"#E5ECF6\", \"width\": 0.5}}, \"type\": \"barpolar\"}], \"carpet\": [{\"aaxis\": {\"endlinecolor\": \"#2a3f5f\", \"gridcolor\": \"white\", \"linecolor\": \"white\", \"minorgridcolor\": \"white\", \"startlinecolor\": \"#2a3f5f\"}, \"baxis\": {\"endlinecolor\": \"#2a3f5f\", \"gridcolor\": \"white\", \"linecolor\": \"white\", \"minorgridcolor\": \"white\", \"startlinecolor\": \"#2a3f5f\"}, \"type\": \"carpet\"}], \"choropleth\": [{\"colorbar\": {\"outlinewidth\": 0, \"ticks\": \"\"}, \"type\": \"choropleth\"}], \"contour\": [{\"colorbar\": {\"outlinewidth\": 0, \"ticks\": \"\"}, \"colorscale\": [[0.0, \"#0d0887\"], [0.1111111111111111, \"#46039f\"], [0.2222222222222222, \"#7201a8\"], [0.3333333333333333, \"#9c179e\"], [0.4444444444444444, \"#bd3786\"], [0.5555555555555556, \"#d8576b\"], [0.6666666666666666, \"#ed7953\"], [0.7777777777777778, \"#fb9f3a\"], [0.8888888888888888, \"#fdca26\"], [1.0, \"#f0f921\"]], \"type\": \"contour\"}], \"contourcarpet\": [{\"colorbar\": {\"outlinewidth\": 0, \"ticks\": \"\"}, \"type\": \"contourcarpet\"}], \"heatmap\": [{\"colorbar\": {\"outlinewidth\": 0, \"ticks\": \"\"}, \"colorscale\": [[0.0, \"#0d0887\"], [0.1111111111111111, \"#46039f\"], [0.2222222222222222, \"#7201a8\"], [0.3333333333333333, \"#9c179e\"], [0.4444444444444444, \"#bd3786\"], [0.5555555555555556, \"#d8576b\"], [0.6666666666666666, \"#ed7953\"], [0.7777777777777778, \"#fb9f3a\"], [0.8888888888888888, \"#fdca26\"], [1.0, \"#f0f921\"]], \"type\": \"heatmap\"}], \"heatmapgl\": [{\"colorbar\": {\"outlinewidth\": 0, \"ticks\": \"\"}, \"colorscale\": [[0.0, \"#0d0887\"], [0.1111111111111111, \"#46039f\"], [0.2222222222222222, \"#7201a8\"], [0.3333333333333333, \"#9c179e\"], [0.4444444444444444, \"#bd3786\"], [0.5555555555555556, \"#d8576b\"], [0.6666666666666666, \"#ed7953\"], [0.7777777777777778, \"#fb9f3a\"], [0.8888888888888888, \"#fdca26\"], [1.0, \"#f0f921\"]], \"type\": \"heatmapgl\"}], \"histogram\": [{\"marker\": {\"colorbar\": {\"outlinewidth\": 0, \"ticks\": \"\"}}, \"type\": \"histogram\"}], \"histogram2d\": [{\"colorbar\": {\"outlinewidth\": 0, \"ticks\": \"\"}, \"colorscale\": [[0.0, \"#0d0887\"], [0.1111111111111111, \"#46039f\"], [0.2222222222222222, \"#7201a8\"], [0.3333333333333333, \"#9c179e\"], [0.4444444444444444, \"#bd3786\"], [0.5555555555555556, \"#d8576b\"], [0.6666666666666666, \"#ed7953\"], [0.7777777777777778, \"#fb9f3a\"], [0.8888888888888888, \"#fdca26\"], [1.0, \"#f0f921\"]], \"type\": \"histogram2d\"}], \"histogram2dcontour\": [{\"colorbar\": {\"outlinewidth\": 0, \"ticks\": \"\"}, \"colorscale\": [[0.0, \"#0d0887\"], [0.1111111111111111, \"#46039f\"], [0.2222222222222222, \"#7201a8\"], [0.3333333333333333, \"#9c179e\"], [0.4444444444444444, \"#bd3786\"], [0.5555555555555556, \"#d8576b\"], [0.6666666666666666, \"#ed7953\"], [0.7777777777777778, \"#fb9f3a\"], [0.8888888888888888, \"#fdca26\"], [1.0, \"#f0f921\"]], \"type\": \"histogram2dcontour\"}], \"mesh3d\": [{\"colorbar\": {\"outlinewidth\": 0, \"ticks\": \"\"}, \"type\": \"mesh3d\"}], \"parcoords\": [{\"line\": {\"colorbar\": {\"outlinewidth\": 0, \"ticks\": \"\"}}, \"type\": \"parcoords\"}], \"scatter\": [{\"marker\": {\"colorbar\": {\"outlinewidth\": 0, \"ticks\": \"\"}}, \"type\": \"scatter\"}], \"scatter3d\": [{\"line\": {\"colorbar\": {\"outlinewidth\": 0, \"ticks\": \"\"}}, \"marker\": {\"colorbar\": {\"outlinewidth\": 0, \"ticks\": \"\"}}, \"type\": \"scatter3d\"}], \"scattercarpet\": [{\"marker\": {\"colorbar\": {\"outlinewidth\": 0, \"ticks\": \"\"}}, \"type\": \"scattercarpet\"}], \"scattergeo\": [{\"marker\": {\"colorbar\": {\"outlinewidth\": 0, \"ticks\": \"\"}}, \"type\": \"scattergeo\"}], \"scattergl\": [{\"marker\": {\"colorbar\": {\"outlinewidth\": 0, \"ticks\": \"\"}}, \"type\": \"scattergl\"}], \"scattermapbox\": [{\"marker\": {\"colorbar\": {\"outlinewidth\": 0, \"ticks\": \"\"}}, \"type\": \"scattermapbox\"}], \"scatterpolar\": [{\"marker\": {\"colorbar\": {\"outlinewidth\": 0, \"ticks\": \"\"}}, \"type\": \"scatterpolar\"}], \"scatterpolargl\": [{\"marker\": {\"colorbar\": {\"outlinewidth\": 0, \"ticks\": \"\"}}, \"type\": \"scatterpolargl\"}], \"scatterternary\": [{\"marker\": {\"colorbar\": {\"outlinewidth\": 0, \"ticks\": \"\"}}, \"type\": \"scatterternary\"}], \"surface\": [{\"colorbar\": {\"outlinewidth\": 0, \"ticks\": \"\"}, \"colorscale\": [[0.0, \"#0d0887\"], [0.1111111111111111, \"#46039f\"], [0.2222222222222222, \"#7201a8\"], [0.3333333333333333, \"#9c179e\"], [0.4444444444444444, \"#bd3786\"], [0.5555555555555556, \"#d8576b\"], [0.6666666666666666, \"#ed7953\"], [0.7777777777777778, \"#fb9f3a\"], [0.8888888888888888, \"#fdca26\"], [1.0, \"#f0f921\"]], \"type\": \"surface\"}], \"table\": [{\"cells\": {\"fill\": {\"color\": \"#EBF0F8\"}, \"line\": {\"color\": \"white\"}}, \"header\": {\"fill\": {\"color\": \"#C8D4E3\"}, \"line\": {\"color\": \"white\"}}, \"type\": \"table\"}]}, \"layout\": {\"annotationdefaults\": {\"arrowcolor\": \"#2a3f5f\", \"arrowhead\": 0, \"arrowwidth\": 1}, \"colorscale\": {\"diverging\": [[0, \"#8e0152\"], [0.1, \"#c51b7d\"], [0.2, \"#de77ae\"], [0.3, \"#f1b6da\"], [0.4, \"#fde0ef\"], [0.5, \"#f7f7f7\"], [0.6, \"#e6f5d0\"], [0.7, \"#b8e186\"], [0.8, \"#7fbc41\"], [0.9, \"#4d9221\"], [1, \"#276419\"]], \"sequential\": [[0.0, \"#0d0887\"], [0.1111111111111111, \"#46039f\"], [0.2222222222222222, \"#7201a8\"], [0.3333333333333333, \"#9c179e\"], [0.4444444444444444, \"#bd3786\"], [0.5555555555555556, \"#d8576b\"], [0.6666666666666666, \"#ed7953\"], [0.7777777777777778, \"#fb9f3a\"], [0.8888888888888888, \"#fdca26\"], [1.0, \"#f0f921\"]], \"sequentialminus\": [[0.0, \"#0d0887\"], [0.1111111111111111, \"#46039f\"], [0.2222222222222222, \"#7201a8\"], [0.3333333333333333, \"#9c179e\"], [0.4444444444444444, \"#bd3786\"], [0.5555555555555556, \"#d8576b\"], [0.6666666666666666, \"#ed7953\"], [0.7777777777777778, \"#fb9f3a\"], [0.8888888888888888, \"#fdca26\"], [1.0, \"#f0f921\"]]}, \"colorway\": [\"#636efa\", \"#EF553B\", \"#00cc96\", \"#ab63fa\", \"#FFA15A\", \"#19d3f3\", \"#FF6692\", \"#B6E880\", \"#FF97FF\", \"#FECB52\"], \"font\": {\"color\": \"#2a3f5f\"}, \"geo\": {\"bgcolor\": \"white\", \"lakecolor\": \"white\", \"landcolor\": \"#E5ECF6\", \"showlakes\": true, \"showland\": true, \"subunitcolor\": \"white\"}, \"hoverlabel\": {\"align\": \"left\"}, \"hovermode\": \"closest\", \"mapbox\": {\"style\": \"light\"}, \"paper_bgcolor\": \"white\", \"plot_bgcolor\": \"#E5ECF6\", \"polar\": {\"angularaxis\": {\"gridcolor\": \"white\", \"linecolor\": \"white\", \"ticks\": \"\"}, \"bgcolor\": \"#E5ECF6\", \"radialaxis\": {\"gridcolor\": \"white\", \"linecolor\": \"white\", \"ticks\": \"\"}}, \"scene\": {\"xaxis\": {\"backgroundcolor\": \"#E5ECF6\", \"gridcolor\": \"white\", \"gridwidth\": 2, \"linecolor\": \"white\", \"showbackground\": true, \"ticks\": \"\", \"zerolinecolor\": \"white\"}, \"yaxis\": {\"backgroundcolor\": \"#E5ECF6\", \"gridcolor\": \"white\", \"gridwidth\": 2, \"linecolor\": \"white\", \"showbackground\": true, \"ticks\": \"\", \"zerolinecolor\": \"white\"}, \"zaxis\": {\"backgroundcolor\": \"#E5ECF6\", \"gridcolor\": \"white\", \"gridwidth\": 2, \"linecolor\": \"white\", \"showbackground\": true, \"ticks\": \"\", \"zerolinecolor\": \"white\"}}, \"shapedefaults\": {\"line\": {\"color\": \"#2a3f5f\"}}, \"ternary\": {\"aaxis\": {\"gridcolor\": \"white\", \"linecolor\": \"white\", \"ticks\": \"\"}, \"baxis\": {\"gridcolor\": \"white\", \"linecolor\": \"white\", \"ticks\": \"\"}, \"bgcolor\": \"#E5ECF6\", \"caxis\": {\"gridcolor\": \"white\", \"linecolor\": \"white\", \"ticks\": \"\"}}, \"title\": {\"x\": 0.05}, \"xaxis\": {\"automargin\": true, \"gridcolor\": \"white\", \"linecolor\": \"white\", \"ticks\": \"\", \"zerolinecolor\": \"white\", \"zerolinewidth\": 2}, \"yaxis\": {\"automargin\": true, \"gridcolor\": \"white\", \"linecolor\": \"white\", \"ticks\": \"\", \"zerolinecolor\": \"white\", \"zerolinewidth\": 2}}}, \"title\": {\"text\": \"inertia\"}},\n",
       "                        {\"responsive\": true}\n",
       "                    ).then(function(){\n",
       "                            \n",
       "var gd = document.getElementById('9f0a6c41-0069-402d-9a90-b6deb5a70f59');\n",
       "var x = new MutationObserver(function (mutations, observer) {{\n",
       "        var display = window.getComputedStyle(gd).display;\n",
       "        if (!display || display === 'none') {{\n",
       "            console.log([gd, 'removed!']);\n",
       "            Plotly.purge(gd);\n",
       "            observer.disconnect();\n",
       "        }}\n",
       "}});\n",
       "\n",
       "// Listen for the removal of the full notebook cells\n",
       "var notebookContainer = gd.closest('#notebook-container');\n",
       "if (notebookContainer) {{\n",
       "    x.observe(notebookContainer, {childList: true});\n",
       "}}\n",
       "\n",
       "// Listen for the clearing of the current output cell\n",
       "var outputEl = gd.closest('.output');\n",
       "if (outputEl) {{\n",
       "    x.observe(outputEl, {childList: true});\n",
       "}}\n",
       "\n",
       "                        })\n",
       "                };\n",
       "                });\n",
       "            </script>\n",
       "        </div>"
      ]
     },
     "metadata": {},
     "output_type": "display_data"
    }
   ],
   "source": [
    "plot_inertia(coords, 6)"
   ]
  },
  {
   "cell_type": "code",
   "execution_count": 570,
   "metadata": {},
   "outputs": [],
   "source": [
    "kmeans = KMeans(n_clusters=4).fit(coords)"
   ]
  },
  {
   "cell_type": "code",
   "execution_count": 571,
   "metadata": {},
   "outputs": [
    {
     "data": {
      "application/vnd.plotly.v1+json": {
       "config": {
        "linkText": "Export to plot.ly",
        "plotlyServerURL": "https://plot.ly",
        "showLink": false
       },
       "data": [
        {
         "marker": {
          "color": [
           0,
           1,
           0,
           1,
           3,
           1,
           2,
           3,
           0,
           3,
           0,
           2,
           2,
           2,
           2,
           1,
           3,
           3,
           1,
           3,
           2,
           2,
           1,
           0,
           2,
           3,
           3,
           3,
           1,
           1,
           1,
           0,
           0,
           2,
           1,
           3,
           2,
           1,
           0,
           0,
           1,
           3,
           0,
           0,
           2,
           0,
           1,
           3,
           2,
           1,
           0,
           3,
           3,
           3,
           2,
           2,
           3,
           0,
           2,
           1,
           0,
           2,
           2,
           1,
           2,
           0,
           1,
           0,
           0,
           0,
           1,
           2,
           0,
           1,
           3,
           1,
           1,
           1,
           1,
           3,
           1,
           1,
           0,
           2,
           3,
           1,
           3,
           2,
           0,
           1,
           1,
           1,
           1,
           3,
           2,
           1,
           1,
           0,
           2,
           1
          ]
         },
         "mode": "markers",
         "name": "observed points",
         "type": "scatter",
         "x": [
          6.753507014028056,
          -2.1843687374749505,
          6.272545090180358,
          -5.511022044088176,
          -8.917835671342685,
          -0.7815631262525056,
          -0.06012024048096265,
          -8.196392785571142,
          7.8356713426853695,
          -5.9118236472945895,
          8.356713426853705,
          1.7434869739478955,
          2.3847695390781567,
          0.020040080160320883,
          0.5811623246492985,
          -4.709418837675351,
          -9.278557114228457,
          -9.759519038076153,
          -1.4629258517034067,
          -8.797595190380761,
          4.38877755511022,
          4.028056112224448,
          -3.1462925851703414,
          7.23446893787575,
          4.228456913827655,
          -9.519038076152304,
          -6.352705410821644,
          -9.919839679358718,
          -4.98997995991984,
          -4.348697394789579,
          -4.108216432865731,
          7.795591182364728,
          9.799599198396791,
          2.2244488977955914,
          -5.070140280561122,
          -6.513026052104209,
          3.46693386773547,
          -0.6212424849699403,
          7.515030060120239,
          6.513026052104209,
          -3.5871743486973955,
          -8.47695390781563,
          8.837675350701403,
          6.593186372745489,
          0.7815631262525038,
          6.072144288577153,
          -3.987975951903808,
          -9.158316633266534,
          3.8276553106212425,
          -3.5470941883767537,
          5.070140280561121,
          -9.358717434869739,
          -6.953907815631263,
          -9.839679358717435,
          2.0240480961923843,
          3.6272545090180355,
          -9.599198396793588,
          5.631262525050099,
          1.7434869739478955,
          -3.907815631262525,
          8.917835671342683,
          4.589178356713425,
          3.226452905811623,
          -3.987975951903808,
          2.1843687374749496,
          8.517034068136272,
          -4.188376753507014,
          9.438877755511022,
          7.675350701402806,
          5.631262525050099,
          -1.8637274549098208,
          1.863727454909819,
          8.677354709418836,
          -1.823647294589179,
          -7.114228456913828,
          -5.631262525050101,
          -1.9839679358717444,
          -1.9438877755511026,
          -1.6633266533066138,
          -8.356713426853707,
          -2.0240480961923852,
          -3.6272545090180364,
          9.438877755511022,
          1.1422845691382761,
          -7.9959919839679365,
          -2.1442885771543088,
          -9.198396793587175,
          1.623246492985972,
          5.991983967935871,
          -2.6653306613226455,
          -0.5811623246492985,
          -1.9038076152304608,
          -4.7494989979959925,
          -9.318637274549099,
          1.3426853707414832,
          -4.589178356713427,
          -1.5430861723446903,
          7.114228456913828,
          3.9078156312625243,
          -2.585170340681363
         ],
         "y": [
          0,
          0,
          0,
          0,
          0,
          0,
          0,
          0,
          0,
          0,
          0,
          0,
          0,
          0,
          0,
          0,
          0,
          0,
          0,
          0,
          0,
          0,
          0,
          0,
          0,
          0,
          0,
          0,
          0,
          0,
          0,
          0,
          0,
          0,
          0,
          0,
          0,
          0,
          0,
          0,
          0,
          0,
          0,
          0,
          0,
          0,
          0,
          0,
          0,
          0,
          0,
          0,
          0,
          0,
          0,
          0,
          0,
          0,
          0,
          0,
          0,
          0,
          0,
          0,
          0,
          0,
          0,
          0,
          0,
          0,
          0,
          0,
          0,
          0,
          0,
          0,
          0,
          0,
          0,
          0,
          0,
          0,
          0,
          0,
          0,
          0,
          0,
          0,
          0,
          0,
          0,
          0,
          0,
          0,
          0,
          0,
          0,
          0,
          0,
          0
         ]
        }
       ],
       "layout": {
        "template": {
         "data": {
          "bar": [
           {
            "error_x": {
             "color": "#2a3f5f"
            },
            "error_y": {
             "color": "#2a3f5f"
            },
            "marker": {
             "line": {
              "color": "#E5ECF6",
              "width": 0.5
             }
            },
            "type": "bar"
           }
          ],
          "barpolar": [
           {
            "marker": {
             "line": {
              "color": "#E5ECF6",
              "width": 0.5
             }
            },
            "type": "barpolar"
           }
          ],
          "carpet": [
           {
            "aaxis": {
             "endlinecolor": "#2a3f5f",
             "gridcolor": "white",
             "linecolor": "white",
             "minorgridcolor": "white",
             "startlinecolor": "#2a3f5f"
            },
            "baxis": {
             "endlinecolor": "#2a3f5f",
             "gridcolor": "white",
             "linecolor": "white",
             "minorgridcolor": "white",
             "startlinecolor": "#2a3f5f"
            },
            "type": "carpet"
           }
          ],
          "choropleth": [
           {
            "colorbar": {
             "outlinewidth": 0,
             "ticks": ""
            },
            "type": "choropleth"
           }
          ],
          "contour": [
           {
            "colorbar": {
             "outlinewidth": 0,
             "ticks": ""
            },
            "colorscale": [
             [
              0,
              "#0d0887"
             ],
             [
              0.1111111111111111,
              "#46039f"
             ],
             [
              0.2222222222222222,
              "#7201a8"
             ],
             [
              0.3333333333333333,
              "#9c179e"
             ],
             [
              0.4444444444444444,
              "#bd3786"
             ],
             [
              0.5555555555555556,
              "#d8576b"
             ],
             [
              0.6666666666666666,
              "#ed7953"
             ],
             [
              0.7777777777777778,
              "#fb9f3a"
             ],
             [
              0.8888888888888888,
              "#fdca26"
             ],
             [
              1,
              "#f0f921"
             ]
            ],
            "type": "contour"
           }
          ],
          "contourcarpet": [
           {
            "colorbar": {
             "outlinewidth": 0,
             "ticks": ""
            },
            "type": "contourcarpet"
           }
          ],
          "heatmap": [
           {
            "colorbar": {
             "outlinewidth": 0,
             "ticks": ""
            },
            "colorscale": [
             [
              0,
              "#0d0887"
             ],
             [
              0.1111111111111111,
              "#46039f"
             ],
             [
              0.2222222222222222,
              "#7201a8"
             ],
             [
              0.3333333333333333,
              "#9c179e"
             ],
             [
              0.4444444444444444,
              "#bd3786"
             ],
             [
              0.5555555555555556,
              "#d8576b"
             ],
             [
              0.6666666666666666,
              "#ed7953"
             ],
             [
              0.7777777777777778,
              "#fb9f3a"
             ],
             [
              0.8888888888888888,
              "#fdca26"
             ],
             [
              1,
              "#f0f921"
             ]
            ],
            "type": "heatmap"
           }
          ],
          "heatmapgl": [
           {
            "colorbar": {
             "outlinewidth": 0,
             "ticks": ""
            },
            "colorscale": [
             [
              0,
              "#0d0887"
             ],
             [
              0.1111111111111111,
              "#46039f"
             ],
             [
              0.2222222222222222,
              "#7201a8"
             ],
             [
              0.3333333333333333,
              "#9c179e"
             ],
             [
              0.4444444444444444,
              "#bd3786"
             ],
             [
              0.5555555555555556,
              "#d8576b"
             ],
             [
              0.6666666666666666,
              "#ed7953"
             ],
             [
              0.7777777777777778,
              "#fb9f3a"
             ],
             [
              0.8888888888888888,
              "#fdca26"
             ],
             [
              1,
              "#f0f921"
             ]
            ],
            "type": "heatmapgl"
           }
          ],
          "histogram": [
           {
            "marker": {
             "colorbar": {
              "outlinewidth": 0,
              "ticks": ""
             }
            },
            "type": "histogram"
           }
          ],
          "histogram2d": [
           {
            "colorbar": {
             "outlinewidth": 0,
             "ticks": ""
            },
            "colorscale": [
             [
              0,
              "#0d0887"
             ],
             [
              0.1111111111111111,
              "#46039f"
             ],
             [
              0.2222222222222222,
              "#7201a8"
             ],
             [
              0.3333333333333333,
              "#9c179e"
             ],
             [
              0.4444444444444444,
              "#bd3786"
             ],
             [
              0.5555555555555556,
              "#d8576b"
             ],
             [
              0.6666666666666666,
              "#ed7953"
             ],
             [
              0.7777777777777778,
              "#fb9f3a"
             ],
             [
              0.8888888888888888,
              "#fdca26"
             ],
             [
              1,
              "#f0f921"
             ]
            ],
            "type": "histogram2d"
           }
          ],
          "histogram2dcontour": [
           {
            "colorbar": {
             "outlinewidth": 0,
             "ticks": ""
            },
            "colorscale": [
             [
              0,
              "#0d0887"
             ],
             [
              0.1111111111111111,
              "#46039f"
             ],
             [
              0.2222222222222222,
              "#7201a8"
             ],
             [
              0.3333333333333333,
              "#9c179e"
             ],
             [
              0.4444444444444444,
              "#bd3786"
             ],
             [
              0.5555555555555556,
              "#d8576b"
             ],
             [
              0.6666666666666666,
              "#ed7953"
             ],
             [
              0.7777777777777778,
              "#fb9f3a"
             ],
             [
              0.8888888888888888,
              "#fdca26"
             ],
             [
              1,
              "#f0f921"
             ]
            ],
            "type": "histogram2dcontour"
           }
          ],
          "mesh3d": [
           {
            "colorbar": {
             "outlinewidth": 0,
             "ticks": ""
            },
            "type": "mesh3d"
           }
          ],
          "parcoords": [
           {
            "line": {
             "colorbar": {
              "outlinewidth": 0,
              "ticks": ""
             }
            },
            "type": "parcoords"
           }
          ],
          "scatter": [
           {
            "marker": {
             "colorbar": {
              "outlinewidth": 0,
              "ticks": ""
             }
            },
            "type": "scatter"
           }
          ],
          "scatter3d": [
           {
            "line": {
             "colorbar": {
              "outlinewidth": 0,
              "ticks": ""
             }
            },
            "marker": {
             "colorbar": {
              "outlinewidth": 0,
              "ticks": ""
             }
            },
            "type": "scatter3d"
           }
          ],
          "scattercarpet": [
           {
            "marker": {
             "colorbar": {
              "outlinewidth": 0,
              "ticks": ""
             }
            },
            "type": "scattercarpet"
           }
          ],
          "scattergeo": [
           {
            "marker": {
             "colorbar": {
              "outlinewidth": 0,
              "ticks": ""
             }
            },
            "type": "scattergeo"
           }
          ],
          "scattergl": [
           {
            "marker": {
             "colorbar": {
              "outlinewidth": 0,
              "ticks": ""
             }
            },
            "type": "scattergl"
           }
          ],
          "scattermapbox": [
           {
            "marker": {
             "colorbar": {
              "outlinewidth": 0,
              "ticks": ""
             }
            },
            "type": "scattermapbox"
           }
          ],
          "scatterpolar": [
           {
            "marker": {
             "colorbar": {
              "outlinewidth": 0,
              "ticks": ""
             }
            },
            "type": "scatterpolar"
           }
          ],
          "scatterpolargl": [
           {
            "marker": {
             "colorbar": {
              "outlinewidth": 0,
              "ticks": ""
             }
            },
            "type": "scatterpolargl"
           }
          ],
          "scatterternary": [
           {
            "marker": {
             "colorbar": {
              "outlinewidth": 0,
              "ticks": ""
             }
            },
            "type": "scatterternary"
           }
          ],
          "surface": [
           {
            "colorbar": {
             "outlinewidth": 0,
             "ticks": ""
            },
            "colorscale": [
             [
              0,
              "#0d0887"
             ],
             [
              0.1111111111111111,
              "#46039f"
             ],
             [
              0.2222222222222222,
              "#7201a8"
             ],
             [
              0.3333333333333333,
              "#9c179e"
             ],
             [
              0.4444444444444444,
              "#bd3786"
             ],
             [
              0.5555555555555556,
              "#d8576b"
             ],
             [
              0.6666666666666666,
              "#ed7953"
             ],
             [
              0.7777777777777778,
              "#fb9f3a"
             ],
             [
              0.8888888888888888,
              "#fdca26"
             ],
             [
              1,
              "#f0f921"
             ]
            ],
            "type": "surface"
           }
          ],
          "table": [
           {
            "cells": {
             "fill": {
              "color": "#EBF0F8"
             },
             "line": {
              "color": "white"
             }
            },
            "header": {
             "fill": {
              "color": "#C8D4E3"
             },
             "line": {
              "color": "white"
             }
            },
            "type": "table"
           }
          ]
         },
         "layout": {
          "annotationdefaults": {
           "arrowcolor": "#2a3f5f",
           "arrowhead": 0,
           "arrowwidth": 1
          },
          "colorscale": {
           "diverging": [
            [
             0,
             "#8e0152"
            ],
            [
             0.1,
             "#c51b7d"
            ],
            [
             0.2,
             "#de77ae"
            ],
            [
             0.3,
             "#f1b6da"
            ],
            [
             0.4,
             "#fde0ef"
            ],
            [
             0.5,
             "#f7f7f7"
            ],
            [
             0.6,
             "#e6f5d0"
            ],
            [
             0.7,
             "#b8e186"
            ],
            [
             0.8,
             "#7fbc41"
            ],
            [
             0.9,
             "#4d9221"
            ],
            [
             1,
             "#276419"
            ]
           ],
           "sequential": [
            [
             0,
             "#0d0887"
            ],
            [
             0.1111111111111111,
             "#46039f"
            ],
            [
             0.2222222222222222,
             "#7201a8"
            ],
            [
             0.3333333333333333,
             "#9c179e"
            ],
            [
             0.4444444444444444,
             "#bd3786"
            ],
            [
             0.5555555555555556,
             "#d8576b"
            ],
            [
             0.6666666666666666,
             "#ed7953"
            ],
            [
             0.7777777777777778,
             "#fb9f3a"
            ],
            [
             0.8888888888888888,
             "#fdca26"
            ],
            [
             1,
             "#f0f921"
            ]
           ],
           "sequentialminus": [
            [
             0,
             "#0d0887"
            ],
            [
             0.1111111111111111,
             "#46039f"
            ],
            [
             0.2222222222222222,
             "#7201a8"
            ],
            [
             0.3333333333333333,
             "#9c179e"
            ],
            [
             0.4444444444444444,
             "#bd3786"
            ],
            [
             0.5555555555555556,
             "#d8576b"
            ],
            [
             0.6666666666666666,
             "#ed7953"
            ],
            [
             0.7777777777777778,
             "#fb9f3a"
            ],
            [
             0.8888888888888888,
             "#fdca26"
            ],
            [
             1,
             "#f0f921"
            ]
           ]
          },
          "colorway": [
           "#636efa",
           "#EF553B",
           "#00cc96",
           "#ab63fa",
           "#FFA15A",
           "#19d3f3",
           "#FF6692",
           "#B6E880",
           "#FF97FF",
           "#FECB52"
          ],
          "font": {
           "color": "#2a3f5f"
          },
          "geo": {
           "bgcolor": "white",
           "lakecolor": "white",
           "landcolor": "#E5ECF6",
           "showlakes": true,
           "showland": true,
           "subunitcolor": "white"
          },
          "hoverlabel": {
           "align": "left"
          },
          "hovermode": "closest",
          "mapbox": {
           "style": "light"
          },
          "paper_bgcolor": "white",
          "plot_bgcolor": "#E5ECF6",
          "polar": {
           "angularaxis": {
            "gridcolor": "white",
            "linecolor": "white",
            "ticks": ""
           },
           "bgcolor": "#E5ECF6",
           "radialaxis": {
            "gridcolor": "white",
            "linecolor": "white",
            "ticks": ""
           }
          },
          "scene": {
           "xaxis": {
            "backgroundcolor": "#E5ECF6",
            "gridcolor": "white",
            "gridwidth": 2,
            "linecolor": "white",
            "showbackground": true,
            "ticks": "",
            "zerolinecolor": "white"
           },
           "yaxis": {
            "backgroundcolor": "#E5ECF6",
            "gridcolor": "white",
            "gridwidth": 2,
            "linecolor": "white",
            "showbackground": true,
            "ticks": "",
            "zerolinecolor": "white"
           },
           "zaxis": {
            "backgroundcolor": "#E5ECF6",
            "gridcolor": "white",
            "gridwidth": 2,
            "linecolor": "white",
            "showbackground": true,
            "ticks": "",
            "zerolinecolor": "white"
           }
          },
          "shapedefaults": {
           "line": {
            "color": "#2a3f5f"
           }
          },
          "ternary": {
           "aaxis": {
            "gridcolor": "white",
            "linecolor": "white",
            "ticks": ""
           },
           "baxis": {
            "gridcolor": "white",
            "linecolor": "white",
            "ticks": ""
           },
           "bgcolor": "#E5ECF6",
           "caxis": {
            "gridcolor": "white",
            "linecolor": "white",
            "ticks": ""
           }
          },
          "title": {
           "x": 0.05
          },
          "xaxis": {
           "automargin": true,
           "gridcolor": "white",
           "linecolor": "white",
           "ticks": "",
           "zerolinecolor": "white",
           "zerolinewidth": 2
          },
          "yaxis": {
           "automargin": true,
           "gridcolor": "white",
           "linecolor": "white",
           "ticks": "",
           "zerolinecolor": "white",
           "zerolinewidth": 2
          }
         }
        },
        "title": {
         "text": "rbf"
        }
       }
      },
      "text/html": [
       "<div>\n",
       "        \n",
       "        \n",
       "            <div id=\"85c5a66e-c44f-4502-a8db-6450034108d1\" class=\"plotly-graph-div\" style=\"height:525px; width:100%;\"></div>\n",
       "            <script type=\"text/javascript\">\n",
       "                require([\"plotly\"], function(Plotly) {\n",
       "                    window.PLOTLYENV=window.PLOTLYENV || {};\n",
       "                    \n",
       "                if (document.getElementById(\"85c5a66e-c44f-4502-a8db-6450034108d1\")) {\n",
       "                    Plotly.newPlot(\n",
       "                        '85c5a66e-c44f-4502-a8db-6450034108d1',\n",
       "                        [{\"marker\": {\"color\": [0, 1, 0, 1, 3, 1, 2, 3, 0, 3, 0, 2, 2, 2, 2, 1, 3, 3, 1, 3, 2, 2, 1, 0, 2, 3, 3, 3, 1, 1, 1, 0, 0, 2, 1, 3, 2, 1, 0, 0, 1, 3, 0, 0, 2, 0, 1, 3, 2, 1, 0, 3, 3, 3, 2, 2, 3, 0, 2, 1, 0, 2, 2, 1, 2, 0, 1, 0, 0, 0, 1, 2, 0, 1, 3, 1, 1, 1, 1, 3, 1, 1, 0, 2, 3, 1, 3, 2, 0, 1, 1, 1, 1, 3, 2, 1, 1, 0, 2, 1]}, \"mode\": \"markers\", \"name\": \"observed points\", \"type\": \"scatter\", \"x\": [6.753507014028056, -2.1843687374749505, 6.272545090180358, -5.511022044088176, -8.917835671342685, -0.7815631262525056, -0.06012024048096265, -8.196392785571142, 7.8356713426853695, -5.9118236472945895, 8.356713426853705, 1.7434869739478955, 2.3847695390781567, 0.020040080160320883, 0.5811623246492985, -4.709418837675351, -9.278557114228457, -9.759519038076153, -1.4629258517034067, -8.797595190380761, 4.38877755511022, 4.028056112224448, -3.1462925851703414, 7.23446893787575, 4.228456913827655, -9.519038076152304, -6.352705410821644, -9.919839679358718, -4.98997995991984, -4.348697394789579, -4.108216432865731, 7.795591182364728, 9.799599198396791, 2.2244488977955914, -5.070140280561122, -6.513026052104209, 3.46693386773547, -0.6212424849699403, 7.515030060120239, 6.513026052104209, -3.5871743486973955, -8.47695390781563, 8.837675350701403, 6.593186372745489, 0.7815631262525038, 6.072144288577153, -3.987975951903808, -9.158316633266534, 3.8276553106212425, -3.5470941883767537, 5.070140280561121, -9.358717434869739, -6.953907815631263, -9.839679358717435, 2.0240480961923843, 3.6272545090180355, -9.599198396793588, 5.631262525050099, 1.7434869739478955, -3.907815631262525, 8.917835671342683, 4.589178356713425, 3.226452905811623, -3.987975951903808, 2.1843687374749496, 8.517034068136272, -4.188376753507014, 9.438877755511022, 7.675350701402806, 5.631262525050099, -1.8637274549098208, 1.863727454909819, 8.677354709418836, -1.823647294589179, -7.114228456913828, -5.631262525050101, -1.9839679358717444, -1.9438877755511026, -1.6633266533066138, -8.356713426853707, -2.0240480961923852, -3.6272545090180364, 9.438877755511022, 1.1422845691382761, -7.9959919839679365, -2.1442885771543088, -9.198396793587175, 1.623246492985972, 5.991983967935871, -2.6653306613226455, -0.5811623246492985, -1.9038076152304608, -4.7494989979959925, -9.318637274549099, 1.3426853707414832, -4.589178356713427, -1.5430861723446903, 7.114228456913828, 3.9078156312625243, -2.585170340681363], \"y\": [0.0, 0.0, 0.0, 0.0, 0.0, 0.0, 0.0, 0.0, 0.0, 0.0, 0.0, 0.0, 0.0, 0.0, 0.0, 0.0, 0.0, 0.0, 0.0, 0.0, 0.0, 0.0, 0.0, 0.0, 0.0, 0.0, 0.0, 0.0, 0.0, 0.0, 0.0, 0.0, 0.0, 0.0, 0.0, 0.0, 0.0, 0.0, 0.0, 0.0, 0.0, 0.0, 0.0, 0.0, 0.0, 0.0, 0.0, 0.0, 0.0, 0.0, 0.0, 0.0, 0.0, 0.0, 0.0, 0.0, 0.0, 0.0, 0.0, 0.0, 0.0, 0.0, 0.0, 0.0, 0.0, 0.0, 0.0, 0.0, 0.0, 0.0, 0.0, 0.0, 0.0, 0.0, 0.0, 0.0, 0.0, 0.0, 0.0, 0.0, 0.0, 0.0, 0.0, 0.0, 0.0, 0.0, 0.0, 0.0, 0.0, 0.0, 0.0, 0.0, 0.0, 0.0, 0.0, 0.0, 0.0, 0.0, 0.0, 0.0]}],\n",
       "                        {\"template\": {\"data\": {\"bar\": [{\"error_x\": {\"color\": \"#2a3f5f\"}, \"error_y\": {\"color\": \"#2a3f5f\"}, \"marker\": {\"line\": {\"color\": \"#E5ECF6\", \"width\": 0.5}}, \"type\": \"bar\"}], \"barpolar\": [{\"marker\": {\"line\": {\"color\": \"#E5ECF6\", \"width\": 0.5}}, \"type\": \"barpolar\"}], \"carpet\": [{\"aaxis\": {\"endlinecolor\": \"#2a3f5f\", \"gridcolor\": \"white\", \"linecolor\": \"white\", \"minorgridcolor\": \"white\", \"startlinecolor\": \"#2a3f5f\"}, \"baxis\": {\"endlinecolor\": \"#2a3f5f\", \"gridcolor\": \"white\", \"linecolor\": \"white\", \"minorgridcolor\": \"white\", \"startlinecolor\": \"#2a3f5f\"}, \"type\": \"carpet\"}], \"choropleth\": [{\"colorbar\": {\"outlinewidth\": 0, \"ticks\": \"\"}, \"type\": \"choropleth\"}], \"contour\": [{\"colorbar\": {\"outlinewidth\": 0, \"ticks\": \"\"}, \"colorscale\": [[0.0, \"#0d0887\"], [0.1111111111111111, \"#46039f\"], [0.2222222222222222, \"#7201a8\"], [0.3333333333333333, \"#9c179e\"], [0.4444444444444444, \"#bd3786\"], [0.5555555555555556, \"#d8576b\"], [0.6666666666666666, \"#ed7953\"], [0.7777777777777778, \"#fb9f3a\"], [0.8888888888888888, \"#fdca26\"], [1.0, \"#f0f921\"]], \"type\": \"contour\"}], \"contourcarpet\": [{\"colorbar\": {\"outlinewidth\": 0, \"ticks\": \"\"}, \"type\": \"contourcarpet\"}], \"heatmap\": [{\"colorbar\": {\"outlinewidth\": 0, \"ticks\": \"\"}, \"colorscale\": [[0.0, \"#0d0887\"], [0.1111111111111111, \"#46039f\"], [0.2222222222222222, \"#7201a8\"], [0.3333333333333333, \"#9c179e\"], [0.4444444444444444, \"#bd3786\"], [0.5555555555555556, \"#d8576b\"], [0.6666666666666666, \"#ed7953\"], [0.7777777777777778, \"#fb9f3a\"], [0.8888888888888888, \"#fdca26\"], [1.0, \"#f0f921\"]], \"type\": \"heatmap\"}], \"heatmapgl\": [{\"colorbar\": {\"outlinewidth\": 0, \"ticks\": \"\"}, \"colorscale\": [[0.0, \"#0d0887\"], [0.1111111111111111, \"#46039f\"], [0.2222222222222222, \"#7201a8\"], [0.3333333333333333, \"#9c179e\"], [0.4444444444444444, \"#bd3786\"], [0.5555555555555556, \"#d8576b\"], [0.6666666666666666, \"#ed7953\"], [0.7777777777777778, \"#fb9f3a\"], [0.8888888888888888, \"#fdca26\"], [1.0, \"#f0f921\"]], \"type\": \"heatmapgl\"}], \"histogram\": [{\"marker\": {\"colorbar\": {\"outlinewidth\": 0, \"ticks\": \"\"}}, \"type\": \"histogram\"}], \"histogram2d\": [{\"colorbar\": {\"outlinewidth\": 0, \"ticks\": \"\"}, \"colorscale\": [[0.0, \"#0d0887\"], [0.1111111111111111, \"#46039f\"], [0.2222222222222222, \"#7201a8\"], [0.3333333333333333, \"#9c179e\"], [0.4444444444444444, \"#bd3786\"], [0.5555555555555556, \"#d8576b\"], [0.6666666666666666, \"#ed7953\"], [0.7777777777777778, \"#fb9f3a\"], [0.8888888888888888, \"#fdca26\"], [1.0, \"#f0f921\"]], \"type\": \"histogram2d\"}], \"histogram2dcontour\": [{\"colorbar\": {\"outlinewidth\": 0, \"ticks\": \"\"}, \"colorscale\": [[0.0, \"#0d0887\"], [0.1111111111111111, \"#46039f\"], [0.2222222222222222, \"#7201a8\"], [0.3333333333333333, \"#9c179e\"], [0.4444444444444444, \"#bd3786\"], [0.5555555555555556, \"#d8576b\"], [0.6666666666666666, \"#ed7953\"], [0.7777777777777778, \"#fb9f3a\"], [0.8888888888888888, \"#fdca26\"], [1.0, \"#f0f921\"]], \"type\": \"histogram2dcontour\"}], \"mesh3d\": [{\"colorbar\": {\"outlinewidth\": 0, \"ticks\": \"\"}, \"type\": \"mesh3d\"}], \"parcoords\": [{\"line\": {\"colorbar\": {\"outlinewidth\": 0, \"ticks\": \"\"}}, \"type\": \"parcoords\"}], \"scatter\": [{\"marker\": {\"colorbar\": {\"outlinewidth\": 0, \"ticks\": \"\"}}, \"type\": \"scatter\"}], \"scatter3d\": [{\"line\": {\"colorbar\": {\"outlinewidth\": 0, \"ticks\": \"\"}}, \"marker\": {\"colorbar\": {\"outlinewidth\": 0, \"ticks\": \"\"}}, \"type\": \"scatter3d\"}], \"scattercarpet\": [{\"marker\": {\"colorbar\": {\"outlinewidth\": 0, \"ticks\": \"\"}}, \"type\": \"scattercarpet\"}], \"scattergeo\": [{\"marker\": {\"colorbar\": {\"outlinewidth\": 0, \"ticks\": \"\"}}, \"type\": \"scattergeo\"}], \"scattergl\": [{\"marker\": {\"colorbar\": {\"outlinewidth\": 0, \"ticks\": \"\"}}, \"type\": \"scattergl\"}], \"scattermapbox\": [{\"marker\": {\"colorbar\": {\"outlinewidth\": 0, \"ticks\": \"\"}}, \"type\": \"scattermapbox\"}], \"scatterpolar\": [{\"marker\": {\"colorbar\": {\"outlinewidth\": 0, \"ticks\": \"\"}}, \"type\": \"scatterpolar\"}], \"scatterpolargl\": [{\"marker\": {\"colorbar\": {\"outlinewidth\": 0, \"ticks\": \"\"}}, \"type\": \"scatterpolargl\"}], \"scatterternary\": [{\"marker\": {\"colorbar\": {\"outlinewidth\": 0, \"ticks\": \"\"}}, \"type\": \"scatterternary\"}], \"surface\": [{\"colorbar\": {\"outlinewidth\": 0, \"ticks\": \"\"}, \"colorscale\": [[0.0, \"#0d0887\"], [0.1111111111111111, \"#46039f\"], [0.2222222222222222, \"#7201a8\"], [0.3333333333333333, \"#9c179e\"], [0.4444444444444444, \"#bd3786\"], [0.5555555555555556, \"#d8576b\"], [0.6666666666666666, \"#ed7953\"], [0.7777777777777778, \"#fb9f3a\"], [0.8888888888888888, \"#fdca26\"], [1.0, \"#f0f921\"]], \"type\": \"surface\"}], \"table\": [{\"cells\": {\"fill\": {\"color\": \"#EBF0F8\"}, \"line\": {\"color\": \"white\"}}, \"header\": {\"fill\": {\"color\": \"#C8D4E3\"}, \"line\": {\"color\": \"white\"}}, \"type\": \"table\"}]}, \"layout\": {\"annotationdefaults\": {\"arrowcolor\": \"#2a3f5f\", \"arrowhead\": 0, \"arrowwidth\": 1}, \"colorscale\": {\"diverging\": [[0, \"#8e0152\"], [0.1, \"#c51b7d\"], [0.2, \"#de77ae\"], [0.3, \"#f1b6da\"], [0.4, \"#fde0ef\"], [0.5, \"#f7f7f7\"], [0.6, \"#e6f5d0\"], [0.7, \"#b8e186\"], [0.8, \"#7fbc41\"], [0.9, \"#4d9221\"], [1, \"#276419\"]], \"sequential\": [[0.0, \"#0d0887\"], [0.1111111111111111, \"#46039f\"], [0.2222222222222222, \"#7201a8\"], [0.3333333333333333, \"#9c179e\"], [0.4444444444444444, \"#bd3786\"], [0.5555555555555556, \"#d8576b\"], [0.6666666666666666, \"#ed7953\"], [0.7777777777777778, \"#fb9f3a\"], [0.8888888888888888, \"#fdca26\"], [1.0, \"#f0f921\"]], \"sequentialminus\": [[0.0, \"#0d0887\"], [0.1111111111111111, \"#46039f\"], [0.2222222222222222, \"#7201a8\"], [0.3333333333333333, \"#9c179e\"], [0.4444444444444444, \"#bd3786\"], [0.5555555555555556, \"#d8576b\"], [0.6666666666666666, \"#ed7953\"], [0.7777777777777778, \"#fb9f3a\"], [0.8888888888888888, \"#fdca26\"], [1.0, \"#f0f921\"]]}, \"colorway\": [\"#636efa\", \"#EF553B\", \"#00cc96\", \"#ab63fa\", \"#FFA15A\", \"#19d3f3\", \"#FF6692\", \"#B6E880\", \"#FF97FF\", \"#FECB52\"], \"font\": {\"color\": \"#2a3f5f\"}, \"geo\": {\"bgcolor\": \"white\", \"lakecolor\": \"white\", \"landcolor\": \"#E5ECF6\", \"showlakes\": true, \"showland\": true, \"subunitcolor\": \"white\"}, \"hoverlabel\": {\"align\": \"left\"}, \"hovermode\": \"closest\", \"mapbox\": {\"style\": \"light\"}, \"paper_bgcolor\": \"white\", \"plot_bgcolor\": \"#E5ECF6\", \"polar\": {\"angularaxis\": {\"gridcolor\": \"white\", \"linecolor\": \"white\", \"ticks\": \"\"}, \"bgcolor\": \"#E5ECF6\", \"radialaxis\": {\"gridcolor\": \"white\", \"linecolor\": \"white\", \"ticks\": \"\"}}, \"scene\": {\"xaxis\": {\"backgroundcolor\": \"#E5ECF6\", \"gridcolor\": \"white\", \"gridwidth\": 2, \"linecolor\": \"white\", \"showbackground\": true, \"ticks\": \"\", \"zerolinecolor\": \"white\"}, \"yaxis\": {\"backgroundcolor\": \"#E5ECF6\", \"gridcolor\": \"white\", \"gridwidth\": 2, \"linecolor\": \"white\", \"showbackground\": true, \"ticks\": \"\", \"zerolinecolor\": \"white\"}, \"zaxis\": {\"backgroundcolor\": \"#E5ECF6\", \"gridcolor\": \"white\", \"gridwidth\": 2, \"linecolor\": \"white\", \"showbackground\": true, \"ticks\": \"\", \"zerolinecolor\": \"white\"}}, \"shapedefaults\": {\"line\": {\"color\": \"#2a3f5f\"}}, \"ternary\": {\"aaxis\": {\"gridcolor\": \"white\", \"linecolor\": \"white\", \"ticks\": \"\"}, \"baxis\": {\"gridcolor\": \"white\", \"linecolor\": \"white\", \"ticks\": \"\"}, \"bgcolor\": \"#E5ECF6\", \"caxis\": {\"gridcolor\": \"white\", \"linecolor\": \"white\", \"ticks\": \"\"}}, \"title\": {\"x\": 0.05}, \"xaxis\": {\"automargin\": true, \"gridcolor\": \"white\", \"linecolor\": \"white\", \"ticks\": \"\", \"zerolinecolor\": \"white\", \"zerolinewidth\": 2}, \"yaxis\": {\"automargin\": true, \"gridcolor\": \"white\", \"linecolor\": \"white\", \"ticks\": \"\", \"zerolinecolor\": \"white\", \"zerolinewidth\": 2}}}, \"title\": {\"text\": \"rbf\"}},\n",
       "                        {\"responsive\": true}\n",
       "                    ).then(function(){\n",
       "                            \n",
       "var gd = document.getElementById('85c5a66e-c44f-4502-a8db-6450034108d1');\n",
       "var x = new MutationObserver(function (mutations, observer) {{\n",
       "        var display = window.getComputedStyle(gd).display;\n",
       "        if (!display || display === 'none') {{\n",
       "            console.log([gd, 'removed!']);\n",
       "            Plotly.purge(gd);\n",
       "            observer.disconnect();\n",
       "        }}\n",
       "}});\n",
       "\n",
       "// Listen for the removal of the full notebook cells\n",
       "var notebookContainer = gd.closest('#notebook-container');\n",
       "if (notebookContainer) {{\n",
       "    x.observe(notebookContainer, {childList: true});\n",
       "}}\n",
       "\n",
       "// Listen for the clearing of the current output cell\n",
       "var outputEl = gd.closest('.output');\n",
       "if (outputEl) {{\n",
       "    x.observe(outputEl, {childList: true});\n",
       "}}\n",
       "\n",
       "                        })\n",
       "                };\n",
       "                });\n",
       "            </script>\n",
       "        </div>"
      ]
     },
     "metadata": {},
     "output_type": "display_data"
    }
   ],
   "source": [
    "traces = []\n",
    "\n",
    "trace = {\n",
    "    'type':'scatter',\n",
    "    'mode':'markers',\n",
    "    'x':x_ran,\n",
    "    'y':np.zeros(len(x_ran)),\n",
    "    'marker':{'color':kmeans.labels_},\n",
    "    'name':'observed points',\n",
    "}\n",
    "\n",
    "traces.append(trace)\n",
    "\n",
    "fig = go.Figure(traces, layout)\n",
    "\n",
    "pyo.iplot(fig)"
   ]
  },
  {
   "cell_type": "code",
   "execution_count": 572,
   "metadata": {},
   "outputs": [],
   "source": [
    "centers = kmeans.cluster_centers_"
   ]
  },
  {
   "cell_type": "code",
   "execution_count": 573,
   "metadata": {},
   "outputs": [],
   "source": [
    "Y = cdist(coords, centers, 'euclidean')"
   ]
  },
  {
   "cell_type": "code",
   "execution_count": 574,
   "metadata": {},
   "outputs": [],
   "source": [
    "Y_g = gauss_rbf_dist(gamma, Y)"
   ]
  },
  {
   "cell_type": "code",
   "execution_count": 575,
   "metadata": {},
   "outputs": [],
   "source": [
    "Y_prod = np.dot(Y_g.T, Y_g)"
   ]
  },
  {
   "cell_type": "code",
   "execution_count": 576,
   "metadata": {},
   "outputs": [],
   "source": [
    "Y_inv_prod = np.linalg.inv(Y_prod)"
   ]
  },
  {
   "cell_type": "code",
   "execution_count": 577,
   "metadata": {},
   "outputs": [],
   "source": [
    "Y_inv_prod_transp = np.dot(Y_inv_prod, Y_g.T)"
   ]
  },
  {
   "cell_type": "code",
   "execution_count": 578,
   "metadata": {},
   "outputs": [],
   "source": [
    "w = np.dot(Y_inv_prod_transp, observed)"
   ]
  },
  {
   "cell_type": "code",
   "execution_count": 579,
   "metadata": {},
   "outputs": [],
   "source": [
    "gamma = 0.1"
   ]
  },
  {
   "cell_type": "code",
   "execution_count": 580,
   "metadata": {},
   "outputs": [
    {
     "data": {
      "application/vnd.plotly.v1+json": {
       "config": {
        "linkText": "Export to plot.ly",
        "plotlyServerURL": "https://plot.ly",
        "showLink": false
       },
       "data": [
        {
         "marker": {
          "color": [
           0,
           1,
           0,
           1,
           3,
           1,
           2,
           3,
           0,
           3,
           0,
           2,
           2,
           2,
           2,
           1,
           3,
           3,
           1,
           3,
           2,
           2,
           1,
           0,
           2,
           3,
           3,
           3,
           1,
           1,
           1,
           0,
           0,
           2,
           1,
           3,
           2,
           1,
           0,
           0,
           1,
           3,
           0,
           0,
           2,
           0,
           1,
           3,
           2,
           1,
           0,
           3,
           3,
           3,
           2,
           2,
           3,
           0,
           2,
           1,
           0,
           2,
           2,
           1,
           2,
           0,
           1,
           0,
           0,
           0,
           1,
           2,
           0,
           1,
           3,
           1,
           1,
           1,
           1,
           3,
           1,
           1,
           0,
           2,
           3,
           1,
           3,
           2,
           0,
           1,
           1,
           1,
           1,
           3,
           2,
           1,
           1,
           0,
           2,
           1
          ]
         },
         "mode": "markers",
         "name": "observed points",
         "type": "scatter",
         "x": [
          6.753507014028056,
          -2.1843687374749505,
          6.272545090180358,
          -5.511022044088176,
          -8.917835671342685,
          -0.7815631262525056,
          -0.06012024048096265,
          -8.196392785571142,
          7.8356713426853695,
          -5.9118236472945895,
          8.356713426853705,
          1.7434869739478955,
          2.3847695390781567,
          0.020040080160320883,
          0.5811623246492985,
          -4.709418837675351,
          -9.278557114228457,
          -9.759519038076153,
          -1.4629258517034067,
          -8.797595190380761,
          4.38877755511022,
          4.028056112224448,
          -3.1462925851703414,
          7.23446893787575,
          4.228456913827655,
          -9.519038076152304,
          -6.352705410821644,
          -9.919839679358718,
          -4.98997995991984,
          -4.348697394789579,
          -4.108216432865731,
          7.795591182364728,
          9.799599198396791,
          2.2244488977955914,
          -5.070140280561122,
          -6.513026052104209,
          3.46693386773547,
          -0.6212424849699403,
          7.515030060120239,
          6.513026052104209,
          -3.5871743486973955,
          -8.47695390781563,
          8.837675350701403,
          6.593186372745489,
          0.7815631262525038,
          6.072144288577153,
          -3.987975951903808,
          -9.158316633266534,
          3.8276553106212425,
          -3.5470941883767537,
          5.070140280561121,
          -9.358717434869739,
          -6.953907815631263,
          -9.839679358717435,
          2.0240480961923843,
          3.6272545090180355,
          -9.599198396793588,
          5.631262525050099,
          1.7434869739478955,
          -3.907815631262525,
          8.917835671342683,
          4.589178356713425,
          3.226452905811623,
          -3.987975951903808,
          2.1843687374749496,
          8.517034068136272,
          -4.188376753507014,
          9.438877755511022,
          7.675350701402806,
          5.631262525050099,
          -1.8637274549098208,
          1.863727454909819,
          8.677354709418836,
          -1.823647294589179,
          -7.114228456913828,
          -5.631262525050101,
          -1.9839679358717444,
          -1.9438877755511026,
          -1.6633266533066138,
          -8.356713426853707,
          -2.0240480961923852,
          -3.6272545090180364,
          9.438877755511022,
          1.1422845691382761,
          -7.9959919839679365,
          -2.1442885771543088,
          -9.198396793587175,
          1.623246492985972,
          5.991983967935871,
          -2.6653306613226455,
          -0.5811623246492985,
          -1.9038076152304608,
          -4.7494989979959925,
          -9.318637274549099,
          1.3426853707414832,
          -4.589178356713427,
          -1.5430861723446903,
          7.114228456913828,
          3.9078156312625243,
          -2.585170340681363
         ],
         "y": [
          -36.829570965578455,
          85.68559965622627,
          -18.034465725037165,
          8.88590808872253,
          -138.5833791832161,
          98.16747723904723,
          99.98915667005353,
          -101.54256408608796,
          -84.19323617174223,
          -4.84897651013452,
          -109.503977895671,
          90.88075951502204,
          82.93862273645487,
          99.9987951855615,
          98.98675105722467,
          33.46412263404565,
          -158.2748663659985,
          -185.74463556371268,
          93.57954385725358,
          -132.19304340143213,
          42.215894715282275,
          51.3242918703138,
          70.30252890550639,
          -57.01262243926726,
          46.36045638370931,
          -171.8362576857121,
          -21.07059811004777,
          -195.20965779253902,
          25.300299998795182,
          43.26649290565098,
          49.367673222195904,
          -82.31372564768807,
          -188.09643334765713,
          85.15548130328793,
          22.881032606294752,
          -27.258525066164424,
          63.94110867024632,
          98.84217332460513,
          -69.4270304135324,
          -27.258525066164424,
          61.39654057614225,
          -115.57624266569206,
          -134.31351681318552,
          -30.410319637270447,
          98.16747723904724,
          -10.61280878390042,
          52.28814342111075,
          -151.62429066549936,
          56.047164469219,
          62.25436845635158,
          22.88103260629478,
          -162.75677607720445,
          -45.070501724892694,
          -190.45786964710982,
          87.70968791289995,
          60.52907418042499,
          -176.43382958301373,
          4.866647121899149,
          90.88075951502204,
          54.18693097618082,
          -138.583379183216,
          36.81832603081919,
          68.7700049397392,
          52.28814342111075,
          85.68559965622629,
          -117.61960795338172,
          47.37250051204614,
          -167.27723985044236,
          -76.73302516857365,
          4.866647121899149,
          89.57955992144609,
          89.5795599214461,
          -125.88945425921975,
          90.0229316348127,
          -51.83673961148753,
          4.866647121899092,
          88.19161368829843,
          88.66390094818895,
          91.70003333319946,
          -109.50397789567108,
          87.70968791289994,
          60.52907418042497,
          -167.27723985044236,
          96.08555788932574,
          -91.80766342303849,
          86.20607949365665,
          -153.83151071682448,
          92.09521246902622,
          -7.711615616001524,
          78.68803739744017,
          98.98675105722467,
          89.12654969257152,
          32.32677780410519,
          -160.5110019638476,
          94.59158798559042,
          36.818326030819144,
          92.85665519415583,
          -51.83673961148753,
          54.18693097618083,
          79.95068292898422
         ]
        },
        {
         "mode": "markers",
         "name": "centers",
         "type": "scatter",
         "x": [
          7.46449420580291,
          -3.0746341167182862,
          2.3865121547442705,
          -8.50176543563317
         ],
         "y": [
          0,
          0,
          0,
          0
         ]
        },
        {
         "mode": "lines",
         "type": "scatter",
         "x": [
          -10,
          -9.959919839679358,
          -9.919839679358718,
          -9.879759519038076,
          -9.839679358717435,
          -9.799599198396793,
          -9.759519038076153,
          -9.719438877755511,
          -9.67935871743487,
          -9.639278557114228,
          -9.599198396793588,
          -9.559118236472946,
          -9.519038076152304,
          -9.478957915831664,
          -9.438877755511022,
          -9.39879759519038,
          -9.358717434869739,
          -9.318637274549099,
          -9.278557114228457,
          -9.238476953907815,
          -9.198396793587175,
          -9.158316633266534,
          -9.118236472945892,
          -9.07815631262525,
          -9.03807615230461,
          -8.997995991983968,
          -8.957915831663327,
          -8.917835671342685,
          -8.877755511022045,
          -8.837675350701403,
          -8.797595190380761,
          -8.75751503006012,
          -8.71743486973948,
          -8.677354709418838,
          -8.637274549098196,
          -8.597194388777556,
          -8.557114228456914,
          -8.517034068136272,
          -8.47695390781563,
          -8.43687374749499,
          -8.396793587174349,
          -8.356713426853707,
          -8.316633266533067,
          -8.276553106212425,
          -8.236472945891784,
          -8.196392785571142,
          -8.156312625250502,
          -8.11623246492986,
          -8.076152304609218,
          -8.036072144288577,
          -7.9959919839679365,
          -7.955911823647295,
          -7.915831663326653,
          -7.875751503006012,
          -7.835671342685371,
          -7.7955911823647295,
          -7.755511022044088,
          -7.715430861723447,
          -7.675350701402806,
          -7.635270541082164,
          -7.595190380761523,
          -7.555110220440882,
          -7.515030060120241,
          -7.474949899799599,
          -7.434869739478958,
          -7.394789579158317,
          -7.354709418837675,
          -7.314629258517034,
          -7.274549098196393,
          -7.234468937875752,
          -7.19438877755511,
          -7.154308617234469,
          -7.114228456913828,
          -7.074148296593187,
          -7.034068136272545,
          -6.993987975951904,
          -6.953907815631263,
          -6.913827655310621,
          -6.8737474949899795,
          -6.833667334669339,
          -6.793587174348698,
          -6.753507014028056,
          -6.713426853707415,
          -6.673346693386774,
          -6.6332665330661325,
          -6.593186372745491,
          -6.55310621242485,
          -6.513026052104209,
          -6.472945891783567,
          -6.432865731462925,
          -6.3927855711422845,
          -6.352705410821644,
          -6.312625250501002,
          -6.272545090180361,
          -6.23246492985972,
          -6.192384769539078,
          -6.152304609218437,
          -6.112224448897796,
          -6.072144288577155,
          -6.032064128256513,
          -5.991983967935872,
          -5.95190380761523,
          -5.9118236472945895,
          -5.871743486973948,
          -5.831663326653307,
          -5.791583166332665,
          -5.751503006012024,
          -5.711422845691383,
          -5.671342685370742,
          -5.631262525050101,
          -5.591182364729459,
          -5.551102204408818,
          -5.511022044088176,
          -5.470941883767535,
          -5.430861723446894,
          -5.390781563126253,
          -5.350701402805611,
          -5.31062124248497,
          -5.270541082164329,
          -5.2304609218436875,
          -5.190380761523047,
          -5.150300601202405,
          -5.110220440881764,
          -5.070140280561122,
          -5.030060120240481,
          -4.98997995991984,
          -4.949899799599199,
          -4.909819639278557,
          -4.869739478957916,
          -4.829659318637275,
          -4.789579158316633,
          -4.7494989979959925,
          -4.709418837675351,
          -4.66933867735471,
          -4.629258517034068,
          -4.589178356713427,
          -4.5490981963927855,
          -4.509018036072145,
          -4.468937875751503,
          -4.428857715430862,
          -4.388777555110221,
          -4.348697394789579,
          -4.308617234468938,
          -4.268537074148297,
          -4.228456913827656,
          -4.188376753507014,
          -4.148296593186373,
          -4.108216432865731,
          -4.0681362725450905,
          -4.028056112224449,
          -3.987975951903808,
          -3.947895791583167,
          -3.907815631262525,
          -3.8677354709418843,
          -3.8276553106212425,
          -3.7875751503006017,
          -3.74749498997996,
          -3.707414829659319,
          -3.6673346693386772,
          -3.6272545090180364,
          -3.5871743486973955,
          -3.5470941883767537,
          -3.507014028056113,
          -3.466933867735471,
          -3.42685370741483,
          -3.3867735470941884,
          -3.3466933867735476,
          -3.306613226452906,
          -3.266533066132265,
          -3.226452905811623,
          -3.1863727454909823,
          -3.1462925851703414,
          -3.1062124248496996,
          -3.0661322645290587,
          -3.026052104208417,
          -2.985971943887776,
          -2.9458917835671343,
          -2.9058116232464934,
          -2.8657314629258517,
          -2.825651302605211,
          -2.785571142284569,
          -2.745490981963928,
          -2.7054108216432873,
          -2.6653306613226455,
          -2.6252505010020046,
          -2.585170340681363,
          -2.545090180360722,
          -2.50501002004008,
          -2.4649298597194393,
          -2.4248496993987976,
          -2.3847695390781567,
          -2.344689378757515,
          -2.304609218436874,
          -2.264529058116233,
          -2.2244488977955914,
          -2.1843687374749505,
          -2.1442885771543088,
          -2.104208416833668,
          -2.064128256513026,
          -2.0240480961923852,
          -1.9839679358717444,
          -1.9438877755511026,
          -1.9038076152304608,
          -1.8637274549098208,
          -1.823647294589179,
          -1.7835671342685373,
          -1.7434869739478955,
          -1.7034068136272555,
          -1.6633266533066138,
          -1.623246492985972,
          -1.5831663326653302,
          -1.5430861723446903,
          -1.5030060120240485,
          -1.4629258517034067,
          -1.4228456913827667,
          -1.382765531062125,
          -1.3426853707414832,
          -1.3026052104208414,
          -1.2625250501002014,
          -1.2224448897795597,
          -1.182364729458918,
          -1.1422845691382761,
          -1.1022044088176361,
          -1.0621242484969944,
          -1.0220440881763526,
          -0.9819639278557126,
          -0.9418837675350709,
          -0.9018036072144291,
          -0.8617234468937873,
          -0.8216432865731473,
          -0.7815631262525056,
          -0.7414829659318638,
          -0.701402805611222,
          -0.661322645290582,
          -0.6212424849699403,
          -0.5811623246492985,
          -0.5410821643286585,
          -0.5010020040080168,
          -0.460921843687375,
          -0.4208416833667332,
          -0.38076152304609323,
          -0.34068136272545146,
          -0.3006012024048097,
          -0.26052104208416793,
          -0.22044088176352794,
          -0.18036072144288617,
          -0.1402805611222444,
          -0.10020040080160442,
          -0.06012024048096265,
          -0.020040080160320883,
          0.020040080160320883,
          0.060120240480960874,
          0.10020040080160264,
          0.1402805611222444,
          0.18036072144288617,
          0.22044088176352616,
          0.26052104208416793,
          0.3006012024048097,
          0.3406813627254497,
          0.38076152304609145,
          0.4208416833667332,
          0.460921843687375,
          0.501002004008015,
          0.5410821643286567,
          0.5811623246492985,
          0.6212424849699403,
          0.6613226452905803,
          0.701402805611222,
          0.7414829659318638,
          0.7815631262525038,
          0.8216432865731456,
          0.8617234468937873,
          0.9018036072144291,
          0.9418837675350691,
          0.9819639278557108,
          1.0220440881763526,
          1.0621242484969944,
          1.1022044088176344,
          1.1422845691382761,
          1.182364729458918,
          1.222444889779558,
          1.2625250501001997,
          1.3026052104208414,
          1.3426853707414832,
          1.3827655310621232,
          1.422845691382765,
          1.4629258517034067,
          1.5030060120240485,
          1.5430861723446885,
          1.5831663326653302,
          1.623246492985972,
          1.663326653306612,
          1.7034068136272538,
          1.7434869739478955,
          1.7835671342685373,
          1.8236472945891773,
          1.863727454909819,
          1.9038076152304608,
          1.9438877755511026,
          1.9839679358717426,
          2.0240480961923843,
          2.064128256513026,
          2.104208416833666,
          2.144288577154308,
          2.1843687374749496,
          2.2244488977955914,
          2.2645290581162314,
          2.304609218436873,
          2.344689378757515,
          2.3847695390781567,
          2.4248496993987967,
          2.4649298597194385,
          2.50501002004008,
          2.54509018036072,
          2.585170340681362,
          2.6252505010020037,
          2.6653306613226455,
          2.7054108216432855,
          2.7454909819639273,
          2.785571142284569,
          2.825651302605209,
          2.865731462925851,
          2.9058116232464926,
          2.9458917835671343,
          2.9859719438877743,
          3.026052104208416,
          3.066132264529058,
          3.1062124248496996,
          3.1462925851703396,
          3.1863727454909814,
          3.226452905811623,
          3.266533066132263,
          3.306613226452905,
          3.3466933867735467,
          3.3867735470941884,
          3.4268537074148284,
          3.46693386773547,
          3.507014028056112,
          3.5470941883767537,
          3.5871743486973937,
          3.6272545090180355,
          3.6673346693386772,
          3.7074148296593172,
          3.747494989979959,
          3.7875751503006008,
          3.8276553106212425,
          3.8677354709418825,
          3.9078156312625243,
          3.947895791583166,
          3.987975951903808,
          4.028056112224448,
          4.06813627254509,
          4.108216432865731,
          4.148296593186371,
          4.188376753507013,
          4.228456913827655,
          4.268537074148297,
          4.308617234468937,
          4.348697394789578,
          4.38877755511022,
          4.428857715430862,
          4.468937875751502,
          4.509018036072144,
          4.5490981963927855,
          4.589178356713425,
          4.629258517034067,
          4.669338677354709,
          4.709418837675351,
          4.749498997995991,
          4.7895791583166325,
          4.829659318637274,
          4.869739478957916,
          4.909819639278556,
          4.949899799599198,
          4.98997995991984,
          5.0300601202404795,
          5.070140280561121,
          5.110220440881763,
          5.150300601202405,
          5.190380761523045,
          5.230460921843687,
          5.270541082164328,
          5.31062124248497,
          5.35070140280561,
          5.390781563126252,
          5.430861723446894,
          5.470941883767534,
          5.511022044088175,
          5.551102204408817,
          5.591182364729459,
          5.631262525050099,
          5.671342685370741,
          5.7114228456913825,
          5.751503006012024,
          5.791583166332664,
          5.831663326653306,
          5.871743486973948,
          5.911823647294588,
          5.9519038076152295,
          5.991983967935871,
          6.032064128256511,
          6.072144288577153,
          6.112224448897795,
          6.152304609218437,
          6.192384769539078,
          6.23246492985972,
          6.272545090180358,
          6.312625250501,
          6.352705410821642,
          6.392785571142284,
          6.432865731462925,
          6.472945891783567,
          6.513026052104209,
          6.553106212424851,
          6.593186372745489,
          6.633266533066131,
          6.673346693386772,
          6.713426853707414,
          6.753507014028056,
          6.793587174348698,
          6.8336673346693395,
          6.873747494989978,
          6.9138276553106195,
          6.953907815631261,
          6.993987975951903,
          7.034068136272545,
          7.074148296593187,
          7.114228456913828,
          7.1543086172344665,
          7.194388777555108,
          7.23446893787575,
          7.274549098196392,
          7.314629258517034,
          7.354709418837675,
          7.394789579158317,
          7.434869739478959,
          7.474949899799597,
          7.515030060120239,
          7.555110220440881,
          7.595190380761522,
          7.635270541082164,
          7.675350701402806,
          7.715430861723448,
          7.755511022044086,
          7.795591182364728,
          7.8356713426853695,
          7.875751503006011,
          7.915831663326653,
          7.955911823647295,
          7.9959919839679365,
          8.036072144288575,
          8.076152304609217,
          8.116232464929858,
          8.1563126252505,
          8.196392785571142,
          8.236472945891784,
          8.276553106212425,
          8.316633266533067,
          8.356713426853705,
          8.396793587174347,
          8.436873747494989,
          8.47695390781563,
          8.517034068136272,
          8.557114228456914,
          8.597194388777556,
          8.637274549098194,
          8.677354709418836,
          8.717434869739478,
          8.75751503006012,
          8.797595190380761,
          8.837675350701403,
          8.877755511022045,
          8.917835671342683,
          8.957915831663325,
          8.997995991983966,
          9.038076152304608,
          9.07815631262525,
          9.118236472945892,
          9.158316633266534,
          9.198396793587175,
          9.238476953907814,
          9.278557114228455,
          9.318637274549097,
          9.358717434869739,
          9.39879759519038,
          9.438877755511022,
          9.478957915831664,
          9.519038076152302,
          9.559118236472944,
          9.599198396793586,
          9.639278557114228,
          9.67935871743487,
          9.719438877755511,
          9.759519038076153,
          9.799599198396791,
          9.839679358717433,
          9.879759519038075,
          9.919839679358716,
          9.959919839679358,
          10
         ],
         "y": [
          -5.4730904237812636e-12,
          -6.2945157438733164e-12,
          -7.236898692191482e-12,
          -8.317697661045515e-12,
          -9.556838248031628e-12,
          -1.0977054211956096e-11,
          -1.2604274440529775e-11,
          -1.446806198337291e-11,
          -1.6602111978849345e-11,
          -1.9044816174565768e-11,
          -2.183990272059319e-11,
          -2.5037161014556464e-11,
          -2.8693262613113433e-11,
          -3.287269061111535e-11,
          -3.764879144584435e-11,
          -4.3104964829157117e-11,
          -4.9336009467409996e-11,
          -5.6449644422468595e-11,
          -6.456822842453252e-11,
          -7.383070219960075e-11,
          -8.439478195531126e-11,
          -9.64394356165157e-11,
          -1.101676772584291e-10,
          -1.2580971949734901e-10,
          -1.4362652841860631e-10,
          -1.6391383100632393e-10,
          -1.870066310534856e-10,
          -2.1328429624468836e-10,
          -2.431762865961486e-10,
          -2.7716860279503037e-10,
          -3.1581104229910234e-10,
          -3.597253614447052e-10,
          -4.0961445338356773e-10,
          -4.662726645575052e-10,
          -5.305973867682987e-10,
          -6.036020778668898e-10,
          -6.864308818470345e-10,
          -7.803750388770922e-10,
          -8.868912977537405e-10,
          -1.0076225676480033e-09,
          -1.1444210730969308e-09,
          -1.2993743062595319e-09,
          -1.4748341038175953e-09,
          -1.6734492129077225e-09,
          -1.8982017515006273e-09,
          -2.152448014117949e-09,
          -2.4399641241541578e-09,
          -2.7649970898593643e-09,
          -3.132321882792505e-09,
          -3.547305225883263e-09,
          -4.015976853814805e-09,
          -4.5451090919905635e-09,
          -5.1423056926804695e-09,
          -5.816100968937952e-09,
          -6.576070379499419e-09,
          -7.4329538421802965e-09,
          -8.398793190420752e-09,
          -9.487085338868431e-09,
          -1.0712952890599752e-08,
          -1.2093334102273954e-08,
          -1.3647194325839156e-08,
          -1.539576126815385e-08,
          -1.7362786655010028e-08,
          -1.9574837155684265e-08,
          -2.206161772061568e-08,
          -2.4856330810657713e-08,
          -2.7996075354320845e-08,
          -3.152228966251819e-08,
          -3.548124296181324e-08,
          -3.992458068056917e-08,
          -4.4909929141597714e-08,
          -5.050156588404471e-08,
          -5.677116246089321e-08,
          -6.379860724151534e-08,
          -7.167291649649925e-08,
          -8.049324286030516e-08,
          -9.03699911623956e-08,
          -1.0142605259613657e-07,
          -1.1379816926429878e-07,
          -1.2763844230830124e-07,
          -1.4311599810401685e-07,
          -1.6041882839922422e-07,
          -1.7975582178662343e-07,
          -2.0135900556251266e-07,
          -2.2548601882628654e-07,
          -2.52422839642484e-07,
          -2.8248679122850004e-07,
          -3.1602985446191015e-07,
          -3.534423165371359e-07,
          -3.951567883586771e-07,
          -4.4165262625543256e-07,
          -4.934607968569228e-07,
          -5.511692275084103e-07,
          -6.154286884401249e-07,
          -6.869592570700395e-07,
          -7.665574193351661e-07,
          -8.551038678410304e-07,
          -9.535720619214317e-07,
          -1.0630376204428001e-06,
          -1.1846886244021995e-06,
          -1.3198369130915425e-06,
          -1.469930464870778e-06,
          -1.636566961450077e-06,
          -1.8215086430692534e-06,
          -2.0266985711273713e-06,
          -2.2542784247061267e-06,
          -2.506607968099441e-06,
          -2.7862863379636687e-06,
          -3.096175311097991e-06,
          -3.4394247272139225e-06,
          -3.819500255424472e-06,
          -4.2402137086459726e-06,
          -4.705756126734946e-06,
          -5.2207338670562345e-06,
          -5.790207960380465e-06,
          -6.419737010627686e-06,
          -7.115423939101129e-06,
          -7.883966897589823e-06,
          -8.732714700163098e-06,
          -9.669727150744977e-06,
          -1.0703840672752476e-05,
          -1.184473967833418e-05,
          -1.3103034148176431e-05,
          -1.4490343928587567e-05,
          -1.601939029076622e-05,
          -1.770409533795332e-05,
          -1.9559689889706005e-05,
          -2.1602830518984464e-05,
          -2.3851726467265138e-05,
          -2.6326277215664945e-05,
          -2.9048221546263943e-05,
          -3.204129898762595e-05,
          -3.533142460214746e-05,
          -3.89468781405025e-05,
          -4.29185086603211e-05,
          -4.7279955782540304e-05,
          -5.206788883984521e-05,
          -5.7322265257487014e-05,
          -6.308660959777951e-05,
          -6.940831479597044e-05,
          -7.633896721722695e-05,
          -8.39346972723988e-05,
          -9.225655744434609e-05,
          -0.00010137092969714091,
          -0.0001113499643677288,
          -0.00012227205277389207,
          -0.00013422233591390225,
          -0.00014729325178240756,
          -0.0001615851239840773,
          -0.0001772067944917509,
          -0.00019427630356947005,
          -0.00021292162006324153,
          -0.0002332814254538732,
          -0.0002555059552671218,
          -0.0002797579016469843,
          -0.00030621338111843824,
          -0.0003350629717967868,
          -0.0003665128245420151,
          -0.00040078585280872226,
          -0.0004381230062053509,
          -0.0004787846330509366,
          -0.0005230519375036333,
          -0.000571228537133042,
          -0.0006236421271181865,
          -0.0006806462575747915,
          -0.0007426222308497468,
          -0.0008099811259672018,
          -0.0008831659577698282,
          -0.0009626539786703851,
          -0.0010489591313130888,
          -0.0011426346608408734,
          -0.0012442758958741552,
          -0.0013545232077282943,
          -0.001474065157830903,
          -0.0016036418437462155,
          -0.0017440484546713095,
          -0.0018961390477383407,
          -0.002060830556936839,
          -0.0022391070469610407,
          -0.002432024224787763,
          -0.0026407142223003723,
          -0.0028663906637929454,
          -0.003110354032715341,
          -0.003373997352552863,
          -0.003658812197273608,
          -0.003966395047320609,
          -0.004298454007672806,
          -0.0046568159050491475,
          -0.0050434337818797996,
          -0.005460394805218287,
          -0.005909928609314676,
          -0.00639441609111272,
          -0.00691639867846892,
          -0.007478588091419273,
          -0.008083876617335043,
          -0.008735347921311747,
          -0.00943628841362253,
          -0.010190199196534425,
          -0.011000808613233132,
          -0.011872085422021852,
          -0.012808252619355186,
          -0.013813801935628435,
          -0.014893509027971614,
          -0.016052449394583765,
          -0.017296015035389762,
          -0.018629931883997294,
          -0.020060278036083016,
          -0.02159350279942379,
          -0.02323644659082305,
          -0.02499636170514802,
          -0.026880933981589004,
          -0.02889830539207518,
          -0.031057097576522266,
          -0.03336643634924173,
          -0.03583597720041164,
          -0.03847593181597283,
          -0.041297095638685374,
          -0.044310876492338516,
          -0.047529324290253555,
          -0.05096516184824943,
          -0.05463181682113433,
          -0.058543454780572664,
          -0.06271501345079662,
          -0.06716223811713361,
          -0.0719017182206597,
          -0.07695092515048298,
          -0.082328251243189,
          -0.08805304999684241,
          -0.09414567750464638,
          -0.10062753511086367,
          -0.10752111328896044,
          -0.11485003673907322,
          -0.12263911069887963,
          -0.13091436845871238,
          -0.13970312006834687,
          -0.14903400221924698,
          -0.158937029282257,
          -0.16944364547666618,
          -0.18058677814235266,
          -0.1924008920822608,
          -0.2049220449378083,
          -0.21818794355496876,
          -0.2322380012936786,
          -0.24711339622797596,
          -0.26285713017876206,
          -0.27951408851542703,
          -0.2971311006566656,
          -0.3157570011947843,
          -0.33544269156150786,
          -0.3562412021468627,
          -0.37820775477613827,
          -0.4013998254431149,
          -0.42587720719086336,
          -0.4517020730243253,
          -0.47893903873172766,
          -0.5076552254845461,
          -0.537920322078347,
          -0.5698066466693221,
          -0.6033892078538055,
          -0.6387457649304177,
          -0.67595688717686,
          -0.7151060119657344,
          -0.7562795015361405,
          -0.799566698230186,
          -0.845059977996007,
          -0.8928548019515067,
          -0.943049765795606,
          -0.9957466468466908,
          -1.0510504484808492,
          -1.109069441735779,
          -1.1699152038395815,
          -1.2337026534173896,
          -1.3005500821227944,
          -1.370579182435338,
          -1.443915071360058,
          -1.5206863097601564,
          -1.6010249170494826,
          -1.6850663809675033,
          -1.7729496621560275,
          -1.8648171932539974,
          -1.9608148722245191,
          -2.061092049626495,
          -2.1658015095422942,
          -2.275099443872671,
          -2.3891454197105473,
          -2.5081023395065802,
          -2.632136393741437,
          -2.761417005822771,
          -2.8961167689285516,
          -3.0364113745233063,
          -3.1824795322793333,
          -3.334502881141873,
          -3.492665891284761,
          -3.657155756711743,
          -3.8281622782687563,
          -4.005877736842964,
          -4.1904967565366915,
          -4.382216157617144,
          -4.581234799057487,
          -4.787753410499829,
          -5.001974413487552,
          -5.224101731831787,
          -5.45434059099614,
          -5.692897306403414,
          -5.939979060589343,
          -6.19579366915087,
          -6.460549335459616,
          -6.734454394136009,
          -7.017717043304817,
          -7.310545065679902,
          -7.613145538553297,
          -7.925724532792617,
          -8.248486800980155,
          -8.581635454857725,
          -8.925371632272563,
          -9.27989415385125,
          -9.645399169662134,
          -10.022079796159483,
          -10.410125743736957,
          -10.809722935252221,
          -11.22105311591966,
          -11.644293455003298,
          -12.079616139777054,
          -12.527187962255883,
          -12.987169899236077,
          -13.459716686219203,
          -13.94497638582901,
          -14.443089951366279,
          -14.954190786180723,
          -15.478404299573734,
          -16.015847459978684,
          -16.566628346199035,
          -17.130845697515905,
          -17.7085884635075,
          -18.299935354453268,
          -18.904954393223452,
          -19.52370246958231,
          -20.156224897858444,
          -20.802554978960266,
          -21.462713567736387,
          -22.13670864670123,
          -22.824534907164278,
          -23.526173338818193,
          -24.24159082885442,
          -24.97073977168643,
          -25.71355769037076,
          -26.469966870821686,
          -27.23987400991999,
          -28.023169878616674,
          -28.819729001132128,
          -29.6294093513454,
          -30.452052067461477,
          -31.287481186033457,
          -32.1355033964033,
          -32.99590781660766,
          -33.868465791774845,
          -34.75293071601691,
          -35.649037878793045,
          -36.55650433669161,
          -37.47502881154434,
          -38.404291615751035,
          -39.34395460565255,
          -40.29366116374807,
          -41.25303621050587,
          -42.22168624646922,
          -43.19919942530627,
          -44.18514565839752,
          -45.17907675149835,
          -46.18052657395188,
          -47.18901126086592,
          -48.204029448600366,
          -49.22506254384575,
          -50.25157502650124,
          -51.28301478648976,
          -52.31881349457224,
          -53.35838700714881,
          -54.40113580495598,
          -55.44644546548989,
          -56.49368716890735,
          -57.54221823707346,
          -58.59138270534468,
          -59.640511926592254,
          -60.68892520689097,
          -61.73593047221312,
          -62.78082496538739,
          -63.82289597249904,
          -64.86142157782812,
          -65.89567144634134,
          -66.92490763267386,
          -67.94838541546164,
          -68.96535415580675,
          -69.97505817858624,
          -70.97673767524178,
          -71.96962962661964,
          -72.9529687443625,
          -73.92598842929225,
          -74.88792174516078,
          -75.83800240609048,
          -76.775465775971,
          -77.69954987802912,
          -78.60949641274375,
          -79.50455178223528,
          -80.38396811922053,
          -81.24700431859382,
          -82.0929270696635,
          -82.92101188705183,
          -83.7305441382464,
          -84.520820065778,
          -85.29114780199046,
          -86.04084837436608,
          -86.7692566993703,
          -87.47572256278748,
          -88.1596115845316,
          -88.82030616593329,
          -89.45720641752763,
          -90.06973106539604,
          -90.65731833414705,
          -91.21942680466266,
          -91.75553624477769,
          -92.26514841110992,
          -92.7477878203126,
          -93.20300248807838,
          -93.63036463428857,
          -94.02947135276678,
          -94.39994524417115,
          -94.74143501063234,
          -95.05361601082686,
          -95.33619077425757,
          -95.5888894736013,
          -95.81147035407363,
          -96.00372011885426,
          -96.16545426971317,
          -96.2965174020758,
          -96.39678345386679,
          -96.46615590757442,
          -96.50456794508266,
          -96.51198255492255,
          -96.48839259170258,
          -96.43382078758401,
          -96.34831971577543,
          -96.23197170612895,
          -96.08488871302714,
          -95.90721213585803,
          -95.69911259248082,
          -95.46078964619035,
          -95.19247148679231,
          -94.89441456650225,
          -94.56690319148166,
          -94.21024906992227,
          -93.82479081768346,
          -93.41089342258084,
          -92.96894766851163,
          -92.49936952068956,
          -92.00259947334187,
          -91.47910186130065,
          -90.92936413699388,
          -90.3538961144115,
          -89.7532291816872,
          -89.12791548399727,
          -88.47852707853366,
          -87.80565506336073,
          -87.10990868200928,
          -86.39191440570457,
          -85.65231499516017,
          -84.8917685439001,
          -84.11094750509757,
          -83.3105377039383,
          -82.49123733753274,
          -81.65375596440865,
          -80.798813485622,
          -79.92713911952247,
          -79.03947037220279,
          -78.13655200565185,
          -77.21913500561251,
          -76.28797555112718,
          -75.34383398772424,
          -74.38747380617124,
          -73.41966062868276,
          -72.44116120443303,
          -71.45274241617784,
          -70.45517029974373,
          -69.44920907808881,
          -68.43562021158692,
          -67.41516146612369,
          -66.38858600053506,
          -65.35664147485066,
          -64.32006918073792,
          -63.27960319547164,
          -62.23596956068066,
          -61.189885487049864,
          -60.142058586076274,
          -59.09318612990252,
          -58.04395434016965,
          -56.99503770675107,
          -55.94709833714823,
          -54.900785337245395,
          -53.856734224041126,
          -52.81556637088782,
          -51.77788848569186,
          -50.74429212244319
         ]
        },
        {
         "mode": "lines",
         "type": "scatter",
         "x": [
          -10,
          -9.959919839679358,
          -9.919839679358718,
          -9.879759519038076,
          -9.839679358717435,
          -9.799599198396793,
          -9.759519038076153,
          -9.719438877755511,
          -9.67935871743487,
          -9.639278557114228,
          -9.599198396793588,
          -9.559118236472946,
          -9.519038076152304,
          -9.478957915831664,
          -9.438877755511022,
          -9.39879759519038,
          -9.358717434869739,
          -9.318637274549099,
          -9.278557114228457,
          -9.238476953907815,
          -9.198396793587175,
          -9.158316633266534,
          -9.118236472945892,
          -9.07815631262525,
          -9.03807615230461,
          -8.997995991983968,
          -8.957915831663327,
          -8.917835671342685,
          -8.877755511022045,
          -8.837675350701403,
          -8.797595190380761,
          -8.75751503006012,
          -8.71743486973948,
          -8.677354709418838,
          -8.637274549098196,
          -8.597194388777556,
          -8.557114228456914,
          -8.517034068136272,
          -8.47695390781563,
          -8.43687374749499,
          -8.396793587174349,
          -8.356713426853707,
          -8.316633266533067,
          -8.276553106212425,
          -8.236472945891784,
          -8.196392785571142,
          -8.156312625250502,
          -8.11623246492986,
          -8.076152304609218,
          -8.036072144288577,
          -7.9959919839679365,
          -7.955911823647295,
          -7.915831663326653,
          -7.875751503006012,
          -7.835671342685371,
          -7.7955911823647295,
          -7.755511022044088,
          -7.715430861723447,
          -7.675350701402806,
          -7.635270541082164,
          -7.595190380761523,
          -7.555110220440882,
          -7.515030060120241,
          -7.474949899799599,
          -7.434869739478958,
          -7.394789579158317,
          -7.354709418837675,
          -7.314629258517034,
          -7.274549098196393,
          -7.234468937875752,
          -7.19438877755511,
          -7.154308617234469,
          -7.114228456913828,
          -7.074148296593187,
          -7.034068136272545,
          -6.993987975951904,
          -6.953907815631263,
          -6.913827655310621,
          -6.8737474949899795,
          -6.833667334669339,
          -6.793587174348698,
          -6.753507014028056,
          -6.713426853707415,
          -6.673346693386774,
          -6.6332665330661325,
          -6.593186372745491,
          -6.55310621242485,
          -6.513026052104209,
          -6.472945891783567,
          -6.432865731462925,
          -6.3927855711422845,
          -6.352705410821644,
          -6.312625250501002,
          -6.272545090180361,
          -6.23246492985972,
          -6.192384769539078,
          -6.152304609218437,
          -6.112224448897796,
          -6.072144288577155,
          -6.032064128256513,
          -5.991983967935872,
          -5.95190380761523,
          -5.9118236472945895,
          -5.871743486973948,
          -5.831663326653307,
          -5.791583166332665,
          -5.751503006012024,
          -5.711422845691383,
          -5.671342685370742,
          -5.631262525050101,
          -5.591182364729459,
          -5.551102204408818,
          -5.511022044088176,
          -5.470941883767535,
          -5.430861723446894,
          -5.390781563126253,
          -5.350701402805611,
          -5.31062124248497,
          -5.270541082164329,
          -5.2304609218436875,
          -5.190380761523047,
          -5.150300601202405,
          -5.110220440881764,
          -5.070140280561122,
          -5.030060120240481,
          -4.98997995991984,
          -4.949899799599199,
          -4.909819639278557,
          -4.869739478957916,
          -4.829659318637275,
          -4.789579158316633,
          -4.7494989979959925,
          -4.709418837675351,
          -4.66933867735471,
          -4.629258517034068,
          -4.589178356713427,
          -4.5490981963927855,
          -4.509018036072145,
          -4.468937875751503,
          -4.428857715430862,
          -4.388777555110221,
          -4.348697394789579,
          -4.308617234468938,
          -4.268537074148297,
          -4.228456913827656,
          -4.188376753507014,
          -4.148296593186373,
          -4.108216432865731,
          -4.0681362725450905,
          -4.028056112224449,
          -3.987975951903808,
          -3.947895791583167,
          -3.907815631262525,
          -3.8677354709418843,
          -3.8276553106212425,
          -3.7875751503006017,
          -3.74749498997996,
          -3.707414829659319,
          -3.6673346693386772,
          -3.6272545090180364,
          -3.5871743486973955,
          -3.5470941883767537,
          -3.507014028056113,
          -3.466933867735471,
          -3.42685370741483,
          -3.3867735470941884,
          -3.3466933867735476,
          -3.306613226452906,
          -3.266533066132265,
          -3.226452905811623,
          -3.1863727454909823,
          -3.1462925851703414,
          -3.1062124248496996,
          -3.0661322645290587,
          -3.026052104208417,
          -2.985971943887776,
          -2.9458917835671343,
          -2.9058116232464934,
          -2.8657314629258517,
          -2.825651302605211,
          -2.785571142284569,
          -2.745490981963928,
          -2.7054108216432873,
          -2.6653306613226455,
          -2.6252505010020046,
          -2.585170340681363,
          -2.545090180360722,
          -2.50501002004008,
          -2.4649298597194393,
          -2.4248496993987976,
          -2.3847695390781567,
          -2.344689378757515,
          -2.304609218436874,
          -2.264529058116233,
          -2.2244488977955914,
          -2.1843687374749505,
          -2.1442885771543088,
          -2.104208416833668,
          -2.064128256513026,
          -2.0240480961923852,
          -1.9839679358717444,
          -1.9438877755511026,
          -1.9038076152304608,
          -1.8637274549098208,
          -1.823647294589179,
          -1.7835671342685373,
          -1.7434869739478955,
          -1.7034068136272555,
          -1.6633266533066138,
          -1.623246492985972,
          -1.5831663326653302,
          -1.5430861723446903,
          -1.5030060120240485,
          -1.4629258517034067,
          -1.4228456913827667,
          -1.382765531062125,
          -1.3426853707414832,
          -1.3026052104208414,
          -1.2625250501002014,
          -1.2224448897795597,
          -1.182364729458918,
          -1.1422845691382761,
          -1.1022044088176361,
          -1.0621242484969944,
          -1.0220440881763526,
          -0.9819639278557126,
          -0.9418837675350709,
          -0.9018036072144291,
          -0.8617234468937873,
          -0.8216432865731473,
          -0.7815631262525056,
          -0.7414829659318638,
          -0.701402805611222,
          -0.661322645290582,
          -0.6212424849699403,
          -0.5811623246492985,
          -0.5410821643286585,
          -0.5010020040080168,
          -0.460921843687375,
          -0.4208416833667332,
          -0.38076152304609323,
          -0.34068136272545146,
          -0.3006012024048097,
          -0.26052104208416793,
          -0.22044088176352794,
          -0.18036072144288617,
          -0.1402805611222444,
          -0.10020040080160442,
          -0.06012024048096265,
          -0.020040080160320883,
          0.020040080160320883,
          0.060120240480960874,
          0.10020040080160264,
          0.1402805611222444,
          0.18036072144288617,
          0.22044088176352616,
          0.26052104208416793,
          0.3006012024048097,
          0.3406813627254497,
          0.38076152304609145,
          0.4208416833667332,
          0.460921843687375,
          0.501002004008015,
          0.5410821643286567,
          0.5811623246492985,
          0.6212424849699403,
          0.6613226452905803,
          0.701402805611222,
          0.7414829659318638,
          0.7815631262525038,
          0.8216432865731456,
          0.8617234468937873,
          0.9018036072144291,
          0.9418837675350691,
          0.9819639278557108,
          1.0220440881763526,
          1.0621242484969944,
          1.1022044088176344,
          1.1422845691382761,
          1.182364729458918,
          1.222444889779558,
          1.2625250501001997,
          1.3026052104208414,
          1.3426853707414832,
          1.3827655310621232,
          1.422845691382765,
          1.4629258517034067,
          1.5030060120240485,
          1.5430861723446885,
          1.5831663326653302,
          1.623246492985972,
          1.663326653306612,
          1.7034068136272538,
          1.7434869739478955,
          1.7835671342685373,
          1.8236472945891773,
          1.863727454909819,
          1.9038076152304608,
          1.9438877755511026,
          1.9839679358717426,
          2.0240480961923843,
          2.064128256513026,
          2.104208416833666,
          2.144288577154308,
          2.1843687374749496,
          2.2244488977955914,
          2.2645290581162314,
          2.304609218436873,
          2.344689378757515,
          2.3847695390781567,
          2.4248496993987967,
          2.4649298597194385,
          2.50501002004008,
          2.54509018036072,
          2.585170340681362,
          2.6252505010020037,
          2.6653306613226455,
          2.7054108216432855,
          2.7454909819639273,
          2.785571142284569,
          2.825651302605209,
          2.865731462925851,
          2.9058116232464926,
          2.9458917835671343,
          2.9859719438877743,
          3.026052104208416,
          3.066132264529058,
          3.1062124248496996,
          3.1462925851703396,
          3.1863727454909814,
          3.226452905811623,
          3.266533066132263,
          3.306613226452905,
          3.3466933867735467,
          3.3867735470941884,
          3.4268537074148284,
          3.46693386773547,
          3.507014028056112,
          3.5470941883767537,
          3.5871743486973937,
          3.6272545090180355,
          3.6673346693386772,
          3.7074148296593172,
          3.747494989979959,
          3.7875751503006008,
          3.8276553106212425,
          3.8677354709418825,
          3.9078156312625243,
          3.947895791583166,
          3.987975951903808,
          4.028056112224448,
          4.06813627254509,
          4.108216432865731,
          4.148296593186371,
          4.188376753507013,
          4.228456913827655,
          4.268537074148297,
          4.308617234468937,
          4.348697394789578,
          4.38877755511022,
          4.428857715430862,
          4.468937875751502,
          4.509018036072144,
          4.5490981963927855,
          4.589178356713425,
          4.629258517034067,
          4.669338677354709,
          4.709418837675351,
          4.749498997995991,
          4.7895791583166325,
          4.829659318637274,
          4.869739478957916,
          4.909819639278556,
          4.949899799599198,
          4.98997995991984,
          5.0300601202404795,
          5.070140280561121,
          5.110220440881763,
          5.150300601202405,
          5.190380761523045,
          5.230460921843687,
          5.270541082164328,
          5.31062124248497,
          5.35070140280561,
          5.390781563126252,
          5.430861723446894,
          5.470941883767534,
          5.511022044088175,
          5.551102204408817,
          5.591182364729459,
          5.631262525050099,
          5.671342685370741,
          5.7114228456913825,
          5.751503006012024,
          5.791583166332664,
          5.831663326653306,
          5.871743486973948,
          5.911823647294588,
          5.9519038076152295,
          5.991983967935871,
          6.032064128256511,
          6.072144288577153,
          6.112224448897795,
          6.152304609218437,
          6.192384769539078,
          6.23246492985972,
          6.272545090180358,
          6.312625250501,
          6.352705410821642,
          6.392785571142284,
          6.432865731462925,
          6.472945891783567,
          6.513026052104209,
          6.553106212424851,
          6.593186372745489,
          6.633266533066131,
          6.673346693386772,
          6.713426853707414,
          6.753507014028056,
          6.793587174348698,
          6.8336673346693395,
          6.873747494989978,
          6.9138276553106195,
          6.953907815631261,
          6.993987975951903,
          7.034068136272545,
          7.074148296593187,
          7.114228456913828,
          7.1543086172344665,
          7.194388777555108,
          7.23446893787575,
          7.274549098196392,
          7.314629258517034,
          7.354709418837675,
          7.394789579158317,
          7.434869739478959,
          7.474949899799597,
          7.515030060120239,
          7.555110220440881,
          7.595190380761522,
          7.635270541082164,
          7.675350701402806,
          7.715430861723448,
          7.755511022044086,
          7.795591182364728,
          7.8356713426853695,
          7.875751503006011,
          7.915831663326653,
          7.955911823647295,
          7.9959919839679365,
          8.036072144288575,
          8.076152304609217,
          8.116232464929858,
          8.1563126252505,
          8.196392785571142,
          8.236472945891784,
          8.276553106212425,
          8.316633266533067,
          8.356713426853705,
          8.396793587174347,
          8.436873747494989,
          8.47695390781563,
          8.517034068136272,
          8.557114228456914,
          8.597194388777556,
          8.637274549098194,
          8.677354709418836,
          8.717434869739478,
          8.75751503006012,
          8.797595190380761,
          8.837675350701403,
          8.877755511022045,
          8.917835671342683,
          8.957915831663325,
          8.997995991983966,
          9.038076152304608,
          9.07815631262525,
          9.118236472945892,
          9.158316633266534,
          9.198396793587175,
          9.238476953907814,
          9.278557114228455,
          9.318637274549097,
          9.358717434869739,
          9.39879759519038,
          9.438877755511022,
          9.478957915831664,
          9.519038076152302,
          9.559118236472944,
          9.599198396793586,
          9.639278557114228,
          9.67935871743487,
          9.719438877755511,
          9.759519038076153,
          9.799599198396791,
          9.839679358717433,
          9.879759519038075,
          9.919839679358716,
          9.959919839679358,
          10
         ],
         "y": [
          0.7190176807504024,
          0.7599398316170176,
          0.8029330137039171,
          0.8480859915434323,
          0.895490396505531,
          0.9452407669867429,
          0.9974345860537878,
          1.0521723163251198,
          1.1095574318678625,
          1.169696446882259,
          1.2326989409405553,
          1.2986775805424953,
          1.3677481367451418,
          1.4400294986207565,
          1.5156436822928687,
          1.5947158352974544,
          1.6773742360136865,
          1.7637502879064473,
          1.8539785083214315,
          1.9481965115725894,
          2.0465449860615585,
          2.149167665169003,
          2.2562112916588504,
          2.367825575338439,
          2.484163143719936,
          2.6053794854320507,
          2.731632886135044,
          2.8630843566974087,
          2.9998975533983145,
          3.142238689927062,
          3.2902764409583134,
          3.4441818370910235,
          3.6041281509484566,
          3.770290774247603,
          3.9428470856579825,
          4.121976309282776,
          4.3078593636089,
          4.500678700787515,
          4.700618136122582,
          4.907862667661739,
          5.122598285802093,
          5.345011772842181,
          5.575290492431882,
          5.813622168892772,
          6.060194656403535,
          6.315195698068357,
          6.578812674909853,
          6.851232344853279,
          7.132640571794277,
          7.423222044869413,
          7.723159988075787,
          8.032635860414533,
          8.351829046761514,
          8.68091653969851,
          9.020072612567947,
          9.369468484044853,
          9.729271974551027,
          10.099647154867629,
          10.480753987334264,
          10.872747960054422,
          11.275779714559379,
          11.689994667414794,
          12.115532626286035,
          12.55252740101046,
          13.001106410256455,
          13.461390284380185,
          13.933492465122066,
          14.417518802814993,
          14.913567151806351,
          15.421726964824131,
          15.9420788870458,
          16.474694350655255,
          17.019635170699082,
          17.576953143077805,
          18.14668964553085,
          18.728875242496063,
          19.323529294744297,
          19.930659574708187,
          20.550261888440875,
          21.182319705155315,
          21.826803795307143,
          22.483671878194965,
          23.1528682800601,
          23.834323603674335,
          24.527954410407176,
          25.233662915765937,
          25.951336699400507,
          26.680848430560463,
          27.42205560998571,
          28.1748003292023,
          28.93890904818328,
          29.714192392318616,
          30.500444969621032,
          31.29744520907331,
          32.10495522099929,
          32.922720680313404,
          33.7504707334748,
          34.587917929938946,
          35.434758178864485,
          36.290670731794556,
          37.155318191990816,
          38.028346551054575,
          38.90938525342229,
          39.79804728927406,
          40.69392931634104,
          41.59661181104436,
          42.505659249340106,
          43.420620317587094,
          44.34102815369227,
          45.266400618725385,
          46.19624059913008,
          47.130036339590895,
          48.067261806548146,
          49.007377082282034,
          49.949828789417225,
          50.89405054562607,
          51.83946344823683,
          52.78547658837835,
          53.73148759422028,
          54.67688320279177,
          55.62103985978867,
          56.563324346704626,
          57.503094434547236,
          58.43969956332827,
          59.37248154644334,
          60.30077529898673,
          61.223909588975395,
          62.14120781038945,
          63.05198877686809,
          63.955567534836646,
          64.85125619477678,
          65.7383647792922,
          66.61620208656485,
          67.48407656774117,
          68.34129721673695,
          69.18717447090033,
          70.02102112092768,
          70.84215322838493,
          71.64989104915007,
          72.44355996105728,
          73.2224913939945,
          73.9860237606795,
          74.73350338631846,
          75.46428543533426,
          76.17773483333828,
          76.87322718251254,
          77.55014966856486,
          78.20790195742153,
          78.84589707982788,
          79.46356230203835,
          80.06033998079282,
          80.6356884007971,
          81.18908259295013,
          81.7200151315907,
          82.22799690907138,
          82.7125578860057,
          83.17324781557993,
          83.60963694036728,
          84.02131666013653,
          84.40790016920243,
          84.76902306192727,
          85.10434390504665,
          85.41354477556172,
          85.69633176301173,
          85.95243543501616,
          86.18161126505443,
          86.3836400215322,
          86.55832811726803,
          86.70550791862024,
          86.82503801356322,
          86.91680343811285,
          86.98071586059379,
          87.0167137233348,
          87.02476234147441,
          87.00485395865442,
          86.95700775947651,
          86.88126983869361,
          86.7777131272055,
          86.64643727502472,
          86.48756849147618,
          86.30125934298843,
          86.08768850893094,
          85.84706049604371,
          85.57960531209852,
          85.28557809952054,
          84.96525872978744,
          84.6189513595083,
          84.24698394916827,
          83.84970774560448,
          83.42749672935655,
          82.98074702810858,
          82.50987629751003,
          82.01532307073025,
          81.49754607816355,
          80.95702353876213,
          80.39425242452775,
          79.8097476997449,
          79.20404153658382,
          78.57768250874409,
          77.93123476484669,
          77.26527718331471,
          76.58040251051166,
          75.87721648392886,
          75.15633694223189,
          74.41839292399025,
          73.66402375692287,
          72.89387813949598,
          72.10861321670986,
          71.30889365190494,
          70.4953906964088,
          69.66878125882957,
          68.82974697578395,
          67.97897328582356,
          67.11714850829661,
          66.24496292884926,
          65.3631078932364,
          64.47227491107175,
          63.57315477110351,
          62.66643666955625,
          61.752807353028636,
          60.83295027738494,
          59.90754478402067,
          58.977265294825365,
          58.04278052710359,
          57.1047527296522,
          56.16383694112576,
          55.22068027175463,
          54.2759212094122,
          53.33018895095516,
          52.384102759691054,
          51.438271349753066,
          50.4932922980901,
          49.54975148470424,
          48.60822256169558,
          47.66926645159821,
          46.73343087541869,
          45.80124991071244,
          44.87324357996196,
          43.949917469447584,
          43.031762378729155,
          42.11925400078752,
          41.21285263280491,
          40.31300291749606,
          39.42013361483491,
          38.53465740395858,
          37.65697071496685,
          36.7874535902764,
          35.9264695751293,
          35.07436563680094,
          34.231472111998855,
          33.39810268189236,
          32.57455437416588,
          31.761107591442162,
          30.95802616538021,
          30.165557435711044,
          29.383932353438922,
          28.613365607400333,
          27.85405577334273,
          27.10618548465532,
          26.369921623859955,
          25.6454155339474,
          24.93280324862394,
          24.23220574051751,
          23.543729186378037,
          22.86746524829634,
          22.20349136995673,
          21.55187108693396,
          20.91265435004145,
          20.28587786073845,
          19.671565417604857,
          19.069728272898082,
          18.480365498213246,
          17.90346435827674,
          17.339000691915487,
          16.78693929925716,
          16.247234334232754,
          15.719829701469633,
          15.204659456682927,
          14.701648209693584,
          14.2107115292241,
          13.731756348646195,
          13.264681371880128,
          12.809377478671815,
          12.36572812850053,
          11.933609762399081,
          11.512892201996898,
          11.103439045126926,
          10.705108057367054,
          10.317751558918598,
          9.941216806255122,
          9.575346368007429,
          9.21997849458161,
          8.874947481039943,
          8.5400840228062,
          8.215215563788806,
          7.900166636547455,
          7.594759194160227,
          7.298812933479716,
          7.0121456094972,
          6.734573340564775,
          6.465910904254835,
          6.205972023665882,
          5.954569644011821,
          5.711516199360191,
          5.47662386941164,
          5.249704826239223,
          5.030571470931635,
          4.819036660108865,
          4.614913922302599,
          4.418017664215953,
          4.22816336689914,
          4.045167771898073,
          3.868849057452761,
          3.699027004840664,
          3.5355231549779913,
          3.378160955408427,
          3.2267658978239933,
          3.081165646277547,
          2.9411901562594904,
          2.806671784823898,
          2.677445391960357,
          2.553348433418332,
          2.4342210452002417,
          2.319906119947598,
          2.210249375452238,
          2.105099415531037,
          2.004307783508183,
          1.9077290085536904,
          1.8152206451308919,
          1.7266433058085349,
          1.6418606876955641,
          1.5607395927579828,
          1.4831499422781613,
          1.4089647857169978,
          1.3380603042387413,
          1.2703158091571785,
          1.2056137355600713,
          1.143839631366465,
          1.0848821420685557,
          1.028632991406585,
          0.9749869582213396,
          0.9238418497247589,
          0.8750984714244275,
          0.8286605939329039,
          0.7844349168875543,
          0.7423310302009509,
          0.7022613728561883,
          0.6641411894553602,
          0.6278884847232626,
          0.5934239761619408,
          0.5606710450451983,
          0.5295556859354837,
          0.5000064548988643,
          0.47195441658690895,
          0.4453330903474932,
          0.4200783955196321,
          0.3961285960605238,
          0.373424244646152,
          0.35190812637992025,
          0.3315252022370322,
          0.31222255236556945,
          0.29394931935862445,
          0.27665665160527075,
          0.2602976468217503,
          0.24482729585791826,
          0.23020242686783335,
          0.21638164992733994,
          0.20332530217558986,
          0.19099539355174722,
          0.17935555319253463,
          0.16837097655090683,
          0.1580083732909046,
          0.14823591600871272,
          0.13902318982508624,
          0.13034114288964757,
          0.12216203783305514,
          0.11445940419876495,
          0.10720799188199354,
          0.10038372559956195,
          0.09396366041057917,
          0.08792593830436532,
          0.08224974586866099,
          0.07691527304797517,
          0.07190367299893305,
          0.06719702304664757,
          0.06277828674349209,
          0.05863127702915829,
          0.05474062048856597,
          0.0510917227020324,
          0.04767073468009703,
          0.04446452037355085,
          0.041460625247508244,
          0.03864724590679583,
          0.03601320075850072,
          0.033547901696225346,
          0.03124132678942187,
          0.029083993960129863,
          0.027066935628502903,
          0.025181674307684893,
          0.023420199127878422,
          0.02177494326882281,
          0.020238762279375707,
          0.018804913262454887,
          0.017467034903244017,
          0.016219128318292426,
          0.01505553870294329,
          0.013970937754392752,
          0.012960306847622265,
          0.012018920941443904,
          0.011142333191950557,
          0.010326360250772893,
          0.009567068225697258,
          0.00886075928139908,
          0.008203958858285879,
          0.00759340348772028,
          0.007026029182203297,
          0.0064989603794395725,
          0.006009499419570882,
          0.0055551165352574405,
          0.005133440334697174,
          0.004742248758103636,
          0.004379460488609586,
          0.004043126799021766,
          0.0037314238163240164,
          0.003442645186303412,
          0.003175195121161695,
          0.002927581813464439,
          0.0026984112002751085,
          0.0024863810618168947,
          0.0022902754395013715,
          0.0021089593586579897,
          0.001941373841790238,
          0.0017865311986733283,
          0.001643510580091767,
          0.0015114537824932725,
          0.0013895612913069609,
          0.0012770885511377958,
          0.0011733424515050954,
          0.0010776780172404863,
          0.0009894952930982479,
          0.0009082364125597291,
          0.0008333828412314687,
          0.0007644527856444879,
          0.0007009987586592619,
          0.0006426052930668944,
          0.000588886795352185,
          0.0005394855319477484,
          0.0004940697406610258,
          0.00045233186029701027,
          0.0004139868718292535,
          0.0003787707447901997,
          0.00034643898285907236,
          0.0003167652629216468,
          0.00028954016216121953,
          0.00026456996801435333,
          0.00024167556608840356,
          0.00022069140139081711,
          0.00020146450846284918,
          0.00018385360624290442,
          0.00016772825370739495,
          0.000152968062550097,
          0.00013946196336464997,
          0.00012710752198942952,
          0.00011581030285973399,
          0.0001054832763893246,
          9.604626757215189e-05,
          8.742544315582991e-05,
          7.955283489136607e-05,
          7.236589650906753e-05,
          6.580709220875344e-05,
          5.982351458358638e-05,
          5.4366530021350974e-05,
          4.939144974503632e-05,
          4.4857224766445644e-05,
          4.072616313247094e-05,
          3.696366794388463e-05,
          3.353799472129913e-05,
          3.042002678250245e-05,
          2.7583067379982382e-05,
          2.5002647427296015e-05,
          2.2656347718253162e-05,
          2.0523634613885388e-05,
          1.858570823905507e-05,
          1.6825362293533863e-05,
          1.5226854641638248e-05,
          1.3775787900232785e-05,
          1.2458999297284811e-05,
          1.1264459122346098e-05,
          1.0181177136515647e-05,
          9.19911635276565e-06,
          8.309113638133584e-06,
          7.502806627358321e-06,
          6.772566473193792e-06,
          6.111435992013492e-06,
          5.513072794547319e-06,
          4.9716970207929e-06,
          4.482043325433019e-06,
          4.039316785578995e-06,
          3.6391524264572252e-06,
          3.2775780828563724e-06
         ]
        },
        {
         "mode": "lines",
         "type": "scatter",
         "x": [
          -10,
          -9.959919839679358,
          -9.919839679358718,
          -9.879759519038076,
          -9.839679358717435,
          -9.799599198396793,
          -9.759519038076153,
          -9.719438877755511,
          -9.67935871743487,
          -9.639278557114228,
          -9.599198396793588,
          -9.559118236472946,
          -9.519038076152304,
          -9.478957915831664,
          -9.438877755511022,
          -9.39879759519038,
          -9.358717434869739,
          -9.318637274549099,
          -9.278557114228457,
          -9.238476953907815,
          -9.198396793587175,
          -9.158316633266534,
          -9.118236472945892,
          -9.07815631262525,
          -9.03807615230461,
          -8.997995991983968,
          -8.957915831663327,
          -8.917835671342685,
          -8.877755511022045,
          -8.837675350701403,
          -8.797595190380761,
          -8.75751503006012,
          -8.71743486973948,
          -8.677354709418838,
          -8.637274549098196,
          -8.597194388777556,
          -8.557114228456914,
          -8.517034068136272,
          -8.47695390781563,
          -8.43687374749499,
          -8.396793587174349,
          -8.356713426853707,
          -8.316633266533067,
          -8.276553106212425,
          -8.236472945891784,
          -8.196392785571142,
          -8.156312625250502,
          -8.11623246492986,
          -8.076152304609218,
          -8.036072144288577,
          -7.9959919839679365,
          -7.955911823647295,
          -7.915831663326653,
          -7.875751503006012,
          -7.835671342685371,
          -7.7955911823647295,
          -7.755511022044088,
          -7.715430861723447,
          -7.675350701402806,
          -7.635270541082164,
          -7.595190380761523,
          -7.555110220440882,
          -7.515030060120241,
          -7.474949899799599,
          -7.434869739478958,
          -7.394789579158317,
          -7.354709418837675,
          -7.314629258517034,
          -7.274549098196393,
          -7.234468937875752,
          -7.19438877755511,
          -7.154308617234469,
          -7.114228456913828,
          -7.074148296593187,
          -7.034068136272545,
          -6.993987975951904,
          -6.953907815631263,
          -6.913827655310621,
          -6.8737474949899795,
          -6.833667334669339,
          -6.793587174348698,
          -6.753507014028056,
          -6.713426853707415,
          -6.673346693386774,
          -6.6332665330661325,
          -6.593186372745491,
          -6.55310621242485,
          -6.513026052104209,
          -6.472945891783567,
          -6.432865731462925,
          -6.3927855711422845,
          -6.352705410821644,
          -6.312625250501002,
          -6.272545090180361,
          -6.23246492985972,
          -6.192384769539078,
          -6.152304609218437,
          -6.112224448897796,
          -6.072144288577155,
          -6.032064128256513,
          -5.991983967935872,
          -5.95190380761523,
          -5.9118236472945895,
          -5.871743486973948,
          -5.831663326653307,
          -5.791583166332665,
          -5.751503006012024,
          -5.711422845691383,
          -5.671342685370742,
          -5.631262525050101,
          -5.591182364729459,
          -5.551102204408818,
          -5.511022044088176,
          -5.470941883767535,
          -5.430861723446894,
          -5.390781563126253,
          -5.350701402805611,
          -5.31062124248497,
          -5.270541082164329,
          -5.2304609218436875,
          -5.190380761523047,
          -5.150300601202405,
          -5.110220440881764,
          -5.070140280561122,
          -5.030060120240481,
          -4.98997995991984,
          -4.949899799599199,
          -4.909819639278557,
          -4.869739478957916,
          -4.829659318637275,
          -4.789579158316633,
          -4.7494989979959925,
          -4.709418837675351,
          -4.66933867735471,
          -4.629258517034068,
          -4.589178356713427,
          -4.5490981963927855,
          -4.509018036072145,
          -4.468937875751503,
          -4.428857715430862,
          -4.388777555110221,
          -4.348697394789579,
          -4.308617234468938,
          -4.268537074148297,
          -4.228456913827656,
          -4.188376753507014,
          -4.148296593186373,
          -4.108216432865731,
          -4.0681362725450905,
          -4.028056112224449,
          -3.987975951903808,
          -3.947895791583167,
          -3.907815631262525,
          -3.8677354709418843,
          -3.8276553106212425,
          -3.7875751503006017,
          -3.74749498997996,
          -3.707414829659319,
          -3.6673346693386772,
          -3.6272545090180364,
          -3.5871743486973955,
          -3.5470941883767537,
          -3.507014028056113,
          -3.466933867735471,
          -3.42685370741483,
          -3.3867735470941884,
          -3.3466933867735476,
          -3.306613226452906,
          -3.266533066132265,
          -3.226452905811623,
          -3.1863727454909823,
          -3.1462925851703414,
          -3.1062124248496996,
          -3.0661322645290587,
          -3.026052104208417,
          -2.985971943887776,
          -2.9458917835671343,
          -2.9058116232464934,
          -2.8657314629258517,
          -2.825651302605211,
          -2.785571142284569,
          -2.745490981963928,
          -2.7054108216432873,
          -2.6653306613226455,
          -2.6252505010020046,
          -2.585170340681363,
          -2.545090180360722,
          -2.50501002004008,
          -2.4649298597194393,
          -2.4248496993987976,
          -2.3847695390781567,
          -2.344689378757515,
          -2.304609218436874,
          -2.264529058116233,
          -2.2244488977955914,
          -2.1843687374749505,
          -2.1442885771543088,
          -2.104208416833668,
          -2.064128256513026,
          -2.0240480961923852,
          -1.9839679358717444,
          -1.9438877755511026,
          -1.9038076152304608,
          -1.8637274549098208,
          -1.823647294589179,
          -1.7835671342685373,
          -1.7434869739478955,
          -1.7034068136272555,
          -1.6633266533066138,
          -1.623246492985972,
          -1.5831663326653302,
          -1.5430861723446903,
          -1.5030060120240485,
          -1.4629258517034067,
          -1.4228456913827667,
          -1.382765531062125,
          -1.3426853707414832,
          -1.3026052104208414,
          -1.2625250501002014,
          -1.2224448897795597,
          -1.182364729458918,
          -1.1422845691382761,
          -1.1022044088176361,
          -1.0621242484969944,
          -1.0220440881763526,
          -0.9819639278557126,
          -0.9418837675350709,
          -0.9018036072144291,
          -0.8617234468937873,
          -0.8216432865731473,
          -0.7815631262525056,
          -0.7414829659318638,
          -0.701402805611222,
          -0.661322645290582,
          -0.6212424849699403,
          -0.5811623246492985,
          -0.5410821643286585,
          -0.5010020040080168,
          -0.460921843687375,
          -0.4208416833667332,
          -0.38076152304609323,
          -0.34068136272545146,
          -0.3006012024048097,
          -0.26052104208416793,
          -0.22044088176352794,
          -0.18036072144288617,
          -0.1402805611222444,
          -0.10020040080160442,
          -0.06012024048096265,
          -0.020040080160320883,
          0.020040080160320883,
          0.060120240480960874,
          0.10020040080160264,
          0.1402805611222444,
          0.18036072144288617,
          0.22044088176352616,
          0.26052104208416793,
          0.3006012024048097,
          0.3406813627254497,
          0.38076152304609145,
          0.4208416833667332,
          0.460921843687375,
          0.501002004008015,
          0.5410821643286567,
          0.5811623246492985,
          0.6212424849699403,
          0.6613226452905803,
          0.701402805611222,
          0.7414829659318638,
          0.7815631262525038,
          0.8216432865731456,
          0.8617234468937873,
          0.9018036072144291,
          0.9418837675350691,
          0.9819639278557108,
          1.0220440881763526,
          1.0621242484969944,
          1.1022044088176344,
          1.1422845691382761,
          1.182364729458918,
          1.222444889779558,
          1.2625250501001997,
          1.3026052104208414,
          1.3426853707414832,
          1.3827655310621232,
          1.422845691382765,
          1.4629258517034067,
          1.5030060120240485,
          1.5430861723446885,
          1.5831663326653302,
          1.623246492985972,
          1.663326653306612,
          1.7034068136272538,
          1.7434869739478955,
          1.7835671342685373,
          1.8236472945891773,
          1.863727454909819,
          1.9038076152304608,
          1.9438877755511026,
          1.9839679358717426,
          2.0240480961923843,
          2.064128256513026,
          2.104208416833666,
          2.144288577154308,
          2.1843687374749496,
          2.2244488977955914,
          2.2645290581162314,
          2.304609218436873,
          2.344689378757515,
          2.3847695390781567,
          2.4248496993987967,
          2.4649298597194385,
          2.50501002004008,
          2.54509018036072,
          2.585170340681362,
          2.6252505010020037,
          2.6653306613226455,
          2.7054108216432855,
          2.7454909819639273,
          2.785571142284569,
          2.825651302605209,
          2.865731462925851,
          2.9058116232464926,
          2.9458917835671343,
          2.9859719438877743,
          3.026052104208416,
          3.066132264529058,
          3.1062124248496996,
          3.1462925851703396,
          3.1863727454909814,
          3.226452905811623,
          3.266533066132263,
          3.306613226452905,
          3.3466933867735467,
          3.3867735470941884,
          3.4268537074148284,
          3.46693386773547,
          3.507014028056112,
          3.5470941883767537,
          3.5871743486973937,
          3.6272545090180355,
          3.6673346693386772,
          3.7074148296593172,
          3.747494989979959,
          3.7875751503006008,
          3.8276553106212425,
          3.8677354709418825,
          3.9078156312625243,
          3.947895791583166,
          3.987975951903808,
          4.028056112224448,
          4.06813627254509,
          4.108216432865731,
          4.148296593186371,
          4.188376753507013,
          4.228456913827655,
          4.268537074148297,
          4.308617234468937,
          4.348697394789578,
          4.38877755511022,
          4.428857715430862,
          4.468937875751502,
          4.509018036072144,
          4.5490981963927855,
          4.589178356713425,
          4.629258517034067,
          4.669338677354709,
          4.709418837675351,
          4.749498997995991,
          4.7895791583166325,
          4.829659318637274,
          4.869739478957916,
          4.909819639278556,
          4.949899799599198,
          4.98997995991984,
          5.0300601202404795,
          5.070140280561121,
          5.110220440881763,
          5.150300601202405,
          5.190380761523045,
          5.230460921843687,
          5.270541082164328,
          5.31062124248497,
          5.35070140280561,
          5.390781563126252,
          5.430861723446894,
          5.470941883767534,
          5.511022044088175,
          5.551102204408817,
          5.591182364729459,
          5.631262525050099,
          5.671342685370741,
          5.7114228456913825,
          5.751503006012024,
          5.791583166332664,
          5.831663326653306,
          5.871743486973948,
          5.911823647294588,
          5.9519038076152295,
          5.991983967935871,
          6.032064128256511,
          6.072144288577153,
          6.112224448897795,
          6.152304609218437,
          6.192384769539078,
          6.23246492985972,
          6.272545090180358,
          6.312625250501,
          6.352705410821642,
          6.392785571142284,
          6.432865731462925,
          6.472945891783567,
          6.513026052104209,
          6.553106212424851,
          6.593186372745489,
          6.633266533066131,
          6.673346693386772,
          6.713426853707414,
          6.753507014028056,
          6.793587174348698,
          6.8336673346693395,
          6.873747494989978,
          6.9138276553106195,
          6.953907815631261,
          6.993987975951903,
          7.034068136272545,
          7.074148296593187,
          7.114228456913828,
          7.1543086172344665,
          7.194388777555108,
          7.23446893787575,
          7.274549098196392,
          7.314629258517034,
          7.354709418837675,
          7.394789579158317,
          7.434869739478959,
          7.474949899799597,
          7.515030060120239,
          7.555110220440881,
          7.595190380761522,
          7.635270541082164,
          7.675350701402806,
          7.715430861723448,
          7.755511022044086,
          7.795591182364728,
          7.8356713426853695,
          7.875751503006011,
          7.915831663326653,
          7.955911823647295,
          7.9959919839679365,
          8.036072144288575,
          8.076152304609217,
          8.116232464929858,
          8.1563126252505,
          8.196392785571142,
          8.236472945891784,
          8.276553106212425,
          8.316633266533067,
          8.356713426853705,
          8.396793587174347,
          8.436873747494989,
          8.47695390781563,
          8.517034068136272,
          8.557114228456914,
          8.597194388777556,
          8.637274549098194,
          8.677354709418836,
          8.717434869739478,
          8.75751503006012,
          8.797595190380761,
          8.837675350701403,
          8.877755511022045,
          8.917835671342683,
          8.957915831663325,
          8.997995991983966,
          9.038076152304608,
          9.07815631262525,
          9.118236472945892,
          9.158316633266534,
          9.198396793587175,
          9.238476953907814,
          9.278557114228455,
          9.318637274549097,
          9.358717434869739,
          9.39879759519038,
          9.438877755511022,
          9.478957915831664,
          9.519038076152302,
          9.559118236472944,
          9.599198396793586,
          9.639278557114228,
          9.67935871743487,
          9.719438877755511,
          9.759519038076153,
          9.799599198396791,
          9.839679358717433,
          9.879759519038075,
          9.919839679358716,
          9.959919839679358,
          10
         ],
         "y": [
          2.2148277516628776e-05,
          2.44563468145242e-05,
          2.6996264874973402e-05,
          2.979039384770606e-05,
          3.286315668158233e-05,
          3.6241217418217e-05,
          3.995367632958566e-05,
          4.403228103534247e-05,
          4.85116548147612e-05,
          5.3429543412247776e-05,
          5.882708172450856e-05,
          6.474908185195738e-05,
          7.124434409703384e-05,
          7.836599259809928e-05,
          8.617183739969464e-05,
          9.472476487850611e-05,
          0.0001040931585696601,
          0.00011435135257025324,
          0.00012558011983661107,
          0.00013786719783896723,
          0.00015130785419237484,
          0.00016600549504601508,
          0.00018207231918493502,
          0.00019963002097902612,
          0.0002188105455039528,
          0.00023975689935818966,
          0.0002626240209095213,
          0.0002875797139237596,
          0.000314805648758196,
          0.00034449843554286197,
          0.0003768707740242135,
          0.0004121526850088178,
          0.00045059282861905855,
          0.0004924599148593416,
          0.0005380442122896947,
          0.0005876591609146506,
          0.0006416430957186436,
          0.000700361087615402,
          0.0007642069089280028,
          0.0008336051308784235,
          0.0009090133609408965,
          0.0009909246283019472,
          0.001079869926072098,
          0.0011764209193093741,
          0.0012811928283432267,
          0.0013948474973292443,
          0.0015180966584195695,
          0.0016517054024013627,
          0.0017964958671356003,
          0.0019533511556206464,
          0.00212321949600884,
          0.0023071186564196386,
          0.0025061406279185275,
          0.002721456589567257,
          0.0029543221699959246,
          0.003206083020501582,
          0.003478180715239074,
          0.003772158994638354,
          0.00408967036875528,
          0.004432483097840697,
          0.004802488567992824,
          0.005201709080339175,
          0.005632306072775637,
          0.006096588793868438,
          0.00659702344910023,
          0.007136242840209359,
          0.007717056518931294,
          0.008342461477001096,
          0.009015653394810601,
          0.009740038471634689,
          0.010519245860841103,
          0.011357140733977323,
          0.012257837998082083,
          0.013225716690993001,
          0.014265435079816249,
          0.01538194648807951,
          0.016580515877407758,
          0.01786673720983436,
          0.019246551617084117,
          0.02072626640333851,
          0.022312574908107913,
          0.02401257725588705,
          0.025833802019258795,
          0.027784228822021518,
          0.029872311908754872,
          0.032107004706988525,
          0.034497785407806736,
          0.03705468359029027,
          0.03978830791466712,
          0.04270987490841189,
          0.045831238868782744,
          0.04916492290442206,
          0.052724151137659256,
          0.05652288208803046,
          0.06057584325628217,
          0.06489856692671818,
          0.06950742720421178,
          0.07441967830049723,
          0.07965349408249393,
          0.08522800889339004,
          0.09116335965500477,
          0.09748072925757621,
          0.10420239124054775,
          0.11135175576518783,
          0.11895341687691295,
          0.12703320105205684,
          0.1356182170204678,
          0.14473690685177068,
          0.15441909828935635,
          0.164696058312191,
          0.17560054790034127,
          0.18716687797569653,
          0.19943096648473987,
          0.21243039658536847,
          0.22620447589469161,
          0.24079429674944003,
          0.2562427974251175,
          0.27259482425428583,
          0.28989719457845364,
          0.3081987604618706,
          0.32755047308918966,
          0.3480054477624042,
          0.3696190294057181,
          0.392448858480091,
          0.41655493720208686,
          0.441999695954398,
          0.46884805976799226,
          0.49716751474827675,
          0.527028174309977,
          0.5585028450776506,
          0.5916670923008389,
          0.6265993046249145,
          0.6633807580506492,
          0.7020956789074445,
          0.7428313056571219,
          0.7856779493370591,
          0.8307290524434584,
          0.8780812460474965,
          0.9278344049292716,
          0.9800917005066169,
          1.0349596513282457,
          1.0925481708932068,
          1.1529706125513581,
          1.2163438112325788,
          1.2827881217456103,
          1.3524274533810796,
          1.425389300547033,
          1.501804769159725,
          1.581808598506966,
          1.6655391782966384,
          1.7531385605984806,
          1.8447524663836412,
          1.9405302863630214,
          2.04062507582305,
          2.1451935431554383,
          2.2543960317761997,
          2.3683964951288177,
          2.4873624644665306,
          2.61146500910994,
          2.74087868887794,
          2.875781498392904,
          3.0163548029646914,
          3.162783265762854,
          3.315254765992121,
          3.4739603077928587,
          3.639093919596255,
          3.8108525436725507,
          3.989435915621016,
          4.175046433561138,
          4.367889016797175,
          4.568170953741385,
          4.77610173889624,
          4.991892898711567,
          5.215757806149849,
          5.447911483811232,
          5.688570395489239,
          5.937952226049171,
          6.196275649542963,
          6.463760085497692,
          6.740625443339095,
          7.027091854937292,
          7.323379395288347,
          7.6297077913733995,
          7.946296119265781,
          8.273362489586633,
          8.611123721440528,
          8.959795004994284,
          9.31958955289533,
          9.690718240759166,
          10.073389236990398,
          10.467807622236382,
          10.874174998808758,
          11.292689090443986,
          11.723543332811186,
          12.16692645521227,
          12.623022053956987,
          13.092008157933083,
          13.57405678692921,
          14.069333503306087,
          14.577996957648455,
          15.100198429068193,
          15.636081360864926,
          16.185780892287536,
          16.749423387175092,
          17.327125960291056,
          17.91899600219793,
          18.525130703553593,
          19.145616579741255,
          19.78052899677642,
          20.429931699462625,
          21.09387634279601,
          21.772402027644173,
          22.465534841749072,
          23.17328740712541,
          23.895658434946906,
          24.632632289029782,
          25.384178559038407,
          26.15025164455189,
          26.930790351139773,
          27.72571749960392,
          28.534939549547396,
          29.358346238434997,
          30.195810237307672,
          31.047186824310412,
          31.912313577185056,
          32.791010085870745,
          33.68307768633991,
          34.5882992167813,
          35.506438797222216,
          36.43724163365717,
          37.38043384772482,
          38.33572233294248,
          39.3027946384767,
          40.28131888138781,
          41.27094368824849,
          42.27129816699008,
          43.281991909785035,
          44.302615027721686,
          45.332738217974,
          46.37191286411277,
          47.4196711701436,
          48.47552632879471,
          49.538972724511105,
          50.60948617154433,
          51.68652418745459,
          52.76952630226964,
          53.85791440346796,
          54.951093116877644,
          56.04845022350112,
          57.14935711219482,
          58.25316926805123,
          59.35922679624459,
          60.466854981018514,
          61.57536487940523,
          62.6840539491822,
          63.7922067104827,
          64.89909544039102,
          66.00398089976503,
          67.10611309144359,
          68.20473204890912,
          69.29906865439072,
          70.38834548531048,
          71.47177768789179,
          72.54857387666924,
          73.61793705855895,
          74.6790655800744,
          75.73115409619624,
          76.77339455933527,
          77.80497722675784,
          78.82509168477947,
          79.83292788797021,
          80.82767721155663,
          81.80853351515314,
          82.77469421590389,
          83.72536136907212,
          84.65974275407173,
          85.57705296390097,
          86.47651449590532,
          87.35735884177126,
          88.21882757462994,
          89.06017343113564,
          89.8806613863712,
          90.67956971942832,
          91.45619106751077,
          92.20983346641417,
          92.93982137524719,
          93.64549668327595,
          94.32621969679676,
          94.98137010396901,
          95.6103479155755,
          96.2125743797148,
          96.7874928684767,
          97.33456973470072,
          97.85329513697253,
          98.3431838310749,
          98.80377592617329,
          99.23463760408787,
          99.63536180007682,
          100.00556884363652,
          100.34490705790621,
          100.65305331635302,
          100.92971355550335,
          101.17462324258243,
          101.3875477970206,
          101.56828296488621,
          101.71665514540878,
          101.83252166886147,
          101.9157710251802,
          101.96632304280675,
          101.98412901735426,
          101.96917178980594,
          101.92146577407144,
          101.84105693383876,
          101.72802270877384,
          101.58247189023362,
          101.40454444677196,
          101.19441129983007,
          100.95227405011455,
          100.67836465527655,
          100.37294505961313,
          100.03630677661852,
          99.6687704253162,
          99.27068522140479,
          98.84242842434739,
          98.3844047416304,
          97.89704569150817,
          97.38080892563819,
          96.83617751309463,
          96.26365918732814,
          95.66378555771435,
          95.03711128740422,
          94.38421323925532,
          93.70568959168311,
          93.00215892632805,
          92.2742592894836,
          91.52264722927629,
          90.74799681062791,
          89.950998610065,
          89.13235869246824,
          88.2927975718786,
          87.43304915849346,
          86.55385969399921,
          85.65598667739104,
          84.74019778343288,
          83.80726977590578,
          82.85798741778103,
          81.8931423804404,
          80.91353215404429,
          79.91995896112276,
          78.91322867543283,
          77.89414974809041,
          76.86353214294384,
          75.82218628311178,
          74.7709220105576,
          73.7105475605197,
          72.64186855255984,
          71.56568699992911,
          70.48280033888786,
          69.39400047954665,
          68.30007287972605,
          67.20179564325673,
          66.0999386440676,
          64.99526267732955,
          63.888518638842896,
          62.78044673377334,
          61.671775715758095,
          60.563222157319565,
          59.45548975243644,
          58.34926865203699,
          57.24523483309176,
          56.14404950189606,
          55.04635853204497,
          53.95279193751758,
          52.86396338120049,
          51.78046971909645,
          50.70289058037768,
          49.63178798336227,
          48.56770598741053,
          47.51117038065624,
          46.462688403412805,
          45.422748507015555,
          44.39182014779033,
          43.370353615764756,
          42.358779897672015,
          41.35751057372907,
          40.36693774761004,
          39.387434008972726,
          38.41935242784094,
          37.463026580090805,
          36.51877060323692,
          35.586879281668544,
          34.66762816043991,
          33.76127368667942,
          32.86805337764304,
          31.988186014405,
          31.121871860146534,
          30.269292901977757,
          29.430613115202203,
          28.605978748914506,
          27.795518631804185,
          26.999344497024296,
          26.217551324973783,
          25.450217702835253,
          24.697406199704847,
          23.959163756150893,
          23.235522087039232,
          22.526498096468288,
          21.83209430366391,
          21.152299278695825,
          20.487088086887915,
          19.83642274081218,
          19.20025265877271,
          18.57851512870582,
          17.971135776444935,
          17.37802903732235,
          16.799098630105625,
          16.234238032294662,
          15.68333095583297,
          15.146251822318613,
          14.622866236831143,
          14.113031459524047,
          13.616596874166053,
          13.133404452849382,
          12.66328921611922,
          12.20607968781379,
          11.761598343942328,
          11.329662054964762,
          10.910082520874417,
          10.50266669852289,
          10.107217220663376,
          9.723532806227167,
          9.35140866138426,
          8.990636870977225,
          8.641006779953722,
          8.302305364459407,
          7.97431759228892,
          7.656826772427732,
          7.349614893451907,
          7.052462950587181,
          6.765151261260633,
          6.487459769011179,
          6.2191683356556045,
          5.960057021637086,
          5.709906354512108,
          5.468497585559546,
          5.235612934522896,
          5.0110358225215155,
          4.794551093192097,
          4.5859452221443755,
          4.385006514837329,
          4.1915252930030675,
          4.0052940697651565,
          3.8261077136168664,
          3.6537636014415154,
          3.4880617607736775,
          3.3288050015144663,
          3.1757990373277636,
          3.0288525969567397,
          2.8877775257112783,
          2.7523888773868146,
          2.622504996884556,
          2.497947593810304,
          2.378541807336548,
          2.2641162626178946,
          2.1545031190548936,
          2.0495381107050785,
          1.949060579142903,
          1.8529134990724583,
          1.7609434969976558,
          1.6730008632552398,
          1.588939557715284,
          1.508617209452808,
          1.4318951106920905,
          1.3586382053228276,
          1.2887150722840797,
          1.2219979041080942,
          1.1583624809119335,
          1.0976881401199465,
          1.0398577421948911,
          0.9847576326498257,
          0.9322776006068282,
          0.882310834162141,
          0.8347538728107335,
          0.7895065571760744,
          0.7464719762838607,
          0.705556412610868,
          0.6666692851325002,
          0.6297230905848595,
          0.5946333431492048,
          0.5613185127587987,
          0.5296999622199631,
          0.499701883331222,
          0.47125123217625514,
          0.44427766375834643,
          0.4187134661359704,
          0.39449349421118657,
          0.3715551033146404,
          0.3498380827230994,
          0.32928458923782983,
          0.309839080944503
         ]
        },
        {
         "mode": "lines",
         "type": "scatter",
         "x": [
          -10,
          -9.959919839679358,
          -9.919839679358718,
          -9.879759519038076,
          -9.839679358717435,
          -9.799599198396793,
          -9.759519038076153,
          -9.719438877755511,
          -9.67935871743487,
          -9.639278557114228,
          -9.599198396793588,
          -9.559118236472946,
          -9.519038076152304,
          -9.478957915831664,
          -9.438877755511022,
          -9.39879759519038,
          -9.358717434869739,
          -9.318637274549099,
          -9.278557114228457,
          -9.238476953907815,
          -9.198396793587175,
          -9.158316633266534,
          -9.118236472945892,
          -9.07815631262525,
          -9.03807615230461,
          -8.997995991983968,
          -8.957915831663327,
          -8.917835671342685,
          -8.877755511022045,
          -8.837675350701403,
          -8.797595190380761,
          -8.75751503006012,
          -8.71743486973948,
          -8.677354709418838,
          -8.637274549098196,
          -8.597194388777556,
          -8.557114228456914,
          -8.517034068136272,
          -8.47695390781563,
          -8.43687374749499,
          -8.396793587174349,
          -8.356713426853707,
          -8.316633266533067,
          -8.276553106212425,
          -8.236472945891784,
          -8.196392785571142,
          -8.156312625250502,
          -8.11623246492986,
          -8.076152304609218,
          -8.036072144288577,
          -7.9959919839679365,
          -7.955911823647295,
          -7.915831663326653,
          -7.875751503006012,
          -7.835671342685371,
          -7.7955911823647295,
          -7.755511022044088,
          -7.715430861723447,
          -7.675350701402806,
          -7.635270541082164,
          -7.595190380761523,
          -7.555110220440882,
          -7.515030060120241,
          -7.474949899799599,
          -7.434869739478958,
          -7.394789579158317,
          -7.354709418837675,
          -7.314629258517034,
          -7.274549098196393,
          -7.234468937875752,
          -7.19438877755511,
          -7.154308617234469,
          -7.114228456913828,
          -7.074148296593187,
          -7.034068136272545,
          -6.993987975951904,
          -6.953907815631263,
          -6.913827655310621,
          -6.8737474949899795,
          -6.833667334669339,
          -6.793587174348698,
          -6.753507014028056,
          -6.713426853707415,
          -6.673346693386774,
          -6.6332665330661325,
          -6.593186372745491,
          -6.55310621242485,
          -6.513026052104209,
          -6.472945891783567,
          -6.432865731462925,
          -6.3927855711422845,
          -6.352705410821644,
          -6.312625250501002,
          -6.272545090180361,
          -6.23246492985972,
          -6.192384769539078,
          -6.152304609218437,
          -6.112224448897796,
          -6.072144288577155,
          -6.032064128256513,
          -5.991983967935872,
          -5.95190380761523,
          -5.9118236472945895,
          -5.871743486973948,
          -5.831663326653307,
          -5.791583166332665,
          -5.751503006012024,
          -5.711422845691383,
          -5.671342685370742,
          -5.631262525050101,
          -5.591182364729459,
          -5.551102204408818,
          -5.511022044088176,
          -5.470941883767535,
          -5.430861723446894,
          -5.390781563126253,
          -5.350701402805611,
          -5.31062124248497,
          -5.270541082164329,
          -5.2304609218436875,
          -5.190380761523047,
          -5.150300601202405,
          -5.110220440881764,
          -5.070140280561122,
          -5.030060120240481,
          -4.98997995991984,
          -4.949899799599199,
          -4.909819639278557,
          -4.869739478957916,
          -4.829659318637275,
          -4.789579158316633,
          -4.7494989979959925,
          -4.709418837675351,
          -4.66933867735471,
          -4.629258517034068,
          -4.589178356713427,
          -4.5490981963927855,
          -4.509018036072145,
          -4.468937875751503,
          -4.428857715430862,
          -4.388777555110221,
          -4.348697394789579,
          -4.308617234468938,
          -4.268537074148297,
          -4.228456913827656,
          -4.188376753507014,
          -4.148296593186373,
          -4.108216432865731,
          -4.0681362725450905,
          -4.028056112224449,
          -3.987975951903808,
          -3.947895791583167,
          -3.907815631262525,
          -3.8677354709418843,
          -3.8276553106212425,
          -3.7875751503006017,
          -3.74749498997996,
          -3.707414829659319,
          -3.6673346693386772,
          -3.6272545090180364,
          -3.5871743486973955,
          -3.5470941883767537,
          -3.507014028056113,
          -3.466933867735471,
          -3.42685370741483,
          -3.3867735470941884,
          -3.3466933867735476,
          -3.306613226452906,
          -3.266533066132265,
          -3.226452905811623,
          -3.1863727454909823,
          -3.1462925851703414,
          -3.1062124248496996,
          -3.0661322645290587,
          -3.026052104208417,
          -2.985971943887776,
          -2.9458917835671343,
          -2.9058116232464934,
          -2.8657314629258517,
          -2.825651302605211,
          -2.785571142284569,
          -2.745490981963928,
          -2.7054108216432873,
          -2.6653306613226455,
          -2.6252505010020046,
          -2.585170340681363,
          -2.545090180360722,
          -2.50501002004008,
          -2.4649298597194393,
          -2.4248496993987976,
          -2.3847695390781567,
          -2.344689378757515,
          -2.304609218436874,
          -2.264529058116233,
          -2.2244488977955914,
          -2.1843687374749505,
          -2.1442885771543088,
          -2.104208416833668,
          -2.064128256513026,
          -2.0240480961923852,
          -1.9839679358717444,
          -1.9438877755511026,
          -1.9038076152304608,
          -1.8637274549098208,
          -1.823647294589179,
          -1.7835671342685373,
          -1.7434869739478955,
          -1.7034068136272555,
          -1.6633266533066138,
          -1.623246492985972,
          -1.5831663326653302,
          -1.5430861723446903,
          -1.5030060120240485,
          -1.4629258517034067,
          -1.4228456913827667,
          -1.382765531062125,
          -1.3426853707414832,
          -1.3026052104208414,
          -1.2625250501002014,
          -1.2224448897795597,
          -1.182364729458918,
          -1.1422845691382761,
          -1.1022044088176361,
          -1.0621242484969944,
          -1.0220440881763526,
          -0.9819639278557126,
          -0.9418837675350709,
          -0.9018036072144291,
          -0.8617234468937873,
          -0.8216432865731473,
          -0.7815631262525056,
          -0.7414829659318638,
          -0.701402805611222,
          -0.661322645290582,
          -0.6212424849699403,
          -0.5811623246492985,
          -0.5410821643286585,
          -0.5010020040080168,
          -0.460921843687375,
          -0.4208416833667332,
          -0.38076152304609323,
          -0.34068136272545146,
          -0.3006012024048097,
          -0.26052104208416793,
          -0.22044088176352794,
          -0.18036072144288617,
          -0.1402805611222444,
          -0.10020040080160442,
          -0.06012024048096265,
          -0.020040080160320883,
          0.020040080160320883,
          0.060120240480960874,
          0.10020040080160264,
          0.1402805611222444,
          0.18036072144288617,
          0.22044088176352616,
          0.26052104208416793,
          0.3006012024048097,
          0.3406813627254497,
          0.38076152304609145,
          0.4208416833667332,
          0.460921843687375,
          0.501002004008015,
          0.5410821643286567,
          0.5811623246492985,
          0.6212424849699403,
          0.6613226452905803,
          0.701402805611222,
          0.7414829659318638,
          0.7815631262525038,
          0.8216432865731456,
          0.8617234468937873,
          0.9018036072144291,
          0.9418837675350691,
          0.9819639278557108,
          1.0220440881763526,
          1.0621242484969944,
          1.1022044088176344,
          1.1422845691382761,
          1.182364729458918,
          1.222444889779558,
          1.2625250501001997,
          1.3026052104208414,
          1.3426853707414832,
          1.3827655310621232,
          1.422845691382765,
          1.4629258517034067,
          1.5030060120240485,
          1.5430861723446885,
          1.5831663326653302,
          1.623246492985972,
          1.663326653306612,
          1.7034068136272538,
          1.7434869739478955,
          1.7835671342685373,
          1.8236472945891773,
          1.863727454909819,
          1.9038076152304608,
          1.9438877755511026,
          1.9839679358717426,
          2.0240480961923843,
          2.064128256513026,
          2.104208416833666,
          2.144288577154308,
          2.1843687374749496,
          2.2244488977955914,
          2.2645290581162314,
          2.304609218436873,
          2.344689378757515,
          2.3847695390781567,
          2.4248496993987967,
          2.4649298597194385,
          2.50501002004008,
          2.54509018036072,
          2.585170340681362,
          2.6252505010020037,
          2.6653306613226455,
          2.7054108216432855,
          2.7454909819639273,
          2.785571142284569,
          2.825651302605209,
          2.865731462925851,
          2.9058116232464926,
          2.9458917835671343,
          2.9859719438877743,
          3.026052104208416,
          3.066132264529058,
          3.1062124248496996,
          3.1462925851703396,
          3.1863727454909814,
          3.226452905811623,
          3.266533066132263,
          3.306613226452905,
          3.3466933867735467,
          3.3867735470941884,
          3.4268537074148284,
          3.46693386773547,
          3.507014028056112,
          3.5470941883767537,
          3.5871743486973937,
          3.6272545090180355,
          3.6673346693386772,
          3.7074148296593172,
          3.747494989979959,
          3.7875751503006008,
          3.8276553106212425,
          3.8677354709418825,
          3.9078156312625243,
          3.947895791583166,
          3.987975951903808,
          4.028056112224448,
          4.06813627254509,
          4.108216432865731,
          4.148296593186371,
          4.188376753507013,
          4.228456913827655,
          4.268537074148297,
          4.308617234468937,
          4.348697394789578,
          4.38877755511022,
          4.428857715430862,
          4.468937875751502,
          4.509018036072144,
          4.5490981963927855,
          4.589178356713425,
          4.629258517034067,
          4.669338677354709,
          4.709418837675351,
          4.749498997995991,
          4.7895791583166325,
          4.829659318637274,
          4.869739478957916,
          4.909819639278556,
          4.949899799599198,
          4.98997995991984,
          5.0300601202404795,
          5.070140280561121,
          5.110220440881763,
          5.150300601202405,
          5.190380761523045,
          5.230460921843687,
          5.270541082164328,
          5.31062124248497,
          5.35070140280561,
          5.390781563126252,
          5.430861723446894,
          5.470941883767534,
          5.511022044088175,
          5.551102204408817,
          5.591182364729459,
          5.631262525050099,
          5.671342685370741,
          5.7114228456913825,
          5.751503006012024,
          5.791583166332664,
          5.831663326653306,
          5.871743486973948,
          5.911823647294588,
          5.9519038076152295,
          5.991983967935871,
          6.032064128256511,
          6.072144288577153,
          6.112224448897795,
          6.152304609218437,
          6.192384769539078,
          6.23246492985972,
          6.272545090180358,
          6.312625250501,
          6.352705410821642,
          6.392785571142284,
          6.432865731462925,
          6.472945891783567,
          6.513026052104209,
          6.553106212424851,
          6.593186372745489,
          6.633266533066131,
          6.673346693386772,
          6.713426853707414,
          6.753507014028056,
          6.793587174348698,
          6.8336673346693395,
          6.873747494989978,
          6.9138276553106195,
          6.953907815631261,
          6.993987975951903,
          7.034068136272545,
          7.074148296593187,
          7.114228456913828,
          7.1543086172344665,
          7.194388777555108,
          7.23446893787575,
          7.274549098196392,
          7.314629258517034,
          7.354709418837675,
          7.394789579158317,
          7.434869739478959,
          7.474949899799597,
          7.515030060120239,
          7.555110220440881,
          7.595190380761522,
          7.635270541082164,
          7.675350701402806,
          7.715430861723448,
          7.755511022044086,
          7.795591182364728,
          7.8356713426853695,
          7.875751503006011,
          7.915831663326653,
          7.955911823647295,
          7.9959919839679365,
          8.036072144288575,
          8.076152304609217,
          8.116232464929858,
          8.1563126252505,
          8.196392785571142,
          8.236472945891784,
          8.276553106212425,
          8.316633266533067,
          8.356713426853705,
          8.396793587174347,
          8.436873747494989,
          8.47695390781563,
          8.517034068136272,
          8.557114228456914,
          8.597194388777556,
          8.637274549098194,
          8.677354709418836,
          8.717434869739478,
          8.75751503006012,
          8.797595190380761,
          8.837675350701403,
          8.877755511022045,
          8.917835671342683,
          8.957915831663325,
          8.997995991983966,
          9.038076152304608,
          9.07815631262525,
          9.118236472945892,
          9.158316633266534,
          9.198396793587175,
          9.238476953907814,
          9.278557114228455,
          9.318637274549097,
          9.358717434869739,
          9.39879759519038,
          9.438877755511022,
          9.478957915831664,
          9.519038076152302,
          9.559118236472944,
          9.599198396793586,
          9.639278557114228,
          9.67935871743487,
          9.719438877755511,
          9.759519038076153,
          9.799599198396791,
          9.839679358717433,
          9.879759519038075,
          9.919839679358716,
          9.959919839679358,
          10
         ],
         "y": [
          -118.71086583701096,
          -120.12586788784192,
          -121.51868812355329,
          -122.88816932802311,
          -124.23316367614606,
          -125.55253432270509,
          -126.84515699115784,
          -128.10992155925888,
          -129.3457336384114,
          -130.55151614362617,
          -131.72621085095264,
          -132.8687799392462,
          -133.9782075131401,
          -135.05350110410606,
          -136.0936931465074,
          -137.09784242557998,
          -138.06503549431437,
          -138.99438805625866,
          -139.88504631131647,
          -140.73618826167547,
          -141.5470249750744,
          -142.31680180269262,
          -143.04479954903115,
          -143.7303355912497,
          -144.3727649455201,
          -144.97148127806614,
          -145.52591785867145,
          -146.0355484545566,
          -146.49988816265255,
          -146.91849417842744,
          -147.29096649956088,
          -147.61694856290012,
          -147.89612781327847,
          -148.12823620292596,
          -148.31305062035452,
          -148.45039324775786,
          -148.54013184612407,
          -148.58217996742138,
          -148.57649709338006,
          -148.52308870055893,
          -148.4220062515501,
          -148.27334711234172,
          -148.07725439602436,
          -147.83391673319247,
          -147.54356796955642,
          -147.20648679144355,
          -146.82299628002815,
          -146.3934633952881,
          -145.9182983908423,
          -145.39795416097488,
          -144.83292552130115,
          -144.2237484246744,
          -143.57099911407298,
          -142.87529321434147,
          -142.1372847647899,
          -141.3576651947784,
          -140.53716224453308,
          -139.67653883354996,
          -138.7765918790493,
          -137.83815106704017,
          -136.86207757864668,
          -135.8492627744303,
          -134.80062683951928,
          -133.71711739242411,
          -132.5997080604786,
          -131.44939702489893,
          -130.26720553849714,
          -129.05417641912194,
          -127.81137252192838,
          -126.53987519359637,
          -125.24078271163266,
          -123.91520871189148,
          -122.5642806074468,
          -121.18913800193609,
          -119.79093110047549,
          -118.37081912121823,
          -116.92996871059286,
          -115.46955236521522,
          -113.99074686341795,
          -112.4947317092845,
          -110.98268759201099,
          -109.45579486335002,
          -107.91523203581318,
          -106.3621743042281,
          -104.7977920931584,
          -103.22324963260172,
          -101.63970356428365,
          -100.04830158076399,
          -98.45018109946486,
          -96.84646797362078,
          -95.23827524203698,
          -93.62670191942605,
          -92.01283182897473,
          -90.3977324786698,
          -88.78245398279012,
          -87.16802802984678,
          -85.5554668981275,
          -83.94576251987468,
          -82.33988559499983,
          -80.73878475511052,
          -79.14338577849882,
          -77.55459085661461,
          -75.97327791242309,
          -74.40029997092098,
          -72.83648458196673,
          -71.28263329545747,
          -69.73952118877143,
          -68.20789644627712,
          -66.68847999060141,
          -65.18196516523858,
          -63.68901746797755,
          -62.21027433452411,
          -60.746344971595875,
          -59.29781023867569,
          -57.86522257751838,
          -56.449105988422204,
          -55.049956052194595,
          -53.6682399966673,
          -52.30439680654356,
          -50.95883737529484,
          -49.63194469776302,
          -48.324074102066454,
          -47.03555351935936,
          -45.766683789944175,
          -44.517739004198695,
          -43.28896687674046,
          -42.080589152221314,
          -40.89280204111739,
          -39.725776683859095,
          -38.579659641627636,
          -37.45457341213371,
          -36.3506169686857,
          -35.26786632085133,
          -34.2063750950195,
          -33.1661751331726,
          -32.14727710819134,
          -31.149671154026016,
          -30.173327509087038,
          -29.218197171227402,
          -28.284212562715506,
          -27.37128820362349,
          -26.479321392088064,
          -25.608192889934397,
          -24.757767612189745,
          -23.927895319053903,
          -23.11841130893336,
          -22.329137111191567,
          -21.559881177311507,
          -20.810439569215767,
          -20.080596643536943,
          -19.370125730682492,
          -18.678789807588952,
          -18.006342163113473,
          -17.352527055063664,
          -16.717080357920555,
          -16.099730200364426,
          -15.50019759176732,
          -14.918197036871366,
          -14.353437137926482,
          -13.805621183615997,
          -13.274447724152445,
          -12.759611131980227,
          -12.26080214757444,
          -11.77770840987773,
          -11.310014970968991,
          -10.857404794607463,
          -10.419559238346373,
          -9.996158518957419,
          -9.586882160955563,
          -9.191409428058309,
          -8.809419737458782,
          -8.440593056833954,
          -8.084610284051216,
          -7.741153609575697,
          -7.409906861618771,
          -7.090555834104791,
          -6.782788597567049,
          -6.486295793117464,
          -6.200770909664836,
          -5.925910544586417,
          -5.661414648084478,
          -5.40698675148572,
          -5.162334179764823,
          -4.9271682485960575,
          -4.701204446256903,
          -4.484162600726413,
          -4.275767032338198,
          -4.0757466923628245,
          -3.8838352879084805,
          -3.6997713935404533,
          -3.5232985500306757,
          -3.3541653506574285,
          -3.1921255154828208,
          -3.0369379540416666,
          -2.888366816880161,
          -2.746181536385968,
          -2.610156857353523,
          -2.480072857729222,
          -2.3557149599807556,
          -2.2368739335337002,
          -2.1233458887157686,
          -2.0149322626459445,
          -1.9114397975012847,
          -1.8126805115889688,
          -1.7184716636451993,
          -1.6286357107758673,
          -1.543000260446277,
          -1.461398016919345,
          -1.3836667225328705,
          -1.3096490941974444,
          -1.2391927554867177,
          -1.1721501646818837,
          -1.1083785391215955,
          -1.0477397761979663,
          -0.9901003713280745,
          -0.9353313332192775,
          -0.883308096735149,
          -0.8339104336572394,
          -0.7870223616262124,
          -0.7425320515341524,
          -0.7003317336280834,
          -0.6603176025729235,
          -0.6223897217104479,
          -0.5864519267391243,
          -0.5524117290281917,
          -0.5201802187678726,
          -0.4896719681463825,
          -0.46080493473331124,
          -0.43350036523800134,
          -0.40768269980093147,
          -0.3832794769656134,
          -0.36022123946834217,
          -0.33844144097316897,
          -0.31787635386982915,
          -0.2984649782429582,
          -0.2801489521118573,
          -0.26287246303126954,
          -0.24658216113516374,
          -0.2312270736973674,
          -0.21675852127502143,
          -0.2031300354933293,
          -0.19029727852284953,
          -0.1782179642937145,
          -0.1668517814845681,
          -0.1561603183178043,
          -0.14610698918672413,
          -0.1366569631346444,
          -0.12777709420065542,
          -0.11943585364173866,
          -0.11160326403624331,
          -0.10425083526930082,
          -0.09735150239663541,
          -0.09087956537936812,
          -0.08481063067884599,
          -0.0791215546971901,
          -0.0737903890462149,
          -0.0687963276245408,
          -0.06411965548015436,
          -0.05974169943331379,
          -0.05564478043257636,
          -0.05181216761480678,
          -0.04822803403830728,
          -0.04487741405669714,
          -0.041746162299827624,
          -0.038820914226863824,
          -0.03608904821566493,
          -0.033538649151765465,
          -0.0311584734795691,
          -0.028937915677825114,
          -0.026866976121039242,
          -0.02493623028818732,
          -0.023136799279923806,
          -0.02146032160541359,
          -0.01989892619995257,
          -0.018445206634671904,
          -0.01709219647983821,
          -0.015833345783556507,
          -0.01466249862805288,
          -0.013573871726148906,
          -0.012562034021036816,
          -0.01162188725301377,
          -0.010748647457434635,
          -0.009937827358787309,
          -0.009185219626474703,
          -0.008486880958606965,
          -0.007839116960851529,
          -0.007238467788160991,
          -0.0066816945179902255,
          -0.006165766224424505,
          -0.0056878477234633676,
          -0.005245287960538938,
          -0.004835609012188096,
          -0.004456495674643778,
          -0.004105785612957797,
          -0.0037814600451133787,
          -0.003481634936429738,
          -0.0032045526803984384,
          -0.0029485742429228817,
          -0.0027121717477538846,
          -0.0024939214817266374,
          -0.0022924972992039478,
          -0.0021066644059176405,
          -0.0019352735031724062,
          -0.001777255274133882,
          -0.0016316151946639392,
          -0.0014974286518903163,
          -0.001373836354404803,
          -0.0012600400186728053,
          -0.0011552983169075934,
          -0.001058923072313869,
          -0.0009702756882379357,
          -0.0008887637983747802,
          -0.0008138381257764382,
          -0.0007449895389802746,
          -0.0006817462941311474,
          -0.0006236714525072234,
          -0.0005703604633759589,
          -0.0005214389026045894,
          -0.00047656035792862164,
          -0.000435404452242435,
          -0.00039767499671862895,
          -0.0003630982659874659,
          -0.0003314213880150312,
          -0.0003024108417088333,
          -0.0002758510556531081,
          -0.0002515431017333057,
          -0.00022930347775059598,
          -0.00020896297345325437,
          -0.00019036561472281558,
          -0.00017336768094944482,
          -0.0001578367909135195,
          -0.00014365105275934237,
          -0.0001306982739027902,
          -0.00011887522695791504,
          -0.00010808696799852328,
          -9.824620369008802e-05,
          -8.927270403535568e-05,
          -8.109275767422185e-05,
          -7.363866686523163e-05,
          -6.684827945290935e-05,
          -6.066455529240835e-05,
          -5.503516476113473e-05,
          -4.9912117136418904e-05,
          -4.525141675941543e-05,
          -4.101274503853477e-05,
          -3.715916647126389e-05,
          -3.36568569815563e-05,
          -3.047485298140878e-05,
          -2.7584819670149953e-05,
          -2.4960837183639204e-05,
          -2.2579203298357564e-05,
          -2.041825148254575e-05,
          -1.8458183168407523e-05,
          -1.6680913196225554e-05,
          -1.5069927453305699e-05,
          -1.3610151798222735e-05,
          -1.2287831424135646e-05,
          -1.109041987421498e-05,
          -1.0006476977692974e-05,
          -9.025575026934088e-06,
          -8.13821256442692e-06,
          -7.335735193920299e-06,
          -6.610262872247125e-06,
          -5.954623177881032e-06,
          -5.362290089117932e-06,
          -4.8273278391299325e-06,
          -4.344339447153726e-06,
          -3.908419554891318e-06,
          -3.5151112249580685e-06,
          -3.160366384037535e-06,
          -2.84050961741758e-06,
          -2.5522050439031413e-06,
          -2.2924260208371216e-06,
          -2.0584274482142846e-06,
          -1.8477204587415515e-06,
          -1.6580492972720986e-06,
          -1.4873702084074788e-06,
          -1.3338321653017065e-06,
          -1.19575928588992e-06,
          -1.0716347949744003e-06,
          -9.60086401898223e-07,
          -8.598729739860205e-07,
          -7.698723955902013e-07,
          -6.890705115058702e-07,
          -6.165510617598135e-07,
          -5.514865223872929e-07,
          -4.931297738300965e-07,
          -4.408065250631309e-07,
          -3.939084275242018e-07,
          -3.5188681841962886e-07,
          -3.1424703804166216e-07,
          -2.805432703942628e-07,
          -2.5037386071204793e-07,
          -2.2337706740058918e-07,
          -1.9922720955134058e-07,
          -1.7763117451503453e-07,
          -1.5832525307611811e-07,
          -1.4107227257864737e-07,
          -1.2565900093034335e-07,
          -1.118937967743088e-07,
          -9.960448328390332e-08,
          -8.863642502103542e-08,
          -7.885078911591049e-08,
          -7.012297369046687e-08,
          -6.234118797058299e-08,
          -5.540516992506345e-08,
          -4.922502854291994e-08,
          -4.372019902426566e-08,
          -3.8818500223280325e-08,
          -3.445528465235502e-08,
          -3.057267224247336e-08,
          -2.7118859863068893e-08,
          -2.4047499341573537e-08,
          -2.1317137394610692e-08,
          -1.8890711494795938e-08,
          -1.6735096254460852e-08,
          -1.482069541497846e-08,
          -1.3121074992016787e-08,
          -1.161263354693601e-08,
          -1.0274305936273001e-08,
          -9.087297238154615e-09,
          -8.034843869591483e-09,
          -7.101999194712686e-09,
          -6.2754411836791615e-09,
          -5.54329991758713e-09,
          -4.895002948307013e-09,
          -4.321136715845625e-09,
          -3.813322401275147e-09,
          -3.364104752181542e-09,
          -2.9668525614466762e-09,
          -2.6156696103654323e-09,
          -2.3053150048589504e-09,
          -2.031131940025562e-09,
          -1.7889840245057577e-09,
          -1.5751983830823716e-09,
          -1.3865148344531318e-09,
          -1.2200405119890204e-09,
          -1.0732093592457398e-09,
          -9.437459896788263e-10,
          -8.296334520196646e-10,
          -7.290844896391615e-10,
          -6.405159244484909e-10,
          -5.625258339070857e-10,
          -4.938732239315673e-10,
          -4.334599312919844e-10,
          -3.803145167767631e-10,
          -3.335779353060562e-10,
          -2.9249079154888835e-10,
          -2.563820096993928e-10,
          -2.2465876411635344e-10,
          -1.9679753373050222e-10,
          -1.723361576594007e-10,
          -1.5086678250614603e-10,
          -1.3202960350514673e-10,
          -1.1550731215188919e-10,
          -1.010201723356401e-10,
          -8.83216553952299e-11,
          -7.719457203774386e-11,
          -6.744764578815036e-11,
          -5.891247865534652e-11,
          -5.144086507991567e-11,
          -4.49024150366419e-11,
          -3.9182451459699506e-11,
          -3.418015099361217e-11,
          -2.980690049643279e-11,
          -2.5984844776133958e-11,
          -2.264560376560289e-11,
          -1.9729139770639664e-11,
          -1.7182757590111412e-11,
          -1.4960222235968878e-11,
          -1.3020980698240357e-11,
          -1.1329475728921981e-11,
          -9.854540979075023e-12,
          -8.568868033482221e-12,
          -7.44853696312726e-12,
          -6.4726029720214606e-12,
          -5.622732564506349e-12,
          -4.882883413697761e-12,
          -4.239022781599476e-12,
          -3.67887993586312e-12,
          -3.1917285355043094e-12,
          -2.7681954254906377e-12,
          -2.400092694610575e-12,
          -2.080270218294374e-12,
          -1.8024862333578204e-12,
          -1.5612937796517902e-12,
          -1.3519410985065167e-12,
          -1.1702843033781733e-12,
          -1.012710837546614e-12,
          -8.760724100280138e-13,
          -7.57626256674117e-13,
          -6.549837110658958e-13,
          -5.660651913455426e-13,
          -4.890608164098622e-13,
          -4.2239595954682015e-13,
          -3.6470113108818213e-13,
          -3.1478565526492683e-13,
          -2.716146713313368e-13,
          -2.342890461848745e-13,
          -2.0202783604952578e-13
         ]
        },
        {
         "mode": "lines",
         "name": "combination",
         "type": "scatter",
         "x": [
          -10,
          -9.959919839679358,
          -9.919839679358718,
          -9.879759519038076,
          -9.839679358717435,
          -9.799599198396793,
          -9.759519038076153,
          -9.719438877755511,
          -9.67935871743487,
          -9.639278557114228,
          -9.599198396793588,
          -9.559118236472946,
          -9.519038076152304,
          -9.478957915831664,
          -9.438877755511022,
          -9.39879759519038,
          -9.358717434869739,
          -9.318637274549099,
          -9.278557114228457,
          -9.238476953907815,
          -9.198396793587175,
          -9.158316633266534,
          -9.118236472945892,
          -9.07815631262525,
          -9.03807615230461,
          -8.997995991983968,
          -8.957915831663327,
          -8.917835671342685,
          -8.877755511022045,
          -8.837675350701403,
          -8.797595190380761,
          -8.75751503006012,
          -8.71743486973948,
          -8.677354709418838,
          -8.637274549098196,
          -8.597194388777556,
          -8.557114228456914,
          -8.517034068136272,
          -8.47695390781563,
          -8.43687374749499,
          -8.396793587174349,
          -8.356713426853707,
          -8.316633266533067,
          -8.276553106212425,
          -8.236472945891784,
          -8.196392785571142,
          -8.156312625250502,
          -8.11623246492986,
          -8.076152304609218,
          -8.036072144288577,
          -7.9959919839679365,
          -7.955911823647295,
          -7.915831663326653,
          -7.875751503006012,
          -7.835671342685371,
          -7.7955911823647295,
          -7.755511022044088,
          -7.715430861723447,
          -7.675350701402806,
          -7.635270541082164,
          -7.595190380761523,
          -7.555110220440882,
          -7.515030060120241,
          -7.474949899799599,
          -7.434869739478958,
          -7.394789579158317,
          -7.354709418837675,
          -7.314629258517034,
          -7.274549098196393,
          -7.234468937875752,
          -7.19438877755511,
          -7.154308617234469,
          -7.114228456913828,
          -7.074148296593187,
          -7.034068136272545,
          -6.993987975951904,
          -6.953907815631263,
          -6.913827655310621,
          -6.8737474949899795,
          -6.833667334669339,
          -6.793587174348698,
          -6.753507014028056,
          -6.713426853707415,
          -6.673346693386774,
          -6.6332665330661325,
          -6.593186372745491,
          -6.55310621242485,
          -6.513026052104209,
          -6.472945891783567,
          -6.432865731462925,
          -6.3927855711422845,
          -6.352705410821644,
          -6.312625250501002,
          -6.272545090180361,
          -6.23246492985972,
          -6.192384769539078,
          -6.152304609218437,
          -6.112224448897796,
          -6.072144288577155,
          -6.032064128256513,
          -5.991983967935872,
          -5.95190380761523,
          -5.9118236472945895,
          -5.871743486973948,
          -5.831663326653307,
          -5.791583166332665,
          -5.751503006012024,
          -5.711422845691383,
          -5.671342685370742,
          -5.631262525050101,
          -5.591182364729459,
          -5.551102204408818,
          -5.511022044088176,
          -5.470941883767535,
          -5.430861723446894,
          -5.390781563126253,
          -5.350701402805611,
          -5.31062124248497,
          -5.270541082164329,
          -5.2304609218436875,
          -5.190380761523047,
          -5.150300601202405,
          -5.110220440881764,
          -5.070140280561122,
          -5.030060120240481,
          -4.98997995991984,
          -4.949899799599199,
          -4.909819639278557,
          -4.869739478957916,
          -4.829659318637275,
          -4.789579158316633,
          -4.7494989979959925,
          -4.709418837675351,
          -4.66933867735471,
          -4.629258517034068,
          -4.589178356713427,
          -4.5490981963927855,
          -4.509018036072145,
          -4.468937875751503,
          -4.428857715430862,
          -4.388777555110221,
          -4.348697394789579,
          -4.308617234468938,
          -4.268537074148297,
          -4.228456913827656,
          -4.188376753507014,
          -4.148296593186373,
          -4.108216432865731,
          -4.0681362725450905,
          -4.028056112224449,
          -3.987975951903808,
          -3.947895791583167,
          -3.907815631262525,
          -3.8677354709418843,
          -3.8276553106212425,
          -3.7875751503006017,
          -3.74749498997996,
          -3.707414829659319,
          -3.6673346693386772,
          -3.6272545090180364,
          -3.5871743486973955,
          -3.5470941883767537,
          -3.507014028056113,
          -3.466933867735471,
          -3.42685370741483,
          -3.3867735470941884,
          -3.3466933867735476,
          -3.306613226452906,
          -3.266533066132265,
          -3.226452905811623,
          -3.1863727454909823,
          -3.1462925851703414,
          -3.1062124248496996,
          -3.0661322645290587,
          -3.026052104208417,
          -2.985971943887776,
          -2.9458917835671343,
          -2.9058116232464934,
          -2.8657314629258517,
          -2.825651302605211,
          -2.785571142284569,
          -2.745490981963928,
          -2.7054108216432873,
          -2.6653306613226455,
          -2.6252505010020046,
          -2.585170340681363,
          -2.545090180360722,
          -2.50501002004008,
          -2.4649298597194393,
          -2.4248496993987976,
          -2.3847695390781567,
          -2.344689378757515,
          -2.304609218436874,
          -2.264529058116233,
          -2.2244488977955914,
          -2.1843687374749505,
          -2.1442885771543088,
          -2.104208416833668,
          -2.064128256513026,
          -2.0240480961923852,
          -1.9839679358717444,
          -1.9438877755511026,
          -1.9038076152304608,
          -1.8637274549098208,
          -1.823647294589179,
          -1.7835671342685373,
          -1.7434869739478955,
          -1.7034068136272555,
          -1.6633266533066138,
          -1.623246492985972,
          -1.5831663326653302,
          -1.5430861723446903,
          -1.5030060120240485,
          -1.4629258517034067,
          -1.4228456913827667,
          -1.382765531062125,
          -1.3426853707414832,
          -1.3026052104208414,
          -1.2625250501002014,
          -1.2224448897795597,
          -1.182364729458918,
          -1.1422845691382761,
          -1.1022044088176361,
          -1.0621242484969944,
          -1.0220440881763526,
          -0.9819639278557126,
          -0.9418837675350709,
          -0.9018036072144291,
          -0.8617234468937873,
          -0.8216432865731473,
          -0.7815631262525056,
          -0.7414829659318638,
          -0.701402805611222,
          -0.661322645290582,
          -0.6212424849699403,
          -0.5811623246492985,
          -0.5410821643286585,
          -0.5010020040080168,
          -0.460921843687375,
          -0.4208416833667332,
          -0.38076152304609323,
          -0.34068136272545146,
          -0.3006012024048097,
          -0.26052104208416793,
          -0.22044088176352794,
          -0.18036072144288617,
          -0.1402805611222444,
          -0.10020040080160442,
          -0.06012024048096265,
          -0.020040080160320883,
          0.020040080160320883,
          0.060120240480960874,
          0.10020040080160264,
          0.1402805611222444,
          0.18036072144288617,
          0.22044088176352616,
          0.26052104208416793,
          0.3006012024048097,
          0.3406813627254497,
          0.38076152304609145,
          0.4208416833667332,
          0.460921843687375,
          0.501002004008015,
          0.5410821643286567,
          0.5811623246492985,
          0.6212424849699403,
          0.6613226452905803,
          0.701402805611222,
          0.7414829659318638,
          0.7815631262525038,
          0.8216432865731456,
          0.8617234468937873,
          0.9018036072144291,
          0.9418837675350691,
          0.9819639278557108,
          1.0220440881763526,
          1.0621242484969944,
          1.1022044088176344,
          1.1422845691382761,
          1.182364729458918,
          1.222444889779558,
          1.2625250501001997,
          1.3026052104208414,
          1.3426853707414832,
          1.3827655310621232,
          1.422845691382765,
          1.4629258517034067,
          1.5030060120240485,
          1.5430861723446885,
          1.5831663326653302,
          1.623246492985972,
          1.663326653306612,
          1.7034068136272538,
          1.7434869739478955,
          1.7835671342685373,
          1.8236472945891773,
          1.863727454909819,
          1.9038076152304608,
          1.9438877755511026,
          1.9839679358717426,
          2.0240480961923843,
          2.064128256513026,
          2.104208416833666,
          2.144288577154308,
          2.1843687374749496,
          2.2244488977955914,
          2.2645290581162314,
          2.304609218436873,
          2.344689378757515,
          2.3847695390781567,
          2.4248496993987967,
          2.4649298597194385,
          2.50501002004008,
          2.54509018036072,
          2.585170340681362,
          2.6252505010020037,
          2.6653306613226455,
          2.7054108216432855,
          2.7454909819639273,
          2.785571142284569,
          2.825651302605209,
          2.865731462925851,
          2.9058116232464926,
          2.9458917835671343,
          2.9859719438877743,
          3.026052104208416,
          3.066132264529058,
          3.1062124248496996,
          3.1462925851703396,
          3.1863727454909814,
          3.226452905811623,
          3.266533066132263,
          3.306613226452905,
          3.3466933867735467,
          3.3867735470941884,
          3.4268537074148284,
          3.46693386773547,
          3.507014028056112,
          3.5470941883767537,
          3.5871743486973937,
          3.6272545090180355,
          3.6673346693386772,
          3.7074148296593172,
          3.747494989979959,
          3.7875751503006008,
          3.8276553106212425,
          3.8677354709418825,
          3.9078156312625243,
          3.947895791583166,
          3.987975951903808,
          4.028056112224448,
          4.06813627254509,
          4.108216432865731,
          4.148296593186371,
          4.188376753507013,
          4.228456913827655,
          4.268537074148297,
          4.308617234468937,
          4.348697394789578,
          4.38877755511022,
          4.428857715430862,
          4.468937875751502,
          4.509018036072144,
          4.5490981963927855,
          4.589178356713425,
          4.629258517034067,
          4.669338677354709,
          4.709418837675351,
          4.749498997995991,
          4.7895791583166325,
          4.829659318637274,
          4.869739478957916,
          4.909819639278556,
          4.949899799599198,
          4.98997995991984,
          5.0300601202404795,
          5.070140280561121,
          5.110220440881763,
          5.150300601202405,
          5.190380761523045,
          5.230460921843687,
          5.270541082164328,
          5.31062124248497,
          5.35070140280561,
          5.390781563126252,
          5.430861723446894,
          5.470941883767534,
          5.511022044088175,
          5.551102204408817,
          5.591182364729459,
          5.631262525050099,
          5.671342685370741,
          5.7114228456913825,
          5.751503006012024,
          5.791583166332664,
          5.831663326653306,
          5.871743486973948,
          5.911823647294588,
          5.9519038076152295,
          5.991983967935871,
          6.032064128256511,
          6.072144288577153,
          6.112224448897795,
          6.152304609218437,
          6.192384769539078,
          6.23246492985972,
          6.272545090180358,
          6.312625250501,
          6.352705410821642,
          6.392785571142284,
          6.432865731462925,
          6.472945891783567,
          6.513026052104209,
          6.553106212424851,
          6.593186372745489,
          6.633266533066131,
          6.673346693386772,
          6.713426853707414,
          6.753507014028056,
          6.793587174348698,
          6.8336673346693395,
          6.873747494989978,
          6.9138276553106195,
          6.953907815631261,
          6.993987975951903,
          7.034068136272545,
          7.074148296593187,
          7.114228456913828,
          7.1543086172344665,
          7.194388777555108,
          7.23446893787575,
          7.274549098196392,
          7.314629258517034,
          7.354709418837675,
          7.394789579158317,
          7.434869739478959,
          7.474949899799597,
          7.515030060120239,
          7.555110220440881,
          7.595190380761522,
          7.635270541082164,
          7.675350701402806,
          7.715430861723448,
          7.755511022044086,
          7.795591182364728,
          7.8356713426853695,
          7.875751503006011,
          7.915831663326653,
          7.955911823647295,
          7.9959919839679365,
          8.036072144288575,
          8.076152304609217,
          8.116232464929858,
          8.1563126252505,
          8.196392785571142,
          8.236472945891784,
          8.276553106212425,
          8.316633266533067,
          8.356713426853705,
          8.396793587174347,
          8.436873747494989,
          8.47695390781563,
          8.517034068136272,
          8.557114228456914,
          8.597194388777556,
          8.637274549098194,
          8.677354709418836,
          8.717434869739478,
          8.75751503006012,
          8.797595190380761,
          8.837675350701403,
          8.877755511022045,
          8.917835671342683,
          8.957915831663325,
          8.997995991983966,
          9.038076152304608,
          9.07815631262525,
          9.118236472945892,
          9.158316633266534,
          9.198396793587175,
          9.238476953907814,
          9.278557114228455,
          9.318637274549097,
          9.358717434869739,
          9.39879759519038,
          9.438877755511022,
          9.478957915831664,
          9.519038076152302,
          9.559118236472944,
          9.599198396793586,
          9.639278557114228,
          9.67935871743487,
          9.719438877755511,
          9.759519038076153,
          9.799599198396791,
          9.839679358717433,
          9.879759519038075,
          9.919839679358716,
          9.959919839679358,
          10
         ],
         "y": [
          -117.99182600798851,
          -119.36590359988438,
          -120.71572811359174,
          -122.04005354609414,
          -123.3376404164934,
          -124.6072573145119,
          -125.84768245144032,
          -127.0577052106672,
          -128.23612769490532,
          -129.38176626721955,
          -130.4934530829522,
          -131.57003760964687,
          -132.61038813207955,
          -133.61339323952558,
          -134.57796329241478,
          -135.50303186556076,
          -136.38755716519145,
          -137.23052341705608,
          -138.03094222293979,
          -138.78785388297888,
          -139.50032868124305,
          -140.167468132125,
          -140.7884061851633,
          -141.3623103860161,
          -141.8883829913983,
          -142.36586203589863,
          -142.7940223487025,
          -143.17217651835855,
          -143.49967580384865,
          -143.775910990342,
          -144.00031318814436,
          -144.1723545734838,
          -144.291549069911,
          -144.35745296922977,
          -144.36966549101484,
          -144.32782927991778,
          -144.23163084010588,
          -144.08080090632663,
          -143.87511475123543,
          -143.61439242877393,
          -143.2984989535315,
          -142.92734441617063,
          -142.50088403514124,
          -142.01911814505382,
          -141.48209212222275,
          -140.8898962480303,
          -140.24266551089983,
          -139.54057934779743,
          -138.7838613263132,
          -137.97277876849714,
          -137.10764231774533,
          -136.18880545014855,
          -135.21666393182585,
          -134.1916552238695,
          -133.11425783662804,
          -131.984990635146,
          -130.8044120976656,
          -129.57311952917476,
          -128.29174823205923,
          -126.96097063598124,
          -125.58149538916649,
          -124.15406641333091,
          -122.67946192452325,
          -121.15849342219462,
          -119.59200464883467,
          -117.98087052253487,
          -116.32599604485222,
          -114.62831518635224,
          -112.88878975220845,
          -111.1084082302252,
          -109.28818462363594,
          -107.42915727100382,
          -105.53238765552081,
          -103.5989592059659,
          -101.62997609153774,
          -99.62656201272733,
          -97.58985899034114,
          -95.52102615472324,
          -93.42123853715816,
          -91.29168586536429,
          -89.13357136491175,
          -86.948110568318,
          -84.73653013348964,
          -82.50006667309076,
          -80.23996559632849,
          -77.95747996455164,
          -75.65386936196212,
          -73.33039878264309,
          -70.98833753500679,
          -68.62895816466686,
          -66.25353539663755,
          -63.86334509766381,
          -61.45966325938526,
          -59.04376500293714,
          -56.6169236054938,
          -54.18040954916408,
          -51.73548959255236,
          -49.2834258652073,
          -46.82547498509047,
          -44.36288719911119,
          -41.896905546689915,
          -39.428765046232925,
          -36.95969190432721,
          -34.49090274739038,
          -32.02360387544735,
          -29.55899053763948,
          -27.098246229018834,
          -24.642542008124593,
          -22.19303583479509,
          -19.75087192762573,
          -17.31718014044739,
          -14.89307535717122,
          -12.479656904319114,
          -10.078007980542154,
          -7.689195102414423,
          -5.314267565783702,
          -2.954256921956592,
          -0.610176468001562,
          1.7169792495404792,
          4.026234918231651,
          6.316634931274166,
          8.587243847660893,
          10.837146841559445,
          13.065450141520259,
          15.271281460056436,
          17.453790414105335,
          19.612148936832185,
          21.745551681189816,
          23.853216415592506,
          25.934384412009443,
          27.988320826722358,
          30.014315073932423,
          32.01168119233957,
          33.97975820475097,
          35.91791047071281,
          37.82552803209027,
          39.70202695145628,
          41.54684964308013,
          43.35946519624234,
          45.139369690533584,
          46.88608650273204,
          48.59916660478737,
          50.278188852377966,
          51.922760263447394,
          53.532516286065615,
          55.10712105490748,
          56.64626763558441,
          58.14967825601795,
          59.61710452399509,
          61.04832763000356,
          62.44315853440524,
          63.801438137971715,
          65.12303743477423,
          66.40785764639482,
          67.65583033640462,
          68.86691750403634,
          70.04111165596963,
          71.1784358551379,
          72.27894374546719,
          73.34271955145817,
          74.3698780515347,
          75.3605645240936,
          76.31495466521301,
          77.233254476999,
          78.11570012558245,
          78.96255776781237,
          79.77412334573242,
          80.55072234797386,
          81.29270953724713,
          82.00046864317078,
          82.67441201973462,
          83.31498026676022,
          83.92264181478743,
          84.49789247289073,
          85.04125493900315,
          85.55327827240629,
          86.034537328128,
          86.48563215307406,
          86.90718734381062,
          87.29985136600408,
          87.66429583561896,
          88.00121476206976,
          88.31132375361958,
          88.59535918541569,
          88.85407733065298,
          89.08825345545425,
          89.29868087815672,
          89.48616999379573,
          89.65154726467328,
          89.79565417800127,
          89.91934617170497,
          90.02349152957025,
          90.10897024701295,
          90.17667286884166,
          90.2274993004769,
          90.26235759417746,
          90.28216271191084,
          90.28783526658727,
          90.28030024345618,
          90.26048570353942,
          90.22932147104778,
          90.18773780679501,
          90.13666406968714,
          90.07702736842343,
          90.00975120560072,
          89.93575411646094,
          89.8559483045672,
          89.77123827673235,
          89.68251947955767,
          89.59067693996884,
          89.49658391215728,
          89.40110053335417,
          89.30507249087452,
          89.20932970287481,
          89.1146850152677,
          89.02193291723094,
          88.93184827773632,
          88.84518510550582,
          88.76267533477956,
          88.68502763925015,
          88.61292627648311,
          88.54702996510218,
          88.4879707969718,
          88.43635318655774,
          88.3927528595884,
          88.35771588307814,
          88.33175773870497,
          88.31536244146335,
          88.30898170543473,
          88.31303415843642,
          88.3279046072233,
          88.35394335482516,
          88.39146557150889,
          88.44075072075485,
          88.50204204153539,
          88.57554608807766,
          88.66143232818395,
          88.75983280107181,
          88.87084183558186,
          88.99451582948464,
          89.13087309049999,
          89.27989373952181,
          89.44151967641977,
          89.6156546086667,
          89.80216414291661,
          90.00087593953434,
          90.21157992995305,
          90.43402859661151,
          90.66793731509881,
          90.91298475801057,
          91.16881335989815,
          91.43502984257071,
          91.71120579989045,
          91.99687834108227,
          92.29155079146432,
          92.59469344939087,
          92.90574439808847,
          93.22411037095829,
          93.54916766881179,
          93.8802631274061,
          94.21671513354646,
          94.55781468793039,
          94.90282651281646,
          95.25099020251726,
          95.60152141463242,
          95.95361309986394,
          96.30643676818282,
          96.65914378905046,
          97.01086672333761,
          97.3607206845275,
          97.70780472674052,
          98.05120325707257,
          98.38998746970168,
          98.72321679918409,
          99.04994039033456,
          99.36919858206448,
          99.68002440253755,
          99.98144507299268,
          100.27248351758266,
          100.55215987657901,
          100.81949302030431,
          101.0735020611674,
          101.31320786119905,
          101.53763453251216,
          101.74581092814408,
          101.93677212077665,
          102.10956086687328,
          102.26322905382304,
          102.39683912773464,
          102.50946549958385,
          102.60019592748236,
          102.66813287290425,
          102.71239482878126,
          102.73211761745402,
          102.72645565654983,
          102.69458319094134,
          102.635695489031,
          102.54901000169647,
          102.43376748232848,
          102.28923306648943,
          102.1146973098211,
          101.90947718293154,
          101.67291702209494,
          101.40438943470325,
          101.10329615851384,
          100.76906887384524,
          100.40116996797909,
          99.99909325113438,
          99.56236462348762,
          99.090542692818,
          98.58321934246355,
          98.04002024937851,
          97.46060535218558,
          96.84466926921779,
          96.19194166664491,
          95.50218757687664,
          94.77520766752855,
          94.01083846133001,
          93.20895250744117,
          92.36945850473256,
          91.4923013776625,
          90.57746230546523,
          89.62495870543997,
          88.63484417119739,
          87.60720836679091,
          86.54217687771826,
          85.43991101983961,
          84.30060760730858,
          83.12449868066359,
          81.9118511962682,
          80.66296667833018,
          79.37818083476151,
          78.05786313817146,
          76.70241637331058,
          75.31227615230107,
          73.88791039900633,
          72.42981880390164,
          70.93853225081536,
          69.41461221690967,
          67.85865014726933,
          66.27126680545828,
          64.65311160139493,
          63.00486189788014,
          61.3272222970946,
          59.62092390836187,
          57.88672359844475,
          56.125403225617916,
          54.337768858726676,
          52.52464998240968,
          50.686898689625465,
          48.82538886258691,
          46.94101534316637,
          45.03469309379401,
          43.107356349828,
          41.159957764332084,
          39.19346754615283,
          37.2088725921413,
          35.20717561432109,
          33.18939426275798,
          31.156560244843707,
          29.1097184416587,
          27.049926022038488,
          24.97825155492388,
          22.8957741205356,
          20.803582420871948,
          18.70277388999182,
          16.594453804509936,
          14.47973439469413,
          12.35973395652563,
          10.235575965051991,
          8.108388189336983,
          5.9793018092850785,
          3.849450534599033,
          1.719969726108374,
          -0.4080044803065984,
          -2.5333360469873774,
          -4.6548899047651515,
          -6.771532820029534,
          -8.882134258410833,
          -10.985567244884873,
          -13.080709220111158,
          -15.166442892806243,
          -17.24165708795064,
          -19.30524759061268,
          -21.356117985162733,
          -23.39318048963203,
          -25.41535678495601,
          -27.421578838818363,
          -29.41078972378946,
          -31.381944429431442,
          -33.33401066801169,
          -35.265969673442086,
          -37.17681699302942,
          -39.06556327159516,
          -40.931235027488476,
          -42.77287541998746,
          -44.589545007548146,
          -46.38032249633205,
          -48.1443054784078,
          -49.880611158990845,
          -51.58837707205512,
          -53.26676178361855,
          -54.914945581973605,
          -56.532131154108704,
          -58.1175442475355,
          -59.67043431671483,
          -61.19007515324875,
          -62.67576549898667,
          -64.1268296411717,
          -65.5426179887415,
          -66.92250762888003,
          -68.26590286290794,
          -69.57223572059188,
          -70.8409664519472,
          -72.07158399560828,
          -73.26360642284331,
          -74.41658135629365,
          -75.5300863625312,
          -76.60372931753643,
          -77.63714874421838,
          -78.63001412111774,
          -79.58202616145857,
          -80.49291706174218,
          -81.36245071910668,
          -82.19042291671435,
          -82.97666147646386,
          -83.72102637836977,
          -84.42340984599622,
          -85.0837363973807,
          -85.70196286093761,
          -86.2780783558841,
          -86.81210423679244,
          -87.30409400193103,
          -87.75413316512196,
          -88.16233909090771,
          -88.52886079288893,
          -88.85387869516373,
          -89.13760435687237,
          -89.38028015992333,
          -89.58217896005134,
          -89.7436037014343,
          -89.8648869951708,
          -89.94639066199782,
          -89.98850523970391,
          -89.9916494557712,
          -89.95626966585438,
          -89.88283925878235,
          -89.77185802884138,
          -89.62385151617397,
          -89.43937031619896,
          -89.21898935902978,
          -88.96330715993595,
          -88.67294504196063,
          -88.34854633187024,
          -87.99077553067447,
          -87.60031746001435,
          -87.17787638577066,
          -86.7241751202992,
          -86.2399541047472,
          -85.72597047295204,
          -85.18299709846507,
          -84.6118216262805,
          -84.01324549088521,
          -83.3880829222736,
          -82.73715994159862,
          -82.06131334815092,
          -81.36138969937488,
          -80.63824428564511,
          -79.89274010153166,
          -79.12574681528952,
          -78.33813973830561,
          -77.53079879623128,
          -76.70460750351985,
          -75.86045194307349,
          -74.99921975268741,
          -74.12179911995467,
          -73.22907778727021,
          -72.32194206854092,
          -71.40127587917499,
          -70.46795978088426,
          -69.52287004279238,
          -68.56687772029483,
          -67.60084775307035,
          -66.6256380835874,
          -65.64209879739836,
          -64.65107128645344,
          -63.653387436607474,
          -62.64986884042882,
          -61.64132603635533,
          -60.62855777517559,
          -59.61235031474343,
          -58.59347674376533,
          -57.57269633542749,
          -56.55075393155722,
          -55.52837935793989,
          -54.506286871337544,
          -53.485174638683475,
          -52.46572424884821,
          -51.44860025730184,
          -50.4344497639208
         ]
        }
       ],
       "layout": {
        "template": {
         "data": {
          "bar": [
           {
            "error_x": {
             "color": "#2a3f5f"
            },
            "error_y": {
             "color": "#2a3f5f"
            },
            "marker": {
             "line": {
              "color": "#E5ECF6",
              "width": 0.5
             }
            },
            "type": "bar"
           }
          ],
          "barpolar": [
           {
            "marker": {
             "line": {
              "color": "#E5ECF6",
              "width": 0.5
             }
            },
            "type": "barpolar"
           }
          ],
          "carpet": [
           {
            "aaxis": {
             "endlinecolor": "#2a3f5f",
             "gridcolor": "white",
             "linecolor": "white",
             "minorgridcolor": "white",
             "startlinecolor": "#2a3f5f"
            },
            "baxis": {
             "endlinecolor": "#2a3f5f",
             "gridcolor": "white",
             "linecolor": "white",
             "minorgridcolor": "white",
             "startlinecolor": "#2a3f5f"
            },
            "type": "carpet"
           }
          ],
          "choropleth": [
           {
            "colorbar": {
             "outlinewidth": 0,
             "ticks": ""
            },
            "type": "choropleth"
           }
          ],
          "contour": [
           {
            "colorbar": {
             "outlinewidth": 0,
             "ticks": ""
            },
            "colorscale": [
             [
              0,
              "#0d0887"
             ],
             [
              0.1111111111111111,
              "#46039f"
             ],
             [
              0.2222222222222222,
              "#7201a8"
             ],
             [
              0.3333333333333333,
              "#9c179e"
             ],
             [
              0.4444444444444444,
              "#bd3786"
             ],
             [
              0.5555555555555556,
              "#d8576b"
             ],
             [
              0.6666666666666666,
              "#ed7953"
             ],
             [
              0.7777777777777778,
              "#fb9f3a"
             ],
             [
              0.8888888888888888,
              "#fdca26"
             ],
             [
              1,
              "#f0f921"
             ]
            ],
            "type": "contour"
           }
          ],
          "contourcarpet": [
           {
            "colorbar": {
             "outlinewidth": 0,
             "ticks": ""
            },
            "type": "contourcarpet"
           }
          ],
          "heatmap": [
           {
            "colorbar": {
             "outlinewidth": 0,
             "ticks": ""
            },
            "colorscale": [
             [
              0,
              "#0d0887"
             ],
             [
              0.1111111111111111,
              "#46039f"
             ],
             [
              0.2222222222222222,
              "#7201a8"
             ],
             [
              0.3333333333333333,
              "#9c179e"
             ],
             [
              0.4444444444444444,
              "#bd3786"
             ],
             [
              0.5555555555555556,
              "#d8576b"
             ],
             [
              0.6666666666666666,
              "#ed7953"
             ],
             [
              0.7777777777777778,
              "#fb9f3a"
             ],
             [
              0.8888888888888888,
              "#fdca26"
             ],
             [
              1,
              "#f0f921"
             ]
            ],
            "type": "heatmap"
           }
          ],
          "heatmapgl": [
           {
            "colorbar": {
             "outlinewidth": 0,
             "ticks": ""
            },
            "colorscale": [
             [
              0,
              "#0d0887"
             ],
             [
              0.1111111111111111,
              "#46039f"
             ],
             [
              0.2222222222222222,
              "#7201a8"
             ],
             [
              0.3333333333333333,
              "#9c179e"
             ],
             [
              0.4444444444444444,
              "#bd3786"
             ],
             [
              0.5555555555555556,
              "#d8576b"
             ],
             [
              0.6666666666666666,
              "#ed7953"
             ],
             [
              0.7777777777777778,
              "#fb9f3a"
             ],
             [
              0.8888888888888888,
              "#fdca26"
             ],
             [
              1,
              "#f0f921"
             ]
            ],
            "type": "heatmapgl"
           }
          ],
          "histogram": [
           {
            "marker": {
             "colorbar": {
              "outlinewidth": 0,
              "ticks": ""
             }
            },
            "type": "histogram"
           }
          ],
          "histogram2d": [
           {
            "colorbar": {
             "outlinewidth": 0,
             "ticks": ""
            },
            "colorscale": [
             [
              0,
              "#0d0887"
             ],
             [
              0.1111111111111111,
              "#46039f"
             ],
             [
              0.2222222222222222,
              "#7201a8"
             ],
             [
              0.3333333333333333,
              "#9c179e"
             ],
             [
              0.4444444444444444,
              "#bd3786"
             ],
             [
              0.5555555555555556,
              "#d8576b"
             ],
             [
              0.6666666666666666,
              "#ed7953"
             ],
             [
              0.7777777777777778,
              "#fb9f3a"
             ],
             [
              0.8888888888888888,
              "#fdca26"
             ],
             [
              1,
              "#f0f921"
             ]
            ],
            "type": "histogram2d"
           }
          ],
          "histogram2dcontour": [
           {
            "colorbar": {
             "outlinewidth": 0,
             "ticks": ""
            },
            "colorscale": [
             [
              0,
              "#0d0887"
             ],
             [
              0.1111111111111111,
              "#46039f"
             ],
             [
              0.2222222222222222,
              "#7201a8"
             ],
             [
              0.3333333333333333,
              "#9c179e"
             ],
             [
              0.4444444444444444,
              "#bd3786"
             ],
             [
              0.5555555555555556,
              "#d8576b"
             ],
             [
              0.6666666666666666,
              "#ed7953"
             ],
             [
              0.7777777777777778,
              "#fb9f3a"
             ],
             [
              0.8888888888888888,
              "#fdca26"
             ],
             [
              1,
              "#f0f921"
             ]
            ],
            "type": "histogram2dcontour"
           }
          ],
          "mesh3d": [
           {
            "colorbar": {
             "outlinewidth": 0,
             "ticks": ""
            },
            "type": "mesh3d"
           }
          ],
          "parcoords": [
           {
            "line": {
             "colorbar": {
              "outlinewidth": 0,
              "ticks": ""
             }
            },
            "type": "parcoords"
           }
          ],
          "scatter": [
           {
            "marker": {
             "colorbar": {
              "outlinewidth": 0,
              "ticks": ""
             }
            },
            "type": "scatter"
           }
          ],
          "scatter3d": [
           {
            "line": {
             "colorbar": {
              "outlinewidth": 0,
              "ticks": ""
             }
            },
            "marker": {
             "colorbar": {
              "outlinewidth": 0,
              "ticks": ""
             }
            },
            "type": "scatter3d"
           }
          ],
          "scattercarpet": [
           {
            "marker": {
             "colorbar": {
              "outlinewidth": 0,
              "ticks": ""
             }
            },
            "type": "scattercarpet"
           }
          ],
          "scattergeo": [
           {
            "marker": {
             "colorbar": {
              "outlinewidth": 0,
              "ticks": ""
             }
            },
            "type": "scattergeo"
           }
          ],
          "scattergl": [
           {
            "marker": {
             "colorbar": {
              "outlinewidth": 0,
              "ticks": ""
             }
            },
            "type": "scattergl"
           }
          ],
          "scattermapbox": [
           {
            "marker": {
             "colorbar": {
              "outlinewidth": 0,
              "ticks": ""
             }
            },
            "type": "scattermapbox"
           }
          ],
          "scatterpolar": [
           {
            "marker": {
             "colorbar": {
              "outlinewidth": 0,
              "ticks": ""
             }
            },
            "type": "scatterpolar"
           }
          ],
          "scatterpolargl": [
           {
            "marker": {
             "colorbar": {
              "outlinewidth": 0,
              "ticks": ""
             }
            },
            "type": "scatterpolargl"
           }
          ],
          "scatterternary": [
           {
            "marker": {
             "colorbar": {
              "outlinewidth": 0,
              "ticks": ""
             }
            },
            "type": "scatterternary"
           }
          ],
          "surface": [
           {
            "colorbar": {
             "outlinewidth": 0,
             "ticks": ""
            },
            "colorscale": [
             [
              0,
              "#0d0887"
             ],
             [
              0.1111111111111111,
              "#46039f"
             ],
             [
              0.2222222222222222,
              "#7201a8"
             ],
             [
              0.3333333333333333,
              "#9c179e"
             ],
             [
              0.4444444444444444,
              "#bd3786"
             ],
             [
              0.5555555555555556,
              "#d8576b"
             ],
             [
              0.6666666666666666,
              "#ed7953"
             ],
             [
              0.7777777777777778,
              "#fb9f3a"
             ],
             [
              0.8888888888888888,
              "#fdca26"
             ],
             [
              1,
              "#f0f921"
             ]
            ],
            "type": "surface"
           }
          ],
          "table": [
           {
            "cells": {
             "fill": {
              "color": "#EBF0F8"
             },
             "line": {
              "color": "white"
             }
            },
            "header": {
             "fill": {
              "color": "#C8D4E3"
             },
             "line": {
              "color": "white"
             }
            },
            "type": "table"
           }
          ]
         },
         "layout": {
          "annotationdefaults": {
           "arrowcolor": "#2a3f5f",
           "arrowhead": 0,
           "arrowwidth": 1
          },
          "colorscale": {
           "diverging": [
            [
             0,
             "#8e0152"
            ],
            [
             0.1,
             "#c51b7d"
            ],
            [
             0.2,
             "#de77ae"
            ],
            [
             0.3,
             "#f1b6da"
            ],
            [
             0.4,
             "#fde0ef"
            ],
            [
             0.5,
             "#f7f7f7"
            ],
            [
             0.6,
             "#e6f5d0"
            ],
            [
             0.7,
             "#b8e186"
            ],
            [
             0.8,
             "#7fbc41"
            ],
            [
             0.9,
             "#4d9221"
            ],
            [
             1,
             "#276419"
            ]
           ],
           "sequential": [
            [
             0,
             "#0d0887"
            ],
            [
             0.1111111111111111,
             "#46039f"
            ],
            [
             0.2222222222222222,
             "#7201a8"
            ],
            [
             0.3333333333333333,
             "#9c179e"
            ],
            [
             0.4444444444444444,
             "#bd3786"
            ],
            [
             0.5555555555555556,
             "#d8576b"
            ],
            [
             0.6666666666666666,
             "#ed7953"
            ],
            [
             0.7777777777777778,
             "#fb9f3a"
            ],
            [
             0.8888888888888888,
             "#fdca26"
            ],
            [
             1,
             "#f0f921"
            ]
           ],
           "sequentialminus": [
            [
             0,
             "#0d0887"
            ],
            [
             0.1111111111111111,
             "#46039f"
            ],
            [
             0.2222222222222222,
             "#7201a8"
            ],
            [
             0.3333333333333333,
             "#9c179e"
            ],
            [
             0.4444444444444444,
             "#bd3786"
            ],
            [
             0.5555555555555556,
             "#d8576b"
            ],
            [
             0.6666666666666666,
             "#ed7953"
            ],
            [
             0.7777777777777778,
             "#fb9f3a"
            ],
            [
             0.8888888888888888,
             "#fdca26"
            ],
            [
             1,
             "#f0f921"
            ]
           ]
          },
          "colorway": [
           "#636efa",
           "#EF553B",
           "#00cc96",
           "#ab63fa",
           "#FFA15A",
           "#19d3f3",
           "#FF6692",
           "#B6E880",
           "#FF97FF",
           "#FECB52"
          ],
          "font": {
           "color": "#2a3f5f"
          },
          "geo": {
           "bgcolor": "white",
           "lakecolor": "white",
           "landcolor": "#E5ECF6",
           "showlakes": true,
           "showland": true,
           "subunitcolor": "white"
          },
          "hoverlabel": {
           "align": "left"
          },
          "hovermode": "closest",
          "mapbox": {
           "style": "light"
          },
          "paper_bgcolor": "white",
          "plot_bgcolor": "#E5ECF6",
          "polar": {
           "angularaxis": {
            "gridcolor": "white",
            "linecolor": "white",
            "ticks": ""
           },
           "bgcolor": "#E5ECF6",
           "radialaxis": {
            "gridcolor": "white",
            "linecolor": "white",
            "ticks": ""
           }
          },
          "scene": {
           "xaxis": {
            "backgroundcolor": "#E5ECF6",
            "gridcolor": "white",
            "gridwidth": 2,
            "linecolor": "white",
            "showbackground": true,
            "ticks": "",
            "zerolinecolor": "white"
           },
           "yaxis": {
            "backgroundcolor": "#E5ECF6",
            "gridcolor": "white",
            "gridwidth": 2,
            "linecolor": "white",
            "showbackground": true,
            "ticks": "",
            "zerolinecolor": "white"
           },
           "zaxis": {
            "backgroundcolor": "#E5ECF6",
            "gridcolor": "white",
            "gridwidth": 2,
            "linecolor": "white",
            "showbackground": true,
            "ticks": "",
            "zerolinecolor": "white"
           }
          },
          "shapedefaults": {
           "line": {
            "color": "#2a3f5f"
           }
          },
          "ternary": {
           "aaxis": {
            "gridcolor": "white",
            "linecolor": "white",
            "ticks": ""
           },
           "baxis": {
            "gridcolor": "white",
            "linecolor": "white",
            "ticks": ""
           },
           "bgcolor": "#E5ECF6",
           "caxis": {
            "gridcolor": "white",
            "linecolor": "white",
            "ticks": ""
           }
          },
          "title": {
           "x": 0.05
          },
          "xaxis": {
           "automargin": true,
           "gridcolor": "white",
           "linecolor": "white",
           "ticks": "",
           "zerolinecolor": "white",
           "zerolinewidth": 2
          },
          "yaxis": {
           "automargin": true,
           "gridcolor": "white",
           "linecolor": "white",
           "ticks": "",
           "zerolinecolor": "white",
           "zerolinewidth": 2
          }
         }
        },
        "title": {
         "text": "rbf"
        }
       }
      },
      "text/html": [
       "<div>\n",
       "        \n",
       "        \n",
       "            <div id=\"b9fa9e89-3d8e-494b-bf90-6c75578c0fb8\" class=\"plotly-graph-div\" style=\"height:525px; width:100%;\"></div>\n",
       "            <script type=\"text/javascript\">\n",
       "                require([\"plotly\"], function(Plotly) {\n",
       "                    window.PLOTLYENV=window.PLOTLYENV || {};\n",
       "                    \n",
       "                if (document.getElementById(\"b9fa9e89-3d8e-494b-bf90-6c75578c0fb8\")) {\n",
       "                    Plotly.newPlot(\n",
       "                        'b9fa9e89-3d8e-494b-bf90-6c75578c0fb8',\n",
       "                        [{\"marker\": {\"color\": [0, 1, 0, 1, 3, 1, 2, 3, 0, 3, 0, 2, 2, 2, 2, 1, 3, 3, 1, 3, 2, 2, 1, 0, 2, 3, 3, 3, 1, 1, 1, 0, 0, 2, 1, 3, 2, 1, 0, 0, 1, 3, 0, 0, 2, 0, 1, 3, 2, 1, 0, 3, 3, 3, 2, 2, 3, 0, 2, 1, 0, 2, 2, 1, 2, 0, 1, 0, 0, 0, 1, 2, 0, 1, 3, 1, 1, 1, 1, 3, 1, 1, 0, 2, 3, 1, 3, 2, 0, 1, 1, 1, 1, 3, 2, 1, 1, 0, 2, 1]}, \"mode\": \"markers\", \"name\": \"observed points\", \"type\": \"scatter\", \"x\": [6.753507014028056, -2.1843687374749505, 6.272545090180358, -5.511022044088176, -8.917835671342685, -0.7815631262525056, -0.06012024048096265, -8.196392785571142, 7.8356713426853695, -5.9118236472945895, 8.356713426853705, 1.7434869739478955, 2.3847695390781567, 0.020040080160320883, 0.5811623246492985, -4.709418837675351, -9.278557114228457, -9.759519038076153, -1.4629258517034067, -8.797595190380761, 4.38877755511022, 4.028056112224448, -3.1462925851703414, 7.23446893787575, 4.228456913827655, -9.519038076152304, -6.352705410821644, -9.919839679358718, -4.98997995991984, -4.348697394789579, -4.108216432865731, 7.795591182364728, 9.799599198396791, 2.2244488977955914, -5.070140280561122, -6.513026052104209, 3.46693386773547, -0.6212424849699403, 7.515030060120239, 6.513026052104209, -3.5871743486973955, -8.47695390781563, 8.837675350701403, 6.593186372745489, 0.7815631262525038, 6.072144288577153, -3.987975951903808, -9.158316633266534, 3.8276553106212425, -3.5470941883767537, 5.070140280561121, -9.358717434869739, -6.953907815631263, -9.839679358717435, 2.0240480961923843, 3.6272545090180355, -9.599198396793588, 5.631262525050099, 1.7434869739478955, -3.907815631262525, 8.917835671342683, 4.589178356713425, 3.226452905811623, -3.987975951903808, 2.1843687374749496, 8.517034068136272, -4.188376753507014, 9.438877755511022, 7.675350701402806, 5.631262525050099, -1.8637274549098208, 1.863727454909819, 8.677354709418836, -1.823647294589179, -7.114228456913828, -5.631262525050101, -1.9839679358717444, -1.9438877755511026, -1.6633266533066138, -8.356713426853707, -2.0240480961923852, -3.6272545090180364, 9.438877755511022, 1.1422845691382761, -7.9959919839679365, -2.1442885771543088, -9.198396793587175, 1.623246492985972, 5.991983967935871, -2.6653306613226455, -0.5811623246492985, -1.9038076152304608, -4.7494989979959925, -9.318637274549099, 1.3426853707414832, -4.589178356713427, -1.5430861723446903, 7.114228456913828, 3.9078156312625243, -2.585170340681363], \"y\": [-36.829570965578455, 85.68559965622627, -18.034465725037165, 8.88590808872253, -138.5833791832161, 98.16747723904723, 99.98915667005353, -101.54256408608796, -84.19323617174223, -4.84897651013452, -109.503977895671, 90.88075951502204, 82.93862273645487, 99.9987951855615, 98.98675105722467, 33.46412263404565, -158.2748663659985, -185.74463556371268, 93.57954385725358, -132.19304340143213, 42.215894715282275, 51.3242918703138, 70.30252890550639, -57.01262243926726, 46.36045638370931, -171.8362576857121, -21.07059811004777, -195.20965779253902, 25.300299998795182, 43.26649290565098, 49.367673222195904, -82.31372564768807, -188.09643334765713, 85.15548130328793, 22.881032606294752, -27.258525066164424, 63.94110867024632, 98.84217332460513, -69.4270304135324, -27.258525066164424, 61.39654057614225, -115.57624266569206, -134.31351681318552, -30.410319637270447, 98.16747723904724, -10.61280878390042, 52.28814342111075, -151.62429066549936, 56.047164469219, 62.25436845635158, 22.88103260629478, -162.75677607720445, -45.070501724892694, -190.45786964710982, 87.70968791289995, 60.52907418042499, -176.43382958301373, 4.866647121899149, 90.88075951502204, 54.18693097618082, -138.583379183216, 36.81832603081919, 68.7700049397392, 52.28814342111075, 85.68559965622629, -117.61960795338172, 47.37250051204614, -167.27723985044236, -76.73302516857365, 4.866647121899149, 89.57955992144609, 89.5795599214461, -125.88945425921975, 90.0229316348127, -51.83673961148753, 4.866647121899092, 88.19161368829843, 88.66390094818895, 91.70003333319946, -109.50397789567108, 87.70968791289994, 60.52907418042497, -167.27723985044236, 96.08555788932574, -91.80766342303849, 86.20607949365665, -153.83151071682448, 92.09521246902622, -7.711615616001524, 78.68803739744017, 98.98675105722467, 89.12654969257152, 32.32677780410519, -160.5110019638476, 94.59158798559042, 36.818326030819144, 92.85665519415583, -51.83673961148753, 54.18693097618083, 79.95068292898422]}, {\"mode\": \"markers\", \"name\": \"centers\", \"type\": \"scatter\", \"x\": [7.46449420580291, -3.0746341167182862, 2.3865121547442705, -8.50176543563317], \"y\": [0.0, 0.0, 0.0, 0.0]}, {\"mode\": \"lines\", \"type\": \"scatter\", \"x\": [-10.0, -9.959919839679358, -9.919839679358718, -9.879759519038076, -9.839679358717435, -9.799599198396793, -9.759519038076153, -9.719438877755511, -9.67935871743487, -9.639278557114228, -9.599198396793588, -9.559118236472946, -9.519038076152304, -9.478957915831664, -9.438877755511022, -9.39879759519038, -9.358717434869739, -9.318637274549099, -9.278557114228457, -9.238476953907815, -9.198396793587175, -9.158316633266534, -9.118236472945892, -9.07815631262525, -9.03807615230461, -8.997995991983968, -8.957915831663327, -8.917835671342685, -8.877755511022045, -8.837675350701403, -8.797595190380761, -8.75751503006012, -8.71743486973948, -8.677354709418838, -8.637274549098196, -8.597194388777556, -8.557114228456914, -8.517034068136272, -8.47695390781563, -8.43687374749499, -8.396793587174349, -8.356713426853707, -8.316633266533067, -8.276553106212425, -8.236472945891784, -8.196392785571142, -8.156312625250502, -8.11623246492986, -8.076152304609218, -8.036072144288577, -7.9959919839679365, -7.955911823647295, -7.915831663326653, -7.875751503006012, -7.835671342685371, -7.7955911823647295, -7.755511022044088, -7.715430861723447, -7.675350701402806, -7.635270541082164, -7.595190380761523, -7.555110220440882, -7.515030060120241, -7.474949899799599, -7.434869739478958, -7.394789579158317, -7.354709418837675, -7.314629258517034, -7.274549098196393, -7.234468937875752, -7.19438877755511, -7.154308617234469, -7.114228456913828, -7.074148296593187, -7.034068136272545, -6.993987975951904, -6.953907815631263, -6.913827655310621, -6.8737474949899795, -6.833667334669339, -6.793587174348698, -6.753507014028056, -6.713426853707415, -6.673346693386774, -6.6332665330661325, -6.593186372745491, -6.55310621242485, -6.513026052104209, -6.472945891783567, -6.432865731462925, -6.3927855711422845, -6.352705410821644, -6.312625250501002, -6.272545090180361, -6.23246492985972, -6.192384769539078, -6.152304609218437, -6.112224448897796, -6.072144288577155, -6.032064128256513, -5.991983967935872, -5.95190380761523, -5.9118236472945895, -5.871743486973948, -5.831663326653307, -5.791583166332665, -5.751503006012024, -5.711422845691383, -5.671342685370742, -5.631262525050101, -5.591182364729459, -5.551102204408818, -5.511022044088176, -5.470941883767535, -5.430861723446894, -5.390781563126253, -5.350701402805611, -5.31062124248497, -5.270541082164329, -5.2304609218436875, -5.190380761523047, -5.150300601202405, -5.110220440881764, -5.070140280561122, -5.030060120240481, -4.98997995991984, -4.949899799599199, -4.909819639278557, -4.869739478957916, -4.829659318637275, -4.789579158316633, -4.7494989979959925, -4.709418837675351, -4.66933867735471, -4.629258517034068, -4.589178356713427, -4.5490981963927855, -4.509018036072145, -4.468937875751503, -4.428857715430862, -4.388777555110221, -4.348697394789579, -4.308617234468938, -4.268537074148297, -4.228456913827656, -4.188376753507014, -4.148296593186373, -4.108216432865731, -4.0681362725450905, -4.028056112224449, -3.987975951903808, -3.947895791583167, -3.907815631262525, -3.8677354709418843, -3.8276553106212425, -3.7875751503006017, -3.74749498997996, -3.707414829659319, -3.6673346693386772, -3.6272545090180364, -3.5871743486973955, -3.5470941883767537, -3.507014028056113, -3.466933867735471, -3.42685370741483, -3.3867735470941884, -3.3466933867735476, -3.306613226452906, -3.266533066132265, -3.226452905811623, -3.1863727454909823, -3.1462925851703414, -3.1062124248496996, -3.0661322645290587, -3.026052104208417, -2.985971943887776, -2.9458917835671343, -2.9058116232464934, -2.8657314629258517, -2.825651302605211, -2.785571142284569, -2.745490981963928, -2.7054108216432873, -2.6653306613226455, -2.6252505010020046, -2.585170340681363, -2.545090180360722, -2.50501002004008, -2.4649298597194393, -2.4248496993987976, -2.3847695390781567, -2.344689378757515, -2.304609218436874, -2.264529058116233, -2.2244488977955914, -2.1843687374749505, -2.1442885771543088, -2.104208416833668, -2.064128256513026, -2.0240480961923852, -1.9839679358717444, -1.9438877755511026, -1.9038076152304608, -1.8637274549098208, -1.823647294589179, -1.7835671342685373, -1.7434869739478955, -1.7034068136272555, -1.6633266533066138, -1.623246492985972, -1.5831663326653302, -1.5430861723446903, -1.5030060120240485, -1.4629258517034067, -1.4228456913827667, -1.382765531062125, -1.3426853707414832, -1.3026052104208414, -1.2625250501002014, -1.2224448897795597, -1.182364729458918, -1.1422845691382761, -1.1022044088176361, -1.0621242484969944, -1.0220440881763526, -0.9819639278557126, -0.9418837675350709, -0.9018036072144291, -0.8617234468937873, -0.8216432865731473, -0.7815631262525056, -0.7414829659318638, -0.701402805611222, -0.661322645290582, -0.6212424849699403, -0.5811623246492985, -0.5410821643286585, -0.5010020040080168, -0.460921843687375, -0.4208416833667332, -0.38076152304609323, -0.34068136272545146, -0.3006012024048097, -0.26052104208416793, -0.22044088176352794, -0.18036072144288617, -0.1402805611222444, -0.10020040080160442, -0.06012024048096265, -0.020040080160320883, 0.020040080160320883, 0.060120240480960874, 0.10020040080160264, 0.1402805611222444, 0.18036072144288617, 0.22044088176352616, 0.26052104208416793, 0.3006012024048097, 0.3406813627254497, 0.38076152304609145, 0.4208416833667332, 0.460921843687375, 0.501002004008015, 0.5410821643286567, 0.5811623246492985, 0.6212424849699403, 0.6613226452905803, 0.701402805611222, 0.7414829659318638, 0.7815631262525038, 0.8216432865731456, 0.8617234468937873, 0.9018036072144291, 0.9418837675350691, 0.9819639278557108, 1.0220440881763526, 1.0621242484969944, 1.1022044088176344, 1.1422845691382761, 1.182364729458918, 1.222444889779558, 1.2625250501001997, 1.3026052104208414, 1.3426853707414832, 1.3827655310621232, 1.422845691382765, 1.4629258517034067, 1.5030060120240485, 1.5430861723446885, 1.5831663326653302, 1.623246492985972, 1.663326653306612, 1.7034068136272538, 1.7434869739478955, 1.7835671342685373, 1.8236472945891773, 1.863727454909819, 1.9038076152304608, 1.9438877755511026, 1.9839679358717426, 2.0240480961923843, 2.064128256513026, 2.104208416833666, 2.144288577154308, 2.1843687374749496, 2.2244488977955914, 2.2645290581162314, 2.304609218436873, 2.344689378757515, 2.3847695390781567, 2.4248496993987967, 2.4649298597194385, 2.50501002004008, 2.54509018036072, 2.585170340681362, 2.6252505010020037, 2.6653306613226455, 2.7054108216432855, 2.7454909819639273, 2.785571142284569, 2.825651302605209, 2.865731462925851, 2.9058116232464926, 2.9458917835671343, 2.9859719438877743, 3.026052104208416, 3.066132264529058, 3.1062124248496996, 3.1462925851703396, 3.1863727454909814, 3.226452905811623, 3.266533066132263, 3.306613226452905, 3.3466933867735467, 3.3867735470941884, 3.4268537074148284, 3.46693386773547, 3.507014028056112, 3.5470941883767537, 3.5871743486973937, 3.6272545090180355, 3.6673346693386772, 3.7074148296593172, 3.747494989979959, 3.7875751503006008, 3.8276553106212425, 3.8677354709418825, 3.9078156312625243, 3.947895791583166, 3.987975951903808, 4.028056112224448, 4.06813627254509, 4.108216432865731, 4.148296593186371, 4.188376753507013, 4.228456913827655, 4.268537074148297, 4.308617234468937, 4.348697394789578, 4.38877755511022, 4.428857715430862, 4.468937875751502, 4.509018036072144, 4.5490981963927855, 4.589178356713425, 4.629258517034067, 4.669338677354709, 4.709418837675351, 4.749498997995991, 4.7895791583166325, 4.829659318637274, 4.869739478957916, 4.909819639278556, 4.949899799599198, 4.98997995991984, 5.0300601202404795, 5.070140280561121, 5.110220440881763, 5.150300601202405, 5.190380761523045, 5.230460921843687, 5.270541082164328, 5.31062124248497, 5.35070140280561, 5.390781563126252, 5.430861723446894, 5.470941883767534, 5.511022044088175, 5.551102204408817, 5.591182364729459, 5.631262525050099, 5.671342685370741, 5.7114228456913825, 5.751503006012024, 5.791583166332664, 5.831663326653306, 5.871743486973948, 5.911823647294588, 5.9519038076152295, 5.991983967935871, 6.032064128256511, 6.072144288577153, 6.112224448897795, 6.152304609218437, 6.192384769539078, 6.23246492985972, 6.272545090180358, 6.312625250501, 6.352705410821642, 6.392785571142284, 6.432865731462925, 6.472945891783567, 6.513026052104209, 6.553106212424851, 6.593186372745489, 6.633266533066131, 6.673346693386772, 6.713426853707414, 6.753507014028056, 6.793587174348698, 6.8336673346693395, 6.873747494989978, 6.9138276553106195, 6.953907815631261, 6.993987975951903, 7.034068136272545, 7.074148296593187, 7.114228456913828, 7.1543086172344665, 7.194388777555108, 7.23446893787575, 7.274549098196392, 7.314629258517034, 7.354709418837675, 7.394789579158317, 7.434869739478959, 7.474949899799597, 7.515030060120239, 7.555110220440881, 7.595190380761522, 7.635270541082164, 7.675350701402806, 7.715430861723448, 7.755511022044086, 7.795591182364728, 7.8356713426853695, 7.875751503006011, 7.915831663326653, 7.955911823647295, 7.9959919839679365, 8.036072144288575, 8.076152304609217, 8.116232464929858, 8.1563126252505, 8.196392785571142, 8.236472945891784, 8.276553106212425, 8.316633266533067, 8.356713426853705, 8.396793587174347, 8.436873747494989, 8.47695390781563, 8.517034068136272, 8.557114228456914, 8.597194388777556, 8.637274549098194, 8.677354709418836, 8.717434869739478, 8.75751503006012, 8.797595190380761, 8.837675350701403, 8.877755511022045, 8.917835671342683, 8.957915831663325, 8.997995991983966, 9.038076152304608, 9.07815631262525, 9.118236472945892, 9.158316633266534, 9.198396793587175, 9.238476953907814, 9.278557114228455, 9.318637274549097, 9.358717434869739, 9.39879759519038, 9.438877755511022, 9.478957915831664, 9.519038076152302, 9.559118236472944, 9.599198396793586, 9.639278557114228, 9.67935871743487, 9.719438877755511, 9.759519038076153, 9.799599198396791, 9.839679358717433, 9.879759519038075, 9.919839679358716, 9.959919839679358, 10.0], \"y\": [-5.4730904237812636e-12, -6.2945157438733164e-12, -7.236898692191482e-12, -8.317697661045515e-12, -9.556838248031628e-12, -1.0977054211956096e-11, -1.2604274440529775e-11, -1.446806198337291e-11, -1.6602111978849345e-11, -1.9044816174565768e-11, -2.183990272059319e-11, -2.5037161014556464e-11, -2.8693262613113433e-11, -3.287269061111535e-11, -3.764879144584435e-11, -4.3104964829157117e-11, -4.9336009467409996e-11, -5.6449644422468595e-11, -6.456822842453252e-11, -7.383070219960075e-11, -8.439478195531126e-11, -9.64394356165157e-11, -1.101676772584291e-10, -1.2580971949734901e-10, -1.4362652841860631e-10, -1.6391383100632393e-10, -1.870066310534856e-10, -2.1328429624468836e-10, -2.431762865961486e-10, -2.7716860279503037e-10, -3.1581104229910234e-10, -3.597253614447052e-10, -4.0961445338356773e-10, -4.662726645575052e-10, -5.305973867682987e-10, -6.036020778668898e-10, -6.864308818470345e-10, -7.803750388770922e-10, -8.868912977537405e-10, -1.0076225676480033e-09, -1.1444210730969308e-09, -1.2993743062595319e-09, -1.4748341038175953e-09, -1.6734492129077225e-09, -1.8982017515006273e-09, -2.152448014117949e-09, -2.4399641241541578e-09, -2.7649970898593643e-09, -3.132321882792505e-09, -3.547305225883263e-09, -4.015976853814805e-09, -4.5451090919905635e-09, -5.1423056926804695e-09, -5.816100968937952e-09, -6.576070379499419e-09, -7.4329538421802965e-09, -8.398793190420752e-09, -9.487085338868431e-09, -1.0712952890599752e-08, -1.2093334102273954e-08, -1.3647194325839156e-08, -1.539576126815385e-08, -1.7362786655010028e-08, -1.9574837155684265e-08, -2.206161772061568e-08, -2.4856330810657713e-08, -2.7996075354320845e-08, -3.152228966251819e-08, -3.548124296181324e-08, -3.992458068056917e-08, -4.4909929141597714e-08, -5.050156588404471e-08, -5.677116246089321e-08, -6.379860724151534e-08, -7.167291649649925e-08, -8.049324286030516e-08, -9.03699911623956e-08, -1.0142605259613657e-07, -1.1379816926429878e-07, -1.2763844230830124e-07, -1.4311599810401685e-07, -1.6041882839922422e-07, -1.7975582178662343e-07, -2.0135900556251266e-07, -2.2548601882628654e-07, -2.52422839642484e-07, -2.8248679122850004e-07, -3.1602985446191015e-07, -3.534423165371359e-07, -3.951567883586771e-07, -4.4165262625543256e-07, -4.934607968569228e-07, -5.511692275084103e-07, -6.154286884401249e-07, -6.869592570700395e-07, -7.665574193351661e-07, -8.551038678410304e-07, -9.535720619214317e-07, -1.0630376204428001e-06, -1.1846886244021995e-06, -1.3198369130915425e-06, -1.469930464870778e-06, -1.636566961450077e-06, -1.8215086430692534e-06, -2.0266985711273713e-06, -2.2542784247061267e-06, -2.506607968099441e-06, -2.7862863379636687e-06, -3.096175311097991e-06, -3.4394247272139225e-06, -3.819500255424472e-06, -4.2402137086459726e-06, -4.705756126734946e-06, -5.2207338670562345e-06, -5.790207960380465e-06, -6.419737010627686e-06, -7.115423939101129e-06, -7.883966897589823e-06, -8.732714700163098e-06, -9.669727150744977e-06, -1.0703840672752476e-05, -1.184473967833418e-05, -1.3103034148176431e-05, -1.4490343928587567e-05, -1.601939029076622e-05, -1.770409533795332e-05, -1.9559689889706005e-05, -2.1602830518984464e-05, -2.3851726467265138e-05, -2.6326277215664945e-05, -2.9048221546263943e-05, -3.204129898762595e-05, -3.533142460214746e-05, -3.89468781405025e-05, -4.29185086603211e-05, -4.7279955782540304e-05, -5.206788883984521e-05, -5.7322265257487014e-05, -6.308660959777951e-05, -6.940831479597044e-05, -7.633896721722695e-05, -8.39346972723988e-05, -9.225655744434609e-05, -0.00010137092969714091, -0.0001113499643677288, -0.00012227205277389207, -0.00013422233591390225, -0.00014729325178240756, -0.0001615851239840773, -0.0001772067944917509, -0.00019427630356947005, -0.00021292162006324153, -0.0002332814254538732, -0.0002555059552671218, -0.0002797579016469843, -0.00030621338111843824, -0.0003350629717967868, -0.0003665128245420151, -0.00040078585280872226, -0.0004381230062053509, -0.0004787846330509366, -0.0005230519375036333, -0.000571228537133042, -0.0006236421271181865, -0.0006806462575747915, -0.0007426222308497468, -0.0008099811259672018, -0.0008831659577698282, -0.0009626539786703851, -0.0010489591313130888, -0.0011426346608408734, -0.0012442758958741552, -0.0013545232077282943, -0.001474065157830903, -0.0016036418437462155, -0.0017440484546713095, -0.0018961390477383407, -0.002060830556936839, -0.0022391070469610407, -0.002432024224787763, -0.0026407142223003723, -0.0028663906637929454, -0.003110354032715341, -0.003373997352552863, -0.003658812197273608, -0.003966395047320609, -0.004298454007672806, -0.0046568159050491475, -0.0050434337818797996, -0.005460394805218287, -0.005909928609314676, -0.00639441609111272, -0.00691639867846892, -0.007478588091419273, -0.008083876617335043, -0.008735347921311747, -0.00943628841362253, -0.010190199196534425, -0.011000808613233132, -0.011872085422021852, -0.012808252619355186, -0.013813801935628435, -0.014893509027971614, -0.016052449394583765, -0.017296015035389762, -0.018629931883997294, -0.020060278036083016, -0.02159350279942379, -0.02323644659082305, -0.02499636170514802, -0.026880933981589004, -0.02889830539207518, -0.031057097576522266, -0.03336643634924173, -0.03583597720041164, -0.03847593181597283, -0.041297095638685374, -0.044310876492338516, -0.047529324290253555, -0.05096516184824943, -0.05463181682113433, -0.058543454780572664, -0.06271501345079662, -0.06716223811713361, -0.0719017182206597, -0.07695092515048298, -0.082328251243189, -0.08805304999684241, -0.09414567750464638, -0.10062753511086367, -0.10752111328896044, -0.11485003673907322, -0.12263911069887963, -0.13091436845871238, -0.13970312006834687, -0.14903400221924698, -0.158937029282257, -0.16944364547666618, -0.18058677814235266, -0.1924008920822608, -0.2049220449378083, -0.21818794355496876, -0.2322380012936786, -0.24711339622797596, -0.26285713017876206, -0.27951408851542703, -0.2971311006566656, -0.3157570011947843, -0.33544269156150786, -0.3562412021468627, -0.37820775477613827, -0.4013998254431149, -0.42587720719086336, -0.4517020730243253, -0.47893903873172766, -0.5076552254845461, -0.537920322078347, -0.5698066466693221, -0.6033892078538055, -0.6387457649304177, -0.67595688717686, -0.7151060119657344, -0.7562795015361405, -0.799566698230186, -0.845059977996007, -0.8928548019515067, -0.943049765795606, -0.9957466468466908, -1.0510504484808492, -1.109069441735779, -1.1699152038395815, -1.2337026534173896, -1.3005500821227944, -1.370579182435338, -1.443915071360058, -1.5206863097601564, -1.6010249170494826, -1.6850663809675033, -1.7729496621560275, -1.8648171932539974, -1.9608148722245191, -2.061092049626495, -2.1658015095422942, -2.275099443872671, -2.3891454197105473, -2.5081023395065802, -2.632136393741437, -2.761417005822771, -2.8961167689285516, -3.0364113745233063, -3.1824795322793333, -3.334502881141873, -3.492665891284761, -3.657155756711743, -3.8281622782687563, -4.005877736842964, -4.1904967565366915, -4.382216157617144, -4.581234799057487, -4.787753410499829, -5.001974413487552, -5.224101731831787, -5.45434059099614, -5.692897306403414, -5.939979060589343, -6.19579366915087, -6.460549335459616, -6.734454394136009, -7.017717043304817, -7.310545065679902, -7.613145538553297, -7.925724532792617, -8.248486800980155, -8.581635454857725, -8.925371632272563, -9.27989415385125, -9.645399169662134, -10.022079796159483, -10.410125743736957, -10.809722935252221, -11.22105311591966, -11.644293455003298, -12.079616139777054, -12.527187962255883, -12.987169899236077, -13.459716686219203, -13.94497638582901, -14.443089951366279, -14.954190786180723, -15.478404299573734, -16.015847459978684, -16.566628346199035, -17.130845697515905, -17.7085884635075, -18.299935354453268, -18.904954393223452, -19.52370246958231, -20.156224897858444, -20.802554978960266, -21.462713567736387, -22.13670864670123, -22.824534907164278, -23.526173338818193, -24.24159082885442, -24.97073977168643, -25.71355769037076, -26.469966870821686, -27.23987400991999, -28.023169878616674, -28.819729001132128, -29.6294093513454, -30.452052067461477, -31.287481186033457, -32.1355033964033, -32.99590781660766, -33.868465791774845, -34.75293071601691, -35.649037878793045, -36.55650433669161, -37.47502881154434, -38.404291615751035, -39.34395460565255, -40.29366116374807, -41.25303621050587, -42.22168624646922, -43.19919942530627, -44.18514565839752, -45.17907675149835, -46.18052657395188, -47.18901126086592, -48.204029448600366, -49.22506254384575, -50.25157502650124, -51.28301478648976, -52.31881349457224, -53.35838700714881, -54.40113580495598, -55.44644546548989, -56.49368716890735, -57.54221823707346, -58.59138270534468, -59.640511926592254, -60.68892520689097, -61.73593047221312, -62.78082496538739, -63.82289597249904, -64.86142157782812, -65.89567144634134, -66.92490763267386, -67.94838541546164, -68.96535415580675, -69.97505817858624, -70.97673767524178, -71.96962962661964, -72.9529687443625, -73.92598842929225, -74.88792174516078, -75.83800240609048, -76.775465775971, -77.69954987802912, -78.60949641274375, -79.50455178223528, -80.38396811922053, -81.24700431859382, -82.0929270696635, -82.92101188705183, -83.7305441382464, -84.520820065778, -85.29114780199046, -86.04084837436608, -86.7692566993703, -87.47572256278748, -88.1596115845316, -88.82030616593329, -89.45720641752763, -90.06973106539604, -90.65731833414705, -91.21942680466266, -91.75553624477769, -92.26514841110992, -92.7477878203126, -93.20300248807838, -93.63036463428857, -94.02947135276678, -94.39994524417115, -94.74143501063234, -95.05361601082686, -95.33619077425757, -95.5888894736013, -95.81147035407363, -96.00372011885426, -96.16545426971317, -96.2965174020758, -96.39678345386679, -96.46615590757442, -96.50456794508266, -96.51198255492255, -96.48839259170258, -96.43382078758401, -96.34831971577543, -96.23197170612895, -96.08488871302714, -95.90721213585803, -95.69911259248082, -95.46078964619035, -95.19247148679231, -94.89441456650225, -94.56690319148166, -94.21024906992227, -93.82479081768346, -93.41089342258084, -92.96894766851163, -92.49936952068956, -92.00259947334187, -91.47910186130065, -90.92936413699388, -90.3538961144115, -89.7532291816872, -89.12791548399727, -88.47852707853366, -87.80565506336073, -87.10990868200928, -86.39191440570457, -85.65231499516017, -84.8917685439001, -84.11094750509757, -83.3105377039383, -82.49123733753274, -81.65375596440865, -80.798813485622, -79.92713911952247, -79.03947037220279, -78.13655200565185, -77.21913500561251, -76.28797555112718, -75.34383398772424, -74.38747380617124, -73.41966062868276, -72.44116120443303, -71.45274241617784, -70.45517029974373, -69.44920907808881, -68.43562021158692, -67.41516146612369, -66.38858600053506, -65.35664147485066, -64.32006918073792, -63.27960319547164, -62.23596956068066, -61.189885487049864, -60.142058586076274, -59.09318612990252, -58.04395434016965, -56.99503770675107, -55.94709833714823, -54.900785337245395, -53.856734224041126, -52.81556637088782, -51.77788848569186, -50.74429212244319]}, {\"mode\": \"lines\", \"type\": \"scatter\", \"x\": [-10.0, -9.959919839679358, -9.919839679358718, -9.879759519038076, -9.839679358717435, -9.799599198396793, -9.759519038076153, -9.719438877755511, -9.67935871743487, -9.639278557114228, -9.599198396793588, -9.559118236472946, -9.519038076152304, -9.478957915831664, -9.438877755511022, -9.39879759519038, -9.358717434869739, -9.318637274549099, -9.278557114228457, -9.238476953907815, -9.198396793587175, -9.158316633266534, -9.118236472945892, -9.07815631262525, -9.03807615230461, -8.997995991983968, -8.957915831663327, -8.917835671342685, -8.877755511022045, -8.837675350701403, -8.797595190380761, -8.75751503006012, -8.71743486973948, -8.677354709418838, -8.637274549098196, -8.597194388777556, -8.557114228456914, -8.517034068136272, -8.47695390781563, -8.43687374749499, -8.396793587174349, -8.356713426853707, -8.316633266533067, -8.276553106212425, -8.236472945891784, -8.196392785571142, -8.156312625250502, -8.11623246492986, -8.076152304609218, -8.036072144288577, -7.9959919839679365, -7.955911823647295, -7.915831663326653, -7.875751503006012, -7.835671342685371, -7.7955911823647295, -7.755511022044088, -7.715430861723447, -7.675350701402806, -7.635270541082164, -7.595190380761523, -7.555110220440882, -7.515030060120241, -7.474949899799599, -7.434869739478958, -7.394789579158317, -7.354709418837675, -7.314629258517034, -7.274549098196393, -7.234468937875752, -7.19438877755511, -7.154308617234469, -7.114228456913828, -7.074148296593187, -7.034068136272545, -6.993987975951904, -6.953907815631263, -6.913827655310621, -6.8737474949899795, -6.833667334669339, -6.793587174348698, -6.753507014028056, -6.713426853707415, -6.673346693386774, -6.6332665330661325, -6.593186372745491, -6.55310621242485, -6.513026052104209, -6.472945891783567, -6.432865731462925, -6.3927855711422845, -6.352705410821644, -6.312625250501002, -6.272545090180361, -6.23246492985972, -6.192384769539078, -6.152304609218437, -6.112224448897796, -6.072144288577155, -6.032064128256513, -5.991983967935872, -5.95190380761523, -5.9118236472945895, -5.871743486973948, -5.831663326653307, -5.791583166332665, -5.751503006012024, -5.711422845691383, -5.671342685370742, -5.631262525050101, -5.591182364729459, -5.551102204408818, -5.511022044088176, -5.470941883767535, -5.430861723446894, -5.390781563126253, -5.350701402805611, -5.31062124248497, -5.270541082164329, -5.2304609218436875, -5.190380761523047, -5.150300601202405, -5.110220440881764, -5.070140280561122, -5.030060120240481, -4.98997995991984, -4.949899799599199, -4.909819639278557, -4.869739478957916, -4.829659318637275, -4.789579158316633, -4.7494989979959925, -4.709418837675351, -4.66933867735471, -4.629258517034068, -4.589178356713427, -4.5490981963927855, -4.509018036072145, -4.468937875751503, -4.428857715430862, -4.388777555110221, -4.348697394789579, -4.308617234468938, -4.268537074148297, -4.228456913827656, -4.188376753507014, -4.148296593186373, -4.108216432865731, -4.0681362725450905, -4.028056112224449, -3.987975951903808, -3.947895791583167, -3.907815631262525, -3.8677354709418843, -3.8276553106212425, -3.7875751503006017, -3.74749498997996, -3.707414829659319, -3.6673346693386772, -3.6272545090180364, -3.5871743486973955, -3.5470941883767537, -3.507014028056113, -3.466933867735471, -3.42685370741483, -3.3867735470941884, -3.3466933867735476, -3.306613226452906, -3.266533066132265, -3.226452905811623, -3.1863727454909823, -3.1462925851703414, -3.1062124248496996, -3.0661322645290587, -3.026052104208417, -2.985971943887776, -2.9458917835671343, -2.9058116232464934, -2.8657314629258517, -2.825651302605211, -2.785571142284569, -2.745490981963928, -2.7054108216432873, -2.6653306613226455, -2.6252505010020046, -2.585170340681363, -2.545090180360722, -2.50501002004008, -2.4649298597194393, -2.4248496993987976, -2.3847695390781567, -2.344689378757515, -2.304609218436874, -2.264529058116233, -2.2244488977955914, -2.1843687374749505, -2.1442885771543088, -2.104208416833668, -2.064128256513026, -2.0240480961923852, -1.9839679358717444, -1.9438877755511026, -1.9038076152304608, -1.8637274549098208, -1.823647294589179, -1.7835671342685373, -1.7434869739478955, -1.7034068136272555, -1.6633266533066138, -1.623246492985972, -1.5831663326653302, -1.5430861723446903, -1.5030060120240485, -1.4629258517034067, -1.4228456913827667, -1.382765531062125, -1.3426853707414832, -1.3026052104208414, -1.2625250501002014, -1.2224448897795597, -1.182364729458918, -1.1422845691382761, -1.1022044088176361, -1.0621242484969944, -1.0220440881763526, -0.9819639278557126, -0.9418837675350709, -0.9018036072144291, -0.8617234468937873, -0.8216432865731473, -0.7815631262525056, -0.7414829659318638, -0.701402805611222, -0.661322645290582, -0.6212424849699403, -0.5811623246492985, -0.5410821643286585, -0.5010020040080168, -0.460921843687375, -0.4208416833667332, -0.38076152304609323, -0.34068136272545146, -0.3006012024048097, -0.26052104208416793, -0.22044088176352794, -0.18036072144288617, -0.1402805611222444, -0.10020040080160442, -0.06012024048096265, -0.020040080160320883, 0.020040080160320883, 0.060120240480960874, 0.10020040080160264, 0.1402805611222444, 0.18036072144288617, 0.22044088176352616, 0.26052104208416793, 0.3006012024048097, 0.3406813627254497, 0.38076152304609145, 0.4208416833667332, 0.460921843687375, 0.501002004008015, 0.5410821643286567, 0.5811623246492985, 0.6212424849699403, 0.6613226452905803, 0.701402805611222, 0.7414829659318638, 0.7815631262525038, 0.8216432865731456, 0.8617234468937873, 0.9018036072144291, 0.9418837675350691, 0.9819639278557108, 1.0220440881763526, 1.0621242484969944, 1.1022044088176344, 1.1422845691382761, 1.182364729458918, 1.222444889779558, 1.2625250501001997, 1.3026052104208414, 1.3426853707414832, 1.3827655310621232, 1.422845691382765, 1.4629258517034067, 1.5030060120240485, 1.5430861723446885, 1.5831663326653302, 1.623246492985972, 1.663326653306612, 1.7034068136272538, 1.7434869739478955, 1.7835671342685373, 1.8236472945891773, 1.863727454909819, 1.9038076152304608, 1.9438877755511026, 1.9839679358717426, 2.0240480961923843, 2.064128256513026, 2.104208416833666, 2.144288577154308, 2.1843687374749496, 2.2244488977955914, 2.2645290581162314, 2.304609218436873, 2.344689378757515, 2.3847695390781567, 2.4248496993987967, 2.4649298597194385, 2.50501002004008, 2.54509018036072, 2.585170340681362, 2.6252505010020037, 2.6653306613226455, 2.7054108216432855, 2.7454909819639273, 2.785571142284569, 2.825651302605209, 2.865731462925851, 2.9058116232464926, 2.9458917835671343, 2.9859719438877743, 3.026052104208416, 3.066132264529058, 3.1062124248496996, 3.1462925851703396, 3.1863727454909814, 3.226452905811623, 3.266533066132263, 3.306613226452905, 3.3466933867735467, 3.3867735470941884, 3.4268537074148284, 3.46693386773547, 3.507014028056112, 3.5470941883767537, 3.5871743486973937, 3.6272545090180355, 3.6673346693386772, 3.7074148296593172, 3.747494989979959, 3.7875751503006008, 3.8276553106212425, 3.8677354709418825, 3.9078156312625243, 3.947895791583166, 3.987975951903808, 4.028056112224448, 4.06813627254509, 4.108216432865731, 4.148296593186371, 4.188376753507013, 4.228456913827655, 4.268537074148297, 4.308617234468937, 4.348697394789578, 4.38877755511022, 4.428857715430862, 4.468937875751502, 4.509018036072144, 4.5490981963927855, 4.589178356713425, 4.629258517034067, 4.669338677354709, 4.709418837675351, 4.749498997995991, 4.7895791583166325, 4.829659318637274, 4.869739478957916, 4.909819639278556, 4.949899799599198, 4.98997995991984, 5.0300601202404795, 5.070140280561121, 5.110220440881763, 5.150300601202405, 5.190380761523045, 5.230460921843687, 5.270541082164328, 5.31062124248497, 5.35070140280561, 5.390781563126252, 5.430861723446894, 5.470941883767534, 5.511022044088175, 5.551102204408817, 5.591182364729459, 5.631262525050099, 5.671342685370741, 5.7114228456913825, 5.751503006012024, 5.791583166332664, 5.831663326653306, 5.871743486973948, 5.911823647294588, 5.9519038076152295, 5.991983967935871, 6.032064128256511, 6.072144288577153, 6.112224448897795, 6.152304609218437, 6.192384769539078, 6.23246492985972, 6.272545090180358, 6.312625250501, 6.352705410821642, 6.392785571142284, 6.432865731462925, 6.472945891783567, 6.513026052104209, 6.553106212424851, 6.593186372745489, 6.633266533066131, 6.673346693386772, 6.713426853707414, 6.753507014028056, 6.793587174348698, 6.8336673346693395, 6.873747494989978, 6.9138276553106195, 6.953907815631261, 6.993987975951903, 7.034068136272545, 7.074148296593187, 7.114228456913828, 7.1543086172344665, 7.194388777555108, 7.23446893787575, 7.274549098196392, 7.314629258517034, 7.354709418837675, 7.394789579158317, 7.434869739478959, 7.474949899799597, 7.515030060120239, 7.555110220440881, 7.595190380761522, 7.635270541082164, 7.675350701402806, 7.715430861723448, 7.755511022044086, 7.795591182364728, 7.8356713426853695, 7.875751503006011, 7.915831663326653, 7.955911823647295, 7.9959919839679365, 8.036072144288575, 8.076152304609217, 8.116232464929858, 8.1563126252505, 8.196392785571142, 8.236472945891784, 8.276553106212425, 8.316633266533067, 8.356713426853705, 8.396793587174347, 8.436873747494989, 8.47695390781563, 8.517034068136272, 8.557114228456914, 8.597194388777556, 8.637274549098194, 8.677354709418836, 8.717434869739478, 8.75751503006012, 8.797595190380761, 8.837675350701403, 8.877755511022045, 8.917835671342683, 8.957915831663325, 8.997995991983966, 9.038076152304608, 9.07815631262525, 9.118236472945892, 9.158316633266534, 9.198396793587175, 9.238476953907814, 9.278557114228455, 9.318637274549097, 9.358717434869739, 9.39879759519038, 9.438877755511022, 9.478957915831664, 9.519038076152302, 9.559118236472944, 9.599198396793586, 9.639278557114228, 9.67935871743487, 9.719438877755511, 9.759519038076153, 9.799599198396791, 9.839679358717433, 9.879759519038075, 9.919839679358716, 9.959919839679358, 10.0], \"y\": [0.7190176807504024, 0.7599398316170176, 0.8029330137039171, 0.8480859915434323, 0.895490396505531, 0.9452407669867429, 0.9974345860537878, 1.0521723163251198, 1.1095574318678625, 1.169696446882259, 1.2326989409405553, 1.2986775805424953, 1.3677481367451418, 1.4400294986207565, 1.5156436822928687, 1.5947158352974544, 1.6773742360136865, 1.7637502879064473, 1.8539785083214315, 1.9481965115725894, 2.0465449860615585, 2.149167665169003, 2.2562112916588504, 2.367825575338439, 2.484163143719936, 2.6053794854320507, 2.731632886135044, 2.8630843566974087, 2.9998975533983145, 3.142238689927062, 3.2902764409583134, 3.4441818370910235, 3.6041281509484566, 3.770290774247603, 3.9428470856579825, 4.121976309282776, 4.3078593636089, 4.500678700787515, 4.700618136122582, 4.907862667661739, 5.122598285802093, 5.345011772842181, 5.575290492431882, 5.813622168892772, 6.060194656403535, 6.315195698068357, 6.578812674909853, 6.851232344853279, 7.132640571794277, 7.423222044869413, 7.723159988075787, 8.032635860414533, 8.351829046761514, 8.68091653969851, 9.020072612567947, 9.369468484044853, 9.729271974551027, 10.099647154867629, 10.480753987334264, 10.872747960054422, 11.275779714559379, 11.689994667414794, 12.115532626286035, 12.55252740101046, 13.001106410256455, 13.461390284380185, 13.933492465122066, 14.417518802814993, 14.913567151806351, 15.421726964824131, 15.9420788870458, 16.474694350655255, 17.019635170699082, 17.576953143077805, 18.14668964553085, 18.728875242496063, 19.323529294744297, 19.930659574708187, 20.550261888440875, 21.182319705155315, 21.826803795307143, 22.483671878194965, 23.1528682800601, 23.834323603674335, 24.527954410407176, 25.233662915765937, 25.951336699400507, 26.680848430560463, 27.42205560998571, 28.1748003292023, 28.93890904818328, 29.714192392318616, 30.500444969621032, 31.29744520907331, 32.10495522099929, 32.922720680313404, 33.7504707334748, 34.587917929938946, 35.434758178864485, 36.290670731794556, 37.155318191990816, 38.028346551054575, 38.90938525342229, 39.79804728927406, 40.69392931634104, 41.59661181104436, 42.505659249340106, 43.420620317587094, 44.34102815369227, 45.266400618725385, 46.19624059913008, 47.130036339590895, 48.067261806548146, 49.007377082282034, 49.949828789417225, 50.89405054562607, 51.83946344823683, 52.78547658837835, 53.73148759422028, 54.67688320279177, 55.62103985978867, 56.563324346704626, 57.503094434547236, 58.43969956332827, 59.37248154644334, 60.30077529898673, 61.223909588975395, 62.14120781038945, 63.05198877686809, 63.955567534836646, 64.85125619477678, 65.7383647792922, 66.61620208656485, 67.48407656774117, 68.34129721673695, 69.18717447090033, 70.02102112092768, 70.84215322838493, 71.64989104915007, 72.44355996105728, 73.2224913939945, 73.9860237606795, 74.73350338631846, 75.46428543533426, 76.17773483333828, 76.87322718251254, 77.55014966856486, 78.20790195742153, 78.84589707982788, 79.46356230203835, 80.06033998079282, 80.6356884007971, 81.18908259295013, 81.7200151315907, 82.22799690907138, 82.7125578860057, 83.17324781557993, 83.60963694036728, 84.02131666013653, 84.40790016920243, 84.76902306192727, 85.10434390504665, 85.41354477556172, 85.69633176301173, 85.95243543501616, 86.18161126505443, 86.3836400215322, 86.55832811726803, 86.70550791862024, 86.82503801356322, 86.91680343811285, 86.98071586059379, 87.0167137233348, 87.02476234147441, 87.00485395865442, 86.95700775947651, 86.88126983869361, 86.7777131272055, 86.64643727502472, 86.48756849147618, 86.30125934298843, 86.08768850893094, 85.84706049604371, 85.57960531209852, 85.28557809952054, 84.96525872978744, 84.6189513595083, 84.24698394916827, 83.84970774560448, 83.42749672935655, 82.98074702810858, 82.50987629751003, 82.01532307073025, 81.49754607816355, 80.95702353876213, 80.39425242452775, 79.8097476997449, 79.20404153658382, 78.57768250874409, 77.93123476484669, 77.26527718331471, 76.58040251051166, 75.87721648392886, 75.15633694223189, 74.41839292399025, 73.66402375692287, 72.89387813949598, 72.10861321670986, 71.30889365190494, 70.4953906964088, 69.66878125882957, 68.82974697578395, 67.97897328582356, 67.11714850829661, 66.24496292884926, 65.3631078932364, 64.47227491107175, 63.57315477110351, 62.66643666955625, 61.752807353028636, 60.83295027738494, 59.90754478402067, 58.977265294825365, 58.04278052710359, 57.1047527296522, 56.16383694112576, 55.22068027175463, 54.2759212094122, 53.33018895095516, 52.384102759691054, 51.438271349753066, 50.4932922980901, 49.54975148470424, 48.60822256169558, 47.66926645159821, 46.73343087541869, 45.80124991071244, 44.87324357996196, 43.949917469447584, 43.031762378729155, 42.11925400078752, 41.21285263280491, 40.31300291749606, 39.42013361483491, 38.53465740395858, 37.65697071496685, 36.7874535902764, 35.9264695751293, 35.07436563680094, 34.231472111998855, 33.39810268189236, 32.57455437416588, 31.761107591442162, 30.95802616538021, 30.165557435711044, 29.383932353438922, 28.613365607400333, 27.85405577334273, 27.10618548465532, 26.369921623859955, 25.6454155339474, 24.93280324862394, 24.23220574051751, 23.543729186378037, 22.86746524829634, 22.20349136995673, 21.55187108693396, 20.91265435004145, 20.28587786073845, 19.671565417604857, 19.069728272898082, 18.480365498213246, 17.90346435827674, 17.339000691915487, 16.78693929925716, 16.247234334232754, 15.719829701469633, 15.204659456682927, 14.701648209693584, 14.2107115292241, 13.731756348646195, 13.264681371880128, 12.809377478671815, 12.36572812850053, 11.933609762399081, 11.512892201996898, 11.103439045126926, 10.705108057367054, 10.317751558918598, 9.941216806255122, 9.575346368007429, 9.21997849458161, 8.874947481039943, 8.5400840228062, 8.215215563788806, 7.900166636547455, 7.594759194160227, 7.298812933479716, 7.0121456094972, 6.734573340564775, 6.465910904254835, 6.205972023665882, 5.954569644011821, 5.711516199360191, 5.47662386941164, 5.249704826239223, 5.030571470931635, 4.819036660108865, 4.614913922302599, 4.418017664215953, 4.22816336689914, 4.045167771898073, 3.868849057452761, 3.699027004840664, 3.5355231549779913, 3.378160955408427, 3.2267658978239933, 3.081165646277547, 2.9411901562594904, 2.806671784823898, 2.677445391960357, 2.553348433418332, 2.4342210452002417, 2.319906119947598, 2.210249375452238, 2.105099415531037, 2.004307783508183, 1.9077290085536904, 1.8152206451308919, 1.7266433058085349, 1.6418606876955641, 1.5607395927579828, 1.4831499422781613, 1.4089647857169978, 1.3380603042387413, 1.2703158091571785, 1.2056137355600713, 1.143839631366465, 1.0848821420685557, 1.028632991406585, 0.9749869582213396, 0.9238418497247589, 0.8750984714244275, 0.8286605939329039, 0.7844349168875543, 0.7423310302009509, 0.7022613728561883, 0.6641411894553602, 0.6278884847232626, 0.5934239761619408, 0.5606710450451983, 0.5295556859354837, 0.5000064548988643, 0.47195441658690895, 0.4453330903474932, 0.4200783955196321, 0.3961285960605238, 0.373424244646152, 0.35190812637992025, 0.3315252022370322, 0.31222255236556945, 0.29394931935862445, 0.27665665160527075, 0.2602976468217503, 0.24482729585791826, 0.23020242686783335, 0.21638164992733994, 0.20332530217558986, 0.19099539355174722, 0.17935555319253463, 0.16837097655090683, 0.1580083732909046, 0.14823591600871272, 0.13902318982508624, 0.13034114288964757, 0.12216203783305514, 0.11445940419876495, 0.10720799188199354, 0.10038372559956195, 0.09396366041057917, 0.08792593830436532, 0.08224974586866099, 0.07691527304797517, 0.07190367299893305, 0.06719702304664757, 0.06277828674349209, 0.05863127702915829, 0.05474062048856597, 0.0510917227020324, 0.04767073468009703, 0.04446452037355085, 0.041460625247508244, 0.03864724590679583, 0.03601320075850072, 0.033547901696225346, 0.03124132678942187, 0.029083993960129863, 0.027066935628502903, 0.025181674307684893, 0.023420199127878422, 0.02177494326882281, 0.020238762279375707, 0.018804913262454887, 0.017467034903244017, 0.016219128318292426, 0.01505553870294329, 0.013970937754392752, 0.012960306847622265, 0.012018920941443904, 0.011142333191950557, 0.010326360250772893, 0.009567068225697258, 0.00886075928139908, 0.008203958858285879, 0.00759340348772028, 0.007026029182203297, 0.0064989603794395725, 0.006009499419570882, 0.0055551165352574405, 0.005133440334697174, 0.004742248758103636, 0.004379460488609586, 0.004043126799021766, 0.0037314238163240164, 0.003442645186303412, 0.003175195121161695, 0.002927581813464439, 0.0026984112002751085, 0.0024863810618168947, 0.0022902754395013715, 0.0021089593586579897, 0.001941373841790238, 0.0017865311986733283, 0.001643510580091767, 0.0015114537824932725, 0.0013895612913069609, 0.0012770885511377958, 0.0011733424515050954, 0.0010776780172404863, 0.0009894952930982479, 0.0009082364125597291, 0.0008333828412314687, 0.0007644527856444879, 0.0007009987586592619, 0.0006426052930668944, 0.000588886795352185, 0.0005394855319477484, 0.0004940697406610258, 0.00045233186029701027, 0.0004139868718292535, 0.0003787707447901997, 0.00034643898285907236, 0.0003167652629216468, 0.00028954016216121953, 0.00026456996801435333, 0.00024167556608840356, 0.00022069140139081711, 0.00020146450846284918, 0.00018385360624290442, 0.00016772825370739495, 0.000152968062550097, 0.00013946196336464997, 0.00012710752198942952, 0.00011581030285973399, 0.0001054832763893246, 9.604626757215189e-05, 8.742544315582991e-05, 7.955283489136607e-05, 7.236589650906753e-05, 6.580709220875344e-05, 5.982351458358638e-05, 5.4366530021350974e-05, 4.939144974503632e-05, 4.4857224766445644e-05, 4.072616313247094e-05, 3.696366794388463e-05, 3.353799472129913e-05, 3.042002678250245e-05, 2.7583067379982382e-05, 2.5002647427296015e-05, 2.2656347718253162e-05, 2.0523634613885388e-05, 1.858570823905507e-05, 1.6825362293533863e-05, 1.5226854641638248e-05, 1.3775787900232785e-05, 1.2458999297284811e-05, 1.1264459122346098e-05, 1.0181177136515647e-05, 9.19911635276565e-06, 8.309113638133584e-06, 7.502806627358321e-06, 6.772566473193792e-06, 6.111435992013492e-06, 5.513072794547319e-06, 4.9716970207929e-06, 4.482043325433019e-06, 4.039316785578995e-06, 3.6391524264572252e-06, 3.2775780828563724e-06]}, {\"mode\": \"lines\", \"type\": \"scatter\", \"x\": [-10.0, -9.959919839679358, -9.919839679358718, -9.879759519038076, -9.839679358717435, -9.799599198396793, -9.759519038076153, -9.719438877755511, -9.67935871743487, -9.639278557114228, -9.599198396793588, -9.559118236472946, -9.519038076152304, -9.478957915831664, -9.438877755511022, -9.39879759519038, -9.358717434869739, -9.318637274549099, -9.278557114228457, -9.238476953907815, -9.198396793587175, -9.158316633266534, -9.118236472945892, -9.07815631262525, -9.03807615230461, -8.997995991983968, -8.957915831663327, -8.917835671342685, -8.877755511022045, -8.837675350701403, -8.797595190380761, -8.75751503006012, -8.71743486973948, -8.677354709418838, -8.637274549098196, -8.597194388777556, -8.557114228456914, -8.517034068136272, -8.47695390781563, -8.43687374749499, -8.396793587174349, -8.356713426853707, -8.316633266533067, -8.276553106212425, -8.236472945891784, -8.196392785571142, -8.156312625250502, -8.11623246492986, -8.076152304609218, -8.036072144288577, -7.9959919839679365, -7.955911823647295, -7.915831663326653, -7.875751503006012, -7.835671342685371, -7.7955911823647295, -7.755511022044088, -7.715430861723447, -7.675350701402806, -7.635270541082164, -7.595190380761523, -7.555110220440882, -7.515030060120241, -7.474949899799599, -7.434869739478958, -7.394789579158317, -7.354709418837675, -7.314629258517034, -7.274549098196393, -7.234468937875752, -7.19438877755511, -7.154308617234469, -7.114228456913828, -7.074148296593187, -7.034068136272545, -6.993987975951904, -6.953907815631263, -6.913827655310621, -6.8737474949899795, -6.833667334669339, -6.793587174348698, -6.753507014028056, -6.713426853707415, -6.673346693386774, -6.6332665330661325, -6.593186372745491, -6.55310621242485, -6.513026052104209, -6.472945891783567, -6.432865731462925, -6.3927855711422845, -6.352705410821644, -6.312625250501002, -6.272545090180361, -6.23246492985972, -6.192384769539078, -6.152304609218437, -6.112224448897796, -6.072144288577155, -6.032064128256513, -5.991983967935872, -5.95190380761523, -5.9118236472945895, -5.871743486973948, -5.831663326653307, -5.791583166332665, -5.751503006012024, -5.711422845691383, -5.671342685370742, -5.631262525050101, -5.591182364729459, -5.551102204408818, -5.511022044088176, -5.470941883767535, -5.430861723446894, -5.390781563126253, -5.350701402805611, -5.31062124248497, -5.270541082164329, -5.2304609218436875, -5.190380761523047, -5.150300601202405, -5.110220440881764, -5.070140280561122, -5.030060120240481, -4.98997995991984, -4.949899799599199, -4.909819639278557, -4.869739478957916, -4.829659318637275, -4.789579158316633, -4.7494989979959925, -4.709418837675351, -4.66933867735471, -4.629258517034068, -4.589178356713427, -4.5490981963927855, -4.509018036072145, -4.468937875751503, -4.428857715430862, -4.388777555110221, -4.348697394789579, -4.308617234468938, -4.268537074148297, -4.228456913827656, -4.188376753507014, -4.148296593186373, -4.108216432865731, -4.0681362725450905, -4.028056112224449, -3.987975951903808, -3.947895791583167, -3.907815631262525, -3.8677354709418843, -3.8276553106212425, -3.7875751503006017, -3.74749498997996, -3.707414829659319, -3.6673346693386772, -3.6272545090180364, -3.5871743486973955, -3.5470941883767537, -3.507014028056113, -3.466933867735471, -3.42685370741483, -3.3867735470941884, -3.3466933867735476, -3.306613226452906, -3.266533066132265, -3.226452905811623, -3.1863727454909823, -3.1462925851703414, -3.1062124248496996, -3.0661322645290587, -3.026052104208417, -2.985971943887776, -2.9458917835671343, -2.9058116232464934, -2.8657314629258517, -2.825651302605211, -2.785571142284569, -2.745490981963928, -2.7054108216432873, -2.6653306613226455, -2.6252505010020046, -2.585170340681363, -2.545090180360722, -2.50501002004008, -2.4649298597194393, -2.4248496993987976, -2.3847695390781567, -2.344689378757515, -2.304609218436874, -2.264529058116233, -2.2244488977955914, -2.1843687374749505, -2.1442885771543088, -2.104208416833668, -2.064128256513026, -2.0240480961923852, -1.9839679358717444, -1.9438877755511026, -1.9038076152304608, -1.8637274549098208, -1.823647294589179, -1.7835671342685373, -1.7434869739478955, -1.7034068136272555, -1.6633266533066138, -1.623246492985972, -1.5831663326653302, -1.5430861723446903, -1.5030060120240485, -1.4629258517034067, -1.4228456913827667, -1.382765531062125, -1.3426853707414832, -1.3026052104208414, -1.2625250501002014, -1.2224448897795597, -1.182364729458918, -1.1422845691382761, -1.1022044088176361, -1.0621242484969944, -1.0220440881763526, -0.9819639278557126, -0.9418837675350709, -0.9018036072144291, -0.8617234468937873, -0.8216432865731473, -0.7815631262525056, -0.7414829659318638, -0.701402805611222, -0.661322645290582, -0.6212424849699403, -0.5811623246492985, -0.5410821643286585, -0.5010020040080168, -0.460921843687375, -0.4208416833667332, -0.38076152304609323, -0.34068136272545146, -0.3006012024048097, -0.26052104208416793, -0.22044088176352794, -0.18036072144288617, -0.1402805611222444, -0.10020040080160442, -0.06012024048096265, -0.020040080160320883, 0.020040080160320883, 0.060120240480960874, 0.10020040080160264, 0.1402805611222444, 0.18036072144288617, 0.22044088176352616, 0.26052104208416793, 0.3006012024048097, 0.3406813627254497, 0.38076152304609145, 0.4208416833667332, 0.460921843687375, 0.501002004008015, 0.5410821643286567, 0.5811623246492985, 0.6212424849699403, 0.6613226452905803, 0.701402805611222, 0.7414829659318638, 0.7815631262525038, 0.8216432865731456, 0.8617234468937873, 0.9018036072144291, 0.9418837675350691, 0.9819639278557108, 1.0220440881763526, 1.0621242484969944, 1.1022044088176344, 1.1422845691382761, 1.182364729458918, 1.222444889779558, 1.2625250501001997, 1.3026052104208414, 1.3426853707414832, 1.3827655310621232, 1.422845691382765, 1.4629258517034067, 1.5030060120240485, 1.5430861723446885, 1.5831663326653302, 1.623246492985972, 1.663326653306612, 1.7034068136272538, 1.7434869739478955, 1.7835671342685373, 1.8236472945891773, 1.863727454909819, 1.9038076152304608, 1.9438877755511026, 1.9839679358717426, 2.0240480961923843, 2.064128256513026, 2.104208416833666, 2.144288577154308, 2.1843687374749496, 2.2244488977955914, 2.2645290581162314, 2.304609218436873, 2.344689378757515, 2.3847695390781567, 2.4248496993987967, 2.4649298597194385, 2.50501002004008, 2.54509018036072, 2.585170340681362, 2.6252505010020037, 2.6653306613226455, 2.7054108216432855, 2.7454909819639273, 2.785571142284569, 2.825651302605209, 2.865731462925851, 2.9058116232464926, 2.9458917835671343, 2.9859719438877743, 3.026052104208416, 3.066132264529058, 3.1062124248496996, 3.1462925851703396, 3.1863727454909814, 3.226452905811623, 3.266533066132263, 3.306613226452905, 3.3466933867735467, 3.3867735470941884, 3.4268537074148284, 3.46693386773547, 3.507014028056112, 3.5470941883767537, 3.5871743486973937, 3.6272545090180355, 3.6673346693386772, 3.7074148296593172, 3.747494989979959, 3.7875751503006008, 3.8276553106212425, 3.8677354709418825, 3.9078156312625243, 3.947895791583166, 3.987975951903808, 4.028056112224448, 4.06813627254509, 4.108216432865731, 4.148296593186371, 4.188376753507013, 4.228456913827655, 4.268537074148297, 4.308617234468937, 4.348697394789578, 4.38877755511022, 4.428857715430862, 4.468937875751502, 4.509018036072144, 4.5490981963927855, 4.589178356713425, 4.629258517034067, 4.669338677354709, 4.709418837675351, 4.749498997995991, 4.7895791583166325, 4.829659318637274, 4.869739478957916, 4.909819639278556, 4.949899799599198, 4.98997995991984, 5.0300601202404795, 5.070140280561121, 5.110220440881763, 5.150300601202405, 5.190380761523045, 5.230460921843687, 5.270541082164328, 5.31062124248497, 5.35070140280561, 5.390781563126252, 5.430861723446894, 5.470941883767534, 5.511022044088175, 5.551102204408817, 5.591182364729459, 5.631262525050099, 5.671342685370741, 5.7114228456913825, 5.751503006012024, 5.791583166332664, 5.831663326653306, 5.871743486973948, 5.911823647294588, 5.9519038076152295, 5.991983967935871, 6.032064128256511, 6.072144288577153, 6.112224448897795, 6.152304609218437, 6.192384769539078, 6.23246492985972, 6.272545090180358, 6.312625250501, 6.352705410821642, 6.392785571142284, 6.432865731462925, 6.472945891783567, 6.513026052104209, 6.553106212424851, 6.593186372745489, 6.633266533066131, 6.673346693386772, 6.713426853707414, 6.753507014028056, 6.793587174348698, 6.8336673346693395, 6.873747494989978, 6.9138276553106195, 6.953907815631261, 6.993987975951903, 7.034068136272545, 7.074148296593187, 7.114228456913828, 7.1543086172344665, 7.194388777555108, 7.23446893787575, 7.274549098196392, 7.314629258517034, 7.354709418837675, 7.394789579158317, 7.434869739478959, 7.474949899799597, 7.515030060120239, 7.555110220440881, 7.595190380761522, 7.635270541082164, 7.675350701402806, 7.715430861723448, 7.755511022044086, 7.795591182364728, 7.8356713426853695, 7.875751503006011, 7.915831663326653, 7.955911823647295, 7.9959919839679365, 8.036072144288575, 8.076152304609217, 8.116232464929858, 8.1563126252505, 8.196392785571142, 8.236472945891784, 8.276553106212425, 8.316633266533067, 8.356713426853705, 8.396793587174347, 8.436873747494989, 8.47695390781563, 8.517034068136272, 8.557114228456914, 8.597194388777556, 8.637274549098194, 8.677354709418836, 8.717434869739478, 8.75751503006012, 8.797595190380761, 8.837675350701403, 8.877755511022045, 8.917835671342683, 8.957915831663325, 8.997995991983966, 9.038076152304608, 9.07815631262525, 9.118236472945892, 9.158316633266534, 9.198396793587175, 9.238476953907814, 9.278557114228455, 9.318637274549097, 9.358717434869739, 9.39879759519038, 9.438877755511022, 9.478957915831664, 9.519038076152302, 9.559118236472944, 9.599198396793586, 9.639278557114228, 9.67935871743487, 9.719438877755511, 9.759519038076153, 9.799599198396791, 9.839679358717433, 9.879759519038075, 9.919839679358716, 9.959919839679358, 10.0], \"y\": [2.2148277516628776e-05, 2.44563468145242e-05, 2.6996264874973402e-05, 2.979039384770606e-05, 3.286315668158233e-05, 3.6241217418217e-05, 3.995367632958566e-05, 4.403228103534247e-05, 4.85116548147612e-05, 5.3429543412247776e-05, 5.882708172450856e-05, 6.474908185195738e-05, 7.124434409703384e-05, 7.836599259809928e-05, 8.617183739969464e-05, 9.472476487850611e-05, 0.0001040931585696601, 0.00011435135257025324, 0.00012558011983661107, 0.00013786719783896723, 0.00015130785419237484, 0.00016600549504601508, 0.00018207231918493502, 0.00019963002097902612, 0.0002188105455039528, 0.00023975689935818966, 0.0002626240209095213, 0.0002875797139237596, 0.000314805648758196, 0.00034449843554286197, 0.0003768707740242135, 0.0004121526850088178, 0.00045059282861905855, 0.0004924599148593416, 0.0005380442122896947, 0.0005876591609146506, 0.0006416430957186436, 0.000700361087615402, 0.0007642069089280028, 0.0008336051308784235, 0.0009090133609408965, 0.0009909246283019472, 0.001079869926072098, 0.0011764209193093741, 0.0012811928283432267, 0.0013948474973292443, 0.0015180966584195695, 0.0016517054024013627, 0.0017964958671356003, 0.0019533511556206464, 0.00212321949600884, 0.0023071186564196386, 0.0025061406279185275, 0.002721456589567257, 0.0029543221699959246, 0.003206083020501582, 0.003478180715239074, 0.003772158994638354, 0.00408967036875528, 0.004432483097840697, 0.004802488567992824, 0.005201709080339175, 0.005632306072775637, 0.006096588793868438, 0.00659702344910023, 0.007136242840209359, 0.007717056518931294, 0.008342461477001096, 0.009015653394810601, 0.009740038471634689, 0.010519245860841103, 0.011357140733977323, 0.012257837998082083, 0.013225716690993001, 0.014265435079816249, 0.01538194648807951, 0.016580515877407758, 0.01786673720983436, 0.019246551617084117, 0.02072626640333851, 0.022312574908107913, 0.02401257725588705, 0.025833802019258795, 0.027784228822021518, 0.029872311908754872, 0.032107004706988525, 0.034497785407806736, 0.03705468359029027, 0.03978830791466712, 0.04270987490841189, 0.045831238868782744, 0.04916492290442206, 0.052724151137659256, 0.05652288208803046, 0.06057584325628217, 0.06489856692671818, 0.06950742720421178, 0.07441967830049723, 0.07965349408249393, 0.08522800889339004, 0.09116335965500477, 0.09748072925757621, 0.10420239124054775, 0.11135175576518783, 0.11895341687691295, 0.12703320105205684, 0.1356182170204678, 0.14473690685177068, 0.15441909828935635, 0.164696058312191, 0.17560054790034127, 0.18716687797569653, 0.19943096648473987, 0.21243039658536847, 0.22620447589469161, 0.24079429674944003, 0.2562427974251175, 0.27259482425428583, 0.28989719457845364, 0.3081987604618706, 0.32755047308918966, 0.3480054477624042, 0.3696190294057181, 0.392448858480091, 0.41655493720208686, 0.441999695954398, 0.46884805976799226, 0.49716751474827675, 0.527028174309977, 0.5585028450776506, 0.5916670923008389, 0.6265993046249145, 0.6633807580506492, 0.7020956789074445, 0.7428313056571219, 0.7856779493370591, 0.8307290524434584, 0.8780812460474965, 0.9278344049292716, 0.9800917005066169, 1.0349596513282457, 1.0925481708932068, 1.1529706125513581, 1.2163438112325788, 1.2827881217456103, 1.3524274533810796, 1.425389300547033, 1.501804769159725, 1.581808598506966, 1.6655391782966384, 1.7531385605984806, 1.8447524663836412, 1.9405302863630214, 2.04062507582305, 2.1451935431554383, 2.2543960317761997, 2.3683964951288177, 2.4873624644665306, 2.61146500910994, 2.74087868887794, 2.875781498392904, 3.0163548029646914, 3.162783265762854, 3.315254765992121, 3.4739603077928587, 3.639093919596255, 3.8108525436725507, 3.989435915621016, 4.175046433561138, 4.367889016797175, 4.568170953741385, 4.77610173889624, 4.991892898711567, 5.215757806149849, 5.447911483811232, 5.688570395489239, 5.937952226049171, 6.196275649542963, 6.463760085497692, 6.740625443339095, 7.027091854937292, 7.323379395288347, 7.6297077913733995, 7.946296119265781, 8.273362489586633, 8.611123721440528, 8.959795004994284, 9.31958955289533, 9.690718240759166, 10.073389236990398, 10.467807622236382, 10.874174998808758, 11.292689090443986, 11.723543332811186, 12.16692645521227, 12.623022053956987, 13.092008157933083, 13.57405678692921, 14.069333503306087, 14.577996957648455, 15.100198429068193, 15.636081360864926, 16.185780892287536, 16.749423387175092, 17.327125960291056, 17.91899600219793, 18.525130703553593, 19.145616579741255, 19.78052899677642, 20.429931699462625, 21.09387634279601, 21.772402027644173, 22.465534841749072, 23.17328740712541, 23.895658434946906, 24.632632289029782, 25.384178559038407, 26.15025164455189, 26.930790351139773, 27.72571749960392, 28.534939549547396, 29.358346238434997, 30.195810237307672, 31.047186824310412, 31.912313577185056, 32.791010085870745, 33.68307768633991, 34.5882992167813, 35.506438797222216, 36.43724163365717, 37.38043384772482, 38.33572233294248, 39.3027946384767, 40.28131888138781, 41.27094368824849, 42.27129816699008, 43.281991909785035, 44.302615027721686, 45.332738217974, 46.37191286411277, 47.4196711701436, 48.47552632879471, 49.538972724511105, 50.60948617154433, 51.68652418745459, 52.76952630226964, 53.85791440346796, 54.951093116877644, 56.04845022350112, 57.14935711219482, 58.25316926805123, 59.35922679624459, 60.466854981018514, 61.57536487940523, 62.6840539491822, 63.7922067104827, 64.89909544039102, 66.00398089976503, 67.10611309144359, 68.20473204890912, 69.29906865439072, 70.38834548531048, 71.47177768789179, 72.54857387666924, 73.61793705855895, 74.6790655800744, 75.73115409619624, 76.77339455933527, 77.80497722675784, 78.82509168477947, 79.83292788797021, 80.82767721155663, 81.80853351515314, 82.77469421590389, 83.72536136907212, 84.65974275407173, 85.57705296390097, 86.47651449590532, 87.35735884177126, 88.21882757462994, 89.06017343113564, 89.8806613863712, 90.67956971942832, 91.45619106751077, 92.20983346641417, 92.93982137524719, 93.64549668327595, 94.32621969679676, 94.98137010396901, 95.6103479155755, 96.2125743797148, 96.7874928684767, 97.33456973470072, 97.85329513697253, 98.3431838310749, 98.80377592617329, 99.23463760408787, 99.63536180007682, 100.00556884363652, 100.34490705790621, 100.65305331635302, 100.92971355550335, 101.17462324258243, 101.3875477970206, 101.56828296488621, 101.71665514540878, 101.83252166886147, 101.9157710251802, 101.96632304280675, 101.98412901735426, 101.96917178980594, 101.92146577407144, 101.84105693383876, 101.72802270877384, 101.58247189023362, 101.40454444677196, 101.19441129983007, 100.95227405011455, 100.67836465527655, 100.37294505961313, 100.03630677661852, 99.6687704253162, 99.27068522140479, 98.84242842434739, 98.3844047416304, 97.89704569150817, 97.38080892563819, 96.83617751309463, 96.26365918732814, 95.66378555771435, 95.03711128740422, 94.38421323925532, 93.70568959168311, 93.00215892632805, 92.2742592894836, 91.52264722927629, 90.74799681062791, 89.950998610065, 89.13235869246824, 88.2927975718786, 87.43304915849346, 86.55385969399921, 85.65598667739104, 84.74019778343288, 83.80726977590578, 82.85798741778103, 81.8931423804404, 80.91353215404429, 79.91995896112276, 78.91322867543283, 77.89414974809041, 76.86353214294384, 75.82218628311178, 74.7709220105576, 73.7105475605197, 72.64186855255984, 71.56568699992911, 70.48280033888786, 69.39400047954665, 68.30007287972605, 67.20179564325673, 66.0999386440676, 64.99526267732955, 63.888518638842896, 62.78044673377334, 61.671775715758095, 60.563222157319565, 59.45548975243644, 58.34926865203699, 57.24523483309176, 56.14404950189606, 55.04635853204497, 53.95279193751758, 52.86396338120049, 51.78046971909645, 50.70289058037768, 49.63178798336227, 48.56770598741053, 47.51117038065624, 46.462688403412805, 45.422748507015555, 44.39182014779033, 43.370353615764756, 42.358779897672015, 41.35751057372907, 40.36693774761004, 39.387434008972726, 38.41935242784094, 37.463026580090805, 36.51877060323692, 35.586879281668544, 34.66762816043991, 33.76127368667942, 32.86805337764304, 31.988186014405, 31.121871860146534, 30.269292901977757, 29.430613115202203, 28.605978748914506, 27.795518631804185, 26.999344497024296, 26.217551324973783, 25.450217702835253, 24.697406199704847, 23.959163756150893, 23.235522087039232, 22.526498096468288, 21.83209430366391, 21.152299278695825, 20.487088086887915, 19.83642274081218, 19.20025265877271, 18.57851512870582, 17.971135776444935, 17.37802903732235, 16.799098630105625, 16.234238032294662, 15.68333095583297, 15.146251822318613, 14.622866236831143, 14.113031459524047, 13.616596874166053, 13.133404452849382, 12.66328921611922, 12.20607968781379, 11.761598343942328, 11.329662054964762, 10.910082520874417, 10.50266669852289, 10.107217220663376, 9.723532806227167, 9.35140866138426, 8.990636870977225, 8.641006779953722, 8.302305364459407, 7.97431759228892, 7.656826772427732, 7.349614893451907, 7.052462950587181, 6.765151261260633, 6.487459769011179, 6.2191683356556045, 5.960057021637086, 5.709906354512108, 5.468497585559546, 5.235612934522896, 5.0110358225215155, 4.794551093192097, 4.5859452221443755, 4.385006514837329, 4.1915252930030675, 4.0052940697651565, 3.8261077136168664, 3.6537636014415154, 3.4880617607736775, 3.3288050015144663, 3.1757990373277636, 3.0288525969567397, 2.8877775257112783, 2.7523888773868146, 2.622504996884556, 2.497947593810304, 2.378541807336548, 2.2641162626178946, 2.1545031190548936, 2.0495381107050785, 1.949060579142903, 1.8529134990724583, 1.7609434969976558, 1.6730008632552398, 1.588939557715284, 1.508617209452808, 1.4318951106920905, 1.3586382053228276, 1.2887150722840797, 1.2219979041080942, 1.1583624809119335, 1.0976881401199465, 1.0398577421948911, 0.9847576326498257, 0.9322776006068282, 0.882310834162141, 0.8347538728107335, 0.7895065571760744, 0.7464719762838607, 0.705556412610868, 0.6666692851325002, 0.6297230905848595, 0.5946333431492048, 0.5613185127587987, 0.5296999622199631, 0.499701883331222, 0.47125123217625514, 0.44427766375834643, 0.4187134661359704, 0.39449349421118657, 0.3715551033146404, 0.3498380827230994, 0.32928458923782983, 0.309839080944503]}, {\"mode\": \"lines\", \"type\": \"scatter\", \"x\": [-10.0, -9.959919839679358, -9.919839679358718, -9.879759519038076, -9.839679358717435, -9.799599198396793, -9.759519038076153, -9.719438877755511, -9.67935871743487, -9.639278557114228, -9.599198396793588, -9.559118236472946, -9.519038076152304, -9.478957915831664, -9.438877755511022, -9.39879759519038, -9.358717434869739, -9.318637274549099, -9.278557114228457, -9.238476953907815, -9.198396793587175, -9.158316633266534, -9.118236472945892, -9.07815631262525, -9.03807615230461, -8.997995991983968, -8.957915831663327, -8.917835671342685, -8.877755511022045, -8.837675350701403, -8.797595190380761, -8.75751503006012, -8.71743486973948, -8.677354709418838, -8.637274549098196, -8.597194388777556, -8.557114228456914, -8.517034068136272, -8.47695390781563, -8.43687374749499, -8.396793587174349, -8.356713426853707, -8.316633266533067, -8.276553106212425, -8.236472945891784, -8.196392785571142, -8.156312625250502, -8.11623246492986, -8.076152304609218, -8.036072144288577, -7.9959919839679365, -7.955911823647295, -7.915831663326653, -7.875751503006012, -7.835671342685371, -7.7955911823647295, -7.755511022044088, -7.715430861723447, -7.675350701402806, -7.635270541082164, -7.595190380761523, -7.555110220440882, -7.515030060120241, -7.474949899799599, -7.434869739478958, -7.394789579158317, -7.354709418837675, -7.314629258517034, -7.274549098196393, -7.234468937875752, -7.19438877755511, -7.154308617234469, -7.114228456913828, -7.074148296593187, -7.034068136272545, -6.993987975951904, -6.953907815631263, -6.913827655310621, -6.8737474949899795, -6.833667334669339, -6.793587174348698, -6.753507014028056, -6.713426853707415, -6.673346693386774, -6.6332665330661325, -6.593186372745491, -6.55310621242485, -6.513026052104209, -6.472945891783567, -6.432865731462925, -6.3927855711422845, -6.352705410821644, -6.312625250501002, -6.272545090180361, -6.23246492985972, -6.192384769539078, -6.152304609218437, -6.112224448897796, -6.072144288577155, -6.032064128256513, -5.991983967935872, -5.95190380761523, -5.9118236472945895, -5.871743486973948, -5.831663326653307, -5.791583166332665, -5.751503006012024, -5.711422845691383, -5.671342685370742, -5.631262525050101, -5.591182364729459, -5.551102204408818, -5.511022044088176, -5.470941883767535, -5.430861723446894, -5.390781563126253, -5.350701402805611, -5.31062124248497, -5.270541082164329, -5.2304609218436875, -5.190380761523047, -5.150300601202405, -5.110220440881764, -5.070140280561122, -5.030060120240481, -4.98997995991984, -4.949899799599199, -4.909819639278557, -4.869739478957916, -4.829659318637275, -4.789579158316633, -4.7494989979959925, -4.709418837675351, -4.66933867735471, -4.629258517034068, -4.589178356713427, -4.5490981963927855, -4.509018036072145, -4.468937875751503, -4.428857715430862, -4.388777555110221, -4.348697394789579, -4.308617234468938, -4.268537074148297, -4.228456913827656, -4.188376753507014, -4.148296593186373, -4.108216432865731, -4.0681362725450905, -4.028056112224449, -3.987975951903808, -3.947895791583167, -3.907815631262525, -3.8677354709418843, -3.8276553106212425, -3.7875751503006017, -3.74749498997996, -3.707414829659319, -3.6673346693386772, -3.6272545090180364, -3.5871743486973955, -3.5470941883767537, -3.507014028056113, -3.466933867735471, -3.42685370741483, -3.3867735470941884, -3.3466933867735476, -3.306613226452906, -3.266533066132265, -3.226452905811623, -3.1863727454909823, -3.1462925851703414, -3.1062124248496996, -3.0661322645290587, -3.026052104208417, -2.985971943887776, -2.9458917835671343, -2.9058116232464934, -2.8657314629258517, -2.825651302605211, -2.785571142284569, -2.745490981963928, -2.7054108216432873, -2.6653306613226455, -2.6252505010020046, -2.585170340681363, -2.545090180360722, -2.50501002004008, -2.4649298597194393, -2.4248496993987976, -2.3847695390781567, -2.344689378757515, -2.304609218436874, -2.264529058116233, -2.2244488977955914, -2.1843687374749505, -2.1442885771543088, -2.104208416833668, -2.064128256513026, -2.0240480961923852, -1.9839679358717444, -1.9438877755511026, -1.9038076152304608, -1.8637274549098208, -1.823647294589179, -1.7835671342685373, -1.7434869739478955, -1.7034068136272555, -1.6633266533066138, -1.623246492985972, -1.5831663326653302, -1.5430861723446903, -1.5030060120240485, -1.4629258517034067, -1.4228456913827667, -1.382765531062125, -1.3426853707414832, -1.3026052104208414, -1.2625250501002014, -1.2224448897795597, -1.182364729458918, -1.1422845691382761, -1.1022044088176361, -1.0621242484969944, -1.0220440881763526, -0.9819639278557126, -0.9418837675350709, -0.9018036072144291, -0.8617234468937873, -0.8216432865731473, -0.7815631262525056, -0.7414829659318638, -0.701402805611222, -0.661322645290582, -0.6212424849699403, -0.5811623246492985, -0.5410821643286585, -0.5010020040080168, -0.460921843687375, -0.4208416833667332, -0.38076152304609323, -0.34068136272545146, -0.3006012024048097, -0.26052104208416793, -0.22044088176352794, -0.18036072144288617, -0.1402805611222444, -0.10020040080160442, -0.06012024048096265, -0.020040080160320883, 0.020040080160320883, 0.060120240480960874, 0.10020040080160264, 0.1402805611222444, 0.18036072144288617, 0.22044088176352616, 0.26052104208416793, 0.3006012024048097, 0.3406813627254497, 0.38076152304609145, 0.4208416833667332, 0.460921843687375, 0.501002004008015, 0.5410821643286567, 0.5811623246492985, 0.6212424849699403, 0.6613226452905803, 0.701402805611222, 0.7414829659318638, 0.7815631262525038, 0.8216432865731456, 0.8617234468937873, 0.9018036072144291, 0.9418837675350691, 0.9819639278557108, 1.0220440881763526, 1.0621242484969944, 1.1022044088176344, 1.1422845691382761, 1.182364729458918, 1.222444889779558, 1.2625250501001997, 1.3026052104208414, 1.3426853707414832, 1.3827655310621232, 1.422845691382765, 1.4629258517034067, 1.5030060120240485, 1.5430861723446885, 1.5831663326653302, 1.623246492985972, 1.663326653306612, 1.7034068136272538, 1.7434869739478955, 1.7835671342685373, 1.8236472945891773, 1.863727454909819, 1.9038076152304608, 1.9438877755511026, 1.9839679358717426, 2.0240480961923843, 2.064128256513026, 2.104208416833666, 2.144288577154308, 2.1843687374749496, 2.2244488977955914, 2.2645290581162314, 2.304609218436873, 2.344689378757515, 2.3847695390781567, 2.4248496993987967, 2.4649298597194385, 2.50501002004008, 2.54509018036072, 2.585170340681362, 2.6252505010020037, 2.6653306613226455, 2.7054108216432855, 2.7454909819639273, 2.785571142284569, 2.825651302605209, 2.865731462925851, 2.9058116232464926, 2.9458917835671343, 2.9859719438877743, 3.026052104208416, 3.066132264529058, 3.1062124248496996, 3.1462925851703396, 3.1863727454909814, 3.226452905811623, 3.266533066132263, 3.306613226452905, 3.3466933867735467, 3.3867735470941884, 3.4268537074148284, 3.46693386773547, 3.507014028056112, 3.5470941883767537, 3.5871743486973937, 3.6272545090180355, 3.6673346693386772, 3.7074148296593172, 3.747494989979959, 3.7875751503006008, 3.8276553106212425, 3.8677354709418825, 3.9078156312625243, 3.947895791583166, 3.987975951903808, 4.028056112224448, 4.06813627254509, 4.108216432865731, 4.148296593186371, 4.188376753507013, 4.228456913827655, 4.268537074148297, 4.308617234468937, 4.348697394789578, 4.38877755511022, 4.428857715430862, 4.468937875751502, 4.509018036072144, 4.5490981963927855, 4.589178356713425, 4.629258517034067, 4.669338677354709, 4.709418837675351, 4.749498997995991, 4.7895791583166325, 4.829659318637274, 4.869739478957916, 4.909819639278556, 4.949899799599198, 4.98997995991984, 5.0300601202404795, 5.070140280561121, 5.110220440881763, 5.150300601202405, 5.190380761523045, 5.230460921843687, 5.270541082164328, 5.31062124248497, 5.35070140280561, 5.390781563126252, 5.430861723446894, 5.470941883767534, 5.511022044088175, 5.551102204408817, 5.591182364729459, 5.631262525050099, 5.671342685370741, 5.7114228456913825, 5.751503006012024, 5.791583166332664, 5.831663326653306, 5.871743486973948, 5.911823647294588, 5.9519038076152295, 5.991983967935871, 6.032064128256511, 6.072144288577153, 6.112224448897795, 6.152304609218437, 6.192384769539078, 6.23246492985972, 6.272545090180358, 6.312625250501, 6.352705410821642, 6.392785571142284, 6.432865731462925, 6.472945891783567, 6.513026052104209, 6.553106212424851, 6.593186372745489, 6.633266533066131, 6.673346693386772, 6.713426853707414, 6.753507014028056, 6.793587174348698, 6.8336673346693395, 6.873747494989978, 6.9138276553106195, 6.953907815631261, 6.993987975951903, 7.034068136272545, 7.074148296593187, 7.114228456913828, 7.1543086172344665, 7.194388777555108, 7.23446893787575, 7.274549098196392, 7.314629258517034, 7.354709418837675, 7.394789579158317, 7.434869739478959, 7.474949899799597, 7.515030060120239, 7.555110220440881, 7.595190380761522, 7.635270541082164, 7.675350701402806, 7.715430861723448, 7.755511022044086, 7.795591182364728, 7.8356713426853695, 7.875751503006011, 7.915831663326653, 7.955911823647295, 7.9959919839679365, 8.036072144288575, 8.076152304609217, 8.116232464929858, 8.1563126252505, 8.196392785571142, 8.236472945891784, 8.276553106212425, 8.316633266533067, 8.356713426853705, 8.396793587174347, 8.436873747494989, 8.47695390781563, 8.517034068136272, 8.557114228456914, 8.597194388777556, 8.637274549098194, 8.677354709418836, 8.717434869739478, 8.75751503006012, 8.797595190380761, 8.837675350701403, 8.877755511022045, 8.917835671342683, 8.957915831663325, 8.997995991983966, 9.038076152304608, 9.07815631262525, 9.118236472945892, 9.158316633266534, 9.198396793587175, 9.238476953907814, 9.278557114228455, 9.318637274549097, 9.358717434869739, 9.39879759519038, 9.438877755511022, 9.478957915831664, 9.519038076152302, 9.559118236472944, 9.599198396793586, 9.639278557114228, 9.67935871743487, 9.719438877755511, 9.759519038076153, 9.799599198396791, 9.839679358717433, 9.879759519038075, 9.919839679358716, 9.959919839679358, 10.0], \"y\": [-118.71086583701096, -120.12586788784192, -121.51868812355329, -122.88816932802311, -124.23316367614606, -125.55253432270509, -126.84515699115784, -128.10992155925888, -129.3457336384114, -130.55151614362617, -131.72621085095264, -132.8687799392462, -133.9782075131401, -135.05350110410606, -136.0936931465074, -137.09784242557998, -138.06503549431437, -138.99438805625866, -139.88504631131647, -140.73618826167547, -141.5470249750744, -142.31680180269262, -143.04479954903115, -143.7303355912497, -144.3727649455201, -144.97148127806614, -145.52591785867145, -146.0355484545566, -146.49988816265255, -146.91849417842744, -147.29096649956088, -147.61694856290012, -147.89612781327847, -148.12823620292596, -148.31305062035452, -148.45039324775786, -148.54013184612407, -148.58217996742138, -148.57649709338006, -148.52308870055893, -148.4220062515501, -148.27334711234172, -148.07725439602436, -147.83391673319247, -147.54356796955642, -147.20648679144355, -146.82299628002815, -146.3934633952881, -145.9182983908423, -145.39795416097488, -144.83292552130115, -144.2237484246744, -143.57099911407298, -142.87529321434147, -142.1372847647899, -141.3576651947784, -140.53716224453308, -139.67653883354996, -138.7765918790493, -137.83815106704017, -136.86207757864668, -135.8492627744303, -134.80062683951928, -133.71711739242411, -132.5997080604786, -131.44939702489893, -130.26720553849714, -129.05417641912194, -127.81137252192838, -126.53987519359637, -125.24078271163266, -123.91520871189148, -122.5642806074468, -121.18913800193609, -119.79093110047549, -118.37081912121823, -116.92996871059286, -115.46955236521522, -113.99074686341795, -112.4947317092845, -110.98268759201099, -109.45579486335002, -107.91523203581318, -106.3621743042281, -104.7977920931584, -103.22324963260172, -101.63970356428365, -100.04830158076399, -98.45018109946486, -96.84646797362078, -95.23827524203698, -93.62670191942605, -92.01283182897473, -90.3977324786698, -88.78245398279012, -87.16802802984678, -85.5554668981275, -83.94576251987468, -82.33988559499983, -80.73878475511052, -79.14338577849882, -77.55459085661461, -75.97327791242309, -74.40029997092098, -72.83648458196673, -71.28263329545747, -69.73952118877143, -68.20789644627712, -66.68847999060141, -65.18196516523858, -63.68901746797755, -62.21027433452411, -60.746344971595875, -59.29781023867569, -57.86522257751838, -56.449105988422204, -55.049956052194595, -53.6682399966673, -52.30439680654356, -50.95883737529484, -49.63194469776302, -48.324074102066454, -47.03555351935936, -45.766683789944175, -44.517739004198695, -43.28896687674046, -42.080589152221314, -40.89280204111739, -39.725776683859095, -38.579659641627636, -37.45457341213371, -36.3506169686857, -35.26786632085133, -34.2063750950195, -33.1661751331726, -32.14727710819134, -31.149671154026016, -30.173327509087038, -29.218197171227402, -28.284212562715506, -27.37128820362349, -26.479321392088064, -25.608192889934397, -24.757767612189745, -23.927895319053903, -23.11841130893336, -22.329137111191567, -21.559881177311507, -20.810439569215767, -20.080596643536943, -19.370125730682492, -18.678789807588952, -18.006342163113473, -17.352527055063664, -16.717080357920555, -16.099730200364426, -15.50019759176732, -14.918197036871366, -14.353437137926482, -13.805621183615997, -13.274447724152445, -12.759611131980227, -12.26080214757444, -11.77770840987773, -11.310014970968991, -10.857404794607463, -10.419559238346373, -9.996158518957419, -9.586882160955563, -9.191409428058309, -8.809419737458782, -8.440593056833954, -8.084610284051216, -7.741153609575697, -7.409906861618771, -7.090555834104791, -6.782788597567049, -6.486295793117464, -6.200770909664836, -5.925910544586417, -5.661414648084478, -5.40698675148572, -5.162334179764823, -4.9271682485960575, -4.701204446256903, -4.484162600726413, -4.275767032338198, -4.0757466923628245, -3.8838352879084805, -3.6997713935404533, -3.5232985500306757, -3.3541653506574285, -3.1921255154828208, -3.0369379540416666, -2.888366816880161, -2.746181536385968, -2.610156857353523, -2.480072857729222, -2.3557149599807556, -2.2368739335337002, -2.1233458887157686, -2.0149322626459445, -1.9114397975012847, -1.8126805115889688, -1.7184716636451993, -1.6286357107758673, -1.543000260446277, -1.461398016919345, -1.3836667225328705, -1.3096490941974444, -1.2391927554867177, -1.1721501646818837, -1.1083785391215955, -1.0477397761979663, -0.9901003713280745, -0.9353313332192775, -0.883308096735149, -0.8339104336572394, -0.7870223616262124, -0.7425320515341524, -0.7003317336280834, -0.6603176025729235, -0.6223897217104479, -0.5864519267391243, -0.5524117290281917, -0.5201802187678726, -0.4896719681463825, -0.46080493473331124, -0.43350036523800134, -0.40768269980093147, -0.3832794769656134, -0.36022123946834217, -0.33844144097316897, -0.31787635386982915, -0.2984649782429582, -0.2801489521118573, -0.26287246303126954, -0.24658216113516374, -0.2312270736973674, -0.21675852127502143, -0.2031300354933293, -0.19029727852284953, -0.1782179642937145, -0.1668517814845681, -0.1561603183178043, -0.14610698918672413, -0.1366569631346444, -0.12777709420065542, -0.11943585364173866, -0.11160326403624331, -0.10425083526930082, -0.09735150239663541, -0.09087956537936812, -0.08481063067884599, -0.0791215546971901, -0.0737903890462149, -0.0687963276245408, -0.06411965548015436, -0.05974169943331379, -0.05564478043257636, -0.05181216761480678, -0.04822803403830728, -0.04487741405669714, -0.041746162299827624, -0.038820914226863824, -0.03608904821566493, -0.033538649151765465, -0.0311584734795691, -0.028937915677825114, -0.026866976121039242, -0.02493623028818732, -0.023136799279923806, -0.02146032160541359, -0.01989892619995257, -0.018445206634671904, -0.01709219647983821, -0.015833345783556507, -0.01466249862805288, -0.013573871726148906, -0.012562034021036816, -0.01162188725301377, -0.010748647457434635, -0.009937827358787309, -0.009185219626474703, -0.008486880958606965, -0.007839116960851529, -0.007238467788160991, -0.0066816945179902255, -0.006165766224424505, -0.0056878477234633676, -0.005245287960538938, -0.004835609012188096, -0.004456495674643778, -0.004105785612957797, -0.0037814600451133787, -0.003481634936429738, -0.0032045526803984384, -0.0029485742429228817, -0.0027121717477538846, -0.0024939214817266374, -0.0022924972992039478, -0.0021066644059176405, -0.0019352735031724062, -0.001777255274133882, -0.0016316151946639392, -0.0014974286518903163, -0.001373836354404803, -0.0012600400186728053, -0.0011552983169075934, -0.001058923072313869, -0.0009702756882379357, -0.0008887637983747802, -0.0008138381257764382, -0.0007449895389802746, -0.0006817462941311474, -0.0006236714525072234, -0.0005703604633759589, -0.0005214389026045894, -0.00047656035792862164, -0.000435404452242435, -0.00039767499671862895, -0.0003630982659874659, -0.0003314213880150312, -0.0003024108417088333, -0.0002758510556531081, -0.0002515431017333057, -0.00022930347775059598, -0.00020896297345325437, -0.00019036561472281558, -0.00017336768094944482, -0.0001578367909135195, -0.00014365105275934237, -0.0001306982739027902, -0.00011887522695791504, -0.00010808696799852328, -9.824620369008802e-05, -8.927270403535568e-05, -8.109275767422185e-05, -7.363866686523163e-05, -6.684827945290935e-05, -6.066455529240835e-05, -5.503516476113473e-05, -4.9912117136418904e-05, -4.525141675941543e-05, -4.101274503853477e-05, -3.715916647126389e-05, -3.36568569815563e-05, -3.047485298140878e-05, -2.7584819670149953e-05, -2.4960837183639204e-05, -2.2579203298357564e-05, -2.041825148254575e-05, -1.8458183168407523e-05, -1.6680913196225554e-05, -1.5069927453305699e-05, -1.3610151798222735e-05, -1.2287831424135646e-05, -1.109041987421498e-05, -1.0006476977692974e-05, -9.025575026934088e-06, -8.13821256442692e-06, -7.335735193920299e-06, -6.610262872247125e-06, -5.954623177881032e-06, -5.362290089117932e-06, -4.8273278391299325e-06, -4.344339447153726e-06, -3.908419554891318e-06, -3.5151112249580685e-06, -3.160366384037535e-06, -2.84050961741758e-06, -2.5522050439031413e-06, -2.2924260208371216e-06, -2.0584274482142846e-06, -1.8477204587415515e-06, -1.6580492972720986e-06, -1.4873702084074788e-06, -1.3338321653017065e-06, -1.19575928588992e-06, -1.0716347949744003e-06, -9.60086401898223e-07, -8.598729739860205e-07, -7.698723955902013e-07, -6.890705115058702e-07, -6.165510617598135e-07, -5.514865223872929e-07, -4.931297738300965e-07, -4.408065250631309e-07, -3.939084275242018e-07, -3.5188681841962886e-07, -3.1424703804166216e-07, -2.805432703942628e-07, -2.5037386071204793e-07, -2.2337706740058918e-07, -1.9922720955134058e-07, -1.7763117451503453e-07, -1.5832525307611811e-07, -1.4107227257864737e-07, -1.2565900093034335e-07, -1.118937967743088e-07, -9.960448328390332e-08, -8.863642502103542e-08, -7.885078911591049e-08, -7.012297369046687e-08, -6.234118797058299e-08, -5.540516992506345e-08, -4.922502854291994e-08, -4.372019902426566e-08, -3.8818500223280325e-08, -3.445528465235502e-08, -3.057267224247336e-08, -2.7118859863068893e-08, -2.4047499341573537e-08, -2.1317137394610692e-08, -1.8890711494795938e-08, -1.6735096254460852e-08, -1.482069541497846e-08, -1.3121074992016787e-08, -1.161263354693601e-08, -1.0274305936273001e-08, -9.087297238154615e-09, -8.034843869591483e-09, -7.101999194712686e-09, -6.2754411836791615e-09, -5.54329991758713e-09, -4.895002948307013e-09, -4.321136715845625e-09, -3.813322401275147e-09, -3.364104752181542e-09, -2.9668525614466762e-09, -2.6156696103654323e-09, -2.3053150048589504e-09, -2.031131940025562e-09, -1.7889840245057577e-09, -1.5751983830823716e-09, -1.3865148344531318e-09, -1.2200405119890204e-09, -1.0732093592457398e-09, -9.437459896788263e-10, -8.296334520196646e-10, -7.290844896391615e-10, -6.405159244484909e-10, -5.625258339070857e-10, -4.938732239315673e-10, -4.334599312919844e-10, -3.803145167767631e-10, -3.335779353060562e-10, -2.9249079154888835e-10, -2.563820096993928e-10, -2.2465876411635344e-10, -1.9679753373050222e-10, -1.723361576594007e-10, -1.5086678250614603e-10, -1.3202960350514673e-10, -1.1550731215188919e-10, -1.010201723356401e-10, -8.83216553952299e-11, -7.719457203774386e-11, -6.744764578815036e-11, -5.891247865534652e-11, -5.144086507991567e-11, -4.49024150366419e-11, -3.9182451459699506e-11, -3.418015099361217e-11, -2.980690049643279e-11, -2.5984844776133958e-11, -2.264560376560289e-11, -1.9729139770639664e-11, -1.7182757590111412e-11, -1.4960222235968878e-11, -1.3020980698240357e-11, -1.1329475728921981e-11, -9.854540979075023e-12, -8.568868033482221e-12, -7.44853696312726e-12, -6.4726029720214606e-12, -5.622732564506349e-12, -4.882883413697761e-12, -4.239022781599476e-12, -3.67887993586312e-12, -3.1917285355043094e-12, -2.7681954254906377e-12, -2.400092694610575e-12, -2.080270218294374e-12, -1.8024862333578204e-12, -1.5612937796517902e-12, -1.3519410985065167e-12, -1.1702843033781733e-12, -1.012710837546614e-12, -8.760724100280138e-13, -7.57626256674117e-13, -6.549837110658958e-13, -5.660651913455426e-13, -4.890608164098622e-13, -4.2239595954682015e-13, -3.6470113108818213e-13, -3.1478565526492683e-13, -2.716146713313368e-13, -2.342890461848745e-13, -2.0202783604952578e-13]}, {\"mode\": \"lines\", \"name\": \"combination\", \"type\": \"scatter\", \"x\": [-10.0, -9.959919839679358, -9.919839679358718, -9.879759519038076, -9.839679358717435, -9.799599198396793, -9.759519038076153, -9.719438877755511, -9.67935871743487, -9.639278557114228, -9.599198396793588, -9.559118236472946, -9.519038076152304, -9.478957915831664, -9.438877755511022, -9.39879759519038, -9.358717434869739, -9.318637274549099, -9.278557114228457, -9.238476953907815, -9.198396793587175, -9.158316633266534, -9.118236472945892, -9.07815631262525, -9.03807615230461, -8.997995991983968, -8.957915831663327, -8.917835671342685, -8.877755511022045, -8.837675350701403, -8.797595190380761, -8.75751503006012, -8.71743486973948, -8.677354709418838, -8.637274549098196, -8.597194388777556, -8.557114228456914, -8.517034068136272, -8.47695390781563, -8.43687374749499, -8.396793587174349, -8.356713426853707, -8.316633266533067, -8.276553106212425, -8.236472945891784, -8.196392785571142, -8.156312625250502, -8.11623246492986, -8.076152304609218, -8.036072144288577, -7.9959919839679365, -7.955911823647295, -7.915831663326653, -7.875751503006012, -7.835671342685371, -7.7955911823647295, -7.755511022044088, -7.715430861723447, -7.675350701402806, -7.635270541082164, -7.595190380761523, -7.555110220440882, -7.515030060120241, -7.474949899799599, -7.434869739478958, -7.394789579158317, -7.354709418837675, -7.314629258517034, -7.274549098196393, -7.234468937875752, -7.19438877755511, -7.154308617234469, -7.114228456913828, -7.074148296593187, -7.034068136272545, -6.993987975951904, -6.953907815631263, -6.913827655310621, -6.8737474949899795, -6.833667334669339, -6.793587174348698, -6.753507014028056, -6.713426853707415, -6.673346693386774, -6.6332665330661325, -6.593186372745491, -6.55310621242485, -6.513026052104209, -6.472945891783567, -6.432865731462925, -6.3927855711422845, -6.352705410821644, -6.312625250501002, -6.272545090180361, -6.23246492985972, -6.192384769539078, -6.152304609218437, -6.112224448897796, -6.072144288577155, -6.032064128256513, -5.991983967935872, -5.95190380761523, -5.9118236472945895, -5.871743486973948, -5.831663326653307, -5.791583166332665, -5.751503006012024, -5.711422845691383, -5.671342685370742, -5.631262525050101, -5.591182364729459, -5.551102204408818, -5.511022044088176, -5.470941883767535, -5.430861723446894, -5.390781563126253, -5.350701402805611, -5.31062124248497, -5.270541082164329, -5.2304609218436875, -5.190380761523047, -5.150300601202405, -5.110220440881764, -5.070140280561122, -5.030060120240481, -4.98997995991984, -4.949899799599199, -4.909819639278557, -4.869739478957916, -4.829659318637275, -4.789579158316633, -4.7494989979959925, -4.709418837675351, -4.66933867735471, -4.629258517034068, -4.589178356713427, -4.5490981963927855, -4.509018036072145, -4.468937875751503, -4.428857715430862, -4.388777555110221, -4.348697394789579, -4.308617234468938, -4.268537074148297, -4.228456913827656, -4.188376753507014, -4.148296593186373, -4.108216432865731, -4.0681362725450905, -4.028056112224449, -3.987975951903808, -3.947895791583167, -3.907815631262525, -3.8677354709418843, -3.8276553106212425, -3.7875751503006017, -3.74749498997996, -3.707414829659319, -3.6673346693386772, -3.6272545090180364, -3.5871743486973955, -3.5470941883767537, -3.507014028056113, -3.466933867735471, -3.42685370741483, -3.3867735470941884, -3.3466933867735476, -3.306613226452906, -3.266533066132265, -3.226452905811623, -3.1863727454909823, -3.1462925851703414, -3.1062124248496996, -3.0661322645290587, -3.026052104208417, -2.985971943887776, -2.9458917835671343, -2.9058116232464934, -2.8657314629258517, -2.825651302605211, -2.785571142284569, -2.745490981963928, -2.7054108216432873, -2.6653306613226455, -2.6252505010020046, -2.585170340681363, -2.545090180360722, -2.50501002004008, -2.4649298597194393, -2.4248496993987976, -2.3847695390781567, -2.344689378757515, -2.304609218436874, -2.264529058116233, -2.2244488977955914, -2.1843687374749505, -2.1442885771543088, -2.104208416833668, -2.064128256513026, -2.0240480961923852, -1.9839679358717444, -1.9438877755511026, -1.9038076152304608, -1.8637274549098208, -1.823647294589179, -1.7835671342685373, -1.7434869739478955, -1.7034068136272555, -1.6633266533066138, -1.623246492985972, -1.5831663326653302, -1.5430861723446903, -1.5030060120240485, -1.4629258517034067, -1.4228456913827667, -1.382765531062125, -1.3426853707414832, -1.3026052104208414, -1.2625250501002014, -1.2224448897795597, -1.182364729458918, -1.1422845691382761, -1.1022044088176361, -1.0621242484969944, -1.0220440881763526, -0.9819639278557126, -0.9418837675350709, -0.9018036072144291, -0.8617234468937873, -0.8216432865731473, -0.7815631262525056, -0.7414829659318638, -0.701402805611222, -0.661322645290582, -0.6212424849699403, -0.5811623246492985, -0.5410821643286585, -0.5010020040080168, -0.460921843687375, -0.4208416833667332, -0.38076152304609323, -0.34068136272545146, -0.3006012024048097, -0.26052104208416793, -0.22044088176352794, -0.18036072144288617, -0.1402805611222444, -0.10020040080160442, -0.06012024048096265, -0.020040080160320883, 0.020040080160320883, 0.060120240480960874, 0.10020040080160264, 0.1402805611222444, 0.18036072144288617, 0.22044088176352616, 0.26052104208416793, 0.3006012024048097, 0.3406813627254497, 0.38076152304609145, 0.4208416833667332, 0.460921843687375, 0.501002004008015, 0.5410821643286567, 0.5811623246492985, 0.6212424849699403, 0.6613226452905803, 0.701402805611222, 0.7414829659318638, 0.7815631262525038, 0.8216432865731456, 0.8617234468937873, 0.9018036072144291, 0.9418837675350691, 0.9819639278557108, 1.0220440881763526, 1.0621242484969944, 1.1022044088176344, 1.1422845691382761, 1.182364729458918, 1.222444889779558, 1.2625250501001997, 1.3026052104208414, 1.3426853707414832, 1.3827655310621232, 1.422845691382765, 1.4629258517034067, 1.5030060120240485, 1.5430861723446885, 1.5831663326653302, 1.623246492985972, 1.663326653306612, 1.7034068136272538, 1.7434869739478955, 1.7835671342685373, 1.8236472945891773, 1.863727454909819, 1.9038076152304608, 1.9438877755511026, 1.9839679358717426, 2.0240480961923843, 2.064128256513026, 2.104208416833666, 2.144288577154308, 2.1843687374749496, 2.2244488977955914, 2.2645290581162314, 2.304609218436873, 2.344689378757515, 2.3847695390781567, 2.4248496993987967, 2.4649298597194385, 2.50501002004008, 2.54509018036072, 2.585170340681362, 2.6252505010020037, 2.6653306613226455, 2.7054108216432855, 2.7454909819639273, 2.785571142284569, 2.825651302605209, 2.865731462925851, 2.9058116232464926, 2.9458917835671343, 2.9859719438877743, 3.026052104208416, 3.066132264529058, 3.1062124248496996, 3.1462925851703396, 3.1863727454909814, 3.226452905811623, 3.266533066132263, 3.306613226452905, 3.3466933867735467, 3.3867735470941884, 3.4268537074148284, 3.46693386773547, 3.507014028056112, 3.5470941883767537, 3.5871743486973937, 3.6272545090180355, 3.6673346693386772, 3.7074148296593172, 3.747494989979959, 3.7875751503006008, 3.8276553106212425, 3.8677354709418825, 3.9078156312625243, 3.947895791583166, 3.987975951903808, 4.028056112224448, 4.06813627254509, 4.108216432865731, 4.148296593186371, 4.188376753507013, 4.228456913827655, 4.268537074148297, 4.308617234468937, 4.348697394789578, 4.38877755511022, 4.428857715430862, 4.468937875751502, 4.509018036072144, 4.5490981963927855, 4.589178356713425, 4.629258517034067, 4.669338677354709, 4.709418837675351, 4.749498997995991, 4.7895791583166325, 4.829659318637274, 4.869739478957916, 4.909819639278556, 4.949899799599198, 4.98997995991984, 5.0300601202404795, 5.070140280561121, 5.110220440881763, 5.150300601202405, 5.190380761523045, 5.230460921843687, 5.270541082164328, 5.31062124248497, 5.35070140280561, 5.390781563126252, 5.430861723446894, 5.470941883767534, 5.511022044088175, 5.551102204408817, 5.591182364729459, 5.631262525050099, 5.671342685370741, 5.7114228456913825, 5.751503006012024, 5.791583166332664, 5.831663326653306, 5.871743486973948, 5.911823647294588, 5.9519038076152295, 5.991983967935871, 6.032064128256511, 6.072144288577153, 6.112224448897795, 6.152304609218437, 6.192384769539078, 6.23246492985972, 6.272545090180358, 6.312625250501, 6.352705410821642, 6.392785571142284, 6.432865731462925, 6.472945891783567, 6.513026052104209, 6.553106212424851, 6.593186372745489, 6.633266533066131, 6.673346693386772, 6.713426853707414, 6.753507014028056, 6.793587174348698, 6.8336673346693395, 6.873747494989978, 6.9138276553106195, 6.953907815631261, 6.993987975951903, 7.034068136272545, 7.074148296593187, 7.114228456913828, 7.1543086172344665, 7.194388777555108, 7.23446893787575, 7.274549098196392, 7.314629258517034, 7.354709418837675, 7.394789579158317, 7.434869739478959, 7.474949899799597, 7.515030060120239, 7.555110220440881, 7.595190380761522, 7.635270541082164, 7.675350701402806, 7.715430861723448, 7.755511022044086, 7.795591182364728, 7.8356713426853695, 7.875751503006011, 7.915831663326653, 7.955911823647295, 7.9959919839679365, 8.036072144288575, 8.076152304609217, 8.116232464929858, 8.1563126252505, 8.196392785571142, 8.236472945891784, 8.276553106212425, 8.316633266533067, 8.356713426853705, 8.396793587174347, 8.436873747494989, 8.47695390781563, 8.517034068136272, 8.557114228456914, 8.597194388777556, 8.637274549098194, 8.677354709418836, 8.717434869739478, 8.75751503006012, 8.797595190380761, 8.837675350701403, 8.877755511022045, 8.917835671342683, 8.957915831663325, 8.997995991983966, 9.038076152304608, 9.07815631262525, 9.118236472945892, 9.158316633266534, 9.198396793587175, 9.238476953907814, 9.278557114228455, 9.318637274549097, 9.358717434869739, 9.39879759519038, 9.438877755511022, 9.478957915831664, 9.519038076152302, 9.559118236472944, 9.599198396793586, 9.639278557114228, 9.67935871743487, 9.719438877755511, 9.759519038076153, 9.799599198396791, 9.839679358717433, 9.879759519038075, 9.919839679358716, 9.959919839679358, 10.0], \"y\": [-117.99182600798851, -119.36590359988438, -120.71572811359174, -122.04005354609414, -123.3376404164934, -124.6072573145119, -125.84768245144032, -127.0577052106672, -128.23612769490532, -129.38176626721955, -130.4934530829522, -131.57003760964687, -132.61038813207955, -133.61339323952558, -134.57796329241478, -135.50303186556076, -136.38755716519145, -137.23052341705608, -138.03094222293979, -138.78785388297888, -139.50032868124305, -140.167468132125, -140.7884061851633, -141.3623103860161, -141.8883829913983, -142.36586203589863, -142.7940223487025, -143.17217651835855, -143.49967580384865, -143.775910990342, -144.00031318814436, -144.1723545734838, -144.291549069911, -144.35745296922977, -144.36966549101484, -144.32782927991778, -144.23163084010588, -144.08080090632663, -143.87511475123543, -143.61439242877393, -143.2984989535315, -142.92734441617063, -142.50088403514124, -142.01911814505382, -141.48209212222275, -140.8898962480303, -140.24266551089983, -139.54057934779743, -138.7838613263132, -137.97277876849714, -137.10764231774533, -136.18880545014855, -135.21666393182585, -134.1916552238695, -133.11425783662804, -131.984990635146, -130.8044120976656, -129.57311952917476, -128.29174823205923, -126.96097063598124, -125.58149538916649, -124.15406641333091, -122.67946192452325, -121.15849342219462, -119.59200464883467, -117.98087052253487, -116.32599604485222, -114.62831518635224, -112.88878975220845, -111.1084082302252, -109.28818462363594, -107.42915727100382, -105.53238765552081, -103.5989592059659, -101.62997609153774, -99.62656201272733, -97.58985899034114, -95.52102615472324, -93.42123853715816, -91.29168586536429, -89.13357136491175, -86.948110568318, -84.73653013348964, -82.50006667309076, -80.23996559632849, -77.95747996455164, -75.65386936196212, -73.33039878264309, -70.98833753500679, -68.62895816466686, -66.25353539663755, -63.86334509766381, -61.45966325938526, -59.04376500293714, -56.6169236054938, -54.18040954916408, -51.73548959255236, -49.2834258652073, -46.82547498509047, -44.36288719911119, -41.896905546689915, -39.428765046232925, -36.95969190432721, -34.49090274739038, -32.02360387544735, -29.55899053763948, -27.098246229018834, -24.642542008124593, -22.19303583479509, -19.75087192762573, -17.31718014044739, -14.89307535717122, -12.479656904319114, -10.078007980542154, -7.689195102414423, -5.314267565783702, -2.954256921956592, -0.610176468001562, 1.7169792495404792, 4.026234918231651, 6.316634931274166, 8.587243847660893, 10.837146841559445, 13.065450141520259, 15.271281460056436, 17.453790414105335, 19.612148936832185, 21.745551681189816, 23.853216415592506, 25.934384412009443, 27.988320826722358, 30.014315073932423, 32.01168119233957, 33.97975820475097, 35.91791047071281, 37.82552803209027, 39.70202695145628, 41.54684964308013, 43.35946519624234, 45.139369690533584, 46.88608650273204, 48.59916660478737, 50.278188852377966, 51.922760263447394, 53.532516286065615, 55.10712105490748, 56.64626763558441, 58.14967825601795, 59.61710452399509, 61.04832763000356, 62.44315853440524, 63.801438137971715, 65.12303743477423, 66.40785764639482, 67.65583033640462, 68.86691750403634, 70.04111165596963, 71.1784358551379, 72.27894374546719, 73.34271955145817, 74.3698780515347, 75.3605645240936, 76.31495466521301, 77.233254476999, 78.11570012558245, 78.96255776781237, 79.77412334573242, 80.55072234797386, 81.29270953724713, 82.00046864317078, 82.67441201973462, 83.31498026676022, 83.92264181478743, 84.49789247289073, 85.04125493900315, 85.55327827240629, 86.034537328128, 86.48563215307406, 86.90718734381062, 87.29985136600408, 87.66429583561896, 88.00121476206976, 88.31132375361958, 88.59535918541569, 88.85407733065298, 89.08825345545425, 89.29868087815672, 89.48616999379573, 89.65154726467328, 89.79565417800127, 89.91934617170497, 90.02349152957025, 90.10897024701295, 90.17667286884166, 90.2274993004769, 90.26235759417746, 90.28216271191084, 90.28783526658727, 90.28030024345618, 90.26048570353942, 90.22932147104778, 90.18773780679501, 90.13666406968714, 90.07702736842343, 90.00975120560072, 89.93575411646094, 89.8559483045672, 89.77123827673235, 89.68251947955767, 89.59067693996884, 89.49658391215728, 89.40110053335417, 89.30507249087452, 89.20932970287481, 89.1146850152677, 89.02193291723094, 88.93184827773632, 88.84518510550582, 88.76267533477956, 88.68502763925015, 88.61292627648311, 88.54702996510218, 88.4879707969718, 88.43635318655774, 88.3927528595884, 88.35771588307814, 88.33175773870497, 88.31536244146335, 88.30898170543473, 88.31303415843642, 88.3279046072233, 88.35394335482516, 88.39146557150889, 88.44075072075485, 88.50204204153539, 88.57554608807766, 88.66143232818395, 88.75983280107181, 88.87084183558186, 88.99451582948464, 89.13087309049999, 89.27989373952181, 89.44151967641977, 89.6156546086667, 89.80216414291661, 90.00087593953434, 90.21157992995305, 90.43402859661151, 90.66793731509881, 90.91298475801057, 91.16881335989815, 91.43502984257071, 91.71120579989045, 91.99687834108227, 92.29155079146432, 92.59469344939087, 92.90574439808847, 93.22411037095829, 93.54916766881179, 93.8802631274061, 94.21671513354646, 94.55781468793039, 94.90282651281646, 95.25099020251726, 95.60152141463242, 95.95361309986394, 96.30643676818282, 96.65914378905046, 97.01086672333761, 97.3607206845275, 97.70780472674052, 98.05120325707257, 98.38998746970168, 98.72321679918409, 99.04994039033456, 99.36919858206448, 99.68002440253755, 99.98144507299268, 100.27248351758266, 100.55215987657901, 100.81949302030431, 101.0735020611674, 101.31320786119905, 101.53763453251216, 101.74581092814408, 101.93677212077665, 102.10956086687328, 102.26322905382304, 102.39683912773464, 102.50946549958385, 102.60019592748236, 102.66813287290425, 102.71239482878126, 102.73211761745402, 102.72645565654983, 102.69458319094134, 102.635695489031, 102.54901000169647, 102.43376748232848, 102.28923306648943, 102.1146973098211, 101.90947718293154, 101.67291702209494, 101.40438943470325, 101.10329615851384, 100.76906887384524, 100.40116996797909, 99.99909325113438, 99.56236462348762, 99.090542692818, 98.58321934246355, 98.04002024937851, 97.46060535218558, 96.84466926921779, 96.19194166664491, 95.50218757687664, 94.77520766752855, 94.01083846133001, 93.20895250744117, 92.36945850473256, 91.4923013776625, 90.57746230546523, 89.62495870543997, 88.63484417119739, 87.60720836679091, 86.54217687771826, 85.43991101983961, 84.30060760730858, 83.12449868066359, 81.9118511962682, 80.66296667833018, 79.37818083476151, 78.05786313817146, 76.70241637331058, 75.31227615230107, 73.88791039900633, 72.42981880390164, 70.93853225081536, 69.41461221690967, 67.85865014726933, 66.27126680545828, 64.65311160139493, 63.00486189788014, 61.3272222970946, 59.62092390836187, 57.88672359844475, 56.125403225617916, 54.337768858726676, 52.52464998240968, 50.686898689625465, 48.82538886258691, 46.94101534316637, 45.03469309379401, 43.107356349828, 41.159957764332084, 39.19346754615283, 37.2088725921413, 35.20717561432109, 33.18939426275798, 31.156560244843707, 29.1097184416587, 27.049926022038488, 24.97825155492388, 22.8957741205356, 20.803582420871948, 18.70277388999182, 16.594453804509936, 14.47973439469413, 12.35973395652563, 10.235575965051991, 8.108388189336983, 5.9793018092850785, 3.849450534599033, 1.719969726108374, -0.4080044803065984, -2.5333360469873774, -4.6548899047651515, -6.771532820029534, -8.882134258410833, -10.985567244884873, -13.080709220111158, -15.166442892806243, -17.24165708795064, -19.30524759061268, -21.356117985162733, -23.39318048963203, -25.41535678495601, -27.421578838818363, -29.41078972378946, -31.381944429431442, -33.33401066801169, -35.265969673442086, -37.17681699302942, -39.06556327159516, -40.931235027488476, -42.77287541998746, -44.589545007548146, -46.38032249633205, -48.1443054784078, -49.880611158990845, -51.58837707205512, -53.26676178361855, -54.914945581973605, -56.532131154108704, -58.1175442475355, -59.67043431671483, -61.19007515324875, -62.67576549898667, -64.1268296411717, -65.5426179887415, -66.92250762888003, -68.26590286290794, -69.57223572059188, -70.8409664519472, -72.07158399560828, -73.26360642284331, -74.41658135629365, -75.5300863625312, -76.60372931753643, -77.63714874421838, -78.63001412111774, -79.58202616145857, -80.49291706174218, -81.36245071910668, -82.19042291671435, -82.97666147646386, -83.72102637836977, -84.42340984599622, -85.0837363973807, -85.70196286093761, -86.2780783558841, -86.81210423679244, -87.30409400193103, -87.75413316512196, -88.16233909090771, -88.52886079288893, -88.85387869516373, -89.13760435687237, -89.38028015992333, -89.58217896005134, -89.7436037014343, -89.8648869951708, -89.94639066199782, -89.98850523970391, -89.9916494557712, -89.95626966585438, -89.88283925878235, -89.77185802884138, -89.62385151617397, -89.43937031619896, -89.21898935902978, -88.96330715993595, -88.67294504196063, -88.34854633187024, -87.99077553067447, -87.60031746001435, -87.17787638577066, -86.7241751202992, -86.2399541047472, -85.72597047295204, -85.18299709846507, -84.6118216262805, -84.01324549088521, -83.3880829222736, -82.73715994159862, -82.06131334815092, -81.36138969937488, -80.63824428564511, -79.89274010153166, -79.12574681528952, -78.33813973830561, -77.53079879623128, -76.70460750351985, -75.86045194307349, -74.99921975268741, -74.12179911995467, -73.22907778727021, -72.32194206854092, -71.40127587917499, -70.46795978088426, -69.52287004279238, -68.56687772029483, -67.60084775307035, -66.6256380835874, -65.64209879739836, -64.65107128645344, -63.653387436607474, -62.64986884042882, -61.64132603635533, -60.62855777517559, -59.61235031474343, -58.59347674376533, -57.57269633542749, -56.55075393155722, -55.52837935793989, -54.506286871337544, -53.485174638683475, -52.46572424884821, -51.44860025730184, -50.4344497639208]}],\n",
       "                        {\"template\": {\"data\": {\"bar\": [{\"error_x\": {\"color\": \"#2a3f5f\"}, \"error_y\": {\"color\": \"#2a3f5f\"}, \"marker\": {\"line\": {\"color\": \"#E5ECF6\", \"width\": 0.5}}, \"type\": \"bar\"}], \"barpolar\": [{\"marker\": {\"line\": {\"color\": \"#E5ECF6\", \"width\": 0.5}}, \"type\": \"barpolar\"}], \"carpet\": [{\"aaxis\": {\"endlinecolor\": \"#2a3f5f\", \"gridcolor\": \"white\", \"linecolor\": \"white\", \"minorgridcolor\": \"white\", \"startlinecolor\": \"#2a3f5f\"}, \"baxis\": {\"endlinecolor\": \"#2a3f5f\", \"gridcolor\": \"white\", \"linecolor\": \"white\", \"minorgridcolor\": \"white\", \"startlinecolor\": \"#2a3f5f\"}, \"type\": \"carpet\"}], \"choropleth\": [{\"colorbar\": {\"outlinewidth\": 0, \"ticks\": \"\"}, \"type\": \"choropleth\"}], \"contour\": [{\"colorbar\": {\"outlinewidth\": 0, \"ticks\": \"\"}, \"colorscale\": [[0.0, \"#0d0887\"], [0.1111111111111111, \"#46039f\"], [0.2222222222222222, \"#7201a8\"], [0.3333333333333333, \"#9c179e\"], [0.4444444444444444, \"#bd3786\"], [0.5555555555555556, \"#d8576b\"], [0.6666666666666666, \"#ed7953\"], [0.7777777777777778, \"#fb9f3a\"], [0.8888888888888888, \"#fdca26\"], [1.0, \"#f0f921\"]], \"type\": \"contour\"}], \"contourcarpet\": [{\"colorbar\": {\"outlinewidth\": 0, \"ticks\": \"\"}, \"type\": \"contourcarpet\"}], \"heatmap\": [{\"colorbar\": {\"outlinewidth\": 0, \"ticks\": \"\"}, \"colorscale\": [[0.0, \"#0d0887\"], [0.1111111111111111, \"#46039f\"], [0.2222222222222222, \"#7201a8\"], [0.3333333333333333, \"#9c179e\"], [0.4444444444444444, \"#bd3786\"], [0.5555555555555556, \"#d8576b\"], [0.6666666666666666, \"#ed7953\"], [0.7777777777777778, \"#fb9f3a\"], [0.8888888888888888, \"#fdca26\"], [1.0, \"#f0f921\"]], \"type\": \"heatmap\"}], \"heatmapgl\": [{\"colorbar\": {\"outlinewidth\": 0, \"ticks\": \"\"}, \"colorscale\": [[0.0, \"#0d0887\"], [0.1111111111111111, \"#46039f\"], [0.2222222222222222, \"#7201a8\"], [0.3333333333333333, \"#9c179e\"], [0.4444444444444444, \"#bd3786\"], [0.5555555555555556, \"#d8576b\"], [0.6666666666666666, \"#ed7953\"], [0.7777777777777778, \"#fb9f3a\"], [0.8888888888888888, \"#fdca26\"], [1.0, \"#f0f921\"]], \"type\": \"heatmapgl\"}], \"histogram\": [{\"marker\": {\"colorbar\": {\"outlinewidth\": 0, \"ticks\": \"\"}}, \"type\": \"histogram\"}], \"histogram2d\": [{\"colorbar\": {\"outlinewidth\": 0, \"ticks\": \"\"}, \"colorscale\": [[0.0, \"#0d0887\"], [0.1111111111111111, \"#46039f\"], [0.2222222222222222, \"#7201a8\"], [0.3333333333333333, \"#9c179e\"], [0.4444444444444444, \"#bd3786\"], [0.5555555555555556, \"#d8576b\"], [0.6666666666666666, \"#ed7953\"], [0.7777777777777778, \"#fb9f3a\"], [0.8888888888888888, \"#fdca26\"], [1.0, \"#f0f921\"]], \"type\": \"histogram2d\"}], \"histogram2dcontour\": [{\"colorbar\": {\"outlinewidth\": 0, \"ticks\": \"\"}, \"colorscale\": [[0.0, \"#0d0887\"], [0.1111111111111111, \"#46039f\"], [0.2222222222222222, \"#7201a8\"], [0.3333333333333333, \"#9c179e\"], [0.4444444444444444, \"#bd3786\"], [0.5555555555555556, \"#d8576b\"], [0.6666666666666666, \"#ed7953\"], [0.7777777777777778, \"#fb9f3a\"], [0.8888888888888888, \"#fdca26\"], [1.0, \"#f0f921\"]], \"type\": \"histogram2dcontour\"}], \"mesh3d\": [{\"colorbar\": {\"outlinewidth\": 0, \"ticks\": \"\"}, \"type\": \"mesh3d\"}], \"parcoords\": [{\"line\": {\"colorbar\": {\"outlinewidth\": 0, \"ticks\": \"\"}}, \"type\": \"parcoords\"}], \"scatter\": [{\"marker\": {\"colorbar\": {\"outlinewidth\": 0, \"ticks\": \"\"}}, \"type\": \"scatter\"}], \"scatter3d\": [{\"line\": {\"colorbar\": {\"outlinewidth\": 0, \"ticks\": \"\"}}, \"marker\": {\"colorbar\": {\"outlinewidth\": 0, \"ticks\": \"\"}}, \"type\": \"scatter3d\"}], \"scattercarpet\": [{\"marker\": {\"colorbar\": {\"outlinewidth\": 0, \"ticks\": \"\"}}, \"type\": \"scattercarpet\"}], \"scattergeo\": [{\"marker\": {\"colorbar\": {\"outlinewidth\": 0, \"ticks\": \"\"}}, \"type\": \"scattergeo\"}], \"scattergl\": [{\"marker\": {\"colorbar\": {\"outlinewidth\": 0, \"ticks\": \"\"}}, \"type\": \"scattergl\"}], \"scattermapbox\": [{\"marker\": {\"colorbar\": {\"outlinewidth\": 0, \"ticks\": \"\"}}, \"type\": \"scattermapbox\"}], \"scatterpolar\": [{\"marker\": {\"colorbar\": {\"outlinewidth\": 0, \"ticks\": \"\"}}, \"type\": \"scatterpolar\"}], \"scatterpolargl\": [{\"marker\": {\"colorbar\": {\"outlinewidth\": 0, \"ticks\": \"\"}}, \"type\": \"scatterpolargl\"}], \"scatterternary\": [{\"marker\": {\"colorbar\": {\"outlinewidth\": 0, \"ticks\": \"\"}}, \"type\": \"scatterternary\"}], \"surface\": [{\"colorbar\": {\"outlinewidth\": 0, \"ticks\": \"\"}, \"colorscale\": [[0.0, \"#0d0887\"], [0.1111111111111111, \"#46039f\"], [0.2222222222222222, \"#7201a8\"], [0.3333333333333333, \"#9c179e\"], [0.4444444444444444, \"#bd3786\"], [0.5555555555555556, \"#d8576b\"], [0.6666666666666666, \"#ed7953\"], [0.7777777777777778, \"#fb9f3a\"], [0.8888888888888888, \"#fdca26\"], [1.0, \"#f0f921\"]], \"type\": \"surface\"}], \"table\": [{\"cells\": {\"fill\": {\"color\": \"#EBF0F8\"}, \"line\": {\"color\": \"white\"}}, \"header\": {\"fill\": {\"color\": \"#C8D4E3\"}, \"line\": {\"color\": \"white\"}}, \"type\": \"table\"}]}, \"layout\": {\"annotationdefaults\": {\"arrowcolor\": \"#2a3f5f\", \"arrowhead\": 0, \"arrowwidth\": 1}, \"colorscale\": {\"diverging\": [[0, \"#8e0152\"], [0.1, \"#c51b7d\"], [0.2, \"#de77ae\"], [0.3, \"#f1b6da\"], [0.4, \"#fde0ef\"], [0.5, \"#f7f7f7\"], [0.6, \"#e6f5d0\"], [0.7, \"#b8e186\"], [0.8, \"#7fbc41\"], [0.9, \"#4d9221\"], [1, \"#276419\"]], \"sequential\": [[0.0, \"#0d0887\"], [0.1111111111111111, \"#46039f\"], [0.2222222222222222, \"#7201a8\"], [0.3333333333333333, \"#9c179e\"], [0.4444444444444444, \"#bd3786\"], [0.5555555555555556, \"#d8576b\"], [0.6666666666666666, \"#ed7953\"], [0.7777777777777778, \"#fb9f3a\"], [0.8888888888888888, \"#fdca26\"], [1.0, \"#f0f921\"]], \"sequentialminus\": [[0.0, \"#0d0887\"], [0.1111111111111111, \"#46039f\"], [0.2222222222222222, \"#7201a8\"], [0.3333333333333333, \"#9c179e\"], [0.4444444444444444, \"#bd3786\"], [0.5555555555555556, \"#d8576b\"], [0.6666666666666666, \"#ed7953\"], [0.7777777777777778, \"#fb9f3a\"], [0.8888888888888888, \"#fdca26\"], [1.0, \"#f0f921\"]]}, \"colorway\": [\"#636efa\", \"#EF553B\", \"#00cc96\", \"#ab63fa\", \"#FFA15A\", \"#19d3f3\", \"#FF6692\", \"#B6E880\", \"#FF97FF\", \"#FECB52\"], \"font\": {\"color\": \"#2a3f5f\"}, \"geo\": {\"bgcolor\": \"white\", \"lakecolor\": \"white\", \"landcolor\": \"#E5ECF6\", \"showlakes\": true, \"showland\": true, \"subunitcolor\": \"white\"}, \"hoverlabel\": {\"align\": \"left\"}, \"hovermode\": \"closest\", \"mapbox\": {\"style\": \"light\"}, \"paper_bgcolor\": \"white\", \"plot_bgcolor\": \"#E5ECF6\", \"polar\": {\"angularaxis\": {\"gridcolor\": \"white\", \"linecolor\": \"white\", \"ticks\": \"\"}, \"bgcolor\": \"#E5ECF6\", \"radialaxis\": {\"gridcolor\": \"white\", \"linecolor\": \"white\", \"ticks\": \"\"}}, \"scene\": {\"xaxis\": {\"backgroundcolor\": \"#E5ECF6\", \"gridcolor\": \"white\", \"gridwidth\": 2, \"linecolor\": \"white\", \"showbackground\": true, \"ticks\": \"\", \"zerolinecolor\": \"white\"}, \"yaxis\": {\"backgroundcolor\": \"#E5ECF6\", \"gridcolor\": \"white\", \"gridwidth\": 2, \"linecolor\": \"white\", \"showbackground\": true, \"ticks\": \"\", \"zerolinecolor\": \"white\"}, \"zaxis\": {\"backgroundcolor\": \"#E5ECF6\", \"gridcolor\": \"white\", \"gridwidth\": 2, \"linecolor\": \"white\", \"showbackground\": true, \"ticks\": \"\", \"zerolinecolor\": \"white\"}}, \"shapedefaults\": {\"line\": {\"color\": \"#2a3f5f\"}}, \"ternary\": {\"aaxis\": {\"gridcolor\": \"white\", \"linecolor\": \"white\", \"ticks\": \"\"}, \"baxis\": {\"gridcolor\": \"white\", \"linecolor\": \"white\", \"ticks\": \"\"}, \"bgcolor\": \"#E5ECF6\", \"caxis\": {\"gridcolor\": \"white\", \"linecolor\": \"white\", \"ticks\": \"\"}}, \"title\": {\"x\": 0.05}, \"xaxis\": {\"automargin\": true, \"gridcolor\": \"white\", \"linecolor\": \"white\", \"ticks\": \"\", \"zerolinecolor\": \"white\", \"zerolinewidth\": 2}, \"yaxis\": {\"automargin\": true, \"gridcolor\": \"white\", \"linecolor\": \"white\", \"ticks\": \"\", \"zerolinecolor\": \"white\", \"zerolinewidth\": 2}}}, \"title\": {\"text\": \"rbf\"}},\n",
       "                        {\"responsive\": true}\n",
       "                    ).then(function(){\n",
       "                            \n",
       "var gd = document.getElementById('b9fa9e89-3d8e-494b-bf90-6c75578c0fb8');\n",
       "var x = new MutationObserver(function (mutations, observer) {{\n",
       "        var display = window.getComputedStyle(gd).display;\n",
       "        if (!display || display === 'none') {{\n",
       "            console.log([gd, 'removed!']);\n",
       "            Plotly.purge(gd);\n",
       "            observer.disconnect();\n",
       "        }}\n",
       "}});\n",
       "\n",
       "// Listen for the removal of the full notebook cells\n",
       "var notebookContainer = gd.closest('#notebook-container');\n",
       "if (notebookContainer) {{\n",
       "    x.observe(notebookContainer, {childList: true});\n",
       "}}\n",
       "\n",
       "// Listen for the clearing of the current output cell\n",
       "var outputEl = gd.closest('.output');\n",
       "if (outputEl) {{\n",
       "    x.observe(outputEl, {childList: true});\n",
       "}}\n",
       "\n",
       "                        })\n",
       "                };\n",
       "                });\n",
       "            </script>\n",
       "        </div>"
      ]
     },
     "metadata": {},
     "output_type": "display_data"
    }
   ],
   "source": [
    "traces = []\n",
    "\n",
    "trace = {\n",
    "    'type':'scatter',\n",
    "    'mode':'markers',\n",
    "    'x':x_ran,\n",
    "    'y':observed,\n",
    "    'marker':{'color':kmeans.labels_},\n",
    "    'name':'observed points',\n",
    "}\n",
    "\n",
    "traces.append(trace)\n",
    "\n",
    "trace = {\n",
    "    'type':'scatter',\n",
    "    'mode':'markers',\n",
    "    'x':[i[0] for i in centers],\n",
    "    'y':[i[1] for i in centers],\n",
    "    'name':'centers',\n",
    "}\n",
    "\n",
    "traces.append(trace)\n",
    "\n",
    "sums = np.zeros(len(x))\n",
    "\n",
    "for idx, w_value in enumerate(w):\n",
    "    \n",
    "    y = np.array([w_value * gauss_rbf(gamma, xi, centers[idx][0]) for xi in x])\n",
    "    sums = sums + y\n",
    "    \n",
    "    trace = {\n",
    "    'type':'scatter',\n",
    "    'mode':'lines',\n",
    "    'x':x,\n",
    "    'y':y,\n",
    "    }\n",
    "\n",
    "    traces.append(trace)\n",
    "\n",
    "trace = {\n",
    "'type':'scatter',\n",
    "'mode':'lines',\n",
    "'x':x,\n",
    "'y':sums,\n",
    "'name':'combination'\n",
    "}\n",
    "\n",
    "traces.append(trace)\n",
    "\n",
    "fig = go.Figure(traces, layout)\n",
    "\n",
    "pyo.iplot(fig)"
   ]
  },
  {
   "cell_type": "code",
   "execution_count": 599,
   "metadata": {},
   "outputs": [],
   "source": [
    "def pseudo_inverse(centers, coords, gamma_vec, observed):\n",
    "    Y = cdist(coords, centers, 'euclidean')\n",
    "    Y_squared = Y**2\n",
    "    Y_gamma = Y*gamma_vec\n",
    "    Y_exp = np.exp(Y_gamma)\n",
    "    Y_transp_prod = np.dot(Y_exp.T, Y_exp)\n",
    "    Y_inv_prod = np.linalg.inv(Y_transp_prod)\n",
    "    Y_inv_prod_transp = np.dot(Y_inv_prod, Y_exp.T)\n",
    "    w = np.dot(Y_inv_prod_transp, observed)\n",
    "    return w"
   ]
  },
  {
   "cell_type": "code",
   "execution_count": 600,
   "metadata": {},
   "outputs": [
    {
     "data": {
      "text/plain": [
       "array([ 152.08746657, -216.63100605, -224.64747564,  151.74730633])"
      ]
     },
     "execution_count": 600,
     "metadata": {},
     "output_type": "execute_result"
    }
   ],
   "source": [
    "pseudo_inverse(centers, coords, np.array([[0.1,0.1,0.1,0.1]]), observed)"
   ]
  },
  {
   "cell_type": "code",
   "execution_count": null,
   "metadata": {},
   "outputs": [],
   "source": []
  }
 ],
 "metadata": {
  "kernelspec": {
   "display_name": "Python 3",
   "language": "python",
   "name": "python3"
  },
  "language_info": {
   "codemirror_mode": {
    "name": "ipython",
    "version": 3
   },
   "file_extension": ".py",
   "mimetype": "text/x-python",
   "name": "python",
   "nbconvert_exporter": "python",
   "pygments_lexer": "ipython3",
   "version": "3.7.3"
  }
 },
 "nbformat": 4,
 "nbformat_minor": 2
}
